{
 "cells": [
  {
   "cell_type": "markdown",
   "metadata": {},
   "source": [
    "#### <center> Module 4d - Asymmetric Cryptographic Primitives - Digital Signing Algorithm\n",
    "## <center> ENGR 580A2: Secure Vehicle and Industrial Networking\n",
    "## <center> <img src=\"https://www.engr.colostate.edu/~jdaily/Systems-EN-CSU-1-C357.svg\" width=\"600\" /> \n",
    "### <center> Instructor: Dr. Jeremy Daily<br>Fall 2021"
   ]
  },
  {
   "cell_type": "markdown",
   "metadata": {},
   "source": [
    "## Learning Objectives\n",
    "By the end of this exercise, students should be able to\n",
    "1. Use sign and verify messages using RSA\n",
    "1. Use sign and verify messages using ECDSA\n",
    "2. Use secure hash values to detect changes."
   ]
  },
  {
   "cell_type": "code",
   "execution_count": null,
   "metadata": {},
   "outputs": [],
   "source": [
    "# Install some prequisites\n",
    "# Be sure version 3.1 or higher is installed\n",
    "%pip install --upgrade --user cryptography"
   ]
  },
  {
   "cell_type": "code",
   "execution_count": null,
   "metadata": {},
   "outputs": [],
   "source": [
    "# Import only the modules we need\n",
    "from cryptography.hazmat.primitives.asymmetric import rsa\n",
    "from cryptography.hazmat.primitives import serialization\n",
    "from cryptography.hazmat.primitives import hashes\n",
    "from cryptography.hazmat.primitives.asymmetric import padding\n",
    "import base64\n",
    "import json"
   ]
  },
  {
   "cell_type": "markdown",
   "metadata": {},
   "source": [
    "## Generate keys for Alice and Bob"
   ]
  },
  {
   "cell_type": "code",
   "execution_count": null,
   "metadata": {},
   "outputs": [],
   "source": [
    "#Alice needs to generate a key pair\n",
    "private_key_for_alice = rsa.generate_private_key(\n",
    "                         public_exponent=65537,\n",
    "                         key_size=2048 # should use at least 4096, but smaller keys are easier to display\n",
    "                        )\n",
    "private_key_for_alice"
   ]
  },
  {
   "cell_type": "code",
   "execution_count": null,
   "metadata": {},
   "outputs": [],
   "source": [
    "#To send out the public key, we have to derive it from the private key and serialize it\n",
    "public_key_for_alice = private_key_for_alice.public_key()\n",
    "public_key_for_alice"
   ]
  },
  {
   "cell_type": "code",
   "execution_count": null,
   "metadata": {},
   "outputs": [],
   "source": [
    "#Let's serialize it so we can send it accross the network to bob (and everyone)\n",
    "public_pem_key_for_alice = public_key_for_alice.public_bytes(\n",
    "       encoding=serialization.Encoding.PEM,\n",
    "       format=serialization.PublicFormat.SubjectPublicKeyInfo\n",
    ")\n",
    "print(public_pem_key_for_alice.decode('ascii'))"
   ]
  },
  {
   "cell_type": "code",
   "execution_count": null,
   "metadata": {},
   "outputs": [],
   "source": [
    "#Bob also needs to generate a key pair\n",
    "private_key_for_bob = rsa.generate_private_key(\n",
    "                         public_exponent=65537,\n",
    "                         key_size=2048 # should use at least 4096, but smaller keys are easier to display\n",
    "                        )\n",
    "private_key_for_bob"
   ]
  },
  {
   "cell_type": "code",
   "execution_count": null,
   "metadata": {},
   "outputs": [],
   "source": [
    "# Bob extracts the public key \n",
    "public_key_for_bob = private_key_for_bob.public_key()\n",
    "public_key_for_bob"
   ]
  },
  {
   "cell_type": "code",
   "execution_count": null,
   "metadata": {},
   "outputs": [],
   "source": [
    "#Let's serialize it so we can send it across the network to Alice (and everyone)\n",
    "public_pem_key_for_bob = public_key_for_bob.public_bytes(\n",
    "       encoding=serialization.Encoding.PEM,\n",
    "       format=serialization.PublicFormat.SubjectPublicKeyInfo\n",
    ")\n",
    "print(public_pem_key_for_bob.decode('ascii'))"
   ]
  },
  {
   "cell_type": "markdown",
   "metadata": {},
   "source": [
    "### Integrity and Authenticity\n",
    "Bob would like some assurance that he received the message as Alice intended. Since everyone has Bob's public key, anyone can send Bob encrypted messages. Bob wants to know it was from Alice.\n",
    "\n",
    "Alice sends Bob (and everyone else) her public key.\n",
    "\n",
    "Alice computes a secure hash of the message sent to Bob.\n",
    "\n",
    "Alice signs the hash digest with her private key and sends the signature to Bob.\n",
    "\n",
    "Bob compute the secure hash of the original message.\n",
    "\n",
    "Bob verifies the hash matches the signature.\n",
    "\n",
    "<img src=\"Asymmetric Encryption Primitives - Verify Message.svg\"/> \n",
    "\n",
    "Let's work this out with some code."
   ]
  },
  {
   "cell_type": "markdown",
   "metadata": {},
   "source": [
    "## Alice Sends a Message to Bob"
   ]
  },
  {
   "cell_type": "code",
   "execution_count": null,
   "metadata": {},
   "outputs": [],
   "source": [
    "# Alice has a message for Bob:\n",
    "plain_text = b'We choose to go to the Moon in this decade and do the other things, not because they are easy, but because they are hard; because that goal will serve to organize and measure the best of our energies and skills, because that challenge is one that we are willing to accept, one we are unwilling to postpone, and one we intend to win, and the others, too.'\n",
    "plain_text"
   ]
  },
  {
   "cell_type": "markdown",
   "metadata": {},
   "source": [
    "### Detecting alteration\n",
    "\n",
    "In transit, the plain text message was changed.\n"
   ]
  },
  {
   "cell_type": "code",
   "execution_count": null,
   "metadata": {},
   "outputs": [],
   "source": [
    "#Recall\n",
    "changed_plain_text = b'We choose to go to MARS in this decade and do the other things, not because they are easy, but because they are hard; because that goal will serve to organize and measure the best of our energies and skills, because that challenge is one that we are willing to accept, one we are unwilling to postpone, and one we intend to win, and the others, too.'\n",
    "changed_plain_text"
   ]
  },
  {
   "cell_type": "code",
   "execution_count": null,
   "metadata": {},
   "outputs": [],
   "source": [
    "# This is the function used to sign the data\n",
    "def sign(text,private_pem_key,password=None):\n",
    "    #private_pem_key and text need to be bytes\n",
    "    private_key = serialization.load_pem_private_key(private_pem_key,password)\n",
    "    signature = private_key.sign(\n",
    "            text,\n",
    "            padding.PSS(\n",
    "                mgf=padding.MGF1(hashes.SHA256()),\n",
    "                salt_length=padding.PSS.MAX_LENGTH\n",
    "            ),\n",
    "            hashes.SHA256()\n",
    "        )\n",
    "    return signature"
   ]
  },
  {
   "cell_type": "code",
   "execution_count": null,
   "metadata": {},
   "outputs": [],
   "source": [
    "pem = private_key_for_alice.private_bytes(\n",
    "    encoding=serialization.Encoding.PEM,\n",
    "    format=serialization.PrivateFormat.TraditionalOpenSSL,\n",
    "    encryption_algorithm=serialization.NoEncryption()\n",
    " )\n",
    "\n",
    "signature_from_alice = sign(plain_text,pem)\n",
    "signature_from_alice"
   ]
  },
  {
   "cell_type": "code",
   "execution_count": null,
   "metadata": {},
   "outputs": [],
   "source": [
    "# These signatures will change each time from the salt.\n",
    "signature_from_alice = sign(plain_text,pem)\n",
    "signature_from_alice"
   ]
  },
  {
   "cell_type": "code",
   "execution_count": null,
   "metadata": {},
   "outputs": [],
   "source": [
    "# Make this safe for encapsualting in email or json\n",
    "sig_from_alice_b64 = base64.b64encode(signature_from_alice)\n",
    "sig_from_alice_b64"
   ]
  },
  {
   "cell_type": "code",
   "execution_count": null,
   "metadata": {},
   "outputs": [],
   "source": [
    "# Do this to make sure all the plain text are in ascii text\n",
    "plain_text_b64 = base64.b64encode(plain_text)\n",
    "plain_text_b64"
   ]
  },
  {
   "cell_type": "code",
   "execution_count": null,
   "metadata": {},
   "outputs": [],
   "source": [
    "# Let's make a message to send in json format.\n",
    "message = json.dumps({'text': plain_text_b64.decode('utf-8'), \n",
    "                      'signature': sig_from_alice_b64.decode('utf-8'),\n",
    "                      'pub_key': public_pem_key_for_alice.decode('utf-8')})\n",
    "message"
   ]
  },
  {
   "cell_type": "code",
   "execution_count": null,
   "metadata": {},
   "outputs": [],
   "source": [
    "print(public_pem_key_for_alice.decode('utf-8'))"
   ]
  },
  {
   "cell_type": "markdown",
   "metadata": {},
   "source": [
    "## Send message to Bob"
   ]
  },
  {
   "cell_type": "code",
   "execution_count": null,
   "metadata": {},
   "outputs": [],
   "source": [
    "message_for_bob = json.loads(message)\n",
    "message_for_bob"
   ]
  },
  {
   "cell_type": "code",
   "execution_count": null,
   "metadata": {},
   "outputs": [],
   "source": [
    "# Load the verification key\n",
    "pub_bytes = message_for_bob['pub_key'].encode('ascii')\n",
    "print(pub_bytes)"
   ]
  },
  {
   "cell_type": "code",
   "execution_count": null,
   "metadata": {},
   "outputs": [],
   "source": [
    "# Verificaiton routine\n",
    "# if nothing happens, the signature was verified. Usually we put this in a try except block\n",
    "from cryptography.exceptions import InvalidSignature\n",
    "def validate(text,signature,pub_bytes):\n",
    "    verification_key = serialization.load_pem_public_key(pub_bytes)\n",
    "    try:\n",
    "        verification_key.verify(\n",
    "             signature,\n",
    "             text,\n",
    "             padding.PSS(\n",
    "                 mgf=padding.MGF1(hashes.SHA256()),\n",
    "                 salt_length=padding.PSS.MAX_LENGTH\n",
    "             ),\n",
    "             hashes.SHA256()\n",
    "        )\n",
    "        return(\"Message Verfied.\")\n",
    "    except InvalidSignature:\n",
    "        return(\"Bad Signature\")"
   ]
  },
  {
   "cell_type": "code",
   "execution_count": null,
   "metadata": {},
   "outputs": [],
   "source": [
    "#Verify the message against the signature\n",
    "sig_bytes = base64.b64decode(message_for_bob['signature'])\n",
    "print(\"sig_bytes\")\n",
    "print(sig_bytes)\n",
    "plain_text_bytes = base64.b64decode(message_for_bob['text'])\n",
    "print(\"\\nplain_text_bytes\")\n",
    "print(plain_text_bytes)\n",
    "validate(plain_text_bytes,sig_bytes,pub_bytes)"
   ]
  },
  {
   "cell_type": "code",
   "execution_count": null,
   "metadata": {},
   "outputs": [],
   "source": [
    "plain_text_bytes = changed_plain_text\n",
    "print(\"\\nplain_text_bytes\")\n",
    "print(plain_text_bytes)\n",
    "validate(plain_text_bytes,sig_bytes,pub_bytes)"
   ]
  },
  {
   "cell_type": "markdown",
   "metadata": {},
   "source": [
    "## Class Exercise\n",
    "Determine which message has been altered:\n",
    "\n",
    "Churchill's Message:\n",
    "\n",
    "    You ask, what is our aim? I can answer in one word. It is Victory. Victory at all costs - Victory in spite of all terrors - Victory, however long and hard the road may be, for without Victory there is no survival.\n",
    "\n",
    "Signature of Churchill's Message  (Base64 encoded)\n",
    "    \n",
    "`EwW+JghPEI7X+/3izXdobEA3rjYNxWGPkg4Xwkh1+XukURadECpxzuOLHsNtkvcThaGL3gvIRbK/SLBB7lNdG+eDpjjzzT+lc37GD0CPef1uoncxoRsCVKuGzqeFj6sQ5VBj2OqmyhH2cbZ28S/y8pG4+xrN6KxDOzTv7yRtnU41JvaxhLX9F7zQfYRQocDqVj5x5zcQdgoC2ayxdEwzBWw+RO/XfQKYos0a4eKaXp0Tsa5bWnQeaUeUikEdLobfoXadiycD5HqkGD+vpoXcHXiSZuqdSA2bUMoIFBB1XwwiitWvKDPtjOJo9/143e8JzX51Qmo+XDb2xwc2ZtTWWQ==`\n",
    "\n",
    "Churchill's Verification key:\n",
    "```\n",
    "-----BEGIN PUBLIC KEY-----\n",
    "MIIBIjANBgkqhkiG9w0BAQEFAAOCAQ8AMIIBCgKCAQEAxoxIAKE5I9a/aR6I/UJe\n",
    "pO2nsgsC9CB7cakanpv3g/JQwbF7brg8FRx02URVnpuZEwh7eAgwsug32mpghZCz\n",
    "Ix2uKBxPjhlyjpD6XDEqq1b3sKBKJv+OhqJS8RPNGtV8OFmbp0Ay2lZRN223YgLd\n",
    "/9gMO8P5h4MXCvT8qt5qfAGnltV4otCl9N3Tj42+xW9Ycxlzj0GPCfM+sLBktiYL\n",
    "rbmm7X+YRY2FYv3AZb1PSc1aB6e4P2tKtGM5gA4CuKpSKctPVS7yvlFbB0IhfSLi\n",
    "2eLOKYoihRaE50b+SRP4fXPwwahIDumczWF7momIMoK2MXlE1bPZR14vmLFtb9g0\n",
    "QQIDAQAB\n",
    "-----END PUBLIC KEY-----\n",
    "```\n",
    "\n",
    "Roosevelt's Message:\n",
    "\n",
    "    Yesterday, December 7th, 1941 -- a date which will live in infamy -- the United States of America was suddenly and deliberately attacked by naval and air forces of the Empire of Japan.\n",
    "    \n",
    "Signature of Roosevelt's Message (Base64 encoded)\n",
    "                                       `MDRzeA4o3/S0B0BMgSYPBt4wxjkMDWrnAKm5X580XhVJ6OdmFlCsoBSYhev05KLyVsJ8C3pzfPB+PEdeZ9rkJJxAhnwxFUTpV+tNjJuNBuLuojdrWppC50xrPDStxZd6h5D7gzo32GgRAAX2Tww4BU1TtwQzkubGKgXIr2ualU8PbBMbGYw9Cx827WhIqJD0WCDV7MuanhauGVXcfXMf1CCebVqGoYXhjmp4Z7nSnoCGr7YyfvIZN9thSdz3ORiSivXn83avSiPZsyuJoZtIDsHQYg0D+uPv1NmG/XpoFJR0T3BXfJfZEdiTCyK+46mZz0hZWzxAnSfcV1gPKsqfhg==`\n",
    "\n",
    "Roosevelt's Verification Key:\n",
    "\n",
    "```\n",
    "-----BEGIN PUBLIC KEY-----\n",
    "MIIBIjANBgkqhkiG9w0BAQEFAAOCAQ8AMIIBCgKCAQEA1bHZs7RxSNTk+Z1MMkHE\n",
    "v7F7WK5oxLmJ9HypDyagbF4csmwCqsnhMwqJ9vEi3zmlE3VtjfrjpNSJSSvr1RDV\n",
    "mxh7yz7z+sKvH+JBccMxmFS7/IrKZpNLJPnSY4JlrrCVKYhGwcx0z+kr0Xd4fi97\n",
    "NVH7xSZaVTXJ+SC19j4EN/gb8nWcYk6umBJmVF688RdOeHQ6ZE3hLbUhKW48oDu1\n",
    "u8YyRWIHNYyxZXz7G7ojuosd69e7bkO2GR0gAmQpZhXurxD5EGJLYWKvNFYcWPux\n",
    "YJvgjlmBJCcGz4lKSJcdNzZfSg2YLqopKLcKmNSR9NmywpXIMu0S3wUAWJ7SgGMm\n",
    "XQIDAQAB\n",
    "-----END PUBLIC KEY-----\n",
    "````\n"
   ]
  },
  {
   "cell_type": "code",
   "execution_count": null,
   "metadata": {},
   "outputs": [],
   "source": [
    "# Hints: You can enter the text in as bytes. \n",
    "FDR = b'Yesterday, December 7th, 1941 -- a date which will live in infamy -- the United States of America was suddenly and deliberately attacked by naval and air forces of the Empire of Japan.'\n",
    "FDR"
   ]
  },
  {
   "cell_type": "code",
   "execution_count": null,
   "metadata": {},
   "outputs": [],
   "source": [
    "fdr_sig = base64.b64decode(b'MDRzeA4o3/S0B0BMgSYPBt4wxjkMDWrnAKm5X580XhVJ6OdmFlCsoBSYhev05KLyVsJ8C3pzfPB+PEdeZ9rkJJxAhnwxFUTpV+tNjJuNBuLuojdrWppC50xrPDStxZd6h5D7gzo32GgRAAX2Tww4BU1TtwQzkubGKgXIr2ualU8PbBMbGYw9Cx827WhIqJD0WCDV7MuanhauGVXcfXMf1CCebVqGoYXhjmp4Z7nSnoCGr7YyfvIZN9thSdz3ORiSivXn83avSiPZsyuJoZtIDsHQYg0D+uPv1NmG/XpoFJR0T3BXfJfZEdiTCyK+46mZz0hZWzxAnSfcV1gPKsqfhg==')"
   ]
  },
  {
   "cell_type": "code",
   "execution_count": null,
   "metadata": {},
   "outputs": [],
   "source": [
    "fdr_pub = b'''-----BEGIN PUBLIC KEY-----\n",
    "MIIBIjANBgkqhkiG9w0BAQEFAAOCAQ8AMIIBCgKCAQEA1bHZs7RxSNTk+Z1MMkHE\n",
    "v7F7WK5oxLmJ9HypDyagbF4csmwCqsnhMwqJ9vEi3zmlE3VtjfrjpNSJSSvr1RDV\n",
    "mxh7yz7z+sKvH+JBccMxmFS7/IrKZpNLJPnSY4JlrrCVKYhGwcx0z+kr0Xd4fi97\n",
    "NVH7xSZaVTXJ+SC19j4EN/gb8nWcYk6umBJmVF688RdOeHQ6ZE3hLbUhKW48oDu1\n",
    "u8YyRWIHNYyxZXz7G7ojuosd69e7bkO2GR0gAmQpZhXurxD5EGJLYWKvNFYcWPux\n",
    "YJvgjlmBJCcGz4lKSJcdNzZfSg2YLqopKLcKmNSR9NmywpXIMu0S3wUAWJ7SgGMm\n",
    "XQIDAQAB\n",
    "-----END PUBLIC KEY-----'''"
   ]
  },
  {
   "cell_type": "code",
   "execution_count": null,
   "metadata": {},
   "outputs": [],
   "source": [
    "#Enter your code here to verify Roosevelt's message"
   ]
  },
  {
   "cell_type": "code",
   "execution_count": null,
   "metadata": {},
   "outputs": [],
   "source": [
    "# Hints: You can enter the text in as bytes. \n",
    "Churchill = b'You ask, what is our aim? I can answer in one word. It is Victory. Victory at all costs - Victory in spite of all terrors - Victory, however long and hard the road may be, for without Victory there is no survival.'\n",
    "Churchill"
   ]
  },
  {
   "cell_type": "code",
   "execution_count": null,
   "metadata": {},
   "outputs": [],
   "source": [
    "churchill_sig = base64.b64decode(b'XCumWxz3AAMxdsMFaiDD8faqFRUDIDHWUANj3mDwJHU6twkfb5eiWT14jgeb515mJedWzjYM3JUEpwCxgmpL9wycm8lGzemCDgVJJxXCijn4BAWmyZ6rRIvOtnCyJamiZWT3mG2EAmxpydaEl2dSeqJVp3sYIZ1Q8Mw+FoVIB/OSbIiBn/J2klpDO5JPfxxFAbio7Rm31w1ZW0/YR2HWwBBdUA+gIPEFWGza+rcdTu++hkzpzIRZtqrJuFMvFYMkv5k88cJuxLeFbJAnD48XxS1L0njqM6SJRRFm8/3B5lTGiGQsE2XsftdcHvTPBmE0nzwO2A9IZXRkq+XHv0y2gg==')"
   ]
  },
  {
   "cell_type": "code",
   "execution_count": null,
   "metadata": {},
   "outputs": [],
   "source": [
    "churchhill_pub_ = b'''-----BEGIN PUBLIC KEY-----\n",
    "MIIBIjANBgkqhkiG9w0BAQEFAAOCAQ8AMIIBCgKCAQEAxoxIAKE5I9a/aR6I/UJe\n",
    "pO2nsgsC9CB7cakanpv3g/JQwbF7brg8FRx02URVnpuZEwh7eAgwsug32mpghZCz\n",
    "Ix2uKBxPjhlyjpD6XDEqq1b3sKBKJv+OhqJS8RPNGtV8OFmbp0Ay2lZRN223YgLd\n",
    "/9gMO8P5h4MXCvT8qt5qfAGnltV4otCl9N3Tj42+xW9Ycxlzj0GPCfM+sLBktiYL\n",
    "rbmm7X+YRY2FYv3AZb1PSc1aB6e4P2tKtGM5gA4CuKpSKctPVS7yvlFbB0IhfSLi\n",
    "2eLOKYoihRaE50b+SRP4fXPwwahIDumczWF7momIMoK2MXlE1bPZR14vmLFtb9g0\n",
    "QQIDAQAB\n",
    "-----END PUBLIC KEY-----'''"
   ]
  },
  {
   "cell_type": "code",
   "execution_count": null,
   "metadata": {},
   "outputs": [],
   "source": [
    "## Enter your code here to verify Churchill's message"
   ]
  },
  {
   "cell_type": "markdown",
   "metadata": {},
   "source": [
    "## Summary\n",
    "\n",
    "We used asymmetric encryption to digitally sign messages to determine if they have been altered.\n",
    "\n",
    "\n",
    "A question still remains: How can we trust Alice is who she says? What if Eve is in the middle pretending to be Alice? \n",
    "\n",
    "A middle person attack can easily resign the message. Never trust a public key comes from a principal without verification.\n"
   ]
  },
  {
   "cell_type": "markdown",
   "metadata": {},
   "source": [
    "# Elliptic Curve Cryptography\n",
    "ECC is an asymmetric algorithm the uses smaller key sizes and is faster. It suffers from the lack of ability to encrypt data. Instead, ECC is used to exchange pre-shared secrets that can be used for symmetric encryption. Digital signing is well suited for ECC.\n",
    "\n",
    "References:\n",
    "\n",
    "https://safecurves.cr.yp.to/ - Advocates for more advanced Elliptic Curves\n",
    "\n",
    "https://satoshinichi.gitlab.io/b/safecurves-scare.html - Realizes there are system considerations"
   ]
  },
  {
   "cell_type": "code",
   "execution_count": null,
   "metadata": {},
   "outputs": [],
   "source": [
    "from cryptography.hazmat.primitives import serialization\n",
    "from cryptography.hazmat.primitives.asymmetric import ed25519"
   ]
  },
  {
   "cell_type": "code",
   "execution_count": null,
   "metadata": {},
   "outputs": [],
   "source": [
    "# Generate a private key\n",
    "private_key = ed25519.Ed25519PrivateKey.generate()\n",
    "private_key"
   ]
  },
  {
   "cell_type": "code",
   "execution_count": null,
   "metadata": {},
   "outputs": [],
   "source": [
    "private_bytes = private_key.private_bytes(\n",
    "     encoding=serialization.Encoding.Raw,\n",
    "     format=serialization.PrivateFormat.Raw,\n",
    "     encryption_algorithm=serialization.NoEncryption()\n",
    ")\n",
    "private_bytes"
   ]
  },
  {
   "cell_type": "code",
   "execution_count": null,
   "metadata": {},
   "outputs": [],
   "source": [
    "#ECC keys are small.\n",
    "len(private_bytes)"
   ]
  },
  {
   "cell_type": "code",
   "execution_count": null,
   "metadata": {},
   "outputs": [],
   "source": [
    "#Compare to an RSA key\n",
    "private_pem_for_bob = private_key_for_bob.private_bytes(\n",
    "    encoding=serialization.Encoding.PEM,\n",
    "    format=serialization.PrivateFormat.TraditionalOpenSSL,\n",
    "    encryption_algorithm=serialization.NoEncryption()\n",
    " )\n",
    "print(private_pem_for_bob.decode('ascii'))"
   ]
  },
  {
   "cell_type": "code",
   "execution_count": null,
   "metadata": {},
   "outputs": [],
   "source": [
    "#RSA keys are much larger\n",
    "len(private_pem_for_bob)"
   ]
  },
  {
   "cell_type": "code",
   "execution_count": null,
   "metadata": {},
   "outputs": [],
   "source": [
    "# Extract the public portion of the key\n",
    "public_key = private_key.public_key()\n",
    "public_key"
   ]
  },
  {
   "cell_type": "code",
   "execution_count": null,
   "metadata": {},
   "outputs": [],
   "source": [
    "public_bytes = public_key.public_bytes(\n",
    "     encoding=serialization.Encoding.Raw,\n",
    "     format=serialization.PublicFormat.Raw,\n",
    ")\n",
    "public_bytes"
   ]
  },
  {
   "cell_type": "code",
   "execution_count": null,
   "metadata": {},
   "outputs": [],
   "source": [
    "len(public_bytes)"
   ]
  },
  {
   "cell_type": "code",
   "execution_count": null,
   "metadata": {},
   "outputs": [],
   "source": [
    "# Ascii safe PEM Keys\n",
    "public_pem_bytes = public_key.public_bytes(\n",
    "     encoding=serialization.Encoding.PEM,\n",
    "     format=serialization.PublicFormat.SubjectPublicKeyInfo,\n",
    ")\n",
    "public_pem_bytes"
   ]
  },
  {
   "cell_type": "code",
   "execution_count": null,
   "metadata": {},
   "outputs": [],
   "source": [
    "#Dissect PEM format\n",
    "print(public_pem_bytes.decode('ascii'))"
   ]
  },
  {
   "cell_type": "code",
   "execution_count": null,
   "metadata": {},
   "outputs": [],
   "source": [
    "# Show the bytes\n",
    "pem_bytes = base64.b64decode(lines[1])\n",
    "pem_bytes"
   ]
  },
  {
   "cell_type": "code",
   "execution_count": null,
   "metadata": {},
   "outputs": [],
   "source": [
    "# The pem key has the raw bytes encoded\n",
    "pem_bytes[-32:]"
   ]
  },
  {
   "cell_type": "code",
   "execution_count": null,
   "metadata": {},
   "outputs": [],
   "source": [
    "public_bytes == pem_bytes[-32:]"
   ]
  },
  {
   "cell_type": "markdown",
   "metadata": {},
   "source": [
    "## Digital Signing\n",
    "https://cryptography.io/en/latest/hazmat/primitives/asymmetric/ed25519/"
   ]
  },
  {
   "cell_type": "code",
   "execution_count": null,
   "metadata": {},
   "outputs": [],
   "source": [
    "ecc_signature = private_key.sign(plain_text)\n",
    "ecc_signature"
   ]
  },
  {
   "cell_type": "code",
   "execution_count": null,
   "metadata": {},
   "outputs": [],
   "source": [
    "len(ecc_signature)"
   ]
  },
  {
   "cell_type": "code",
   "execution_count": null,
   "metadata": {},
   "outputs": [],
   "source": [
    "# If nothing happens, it's verified\n",
    "public_key.verify(ecc_signature,plain_text)"
   ]
  },
  {
   "cell_type": "code",
   "execution_count": null,
   "metadata": {},
   "outputs": [],
   "source": [
    "# Change the message to fail\n",
    "public_key.verify(ecc_signature,plain_text+b'\\x00')"
   ]
  },
  {
   "cell_type": "code",
   "execution_count": null,
   "metadata": {},
   "outputs": [],
   "source": [
    "# Change the signature to fail\n",
    "public_key.verify(ecc_signature+b'\\x00',plain_text)"
   ]
  },
  {
   "cell_type": "markdown",
   "metadata": {},
   "source": [
    "## Summary\n",
    "ECC uses much shorter keys, which is important for embedded vehicle and industrial systems.\n",
    "\n",
    "You can use ECC to digitally sign data.\n",
    "\n",
    "\n"
   ]
  },
  {
   "cell_type": "code",
   "execution_count": null,
   "metadata": {},
   "outputs": [],
   "source": []
  }
 ],
 "metadata": {
  "kernelspec": {
   "display_name": "Python 3",
   "language": "python",
   "name": "python3"
  },
  "language_info": {
   "codemirror_mode": {
    "name": "ipython",
    "version": 3
   },
   "file_extension": ".py",
   "mimetype": "text/x-python",
   "name": "python",
   "nbconvert_exporter": "python",
   "pygments_lexer": "ipython3",
   "version": "3.8.5"
  },
  "latex_envs": {
   "LaTeX_envs_menu_present": true,
   "autoclose": false,
   "autocomplete": true,
   "bibliofile": "biblio.bib",
   "cite_by": "apalike",
   "current_citInitial": 1,
   "eqLabelWithNumbers": true,
   "eqNumInitial": 1,
   "hotkeys": {
    "equation": "Ctrl-E",
    "itemize": "Ctrl-I"
   },
   "labels_anchors": false,
   "latex_user_defs": false,
   "report_style_numbering": false,
   "user_envs_cfg": false
  }
 },
 "nbformat": 4,
 "nbformat_minor": 2
}
