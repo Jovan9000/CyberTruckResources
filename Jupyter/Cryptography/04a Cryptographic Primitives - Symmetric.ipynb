{
 "cells": [
  {
   "cell_type": "markdown",
   "metadata": {},
   "source": [
    "# <center> Lesson 4a - Cryptographic Primitives - Symmetric Encryption\n",
    "## <center> ENGR 580A2: Secure Vehicle and Industrial Networking\n",
    "## <center> <img src=\"https://www.engr.colostate.edu/~jdaily/Systems-EN-CSU-1-C357.svg\" width=\"600\" /> \n",
    "### <center> Instructor: Dr. Jeremy Daily<br>Fall 2021"
   ]
  },
  {
   "cell_type": "markdown",
   "metadata": {},
   "source": [
    "## Objective\n",
    "In this lesson, we will introduce a protocol for authentication. This protocol will depend on a pre-shared key and symmetric encryption. Therefore, we'll discuss implementing symmetric encryption recipes and discuss the challenges and issues associated with symmetric encryption algorithms."
   ]
  },
  {
   "cell_type": "markdown",
   "metadata": {},
   "source": [
    "## Challenge-Response Authentication\n",
    "\n",
    "Let's say there is a remote process controller that you would like to interface with. The controller will act like a server and listen for connections. We'll denote the server as S and the user as the client, or C. \n",
    "\n",
    "\n",
    "The protocol could follow these steps:\n",
    "1. The Client requests a seed or nonce.\n",
    "2. The Server sends a nonce (number used once).\n",
    "3. The Client combines its unique ID with the nonce, encrypts it with a symmetric key, and sends it back to the Server.\n",
    "4. The Server decrypts the message, verifies the nonce and checks the client's unique ID against a master list. \n",
    "\n",
    "In symbol form, it might look like this:\n",
    "\n",
    "$ S\\rightarrow C: N $\n",
    "\n",
    "$ C\\rightarrow S: C,\\{C,N\\}_K $\n",
    "\n",
    "Where $C$ and $S$ represent the client and server when it's used on the left side of the colon. On the right side of the colon $C$ is the unique ID value for the Client, $N$ is a nonce. $K$ is the symmetric encryption key, so everything inside the curly braces is encrypted with K. Commas represent contatenation.\n",
    "\n",
    "See Secion 4.3.1 in Anderson for an introduction or review for this protocol.\n",
    "Let's see if we can implement this."
   ]
  },
  {
   "cell_type": "markdown",
   "metadata": {},
   "source": [
    "### Number used once\n",
    "A nonce in the protocol can come from many sources. It depends on the resources and time constraints. Perhaps the best nonce is a universally unique identifier (UUID), which combines randomness and freshness. Another is a real-time clock counter. Very simple nonces are program counters. There are issues with each, so we'll use a 32-byte random number as our nonce."
   ]
  },
  {
   "cell_type": "code",
   "execution_count": null,
   "metadata": {},
   "outputs": [],
   "source": [
    "# Use the operating system for random number generation\n",
    "from os import urandom\n",
    "number_of_bytes = 32\n",
    "nonce = urandom(number_of_bytes)\n",
    "nonce"
   ]
  },
  {
   "cell_type": "code",
   "execution_count": null,
   "metadata": {},
   "outputs": [],
   "source": [
    "#A little different form\n",
    "\" \".join([\"{:02X}\".format(b) for b in nonce])"
   ]
  },
  {
   "cell_type": "markdown",
   "metadata": {},
   "source": [
    "We'll also need an encryption key. Let's use this really bad example:"
   ]
  },
  {
   "cell_type": "code",
   "execution_count": null,
   "metadata": {},
   "outputs": [],
   "source": [
    "encryption_key = b'ThisIsNotSecure!'\n",
    "\" \".join([\"{:02X}\".format(b) for b in encryption_key])"
   ]
  },
  {
   "cell_type": "code",
   "execution_count": null,
   "metadata": {},
   "outputs": [],
   "source": [
    "# For an AES-128 cipher, we'll need a 16 byte key.\n",
    "len(encryption_key)"
   ]
  },
  {
   "cell_type": "markdown",
   "metadata": {},
   "source": [
    "### System Users\n",
    "For a proof of concept, a system server may just use names for logins. While this may be what we see as a user, the actual user data is stored in a hash table, or dictionary. Let's make a user dictionary with a fixed length value as the key and different attributes as the values."
   ]
  },
  {
   "cell_type": "code",
   "execution_count": null,
   "metadata": {},
   "outputs": [],
   "source": [
    "# The key is the user number (integer) and the value is \n",
    "# the dictionary of all the properties for the user. \n",
    "users = {1:{\"name\":\"Jeremy Daily\",\"role\":'admin'},\n",
    "         2:{\"name\":\"Duy Van\",\"role\":'user'},\n",
    "         2348597:{\"name\":\"Michaelangelo\",\"role\":'guest'}}\n",
    "users"
   ]
  },
  {
   "cell_type": "code",
   "execution_count": null,
   "metadata": {},
   "outputs": [],
   "source": [
    "import struct"
   ]
  },
  {
   "cell_type": "code",
   "execution_count": null,
   "metadata": {},
   "outputs": [],
   "source": [
    "# For the protocol, we'll also need a client ID, but it needs to be in a \n",
    "# fixed width, so we'll pack the user ID in to a fixed width.\n",
    "client_id = 1\n",
    "#but this needs to be in bytes:\n",
    "client_id_bytes = struct.pack(\">L\",client_id)\n",
    "\" \".join([\"{:02X}\".format(b) for b in client_id_bytes])"
   ]
  },
  {
   "cell_type": "code",
   "execution_count": null,
   "metadata": {},
   "outputs": [],
   "source": [
    "# The data to encrypt are:\n",
    "data_to_encrypt = client_id_bytes + nonce\n",
    "data_to_encrypt"
   ]
  },
  {
   "cell_type": "markdown",
   "metadata": {},
   "source": [
    "### Symmetric Encryption\n",
    "Symmetric encryption is usually implemented as a block cipher with some feedback mode to eliminate patterns. \n",
    "\n",
    "We'll start with an example of common implementations available as libaries in Python, starting with the crypto library at\n",
    "https://cryptography.io/.\n",
    "This library is maintained and provides access to many features and algorithms needed to work with protocols using modern cryptography.\n",
    "\n",
    "DISCLAIMER: Currently cryptography.io only supports NIST curves, none of which are considered “safe” by the SafeCurves (https://safecurves.cr.yp.to/) project run by Daniel J. Bernstein and Tanja Lange.\n",
    "\n",
    "If the libraries don't load, you can install them by typing `pip install --upgrade cryptography` at the command prompt (not Jupyter or Python). This notebook was originally written for version 3.1 of the cryptography library. See the changelog: https://cryptography.io/en/latest/changelog/."
   ]
  },
  {
   "cell_type": "code",
   "execution_count": null,
   "metadata": {},
   "outputs": [],
   "source": [
    "# If you don't have the latest version of the cryptography library installed, \n",
    "# you can use it to install in the version that is serving the jupyter notebook\n",
    "# This method may be necessary if you have multiple versions of Python on your computer. \n",
    "import sys\n",
    "#Run this if you are connected to the Internet\n",
    "!{sys.executable} -m pip install --upgrade --user cryptography\n",
    "# You may need to restart the Kernel if the requirements are not already up-to-date"
   ]
  },
  {
   "cell_type": "markdown",
   "metadata": {},
   "source": [
    "The following is a brief intro to Symmetric Ciphers where each principal as access to the same secret key. \n",
    "\n",
    "https://cryptography.io/en/latest/hazmat/primitives/symmetric-encryption/?highlight=ecb%20mode#module-cryptography.hazmat.primitives.ciphers"
   ]
  },
  {
   "cell_type": "markdown",
   "metadata": {},
   "source": [
    "## Advanced Encryption Standard\n",
    "Unless there is a really compelling reason, you should pick AES as the symmetric cipher. According to Ross Anderson in Section 5.4.2 (third edition):\n",
    "\n",
    "```The NSA has since 2005 approved AES with 128-bit keys for protecting information up to SECRET and with 192-bit or 256-bit keys for TOPSECRET. So I recommend that you use AES instead of GOST, or Camellia,or even Serpent.  The definitive specification of AES is Federal Information Processing Standard 197, and its inventors have written a book describing its design in detail.``` \n",
    "\n",
    "Let's look at how to use AES with cryptography.io."
   ]
  },
  {
   "cell_type": "markdown",
   "metadata": {},
   "source": [
    "![logo](cybertruckchallenge.bmp)"
   ]
  },
  {
   "cell_type": "code",
   "execution_count": null,
   "metadata": {},
   "outputs": [],
   "source": [
    "from cryptography.hazmat.primitives.ciphers import Cipher, algorithms, modes"
   ]
  },
  {
   "cell_type": "markdown",
   "metadata": {},
   "source": [
    "The ECB mode is not a secure mode, but it is the simplest.\n",
    "https://cryptography.io/en/latest/hazmat/primitives/symmetric-encryption/?highlight=ecb%20mode#cryptography.hazmat.primitives.ciphers.modes.ECB"
   ]
  },
  {
   "cell_type": "code",
   "execution_count": null,
   "metadata": {},
   "outputs": [],
   "source": [
    "key_size = 16\n",
    "key = urandom(key_size)"
   ]
  },
  {
   "cell_type": "markdown",
   "metadata": {},
   "source": [
    "### Bitmap image encryption\n",
    "We want to send a scrambled picture through the Internet. Let's keep the original image file, but encrypt the contents. Here's a blurb about how bmp files are constructed.\n",
    "https://medium.com/sysf/bits-to-bitmaps-a-simple-walkthrough-of-bmp-image-format-765dc6857393\n",
    "Based on this description, we will keep the original 54 bytes. \n",
    "\n",
    "By the way, embedding codes and cryptographic information in pictures is something called steganography. This isn't steganography, but you can learn more about it here: https://www.comptia.org/blog/what-is-steganography"
   ]
  },
  {
   "cell_type": "code",
   "execution_count": null,
   "metadata": {},
   "outputs": [],
   "source": [
    "# BMP Images use 54 bytes up front to define the file\n",
    "offset = 54\n",
    "#Let's use a graphic as an example \n",
    "with open('cybertruckchallenge.bmp','rb') as raw_file:\n",
    "    logo_bytes = raw_file.read()\n",
    "data_blocks,extra = divmod(len(logo_bytes)-offset,key_size)\n",
    "data_blocks"
   ]
  },
  {
   "cell_type": "code",
   "execution_count": null,
   "metadata": {},
   "outputs": [],
   "source": [
    "# This is an example of a bad mode for the cipher. NEVER USE THIS!\n",
    "cipher = Cipher(algorithms.AES(encryption_key), modes.ECB())\n",
    "cipher"
   ]
  },
  {
   "cell_type": "code",
   "execution_count": null,
   "metadata": {},
   "outputs": [],
   "source": [
    "encryptor = cipher.encryptor()\n",
    "\n",
    "#Start the first few bytes the same as the others\n",
    "encrypted_picture_bytes = logo_bytes[:offset]\n",
    "\n",
    "#loop through bytes and ECB encrypt them\n",
    "encrypted_picture_bytes += encryptor.update(logo_bytes[offset:offset+data_blocks*key_size]) + encryptor.finalize()"
   ]
  },
  {
   "cell_type": "code",
   "execution_count": null,
   "metadata": {},
   "outputs": [],
   "source": [
    "encrypted_picture_bytes[:120]"
   ]
  },
  {
   "cell_type": "code",
   "execution_count": null,
   "metadata": {},
   "outputs": [],
   "source": [
    "with open('encrypted_logo_ECB.bmp','wb') as out:\n",
    "    out.write(encrypted_picture_bytes)"
   ]
  },
  {
   "cell_type": "markdown",
   "metadata": {},
   "source": [
    "![encrypted_logo](encrypted_logo_ECB.bmp)"
   ]
  },
  {
   "cell_type": "markdown",
   "metadata": {},
   "source": [
    "### AES-CBC\n",
    "Let's use a better mode."
   ]
  },
  {
   "cell_type": "code",
   "execution_count": null,
   "metadata": {},
   "outputs": [],
   "source": [
    "iv = urandom(key_size)\n",
    "cipher = Cipher(algorithms.AES(encryption_key), modes.CBC(iv))\n",
    "encryptor = cipher.encryptor()\n",
    "\n",
    "#Start the first few bytes the same as the others\n",
    "encrypted_picture_bytes = logo_bytes[:offset]\n",
    "\n",
    "#loop through bytes and ECB encrypt them\n",
    "encrypted_picture_bytes += encryptor.update(logo_bytes[offset:offset+data_blocks*key_size]) + encryptor.finalize()\n",
    "\n",
    "with open('encrypted_logo_CBC.bmp','wb') as out:\n",
    "    out.write(encrypted_picture_bytes)"
   ]
  },
  {
   "cell_type": "markdown",
   "metadata": {},
   "source": [
    "![encrypted_logo](encrypted_logo_CBC.bmp)\n"
   ]
  },
  {
   "cell_type": "markdown",
   "metadata": {},
   "source": [
    "### Bad modes\n",
    "The ECB mode is nicknamed \"electronic coloring book\" because it still reveals patterns and is not secure. Other modes should be used instead."
   ]
  },
  {
   "cell_type": "markdown",
   "metadata": {},
   "source": [
    "### No integrity checks\n",
    "The process of encrypting and decrypting data does nothing to detect data alteration. Therefore, an authenticity check is critical. Let's see this through an example of encrypting the constitution preamble. First, let's encrypt the preamble with the Fernet recipe that includes a timestamp, an acceptable mode, and a message authentication code."
   ]
  },
  {
   "cell_type": "code",
   "execution_count": null,
   "metadata": {},
   "outputs": [],
   "source": [
    "# Let's start with some plain text:\n",
    "plain_text = \"We the People of the United States, in Order to form a more perfect Union, establish Justice, insure domestic Tranquility, provide for the common defence, promote the general Welfare, and secure the Blessings of Liberty to ourselves and our Posterity, do ordain and establish this Constitution for the United States of America.\"\n",
    "print(plain_text)\n"
   ]
  },
  {
   "cell_type": "code",
   "execution_count": null,
   "metadata": {},
   "outputs": [],
   "source": [
    "# Out of the box recipe for using fast symmetric encryption\n",
    "from cryptography.fernet import Fernet"
   ]
  },
  {
   "cell_type": "code",
   "execution_count": null,
   "metadata": {},
   "outputs": [],
   "source": [
    "# Generate a key suitable for using the Fernet protocol\n",
    "shared_key = Fernet.generate_key()"
   ]
  },
  {
   "cell_type": "code",
   "execution_count": null,
   "metadata": {},
   "outputs": [],
   "source": [
    "# The key should be kept safe (This is the hard engineering problem)\n",
    "print(shared_key)"
   ]
  },
  {
   "cell_type": "code",
   "execution_count": null,
   "metadata": {},
   "outputs": [],
   "source": [
    "len(shared_key)"
   ]
  },
  {
   "cell_type": "markdown",
   "metadata": {},
   "source": [
    "The key generated is base64 encoded using a URL safe library. \n",
    "\n",
    "https://tools.ietf.org/html/rfc3548.html decribes the url and filesystem safe encoding.\n",
    "\n",
    "As described in \n",
    "https://www.pythoninformer.com/python-libraries/cryptography/fernet/,\n",
    "the generated key is contains two 16-byte randomly generated keys that are concatenated and base64 encoded."
   ]
  },
  {
   "cell_type": "code",
   "execution_count": null,
   "metadata": {},
   "outputs": [],
   "source": [
    "import base64"
   ]
  },
  {
   "cell_type": "code",
   "execution_count": null,
   "metadata": {},
   "outputs": [],
   "source": [
    "#This is actually two 16-byte keys concatenated and  32-byte (256 bit) base-64 random key\n",
    "key_bytes = base64.urlsafe_b64decode(shared_key)\n",
    "print(key_bytes)"
   ]
  },
  {
   "cell_type": "code",
   "execution_count": null,
   "metadata": {},
   "outputs": [],
   "source": [
    "# There should be 32-bytes of key material\n",
    "len(key_bytes)"
   ]
  },
  {
   "cell_type": "code",
   "execution_count": null,
   "metadata": {},
   "outputs": [],
   "source": [
    "# The first 16 bytes (128 bits) is the signing key\n",
    "signing_key = key_bytes[:16]\n",
    "signing_key"
   ]
  },
  {
   "cell_type": "code",
   "execution_count": null,
   "metadata": {},
   "outputs": [],
   "source": [
    "# The second half of the key is the encryption key\n",
    "encryption_key = key_bytes[16:]\n",
    "encryption_key"
   ]
  },
  {
   "cell_type": "code",
   "execution_count": null,
   "metadata": {},
   "outputs": [],
   "source": [
    "# create an instance of the Fernet cipher tool\n",
    "f = Fernet(shared_key)\n",
    "print(f)"
   ]
  },
  {
   "cell_type": "markdown",
   "metadata": {},
   "source": [
    "Fernet methods are documented at https://cryptography.io/en/latest/fernet/"
   ]
  },
  {
   "cell_type": "code",
   "execution_count": null,
   "metadata": {},
   "outputs": [],
   "source": [
    "#Modern ciphers only work on numbers, so we need to convert plaintext to bytes\n",
    "plain_bytes = plain_text.encode('utf-8')\n",
    "plain_bytes"
   ]
  },
  {
   "cell_type": "code",
   "execution_count": null,
   "metadata": {},
   "outputs": [],
   "source": [
    "#the result is ready to be sent over the internet or stored on a machine\n",
    "cipher_token = f.encrypt(plain_bytes)\n",
    "print(cipher_token) # This is what can be sent across the Internet"
   ]
  },
  {
   "cell_type": "code",
   "execution_count": null,
   "metadata": {},
   "outputs": [],
   "source": [
    "#The inverse is to decrypt to get bytes\n",
    "f.decrypt(cipher_token)"
   ]
  },
  {
   "cell_type": "markdown",
   "metadata": {},
   "source": [
    "From https://www.pythoninformer.com/python-libraries/cryptography/fernet/,\n",
    "The Fernet protocol implements a more complete symmetric cipher system by\n",
    "\n",
    "* Providing a secure mechanism for generating keys (a key is similar to a password).\n",
    "* Selection a secure encryption algorithm (AES using CBS mode and PKCS7 padding)\n",
    "* Randomly allocating a secure initialization vector (IV) or \"salt\" to make the encryption more secure.\n",
    "* Timestamping the encrypted message.\n",
    "* Signing the message (using HMAC and SHA256) to detect any attempts to change it.\n",
    "\n",
    "Let's disect the cipher token to see these individual attributes."
   ]
  },
  {
   "cell_type": "markdown",
   "metadata": {},
   "source": [
    "### Keys from passwords\n",
    "Let's generate a valid Fernet key with a passcode. The passcode could be shared verbally instead of electronically.\n",
    "We'll need to use some primitives. Reference: https://cryptography.io/en/latest/fernet/#using-passwords-with-fernet\n",
    "\n",
    "\n",
    "We also have to use good random numbers for the initialization vectors.\n",
    "https://docs.python.org/3/library/secrets.html"
   ]
  },
  {
   "cell_type": "code",
   "execution_count": null,
   "metadata": {},
   "outputs": [],
   "source": [
    "from cryptography.hazmat.primitives import hashes\n",
    "from cryptography.hazmat.primitives.kdf.pbkdf2 import PBKDF2HMAC"
   ]
  },
  {
   "cell_type": "markdown",
   "metadata": {},
   "source": [
    "PBKDF2 = Password Based Key Derivation Function 2\n",
    "\n",
    "https://cryptography.io/en/latest/hazmat/primitives/key-derivation-functions/#pbkdf2"
   ]
  },
  {
   "cell_type": "code",
   "execution_count": null,
   "metadata": {},
   "outputs": [],
   "source": [
    "# We will start with a desired pass phrase as bytes\n",
    "passcode = b\"I'm a passphrase\"\n",
    "passcode"
   ]
  },
  {
   "cell_type": "code",
   "execution_count": null,
   "metadata": {},
   "outputs": [],
   "source": [
    "# generate 16 random bytes for the initialization vector or salt\n",
    "iv = urandom(16)\n",
    "iv"
   ]
  },
  {
   "cell_type": "code",
   "execution_count": null,
   "metadata": {
    "scrolled": true
   },
   "outputs": [],
   "source": [
    "#Key derivation function. This is practically  irreversible \n",
    "kdf = PBKDF2HMAC(\n",
    "        algorithm=hashes.SHA256(),\n",
    "        length=32,\n",
    "        salt=iv,\n",
    "        iterations=100000,\n",
    "    )\n",
    "kdf_result = kdf.derive(passcode)\n",
    "print(kdf_result)"
   ]
  },
  {
   "cell_type": "code",
   "execution_count": null,
   "metadata": {},
   "outputs": [],
   "source": [
    "# We should have 32 bytes now\n",
    "len(kdf_result)"
   ]
  },
  {
   "cell_type": "code",
   "execution_count": null,
   "metadata": {},
   "outputs": [],
   "source": [
    "# Make a valid fernet key:\n",
    "fernet_key = base64.urlsafe_b64encode(kdf_result)\n",
    "fernet_key"
   ]
  },
  {
   "cell_type": "code",
   "execution_count": null,
   "metadata": {},
   "outputs": [],
   "source": [
    "# Check to see if you can create a Fernet cipher\n",
    "f1 = Fernet(fernet_key)\n",
    "print(f1)"
   ]
  },
  {
   "cell_type": "markdown",
   "metadata": {},
   "source": [
    "If both parties know the passphrase and salt value, then each party could derive the same key and send encrypted messages."
   ]
  },
  {
   "cell_type": "markdown",
   "metadata": {},
   "source": [
    "## Encrypted Data\n",
    "Let's see how the data is packed and encrypted. \n",
    "The enciphered token has the following structure:\n",
    "\n",
    "1. Version [1 byte] - the only valid value currently is 128.\n",
    "2. Timestamp [8 bytes] - a 64 bit, unsigned, big-endian integer that indicates when the ciphertext was created. \n",
    "3. IV [16 bytes] - the 128 bit Initialization Vector used in AES encryption and decryption.\n",
    "4. Ciphertext [16 * N Bytes, where N is the number of cipher blocks] - the encrypted version of the plaintext message. This is encrypted using AES128 in CBC mode using the PKCS7 padding algorithm.\n",
    "5. HMAC [32 bytes] - a 256-bit hash based message authentication code of the concatenated Version, Timestamp, IV, and Ciphertext fields. The HMAC is signed using the signing key section of the Fernet key."
   ]
  },
  {
   "cell_type": "code",
   "execution_count": null,
   "metadata": {},
   "outputs": [],
   "source": [
    "# Recall the base64 encoded cipher token\n",
    "cipher_token"
   ]
  },
  {
   "cell_type": "code",
   "execution_count": null,
   "metadata": {},
   "outputs": [],
   "source": [
    "cipher_token_bytes = base64.urlsafe_b64decode(cipher_token)\n",
    "cipher_token_bytes"
   ]
  },
  {
   "cell_type": "code",
   "execution_count": null,
   "metadata": {},
   "outputs": [],
   "source": [
    "#parse the fields\n",
    "version = cipher_token_bytes[0]\n",
    "print(\"Version: {}\".format(version))\n",
    "time_stamp = cipher_token_bytes[1:9]\n",
    "print(\"time_stamp: {}\".format(time_stamp))\n",
    "init_vect = cipher_token_bytes[9:25]\n",
    "print(\"init_vect: {}\".format(init_vect))\n",
    "cipher_data = cipher_token_bytes[25:-32]\n",
    "print(\"Length of cipher_data: {}\".format(len(cipher_data)))\n",
    "hmac_value = cipher_token_bytes[-32:]\n",
    "print(\"hmac_value: {}\".format(hmac_value))"
   ]
  },
  {
   "cell_type": "code",
   "execution_count": null,
   "metadata": {},
   "outputs": [],
   "source": [
    "#Convert the timestamp bytes into an integer\n",
    "#This is the number of seconds from the Jan 1, 1970 epoch\n",
    "import struct\n",
    "time_integer = struct.unpack(\">Q\",time_stamp)[0]\n",
    "time_integer"
   ]
  },
  {
   "cell_type": "code",
   "execution_count": null,
   "metadata": {},
   "outputs": [],
   "source": [
    "#convert the timestamp into iso format so we can read it.\n",
    "from datetime import datetime\n",
    "datetime.fromtimestamp(time_integer).isoformat()"
   ]
  },
  {
   "cell_type": "markdown",
   "metadata": {},
   "source": [
    "For more on time operations in Python: https://docs.python.org/3/library/datetime.html"
   ]
  },
  {
   "cell_type": "code",
   "execution_count": null,
   "metadata": {},
   "outputs": [],
   "source": [
    "#Recall (no time constraints)\n",
    "f.decrypt(cipher_token)"
   ]
  },
  {
   "cell_type": "code",
   "execution_count": null,
   "metadata": {},
   "outputs": [],
   "source": [
    "# If more than ttl seconds have passed from the encryption, then the token is bad. \n",
    "# This is helpful to guarantee the freshness of data coming from a real-time producer.\n",
    "# (i.e. instrument data from a test vehicle streaming in real-time. )\n",
    "f.decrypt(cipher_token,ttl = 10)"
   ]
  },
  {
   "cell_type": "markdown",
   "metadata": {},
   "source": [
    "### AES-CBC decryption\n",
    "We have the keys used for the symmetric encryption along with the IV, so we can create an AES cipher based on these inputs and decrypt the cipher text. We'll need to import these primitives. Reference: https://cryptography.io/en/latest/hazmat/primitives/symmetric-encryption/"
   ]
  },
  {
   "cell_type": "code",
   "execution_count": null,
   "metadata": {},
   "outputs": [],
   "source": [
    "from cryptography.hazmat.primitives.ciphers import Cipher, algorithms, modes"
   ]
  },
  {
   "cell_type": "code",
   "execution_count": null,
   "metadata": {},
   "outputs": [],
   "source": [
    "#Recall\n",
    "encryption_key"
   ]
  },
  {
   "cell_type": "code",
   "execution_count": null,
   "metadata": {},
   "outputs": [],
   "source": [
    "cipher = Cipher(algorithms.AES(encryption_key), modes.CBC(init_vect))\n",
    "cipher"
   ]
  },
  {
   "cell_type": "code",
   "execution_count": null,
   "metadata": {},
   "outputs": [],
   "source": [
    "decryptor = cipher.decryptor()\n",
    "decryptor"
   ]
  },
  {
   "cell_type": "code",
   "execution_count": null,
   "metadata": {},
   "outputs": [],
   "source": [
    "#Notice the padding at the end\n",
    "# if this gives an error, reinitialize the decryptor\n",
    "clear = decryptor.update(cipher_data) + decryptor.finalize()\n",
    "clear"
   ]
  },
  {
   "cell_type": "code",
   "execution_count": null,
   "metadata": {},
   "outputs": [],
   "source": [
    "# The padding is performed by inserting N bytes at the end of the clear bytes\n",
    "# The pad length N is encoded as the pad value. The pad value is determined as chr(N).\n",
    "# The inverse of chr(N) is ord(char)\n",
    "ord('\\t')"
   ]
  },
  {
   "cell_type": "markdown",
   "metadata": {},
   "source": [
    "There were 9 b'/t' characters padded to the end of the preamble to make the block divisible by 16."
   ]
  },
  {
   "cell_type": "code",
   "execution_count": null,
   "metadata": {},
   "outputs": [],
   "source": [
    "from cryptography.hazmat.primitives import padding"
   ]
  },
  {
   "cell_type": "code",
   "execution_count": null,
   "metadata": {},
   "outputs": [],
   "source": [
    "# Let's use the primitive (16 bytes = 128 bits)\n",
    "unpadder = padding.PKCS7(128).unpadder()\n",
    "unpadded_clear = unpadder.update(clear)\n",
    "unpadded_clear"
   ]
  },
  {
   "cell_type": "code",
   "execution_count": null,
   "metadata": {},
   "outputs": [],
   "source": [
    "#We are still missing the last part:\n",
    "unpadder.finalize()"
   ]
  },
  {
   "cell_type": "code",
   "execution_count": null,
   "metadata": {},
   "outputs": [],
   "source": [
    "#Putting the two together\n",
    "unpadder = padding.PKCS7(128).unpadder()\n",
    "unpadded_clear = unpadder.update(clear) + unpadder.finalize()\n",
    "unpadded_clear"
   ]
  },
  {
   "cell_type": "markdown",
   "metadata": {},
   "source": [
    "### Tamper Detection\n",
    "What if someone manipulates a bit in the cipher_data? The decryption will still work, but the message will be changed. We need to detect these manipulations before presenting actual data. The decryptor does not know if the data bits were rearranged.\n",
    "\n",
    "Key Point: encryption does not mean authentication. "
   ]
  },
  {
   "cell_type": "code",
   "execution_count": null,
   "metadata": {},
   "outputs": [],
   "source": [
    "#Change to a bytearray to manipulate\n",
    "altered_cipher = bytearray(cipher_data)\n",
    "altered_cipher == bytearray(cipher_data)"
   ]
  },
  {
   "cell_type": "code",
   "execution_count": null,
   "metadata": {},
   "outputs": [],
   "source": [
    "#Change a byte\n",
    "altered_cipher[29] = 0\n",
    "altered_cipher == bytearray(cipher_data)"
   ]
  },
  {
   "cell_type": "code",
   "execution_count": null,
   "metadata": {},
   "outputs": [],
   "source": [
    "# use the same decryptor and decrypt\n",
    "decryptor = cipher.decryptor()\n",
    "decryptor.update(cipher_data) + decryptor.finalize()"
   ]
  },
  {
   "cell_type": "code",
   "execution_count": null,
   "metadata": {},
   "outputs": [],
   "source": [
    "# in cipher block chaining (CBC) mode, some of the original text will come through after manipulating a byte.\n",
    "decryptor = cipher.decryptor()\n",
    "decryptor.update(altered_cipher) + decryptor.finalize()"
   ]
  },
  {
   "cell_type": "markdown",
   "metadata": {},
   "source": [
    "How can someone tell if the enciphered data was manipulated?\n",
    "\n",
    "Ans: use a message authentication code.\n",
    "\n",
    "https://cryptography.io/en/latest/hazmat/primitives/mac/hmac/"
   ]
  },
  {
   "cell_type": "code",
   "execution_count": null,
   "metadata": {},
   "outputs": [],
   "source": [
    "from cryptography.hazmat.primitives import hashes, hmac"
   ]
  },
  {
   "cell_type": "code",
   "execution_count": null,
   "metadata": {},
   "outputs": [],
   "source": [
    "#recall\n",
    "signing_key"
   ]
  },
  {
   "cell_type": "code",
   "execution_count": null,
   "metadata": {},
   "outputs": [],
   "source": [
    "#Add the concatenated message bytes to the HMAC and produce the digest\n",
    "h = hmac.HMAC(signing_key,hashes.SHA256())\n",
    "h.update(cipher_token_bytes[:-32])\n",
    "new_hmac_digest = h.finalize()\n",
    "new_hmac_digest"
   ]
  },
  {
   "cell_type": "code",
   "execution_count": null,
   "metadata": {},
   "outputs": [],
   "source": [
    "#Compare\n",
    "hmac_value == new_hmac_digest"
   ]
  },
  {
   "cell_type": "code",
   "execution_count": null,
   "metadata": {},
   "outputs": [],
   "source": [
    "# Using verify\n",
    "h = hmac.HMAC(signing_key,hashes.SHA256())\n",
    "h.update(cipher_token_bytes[:-32])\n",
    "h.verify(cipher_token_bytes[-32:])\n",
    "# If the verify command doesn't raise an error, it's ok.\n",
    "print(\"Message Authenticated\")"
   ]
  },
  {
   "cell_type": "code",
   "execution_count": null,
   "metadata": {},
   "outputs": [],
   "source": [
    "# Using verify\n",
    "h = hmac.HMAC(signing_key,hashes.SHA256())\n",
    "# Remove the first byte\n",
    "h.update(cipher_token_bytes[1:-32])\n",
    "h.verify(cipher_token_bytes[-32:])"
   ]
  },
  {
   "cell_type": "code",
   "execution_count": null,
   "metadata": {},
   "outputs": [],
   "source": [
    "# Use a try -except block to catch the verification error\n",
    "from cryptography import exceptions\n",
    "h = hmac.HMAC(signing_key,hashes.SHA256())\n",
    "# Remove the first byte\n",
    "h.update(cipher_token_bytes[1:-32])\n",
    "try:\n",
    "    h.verify(cipher_token_bytes[-32:])\n",
    "    print(\"Message Authenticated\")\n",
    "except exceptions.InvalidSignature:\n",
    "    print(\"Invalid Signature\")"
   ]
  },
  {
   "cell_type": "markdown",
   "metadata": {},
   "source": [
    "## Section Summary\n",
    "In this section we disected the Fernet protocol for symmetric encryption. In this process we discussed\n",
    "* Improper Modes of Encryption \n",
    "* Key Generation\n",
    "* Keys from Passwords\n",
    "* Availability Controls with Timestamps\n",
    "* Confidentiality Controls using AES in the cipher block chaining mode\n",
    "* Integrity Controls and Tamper Detection using HMAC\n",
    "The Fernet recipe is a good starting point to send data across the Internet between trusted parties with a shared key."
   ]
  },
  {
   "cell_type": "code",
   "execution_count": null,
   "metadata": {},
   "outputs": [],
   "source": []
  }
 ],
 "metadata": {
  "kernelspec": {
   "display_name": "Python 3",
   "language": "python",
   "name": "python3"
  },
  "language_info": {
   "codemirror_mode": {
    "name": "ipython",
    "version": 3
   },
   "file_extension": ".py",
   "mimetype": "text/x-python",
   "name": "python",
   "nbconvert_exporter": "python",
   "pygments_lexer": "ipython3",
   "version": "3.8.5"
  },
  "latex_envs": {
   "LaTeX_envs_menu_present": true,
   "autoclose": false,
   "autocomplete": true,
   "bibliofile": "biblio.bib",
   "cite_by": "apalike",
   "current_citInitial": 1,
   "eqLabelWithNumbers": true,
   "eqNumInitial": 1,
   "hotkeys": {
    "equation": "Ctrl-E",
    "itemize": "Ctrl-I"
   },
   "labels_anchors": false,
   "latex_user_defs": false,
   "report_style_numbering": false,
   "user_envs_cfg": false
  }
 },
 "nbformat": 4,
 "nbformat_minor": 2
}
