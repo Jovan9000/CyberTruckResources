{
 "cells": [
  {
   "cell_type": "markdown",
   "metadata": {},
   "source": [
    "# <center> Module 2b - Bit Level Manipulation\n",
    "## <center> ENGR 580A2: Secure Vehicle and Industrial Networking\n",
    "## <center> <img src=\"https://www.engr.colostate.edu/~jdaily/Systems-EN-CSU-1-C357.svg\" width=\"500\" /> \n",
    "### <center> Instructor: Dr. Jeremy Daily<br>Fall 2021"
   ]
  },
  {
   "cell_type": "markdown",
   "metadata": {},
   "source": [
    "## Learning Objectives\n",
    "By the end of this lesson, students should be able to:\n",
    "1. Understand bitwise boolean operations\n",
    "2. Be able to apply masks and shifts to determine switch states.\n",
    "3. Write code to set bits, clear bits, and toggle bits."
   ]
  },
  {
   "cell_type": "markdown",
   "metadata": {},
   "source": [
    "## Switch States\n",
    "Many vehicle and industrial communications are for switches, which take 2 bits (four states). These states are often:\n",
    "\n",
    "00 = off\n",
    "\n",
    "01 = on\n",
    "\n",
    "10 = error\n",
    "\n",
    "11 = not used"
   ]
  },
  {
   "cell_type": "code",
   "execution_count": null,
   "metadata": {},
   "outputs": [],
   "source": [
    "# Given a J1939 Message\n",
    "msg = '(012.565071)  can1  18FEF100   [8]  FF 00 00 FC FF 68 00 CF'\n",
    "msg_bytes = bytes.fromhex(msg[-24:])\n",
    "msg_bytes"
   ]
  },
  {
   "cell_type": "code",
   "execution_count": null,
   "metadata": {},
   "outputs": [],
   "source": [
    "# Bytes are immutable, meaning you can't change them\n",
    "msg_bytes[1] = 35"
   ]
  },
  {
   "cell_type": "code",
   "execution_count": null,
   "metadata": {},
   "outputs": [],
   "source": [
    "# Make a mutable bytearray instead\n",
    "msg_byte_array = bytearray.fromhex(msg[-24:])\n",
    "msg_byte_array"
   ]
  },
  {
   "cell_type": "code",
   "execution_count": null,
   "metadata": {},
   "outputs": [],
   "source": [
    "# Byte arrays are mutable\n",
    "msg_byte_array[1] = 0x8D\n",
    "msg_byte_array"
   ]
  },
  {
   "cell_type": "markdown",
   "metadata": {},
   "source": [
    "We don't want to change the message, so we'll stick with the bytes data type."
   ]
  },
  {
   "cell_type": "code",
   "execution_count": null,
   "metadata": {},
   "outputs": [],
   "source": [
    "# Compute the PGN\n",
    "split_message =  msg.split()\n",
    "split_message"
   ]
  },
  {
   "cell_type": "markdown",
   "metadata": {},
   "source": [
    "In a J1939 message, there are 29 bits in the ID. They can be broken into 4 parts: Priority, PDU Format, PDU Specific, and Source Address. To extract these from the ID, we'll cover 2 approaches:\n",
    "1. Convert to raw bytes and use the struct.unpack method to determine values.\n",
    "2. Convert to an integer and use masks and shifts to determine the values."
   ]
  },
  {
   "cell_type": "code",
   "execution_count": null,
   "metadata": {},
   "outputs": [],
   "source": [
    "import struct"
   ]
  },
  {
   "cell_type": "code",
   "execution_count": null,
   "metadata": {},
   "outputs": [],
   "source": [
    "can_id = bytes.fromhex(split_message[2])\n",
    "can_id"
   ]
  },
  {
   "cell_type": "code",
   "execution_count": null,
   "metadata": {},
   "outputs": [],
   "source": [
    "#PDU = Protocol Data Unit\n",
    "(PR,PF,PS,SA) = struct.unpack(\"BBBB\",can_id)\n",
    "print(\"Source Address = {}\".format(SA))\n",
    "print(\"PDU Specific   = {}\".format(PS))\n",
    "print(\"PDU Format     = {}\".format(PF))\n",
    "print(\"Priority       = {}\".format(PR))"
   ]
  },
  {
   "cell_type": "code",
   "execution_count": null,
   "metadata": {},
   "outputs": [],
   "source": [
    "# Show the bits\n",
    "print(\"{:08b}\".format(PR))"
   ]
  },
  {
   "cell_type": "code",
   "execution_count": null,
   "metadata": {},
   "outputs": [],
   "source": [
    "#However, priority is only three bits long (0-7) in J1939, \n",
    "# so we have to look at masking off the top 3 bits and shifting them\n",
    "priority = (PR & 0b00011100) >> 2\n",
    "priority"
   ]
  },
  {
   "cell_type": "markdown",
   "metadata": {},
   "source": [
    "This approach requires additional granualrity since we just dropped the 2 bits in PR byte. Let's try an approach of masking and bit shifting of the integer."
   ]
  },
  {
   "cell_type": "code",
   "execution_count": null,
   "metadata": {},
   "outputs": [],
   "source": [
    "can_id = int(split_message[2],16)\n",
    "can_id"
   ]
  },
  {
   "cell_type": "code",
   "execution_count": null,
   "metadata": {},
   "outputs": [],
   "source": [
    "print(\"{:08X}\".format(can_id))"
   ]
  },
  {
   "cell_type": "code",
   "execution_count": null,
   "metadata": {},
   "outputs": [],
   "source": [
    "# Source address \n",
    "SA = (can_id & 0x000000000FF)\n",
    "SA"
   ]
  },
  {
   "cell_type": "code",
   "execution_count": null,
   "metadata": {},
   "outputs": [],
   "source": [
    "#Mask for the 2nd byte\n",
    "PS = (can_id & 0xFF00)\n",
    "PS"
   ]
  },
  {
   "cell_type": "code",
   "execution_count": null,
   "metadata": {},
   "outputs": [],
   "source": [
    "# Show as hex characters\n",
    "print(\"{:X}\".format(PS))"
   ]
  },
  {
   "cell_type": "code",
   "execution_count": null,
   "metadata": {},
   "outputs": [],
   "source": [
    "# We actually need to shift the result by one byte, or 8 bits\n",
    "PS = (can_id & 0xFF00) >> 8\n",
    "PS"
   ]
  },
  {
   "cell_type": "code",
   "execution_count": null,
   "metadata": {},
   "outputs": [],
   "source": [
    "# Show as hex characters\n",
    "print(\"{:X}\".format(PS))"
   ]
  },
  {
   "cell_type": "code",
   "execution_count": null,
   "metadata": {},
   "outputs": [],
   "source": [
    "# Now lets include the extra 2 bits in the PF determination\n",
    "mask = 0x3FF0000\n",
    "print(\"Mask: {:032b}\".format(mask))\n",
    "print(\"Data: {:032b}\".format(can_id))"
   ]
  },
  {
   "cell_type": "markdown",
   "metadata": {},
   "source": [
    "Perform a bit-wise AND operation. \n",
    "\n",
    "Everywhere there is a zero in the mask the result is zeroed.\n",
    "\n",
    "Everywhere there is a 1 in the mask, the result is the data.\n"
   ]
  },
  {
   "cell_type": "code",
   "execution_count": null,
   "metadata": {},
   "outputs": [],
   "source": [
    "PF = mask & can_id\n",
    "print(\"Mask: {:032b}\".format(mask))\n",
    "print(\"Data: {:032b}\".format(can_id))\n",
    "print(\"Rslt: {:032b}\".format(PF))\n",
    "PF"
   ]
  },
  {
   "cell_type": "code",
   "execution_count": null,
   "metadata": {},
   "outputs": [],
   "source": [
    "# Now shift the AND result the appropriate number of bits (16)\n",
    "PF = (can_id & mask) >> 16\n",
    "PF"
   ]
  },
  {
   "cell_type": "code",
   "execution_count": null,
   "metadata": {},
   "outputs": [],
   "source": [
    "# Show as hex characters\n",
    "print(\"{:X}\".format(PF))"
   ]
  },
  {
   "cell_type": "code",
   "execution_count": null,
   "metadata": {},
   "outputs": [],
   "source": [
    "priority_mask = 0x1C000000\n",
    "PR = priority_mask & can_id\n",
    "print(\"Mask: {:032b}\".format(priority_mask))\n",
    "print(\"Data: {:032b}\".format(can_id))\n",
    "print(\"Rslt: {:032b}\".format(PR))"
   ]
  },
  {
   "cell_type": "code",
   "execution_count": null,
   "metadata": {},
   "outputs": [],
   "source": [
    "# Now shift the bits over 26 times (8 + 8 + 8 + 2)\n",
    "priority = PR >> 26\n",
    "priority"
   ]
  },
  {
   "cell_type": "markdown",
   "metadata": {},
   "source": [
    "The goal is to get the parameter group number (PGN) from the ID. In J1939, when the PF is 240 or above, the PGN is the PF and PS concatenated."
   ]
  },
  {
   "cell_type": "code",
   "execution_count": null,
   "metadata": {},
   "outputs": [],
   "source": [
    "PGN = PF << 8 + PS\n",
    "PGN"
   ]
  },
  {
   "cell_type": "markdown",
   "metadata": {},
   "source": [
    "The order of operations is challenging. \n",
    "https://en.cppreference.com/w/c/language/operator_precedence\n",
    "Addition takes place before bit shifting. But bit shifting takes place before an and operation. "
   ]
  },
  {
   "cell_type": "code",
   "execution_count": null,
   "metadata": {},
   "outputs": [],
   "source": [
    "# Order of operations matter:\n",
    "PGN =  (PF << 8) + PS\n",
    "PGN"
   ]
  },
  {
   "cell_type": "markdown",
   "metadata": {},
   "source": [
    "The J1939 Standard has this to say about PGN 65265 (0xFEF1):\n",
    "\n",
    "Name = Cruise Control/ Vehicle Speed 1\n",
    "\n",
    "Acronym = CCVS1\n",
    "\n",
    "It has the following suspect parameter numbers (SPNs)\n",
    "\n",
    "| Position | SPN\t| SP Label |SP Length | Resolution\n",
    "| --- | --- |:------- | --- | --- |\n",
    "| 1.1 | 69\t | Two Speed Axle Switch \t                 | 2 bits\t| 4 states/2 bit\n",
    "| 1.3 | 70\t | Parking Brake Switch\t                     | 2 bits\t| 4 states/2 bit\n",
    "| 1.5 | 1633 | Cruise Control Pause Switch\t             | 2 bits\t| 4 states/2 bit\n",
    "| 1.7 | 3807 | Park Brake Release Inhibit Request\t     | 2 bits\t| 4 states/2 bit\n",
    "| 2-3 | 84\t | Wheel-Based Vehicle Speed\t             | 2 bytes| 1/256 km/h per bit\n",
    "| 4.1 | 595\t | Cruise Control Active\t                 | 2 bits\t| 4 states/2 bit\n",
    "| 4.3 | 596\t | Cruise Control Enable Switch\t             | 2 bits\t| 4 states/2 bit\n",
    "| 4.5 | 597\t | Brake Switch\t                             | 2 bits\t| 4 states/2 bit\n",
    "| 4.7 | 598\t | Clutch Switch\t                         | 2 bits\t| 4 states/2 bit\n",
    "| 5.1 | 599\t | Cruise Control Set Switch\t             | 2 bits\t| 4 states/2 bit\n",
    "| 5.3 | 600\t | Cruise Control Coast (Decelerate) Switch\t | 2 bits\t| 4 states/2 bit\n",
    "| 5.5 | 601\t | Cruise Control Resume Switch\t             | 2 bits\t| 4 states/2 bit\n",
    "| 5.7 | 602\t | Cruise Control Accelerate Switch\t         | 2 bits\t| 4 states/2 bit\n",
    "| 6\t  | 86 \t | Cruise Control Set Speed\t                 | 1 byte\t| 1 km/h per bit\n",
    "| 7.1 | 976\t | PTO Governor State\t                     | 5 bits\t| 32 states/5 bit\n",
    "| 7.6 | 527\t | Cruise Control States\t                 | 3 bits\t| 8 states/3 bit\n",
    "| 8.1 | 968\t | Engine Idle Increment Switch\t             | 2 bits\t| 4 states/2 bit\n",
    "| 8.3 | 967\t | Engine Idle Decrement Switch\t             | 2 bits\t| 4 states/2 bit\n",
    "| 8.5 | 966\t | Engine Diagnostic Test Mode Switch\t     | 2 bits\t| 4 states/2 bit\n",
    "| 8.7 | 1237 | Engine Shutdown Override Switch\t         | 2 bits\t| 4 states/2 bit\n"
   ]
  },
  {
   "cell_type": "code",
   "execution_count": null,
   "metadata": {},
   "outputs": [],
   "source": [
    "#Let's decode the message.\n",
    "# Recall\n",
    "msg_bytes"
   ]
  },
  {
   "cell_type": "code",
   "execution_count": null,
   "metadata": {},
   "outputs": [],
   "source": [
    "# Let's find our brake switch, 4.5\n",
    "# In J1939 the index is from 1, in Python and C, it's from 0.\n",
    "# We are looking for byte 3\n",
    "byte_of_interest = msg_bytes[3]\n",
    "print(\"{:08b}\".format(byte_of_interest))"
   ]
  },
  {
   "cell_type": "code",
   "execution_count": null,
   "metadata": {},
   "outputs": [],
   "source": [
    "# Position 5 is actually 4 in python. \n",
    "mask = 0b00110000\n",
    "print(\"{:08b}\".format(mask))"
   ]
  },
  {
   "cell_type": "code",
   "execution_count": null,
   "metadata": {},
   "outputs": [],
   "source": [
    "#Apply the mask:\n",
    "result = byte_of_interest & mask\n",
    "print(\"{:08b}\".format(mask))\n",
    "print(\"{:08b}\".format(byte_of_interest))\n",
    "print(\"{:08b}\".format(result))"
   ]
  },
  {
   "cell_type": "code",
   "execution_count": null,
   "metadata": {},
   "outputs": [],
   "source": [
    "SPN597_value = result >> 4\n",
    "SPN597_value"
   ]
  },
  {
   "cell_type": "code",
   "execution_count": null,
   "metadata": {},
   "outputs": [],
   "source": [
    "# Per J1939\n",
    "SPN597_meanings = {0:\"Brake pedal released\",\n",
    "                   1:\"Brake pedal depressed\",\n",
    "                   2:\"Error\",\n",
    "                   3:\"Not Available\"}\n",
    "print(SPN597_meanings[SPN597_value])"
   ]
  },
  {
   "cell_type": "markdown",
   "metadata": {},
   "source": [
    "The brake switch is monitored by the instrument panel, not the engine."
   ]
  },
  {
   "cell_type": "markdown",
   "metadata": {},
   "source": [
    "## Bit Manipulation\n",
    "Often we have to set the values of certain bits based of inputs or state changes. There may be many switch states in 1 byte, so only the bit of interest is able to change.\n",
    "https://stackoverflow.com/questions/47981/how-do-you-set-clear-and-toggle-a-single-bit"
   ]
  },
  {
   "cell_type": "code",
   "execution_count": null,
   "metadata": {},
   "outputs": [],
   "source": [
    "# Let's start with 4 switches represented by a single byte.\n",
    "switch = 0\n",
    "sw1 = 0\n",
    "sw2 = 1\n",
    "sw3 = 0\n",
    "sw4 = 1\n",
    "# Initial build\n",
    "switch = sw1 + (sw2 << 2) + (sw3 << 4) + (sw4 << 6)\n",
    "print(\"{:08b}\".format(switch))"
   ]
  },
  {
   "cell_type": "code",
   "execution_count": null,
   "metadata": {},
   "outputs": [],
   "source": [
    "struct.pack(\"B\",switch)"
   ]
  },
  {
   "cell_type": "code",
   "execution_count": null,
   "metadata": {},
   "outputs": [],
   "source": [
    "# Let's set Switch 1 (OR)\n",
    "switch |= 1\n",
    "print(\"{:08b}\".format(switch))"
   ]
  },
  {
   "cell_type": "code",
   "execution_count": null,
   "metadata": {},
   "outputs": [],
   "source": [
    "# Let's set Switch 3\n",
    "switch |= 1 << 4\n",
    "print(\"{:08b}\".format(switch))"
   ]
  },
  {
   "cell_type": "code",
   "execution_count": null,
   "metadata": {},
   "outputs": [],
   "source": [
    "# Clear Switch 4 (Inverted AND)\n",
    "switch &= ~(1 << 6)\n",
    "print(\"{:08b}\".format(switch))"
   ]
  },
  {
   "cell_type": "code",
   "execution_count": null,
   "metadata": {},
   "outputs": [],
   "source": [
    "# Clear Switch 2 (Inverted AND)\n",
    "switch &= ~(1 << 2)\n",
    "print(\"{:08b}\".format(switch))"
   ]
  },
  {
   "cell_type": "code",
   "execution_count": null,
   "metadata": {},
   "outputs": [],
   "source": [
    "# Toggle Switch 3 (XOR)\n",
    "switch ^= 1 << 4\n",
    "print(\"{:08b}\".format(switch))"
   ]
  },
  {
   "cell_type": "code",
   "execution_count": null,
   "metadata": {},
   "outputs": [],
   "source": [
    "# Toggle Switch 3 (XOR)\n",
    "# You can pre-calculate (1 << 4) = 16 = 0b00010000 \n",
    "switch ^= 16\n",
    "print(\"{:08b}\".format(switch))"
   ]
  },
  {
   "cell_type": "markdown",
   "metadata": {},
   "source": [
    "You can manipulate bits using OR, AND, and XOR booleans.\n",
    "\n",
    "Read bits using masks and shifts."
   ]
  }
 ],
 "metadata": {
  "kernelspec": {
   "display_name": "Python 3",
   "language": "python",
   "name": "python3"
  },
  "language_info": {
   "codemirror_mode": {
    "name": "ipython",
    "version": 3
   },
   "file_extension": ".py",
   "mimetype": "text/x-python",
   "name": "python",
   "nbconvert_exporter": "python",
   "pygments_lexer": "ipython3",
   "version": "3.8.5"
  },
  "latex_envs": {
   "LaTeX_envs_menu_present": true,
   "autoclose": false,
   "autocomplete": true,
   "bibliofile": "biblio.bib",
   "cite_by": "apalike",
   "current_citInitial": 1,
   "eqLabelWithNumbers": true,
   "eqNumInitial": 1,
   "hotkeys": {
    "equation": "Ctrl-E",
    "itemize": "Ctrl-I"
   },
   "labels_anchors": false,
   "latex_user_defs": false,
   "report_style_numbering": false,
   "user_envs_cfg": false
  }
 },
 "nbformat": 4,
 "nbformat_minor": 4
}
