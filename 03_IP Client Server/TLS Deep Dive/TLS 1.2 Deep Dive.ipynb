{
 "cells": [
  {
   "cell_type": "markdown",
   "metadata": {},
   "source": [
    "# <center> TLS 1.2 Deep Dive\n",
    "## <center> SYSE 549: Secure Vehicle and Industrial Networking\n",
    "## <center> <img src=\"https://www.engr.colostate.edu/~jdaily/Systems-EN-CSU-1-C357.svg\" width=\"400\" /> \n",
    "### <center> Instructor: Dr. Jeremy Daily<br>\n",
    "### <center> Content Author: Jerry Duggan"
   ]
  },
  {
   "cell_type": "markdown",
   "metadata": {},
   "source": [
    "## Learning Objectives\n",
    "By the end of this module, you will:\n",
    "* Understand how to create and verify a self-signed certificate;\n",
    "* Understand how to initiate a TLS v1.2 session with an HTTP server;\n",
    "* Understand how to access components of a TLS certificate with a client application, and how to verify the certificate;\n",
    "* Understand how to use Wireshark to examine the steps for establishing a TLS session."
   ]
  },
  {
   "cell_type": "markdown",
   "metadata": {},
   "source": [
    "## Quick Review\n",
    "Certificates are used to authenticate clients and servers. They are the basis for securing websites and other communications over the Internet. They are defined in RFC 5280: https://datatracker.ietf.org/doc/html/rfc5280.html.\n",
    "\n",
    "The primary reason for certificates and a Certificate Authority (CA) is to overcome the person-in-the-middle (PITM) attack as shown below."
   ]
  },
  {
   "cell_type": "markdown",
   "metadata": {},
   "source": [
    "![Person in the Middle](PITM.png)"
   ]
  },
  {
   "cell_type": "markdown",
   "metadata": {},
   "source": [
    "![Certificates](CA.png)"
   ]
  },
  {
   "cell_type": "markdown",
   "metadata": {},
   "source": [
    "## Generating and Using a Certificate\n",
    "This tutorial follows along with the approach found at https://cryptography.io/en/latest/x509/.\n",
    "\n",
    "We'll start out by creating a certificate and putting together a certificate signing request.\n"
   ]
  },
  {
   "cell_type": "markdown",
   "metadata": {},
   "source": [
    "### Load dependencies\n",
    "This was written with crytography.io at version 40."
   ]
  },
  {
   "cell_type": "code",
   "execution_count": 1,
   "metadata": {},
   "outputs": [
    {
     "name": "stdout",
     "output_type": "stream",
     "text": [
      "Requirement already up-to-date: cryptography in c:\\users\\jdaily\\appdata\\roaming\\python\\python38\\site-packages (40.0.1)\n",
      "Requirement already satisfied, skipping upgrade: cffi>=1.12 in c:\\programdata\\anaconda3\\lib\\site-packages (from cryptography) (1.14.3)\n",
      "Requirement already satisfied, skipping upgrade: pycparser in c:\\programdata\\anaconda3\\lib\\site-packages (from cffi>=1.12->cryptography) (2.20)\n",
      "Note: you may need to restart the kernel to use updated packages.\n"
     ]
    }
   ],
   "source": [
    "%pip install --upgrade --user cryptography"
   ]
  },
  {
   "cell_type": "markdown",
   "metadata": {},
   "source": [
    "### Generate private key & calculate it's associated public key"
   ]
  },
  {
   "cell_type": "code",
   "execution_count": 2,
   "metadata": {},
   "outputs": [
    {
     "name": "stdout",
     "output_type": "stream",
     "text": [
      "<cryptography.hazmat.backends.openssl.rsa._RSAPublicKey object at 0x000001AECE5A5AC0>\n"
     ]
    }
   ],
   "source": [
    "from cryptography.hazmat.primitives.asymmetric import rsa\n",
    "privateKey = rsa.generate_private_key(\n",
    "        public_exponent=65537,\n",
    "        key_size=2048\n",
    "    )\n",
    "publicKey = privateKey.public_key()\n",
    "print(publicKey)"
   ]
  },
  {
   "cell_type": "markdown",
   "metadata": {},
   "source": [
    "### Create an x509 object with our pertinent information"
   ]
  },
  {
   "cell_type": "code",
   "execution_count": 3,
   "metadata": {},
   "outputs": [
    {
     "data": {
      "text/plain": [
       "<Name(C=US,ST=Colorado,L=Fort Collins,O=Colorado State University,CN=fakesite.edu)>"
      ]
     },
     "execution_count": 3,
     "metadata": {},
     "output_type": "execute_result"
    }
   ],
   "source": [
    "from cryptography import x509\n",
    "issuer = x509.Name([\n",
    "        x509.NameAttribute(x509.NameOID.COUNTRY_NAME,           u\"US\"),\n",
    "        x509.NameAttribute(x509.NameOID.STATE_OR_PROVINCE_NAME, u\"Colorado\"),\n",
    "        x509.NameAttribute(x509.NameOID.LOCALITY_NAME,          u\"Fort Collins\"),\n",
    "        x509.NameAttribute(x509.NameOID.ORGANIZATION_NAME,      u\"Colorado State University\"),\n",
    "        x509.NameAttribute(x509.NameOID.COMMON_NAME,            u\"fakesite.edu\")\n",
    "    ])\n",
    "issuer"
   ]
  },
  {
   "cell_type": "markdown",
   "metadata": {},
   "source": [
    "### This is a self-signed certificate, so in the case the issuer is also the subject"
   ]
  },
  {
   "cell_type": "code",
   "execution_count": 4,
   "metadata": {},
   "outputs": [],
   "source": [
    "subject = issuer"
   ]
  },
  {
   "cell_type": "markdown",
   "metadata": {},
   "source": [
    "### Create the certificate builder..."
   ]
  },
  {
   "cell_type": "code",
   "execution_count": 5,
   "metadata": {},
   "outputs": [
    {
     "data": {
      "text/plain": [
       "<cryptography.x509.base.CertificateBuilder at 0x1aece8677c0>"
      ]
     },
     "execution_count": 5,
     "metadata": {},
     "output_type": "execute_result"
    }
   ],
   "source": [
    "from datetime import datetime, timedelta\n",
    "rawCert = (\n",
    "        x509.CertificateBuilder()\n",
    "            .subject_name(subject)\n",
    "            .issuer_name(issuer)\n",
    "            .public_key(publicKey)\n",
    "            .serial_number(x509.random_serial_number())\n",
    "            .not_valid_before(datetime.utcnow())\n",
    "            .not_valid_after(datetime.utcnow() + timedelta(days=10))\n",
    "            .add_extension(x509.SubjectAlternativeName([x509.DNSName(u\"localhost\")]), critical=False)\n",
    "            )\n",
    "rawCert"
   ]
  },
  {
   "cell_type": "markdown",
   "metadata": {},
   "source": [
    "### And sign it with our private key to make it a real certificate"
   ]
  },
  {
   "cell_type": "code",
   "execution_count": 6,
   "metadata": {},
   "outputs": [
    {
     "data": {
      "text/plain": [
       "<Certificate(subject=<Name(C=US,ST=Colorado,L=Fort Collins,O=Colorado State University,CN=fakesite.edu)>, ...)>"
      ]
     },
     "execution_count": 6,
     "metadata": {},
     "output_type": "execute_result"
    }
   ],
   "source": [
    "from cryptography.hazmat.primitives import hashes\n",
    "signedCert = rawCert.sign(privateKey, hashes.SHA256())\n",
    "signedCert"
   ]
  },
  {
   "cell_type": "code",
   "execution_count": 7,
   "metadata": {},
   "outputs": [
    {
     "name": "stdout",
     "output_type": "stream",
     "text": [
      "b'-----BEGIN CERTIFICATE-----\\nMIIDijCCAnKgAwIBAgIUEk5EXmAXYhUY9laLXDMbqRjDSnwwDQYJKoZIhvcNAQEL\\nBQAwcjELMAkGA1UEBhMCVVMxETAPBgNVBAgMCENvbG9yYWRvMRUwEwYDVQQHDAxG\\nb3J0IENvbGxpbnMxIjAgBgNVBAoMGUNvbG9yYWRvIFN0YXRlIFVuaXZlcnNpdHkx\\nFTATBgNVBAMMDGZha2VzaXRlLmVkdTAeFw0yMzA0MDUyMTQ3MDZaFw0yMzA0MTUy\\nMTQ3MDZaMHIxCzAJBgNVBAYTAlVTMREwDwYDVQQIDAhDb2xvcmFkbzEVMBMGA1UE\\nBwwMRm9ydCBDb2xsaW5zMSIwIAYDVQQKDBlDb2xvcmFkbyBTdGF0ZSBVbml2ZXJz\\naXR5MRUwEwYDVQQDDAxmYWtlc2l0ZS5lZHUwggEiMA0GCSqGSIb3DQEBAQUAA4IB\\nDwAwggEKAoIBAQC1veT2k8xjKzqJxslQk94mOaPrpcCsE7T71Zaz79TgyMoGhC9J\\nw5UQ/4uOlZc12G7PvY2y0jmgnVhmhg8mo/IxTN/b0CuJRDM5sARG045qWQd1qwXb\\nctv/tVSG2d4bSpcx47syyHhTUBo8fcZt1dC1c69VGzmksKlwciINcHkLqD07rikR\\nmt0RLXHgCiOTRN8Eu421Y4DN3Pd7Q+AzNFS8cfR6f/9A1f+J31knQ5UMEYyKW30j\\niDto200QxswWvZB/lIU7+856gFyj7ygaCeNr7Om+yCXNz+QzqsEtfsIo2AHBEmd5\\nfrH0PXru43+zEkDLp5D6YfSNxrnFCHiX0pV7AgMBAAGjGDAWMBQGA1UdEQQNMAuC\\nCWxvY2FsaG9zdDANBgkqhkiG9w0BAQsFAAOCAQEAc+KvuTzDaV/hd0sWy4XmplcG\\ncKueI/y2kgNxwP+UDNq3VcaPWvUSYwFfDl+YiNw+1ErgsBmKXmSdCXNekN4lzAKi\\n4Li7bD3bQi3D7UZl7UTpA5NrhE/gqs/+/aDl7vTrsBXRC61nJ5BGESS+godPOdxD\\niL8QxTjC1eZv2RWRUGcxZ/qUIny3TB2p19vVcr6iA6doQH6g1dQrdWA2ddsD/6N8\\neY8lboz2gFWaT1gNX2RBkAbzcjZRbpU5Ymrmvpiv/23qyI6wD8XeAC7ScCV3My6T\\nyxtE3HNz2GXjgOxeAvd8ohypBv7JDJNPLxv73N4T5eTnCrW29MhLh5hlRuO8BA==\\n-----END CERTIFICATE-----\\n'\n"
     ]
    }
   ],
   "source": [
    "from cryptography.hazmat.primitives import serialization\n",
    "signedCert_PEM = signedCert.public_bytes(serialization.Encoding.PEM)\n",
    "print(signedCert_PEM)"
   ]
  },
  {
   "cell_type": "markdown",
   "metadata": {},
   "source": [
    "### Pretend the public key & certificate were transmitted..."
   ]
  },
  {
   "cell_type": "code",
   "execution_count": 8,
   "metadata": {},
   "outputs": [],
   "source": [
    "# Instead of sending it, we;ll just save it to disk\n",
    "with open('cert.pem','wb') as f:\n",
    "    f.write(signedCert_PEM)"
   ]
  },
  {
   "cell_type": "markdown",
   "metadata": {},
   "source": [
    "### Pretend the client receives the certificate..."
   ]
  },
  {
   "cell_type": "code",
   "execution_count": 9,
   "metadata": {},
   "outputs": [
    {
     "name": "stdout",
     "output_type": "stream",
     "text": [
      "b'-----BEGIN CERTIFICATE-----\\nMIIDijCCAnKgAwIBAgIUEk5EXmAXYhUY9laLXDMbqRjDSnwwDQYJKoZIhvcNAQEL\\nBQAwcjELMAkGA1UEBhMCVVMxETAPBgNVBAgMCENvbG9yYWRvMRUwEwYDVQQHDAxG\\nb3J0IENvbGxpbnMxIjAgBgNVBAoMGUNvbG9yYWRvIFN0YXRlIFVuaXZlcnNpdHkx\\nFTATBgNVBAMMDGZha2VzaXRlLmVkdTAeFw0yMzA0MDUyMTQ3MDZaFw0yMzA0MTUy\\nMTQ3MDZaMHIxCzAJBgNVBAYTAlVTMREwDwYDVQQIDAhDb2xvcmFkbzEVMBMGA1UE\\nBwwMRm9ydCBDb2xsaW5zMSIwIAYDVQQKDBlDb2xvcmFkbyBTdGF0ZSBVbml2ZXJz\\naXR5MRUwEwYDVQQDDAxmYWtlc2l0ZS5lZHUwggEiMA0GCSqGSIb3DQEBAQUAA4IB\\nDwAwggEKAoIBAQC1veT2k8xjKzqJxslQk94mOaPrpcCsE7T71Zaz79TgyMoGhC9J\\nw5UQ/4uOlZc12G7PvY2y0jmgnVhmhg8mo/IxTN/b0CuJRDM5sARG045qWQd1qwXb\\nctv/tVSG2d4bSpcx47syyHhTUBo8fcZt1dC1c69VGzmksKlwciINcHkLqD07rikR\\nmt0RLXHgCiOTRN8Eu421Y4DN3Pd7Q+AzNFS8cfR6f/9A1f+J31knQ5UMEYyKW30j\\niDto200QxswWvZB/lIU7+856gFyj7ygaCeNr7Om+yCXNz+QzqsEtfsIo2AHBEmd5\\nfrH0PXru43+zEkDLp5D6YfSNxrnFCHiX0pV7AgMBAAGjGDAWMBQGA1UdEQQNMAuC\\nCWxvY2FsaG9zdDANBgkqhkiG9w0BAQsFAAOCAQEAc+KvuTzDaV/hd0sWy4XmplcG\\ncKueI/y2kgNxwP+UDNq3VcaPWvUSYwFfDl+YiNw+1ErgsBmKXmSdCXNekN4lzAKi\\n4Li7bD3bQi3D7UZl7UTpA5NrhE/gqs/+/aDl7vTrsBXRC61nJ5BGESS+godPOdxD\\niL8QxTjC1eZv2RWRUGcxZ/qUIny3TB2p19vVcr6iA6doQH6g1dQrdWA2ddsD/6N8\\neY8lboz2gFWaT1gNX2RBkAbzcjZRbpU5Ymrmvpiv/23qyI6wD8XeAC7ScCV3My6T\\nyxtE3HNz2GXjgOxeAvd8ohypBv7JDJNPLxv73N4T5eTnCrW29MhLh5hlRuO8BA==\\n-----END CERTIFICATE-----\\n'\n"
     ]
    }
   ],
   "source": [
    "# Instead of receiveing it, we;ll just open it from disk\n",
    "with open('cert.pem','rb') as f:\n",
    "    received_pem = f.read()\n",
    "print(received_pem)"
   ]
  },
  {
   "cell_type": "code",
   "execution_count": 10,
   "metadata": {},
   "outputs": [
    {
     "data": {
      "text/plain": [
       "<Certificate(subject=<Name(C=US,ST=Colorado,L=Fort Collins,O=Colorado State University,CN=fakesite.edu)>, ...)>"
      ]
     },
     "execution_count": 10,
     "metadata": {},
     "output_type": "execute_result"
    }
   ],
   "source": [
    "# Let's load the PEM file into a certificate object\n",
    "received_cert = x509.load_pem_x509_certificate(received_pem)\n",
    "received_cert"
   ]
  },
  {
   "cell_type": "code",
   "execution_count": 11,
   "metadata": {},
   "outputs": [
    {
     "data": {
      "text/plain": [
       "b'-----BEGIN CERTIFICATE-----\\nMIIDijCCAnKgAwIBAgIUEk5EXmAXYhUY9laLXDMbqRjDSnwwDQYJKoZIhvcNAQEL\\nBQAwcjELMAkGA1UEBhMCVVMxETAPBgNVBAgMCENvbG9yYWRvMRUwEwYDVQQHDAxG\\nb3J0IENvbGxpbnMxIjAgBgNVBAoMGUNvbG9yYWRvIFN0YXRlIFVuaXZlcnNpdHkx\\nFTATBgNVBAMMDGZha2VzaXRlLmVkdTAeFw0yMzA0MDUyMTQ3MDZaFw0yMzA0MTUy\\nMTQ3MDZaMHIxCzAJBgNVBAYTAlVTMREwDwYDVQQIDAhDb2xvcmFkbzEVMBMGA1UE\\nBwwMRm9ydCBDb2xsaW5zMSIwIAYDVQQKDBlDb2xvcmFkbyBTdGF0ZSBVbml2ZXJz\\naXR5MRUwEwYDVQQDDAxmYWtlc2l0ZS5lZHUwggEiMA0GCSqGSIb3DQEBAQUAA4IB\\nDwAwggEKAoIBAQC1veT2k8xjKzqJxslQk94mOaPrpcCsE7T71Zaz79TgyMoGhC9J\\nw5UQ/4uOlZc12G7PvY2y0jmgnVhmhg8mo/IxTN/b0CuJRDM5sARG045qWQd1qwXb\\nctv/tVSG2d4bSpcx47syyHhTUBo8fcZt1dC1c69VGzmksKlwciINcHkLqD07rikR\\nmt0RLXHgCiOTRN8Eu421Y4DN3Pd7Q+AzNFS8cfR6f/9A1f+J31knQ5UMEYyKW30j\\niDto200QxswWvZB/lIU7+856gFyj7ygaCeNr7Om+yCXNz+QzqsEtfsIo2AHBEmd5\\nfrH0PXru43+zEkDLp5D6YfSNxrnFCHiX0pV7AgMBAAGjGDAWMBQGA1UdEQQNMAuC\\nCWxvY2FsaG9zdDANBgkqhkiG9w0BAQsFAAOCAQEAc+KvuTzDaV/hd0sWy4XmplcG\\ncKueI/y2kgNxwP+UDNq3VcaPWvUSYwFfDl+YiNw+1ErgsBmKXmSdCXNekN4lzAKi\\n4Li7bD3bQi3D7UZl7UTpA5NrhE/gqs/+/aDl7vTrsBXRC61nJ5BGESS+godPOdxD\\niL8QxTjC1eZv2RWRUGcxZ/qUIny3TB2p19vVcr6iA6doQH6g1dQrdWA2ddsD/6N8\\neY8lboz2gFWaT1gNX2RBkAbzcjZRbpU5Ymrmvpiv/23qyI6wD8XeAC7ScCV3My6T\\nyxtE3HNz2GXjgOxeAvd8ohypBv7JDJNPLxv73N4T5eTnCrW29MhLh5hlRuO8BA==\\n-----END CERTIFICATE-----\\n'"
      ]
     },
     "execution_count": 11,
     "metadata": {},
     "output_type": "execute_result"
    }
   ],
   "source": [
    "#This should match what we just loaded.\n",
    "received_cert.public_bytes(serialization.Encoding.PEM)"
   ]
  },
  {
   "cell_type": "code",
   "execution_count": 12,
   "metadata": {},
   "outputs": [
    {
     "data": {
      "text/plain": [
       "<Version.v3: 2>"
      ]
     },
     "execution_count": 12,
     "metadata": {},
     "output_type": "execute_result"
    }
   ],
   "source": [
    "# So, what does the PEM say?\n",
    "received_cert.version"
   ]
  },
  {
   "cell_type": "code",
   "execution_count": 13,
   "metadata": {},
   "outputs": [
    {
     "data": {
      "text/plain": [
       "b'>\\xc1\\xbb:\\x98\\xef\\xaa\\xf4:]\\x00h\\x14\\x87s\\\\\\xb8\\x88*\\xffK\\xd2q\\x04&\\x9f}X\\xf6\\xbaU\\xfa'"
      ]
     },
     "execution_count": 13,
     "metadata": {},
     "output_type": "execute_result"
    }
   ],
   "source": [
    "received_cert.fingerprint(hashes.SHA256())"
   ]
  },
  {
   "cell_type": "code",
   "execution_count": 14,
   "metadata": {},
   "outputs": [
    {
     "data": {
      "text/plain": [
       "104507247750027650076980151987079926071664265852"
      ]
     },
     "execution_count": 14,
     "metadata": {},
     "output_type": "execute_result"
    }
   ],
   "source": [
    "received_cert.serial_number"
   ]
  },
  {
   "cell_type": "code",
   "execution_count": 15,
   "metadata": {},
   "outputs": [
    {
     "data": {
      "text/plain": [
       "<cryptography.hazmat.backends.openssl.rsa._RSAPublicKey at 0x1aece88e580>"
      ]
     },
     "execution_count": 15,
     "metadata": {},
     "output_type": "execute_result"
    }
   ],
   "source": [
    "cert_pub_key = received_cert.public_key()\n",
    "cert_pub_key"
   ]
  },
  {
   "cell_type": "code",
   "execution_count": 16,
   "metadata": {},
   "outputs": [
    {
     "data": {
      "text/plain": [
       "datetime.datetime(2023, 4, 5, 21, 47, 6)"
      ]
     },
     "execution_count": 16,
     "metadata": {},
     "output_type": "execute_result"
    }
   ],
   "source": [
    "received_cert.not_valid_before"
   ]
  },
  {
   "cell_type": "code",
   "execution_count": 17,
   "metadata": {},
   "outputs": [
    {
     "data": {
      "text/plain": [
       "datetime.datetime(2023, 4, 15, 21, 47, 6)"
      ]
     },
     "execution_count": 17,
     "metadata": {},
     "output_type": "execute_result"
    }
   ],
   "source": [
    "received_cert.not_valid_after"
   ]
  },
  {
   "cell_type": "code",
   "execution_count": 18,
   "metadata": {},
   "outputs": [
    {
     "data": {
      "text/plain": [
       "<Name(C=US,ST=Colorado,L=Fort Collins,O=Colorado State University,CN=fakesite.edu)>"
      ]
     },
     "execution_count": 18,
     "metadata": {},
     "output_type": "execute_result"
    }
   ],
   "source": [
    "received_cert.issuer"
   ]
  },
  {
   "cell_type": "code",
   "execution_count": 19,
   "metadata": {},
   "outputs": [
    {
     "data": {
      "text/plain": [
       "<Name(C=US,ST=Colorado,L=Fort Collins,O=Colorado State University,CN=fakesite.edu)>"
      ]
     },
     "execution_count": 19,
     "metadata": {},
     "output_type": "execute_result"
    }
   ],
   "source": [
    "received_cert.subject"
   ]
  },
  {
   "cell_type": "code",
   "execution_count": 20,
   "metadata": {},
   "outputs": [
    {
     "data": {
      "text/plain": [
       "<cryptography.hazmat.primitives.hashes.SHA256 at 0x1aece69cd90>"
      ]
     },
     "execution_count": 20,
     "metadata": {},
     "output_type": "execute_result"
    }
   ],
   "source": [
    "received_cert.signature_hash_algorithm"
   ]
  },
  {
   "cell_type": "code",
   "execution_count": 21,
   "metadata": {},
   "outputs": [
    {
     "data": {
      "text/plain": [
       "<ObjectIdentifier(oid=1.2.840.113549.1.1.11, name=sha256WithRSAEncryption)>"
      ]
     },
     "execution_count": 21,
     "metadata": {},
     "output_type": "execute_result"
    }
   ],
   "source": [
    "received_cert.signature_algorithm_oid"
   ]
  },
  {
   "cell_type": "code",
   "execution_count": 22,
   "metadata": {},
   "outputs": [
    {
     "data": {
      "text/plain": [
       "b's\\xe2\\xaf\\xb9<\\xc3i_\\xe1wK\\x16\\xcb\\x85\\xe6\\xa6W\\x06p\\xab\\x9e#\\xfc\\xb6\\x92\\x03q\\xc0\\xff\\x94\\x0c\\xda\\xb7U\\xc6\\x8fZ\\xf5\\x12c\\x01_\\x0e_\\x98\\x88\\xdc>\\xd4J\\xe0\\xb0\\x19\\x8a^d\\x9d\\ts^\\x90\\xde%\\xcc\\x02\\xa2\\xe0\\xb8\\xbbl=\\xdbB-\\xc3\\xedFe\\xedD\\xe9\\x03\\x93k\\x84O\\xe0\\xaa\\xcf\\xfe\\xfd\\xa0\\xe5\\xee\\xf4\\xeb\\xb0\\x15\\xd1\\x0b\\xadg\\'\\x90F\\x11$\\xbe\\x82\\x87O9\\xdcC\\x88\\xbf\\x10\\xc58\\xc2\\xd5\\xe6o\\xd9\\x15\\x91Pg1g\\xfa\\x94\"|\\xb7L\\x1d\\xa9\\xd7\\xdb\\xd5r\\xbe\\xa2\\x03\\xa7h@~\\xa0\\xd5\\xd4+u`6u\\xdb\\x03\\xff\\xa3|y\\x8f%n\\x8c\\xf6\\x80U\\x9aOX\\r_dA\\x90\\x06\\xf3r6Qn\\x959bj\\xe6\\xbe\\x98\\xaf\\xffm\\xea\\xc8\\x8e\\xb0\\x0f\\xc5\\xde\\x00.\\xd2p%w3.\\x93\\xcb\\x1bD\\xdcss\\xd8e\\xe3\\x80\\xec^\\x02\\xf7|\\xa2\\x1c\\xa9\\x06\\xfe\\xc9\\x0c\\x93O/\\x1b\\xfb\\xdc\\xde\\x13\\xe5\\xe4\\xe7\\n\\xb5\\xb6\\xf4\\xc8K\\x87\\x98eF\\xe3\\xbc\\x04'"
      ]
     },
     "execution_count": 22,
     "metadata": {},
     "output_type": "execute_result"
    }
   ],
   "source": [
    "received_cert.signature"
   ]
  },
  {
   "cell_type": "code",
   "execution_count": 23,
   "metadata": {},
   "outputs": [
    {
     "name": "stdout",
     "output_type": "stream",
     "text": [
      "<Extension(oid=<ObjectIdentifier(oid=2.5.29.17, name=subjectAltName)>, critical=False, value=<SubjectAlternativeName(<GeneralNames([<DNSName(value='localhost')>])>)>)>\n"
     ]
    }
   ],
   "source": [
    "for ext in received_cert.extensions:\n",
    "    print(ext)"
   ]
  },
  {
   "cell_type": "code",
   "execution_count": 24,
   "metadata": {},
   "outputs": [
    {
     "data": {
      "text/plain": [
       "b'0\\x82\\x02r\\xa0\\x03\\x02\\x01\\x02\\x02\\x14\\x12ND^`\\x17b\\x15\\x18\\xf6V\\x8b\\\\3\\x1b\\xa9\\x18\\xc3J|0\\r\\x06\\t*\\x86H\\x86\\xf7\\r\\x01\\x01\\x0b\\x05\\x000r1\\x0b0\\t\\x06\\x03U\\x04\\x06\\x13\\x02US1\\x110\\x0f\\x06\\x03U\\x04\\x08\\x0c\\x08Colorado1\\x150\\x13\\x06\\x03U\\x04\\x07\\x0c\\x0cFort Collins1\"0 \\x06\\x03U\\x04\\n\\x0c\\x19Colorado State University1\\x150\\x13\\x06\\x03U\\x04\\x03\\x0c\\x0cfakesite.edu0\\x1e\\x17\\r230405214706Z\\x17\\r230415214706Z0r1\\x0b0\\t\\x06\\x03U\\x04\\x06\\x13\\x02US1\\x110\\x0f\\x06\\x03U\\x04\\x08\\x0c\\x08Colorado1\\x150\\x13\\x06\\x03U\\x04\\x07\\x0c\\x0cFort Collins1\"0 \\x06\\x03U\\x04\\n\\x0c\\x19Colorado State University1\\x150\\x13\\x06\\x03U\\x04\\x03\\x0c\\x0cfakesite.edu0\\x82\\x01\"0\\r\\x06\\t*\\x86H\\x86\\xf7\\r\\x01\\x01\\x01\\x05\\x00\\x03\\x82\\x01\\x0f\\x000\\x82\\x01\\n\\x02\\x82\\x01\\x01\\x00\\xb5\\xbd\\xe4\\xf6\\x93\\xccc+:\\x89\\xc6\\xc9P\\x93\\xde&9\\xa3\\xeb\\xa5\\xc0\\xac\\x13\\xb4\\xfb\\xd5\\x96\\xb3\\xef\\xd4\\xe0\\xc8\\xca\\x06\\x84/I\\xc3\\x95\\x10\\xff\\x8b\\x8e\\x95\\x975\\xd8n\\xcf\\xbd\\x8d\\xb2\\xd29\\xa0\\x9dXf\\x86\\x0f&\\xa3\\xf21L\\xdf\\xdb\\xd0+\\x89D39\\xb0\\x04F\\xd3\\x8ejY\\x07u\\xab\\x05\\xdbr\\xdb\\xff\\xb5T\\x86\\xd9\\xde\\x1bJ\\x971\\xe3\\xbb2\\xc8xSP\\x1a<}\\xc6m\\xd5\\xd0\\xb5s\\xafU\\x1b9\\xa4\\xb0\\xa9pr\"\\rpy\\x0b\\xa8=;\\xae)\\x11\\x9a\\xdd\\x11-q\\xe0\\n#\\x93D\\xdf\\x04\\xbb\\x8d\\xb5c\\x80\\xcd\\xdc\\xf7{C\\xe034T\\xbcq\\xf4z\\x7f\\xff@\\xd5\\xff\\x89\\xdfY\\'C\\x95\\x0c\\x11\\x8c\\x8a[}#\\x88;h\\xdbM\\x10\\xc6\\xcc\\x16\\xbd\\x90\\x7f\\x94\\x85;\\xfb\\xcez\\x80\\\\\\xa3\\xef(\\x1a\\t\\xe3k\\xec\\xe9\\xbe\\xc8%\\xcd\\xcf\\xe43\\xaa\\xc1-~\\xc2(\\xd8\\x01\\xc1\\x12gy~\\xb1\\xf4=z\\xee\\xe3\\x7f\\xb3\\x12@\\xcb\\xa7\\x90\\xfaa\\xf4\\x8d\\xc6\\xb9\\xc5\\x08x\\x97\\xd2\\x95{\\x02\\x03\\x01\\x00\\x01\\xa3\\x180\\x160\\x14\\x06\\x03U\\x1d\\x11\\x04\\r0\\x0b\\x82\\tlocalhost'"
      ]
     },
     "execution_count": 24,
     "metadata": {},
     "output_type": "execute_result"
    }
   ],
   "source": [
    "#The DER encoded bytes payload (as defined by RFC 5280) that is hashed and then\n",
    "#signed by the private key of the certificate’s issuer.\n",
    "received_cert.tbs_certificate_bytes"
   ]
  },
  {
   "cell_type": "markdown",
   "metadata": {},
   "source": [
    "### And now the \"client\" verifies  that the certificate has not been altered."
   ]
  },
  {
   "cell_type": "code",
   "execution_count": 25,
   "metadata": {},
   "outputs": [
    {
     "name": "stdout",
     "output_type": "stream",
     "text": [
      "Valid signature\n"
     ]
    }
   ],
   "source": [
    "from cryptography.hazmat.primitives.asymmetric import padding\n",
    "cert_pub_key.verify(\n",
    "        received_cert.signature,\n",
    "        received_cert.tbs_certificate_bytes,\n",
    "        padding.PKCS1v15(),\n",
    "        received_cert.signature_hash_algorithm\n",
    "    )\n",
    "print(\"Valid signature\")"
   ]
  },
  {
   "cell_type": "code",
   "execution_count": 26,
   "metadata": {},
   "outputs": [
    {
     "name": "stdout",
     "output_type": "stream",
     "text": [
      "InvalidSignature()\n"
     ]
    }
   ],
   "source": [
    "#We get an exception if the certificate or signature are altered.\n",
    "from cryptography.exceptions import InvalidSignature\n",
    "try:\n",
    "    cert_pub_key.verify(\n",
    "        received_cert.signature,\n",
    "        b'1' + received_cert.tbs_certificate_bytes[1:], # change just the first byte to get manipulated data\n",
    "        padding.PKCS1v15(),\n",
    "        received_cert.signature_hash_algorithm\n",
    "    )\n",
    "    print(\"Valid signature\")\n",
    "except InvalidSignature as e:\n",
    "    print(repr(e))"
   ]
  },
  {
   "cell_type": "code",
   "execution_count": 27,
   "metadata": {},
   "outputs": [
    {
     "data": {
      "text/plain": [
       "True"
      ]
     },
     "execution_count": 27,
     "metadata": {},
     "output_type": "execute_result"
    }
   ],
   "source": [
    "datetime.utcnow() < received_cert.not_valid_after"
   ]
  },
  {
   "cell_type": "code",
   "execution_count": 28,
   "metadata": {},
   "outputs": [
    {
     "data": {
      "text/plain": [
       "True"
      ]
     },
     "execution_count": 28,
     "metadata": {},
     "output_type": "execute_result"
    }
   ],
   "source": [
    "datetime.utcnow() > received_cert.not_valid_before"
   ]
  },
  {
   "cell_type": "code",
   "execution_count": 29,
   "metadata": {},
   "outputs": [
    {
     "name": "stdout",
     "output_type": "stream",
     "text": [
      "The certificate has not expired\n"
     ]
    }
   ],
   "source": [
    "# Check expiration:\n",
    "if (datetime.utcnow() < received_cert.not_valid_after and\n",
    "    datetime.utcnow() > received_cert.not_valid_before):\n",
    "    print(\"The certificate has not expired\")\n",
    "else:\n",
    "    print(\"The certificate is outside the allowed times.\")"
   ]
  },
  {
   "cell_type": "markdown",
   "metadata": {},
   "source": [
    "## TLS Deep Dive"
   ]
  },
  {
   "cell_type": "code",
   "execution_count": 30,
   "metadata": {},
   "outputs": [],
   "source": [
    "import requests"
   ]
  },
  {
   "cell_type": "code",
   "execution_count": 31,
   "metadata": {},
   "outputs": [
    {
     "data": {
      "text/plain": [
       "<Response [200]>"
      ]
     },
     "execution_count": 31,
     "metadata": {},
     "output_type": "execute_result"
    }
   ],
   "source": [
    "r = requests.get('https://github.com')\n",
    "r"
   ]
  },
  {
   "cell_type": "markdown",
   "metadata": {},
   "source": [
    "https://github.com/certifi/python-certifi"
   ]
  },
  {
   "cell_type": "code",
   "execution_count": 32,
   "metadata": {},
   "outputs": [
    {
     "data": {
      "text/plain": [
       "'C:\\\\ProgramData\\\\Anaconda3\\\\lib\\\\site-packages\\\\certifi\\\\cacert.pem'"
      ]
     },
     "execution_count": 32,
     "metadata": {},
     "output_type": "execute_result"
    }
   ],
   "source": [
    "import certifi\n",
    "certifi.where()"
   ]
  },
  {
   "cell_type": "code",
   "execution_count": 33,
   "metadata": {},
   "outputs": [
    {
     "data": {
      "text/plain": [
       "b'\\n# Issuer: CN=GlobalSign Root CA O=GlobalSign nv-sa OU=Root CA\\n# Subject: CN=GlobalSign Root CA O=GlobalSign nv-sa OU=Root CA\\n# Label: \"GlobalSign Root CA\"\\n# Serial: 4835703278459707669005204\\n# MD5 Fingerprint: 3e:45:52:15:09:51:92:e1:b7:5d:37:9f:b1:87:29:8a\\n# SHA1 Fingerprint: b1:bc:96:8b:d4:f4:9d:62:2a:a8:9a:81:f2:15:01:52:a4:1d:82:9c\\n# SHA256 Fingerprint: eb:d4:10:40:e4:bb:3e:c7:42:c9:e3:81:d3:1e:f2:a4:1a:48:b6:68:5c:96:e7:ce:f3:c1:df:6c:d4:33:1c:99\\n-----BEGIN CERTIFICATE-----\\nMIIDdTCCAl2gAwIBAgILBAAAAAABFUtaw5QwDQYJKoZIhvcNAQEFBQAwVzELMAkG\\nA1UEBhMCQkUxGTAXBgNVBAoTEEdsb2JhbFNpZ24gbnYtc2ExEDAOBgNVBAsTB1Jv\\nb3QgQ0ExGzAZBgNVBAMTEkdsb2JhbFNpZ24gUm9vdCBDQTAeFw05ODA5MDExMjAw\\nMDBaFw0yODAxMjgxMjAwMDBaMFcxCzAJBgNVBAYTAkJFMRkwFwYDVQQKExBHbG9i\\nYWxTaWduIG52LXNhMRAwDgYDVQQLEwdSb290IENBMRswGQYDVQQDExJHbG9iYWxT\\naWduIFJvb3QgQ0EwggEiMA0GCSqGSIb3DQEBAQUAA4IBDwAwggEKAoIBAQDaDuaZ\\njc6j40+Kfvvxi4Mla+pIH/EqsLmVEQS98GPR4mdmzxzdzxtIK+6NiY6arymAZavp\\nxy0Sy6scTHAHoT0KMM0VjU/43dSMUBUc71DuxC73/OlS8pF94G3VNTCOXkNz'"
      ]
     },
     "execution_count": 33,
     "metadata": {},
     "output_type": "execute_result"
    }
   ],
   "source": [
    "with open(certifi.where(),'rb') as f:\n",
    "    root_CAs = f.read()\n",
    "root_CAs [:1000]"
   ]
  },
  {
   "cell_type": "code",
   "execution_count": 34,
   "metadata": {},
   "outputs": [
    {
     "data": {
      "text/plain": [
       "282394"
      ]
     },
     "execution_count": 34,
     "metadata": {},
     "output_type": "execute_result"
    }
   ],
   "source": [
    "len(root_CAs)"
   ]
  },
  {
   "cell_type": "code",
   "execution_count": null,
   "metadata": {},
   "outputs": [],
   "source": []
  },
  {
   "cell_type": "code",
   "execution_count": 35,
   "metadata": {},
   "outputs": [
    {
     "name": "stderr",
     "output_type": "stream",
     "text": [
      "C:\\Users\\jdaily\\AppData\\Roaming\\Python\\Python38\\site-packages\\cryptography\\x509\\base.py:576: CryptographyDeprecationWarning: Parsed a negative serial number, which is disallowed by RFC 5280.\n",
      "  return rust_x509.load_pem_x509_certificates(data)\n"
     ]
    },
    {
     "data": {
      "text/plain": [
       "[<Certificate(subject=<Name(C=BE,O=GlobalSign nv-sa,OU=Root CA,CN=GlobalSign Root CA)>, ...)>,\n",
       " <Certificate(subject=<Name(OU=GlobalSign Root CA - R2,O=GlobalSign,CN=GlobalSign)>, ...)>,\n",
       " <Certificate(subject=<Name(O=Entrust.net,OU=www.entrust.net/CPS_2048 incorp. by ref. (limits liab.),OU=(c) 1999 Entrust.net Limited,CN=Entrust.net Certification Authority (2048))>, ...)>,\n",
       " <Certificate(subject=<Name(C=IE,O=Baltimore,OU=CyberTrust,CN=Baltimore CyberTrust Root)>, ...)>,\n",
       " <Certificate(subject=<Name(C=US,O=Entrust\\, Inc.,OU=www.entrust.net/CPS is incorporated by reference,OU=(c) 2006 Entrust\\, Inc.,CN=Entrust Root Certification Authority)>, ...)>,\n",
       " <Certificate(subject=<Name(C=US,O=GeoTrust Inc.,CN=GeoTrust Global CA)>, ...)>,\n",
       " <Certificate(subject=<Name(C=US,O=GeoTrust Inc.,CN=GeoTrust Universal CA)>, ...)>,\n",
       " <Certificate(subject=<Name(C=US,O=GeoTrust Inc.,CN=GeoTrust Universal CA 2)>, ...)>,\n",
       " <Certificate(subject=<Name(C=GB,ST=Greater Manchester,L=Salford,O=Comodo CA Limited,CN=AAA Certificate Services)>, ...)>,\n",
       " <Certificate(subject=<Name(C=BM,O=QuoVadis Limited,OU=Root Certification Authority,CN=QuoVadis Root Certification Authority)>, ...)>,\n",
       " <Certificate(subject=<Name(C=BM,O=QuoVadis Limited,CN=QuoVadis Root CA 2)>, ...)>,\n",
       " <Certificate(subject=<Name(C=BM,O=QuoVadis Limited,CN=QuoVadis Root CA 3)>, ...)>,\n",
       " <Certificate(subject=<Name(C=JP,O=SECOM Trust.net,OU=Security Communication RootCA1)>, ...)>,\n",
       " <Certificate(subject=<Name(C=FI,O=Sonera,CN=Sonera Class2 CA)>, ...)>,\n",
       " <Certificate(subject=<Name(C=US,OU=www.xrampsecurity.com,O=XRamp Security Services Inc,CN=XRamp Global Certification Authority)>, ...)>,\n",
       " <Certificate(subject=<Name(C=US,O=The Go Daddy Group\\, Inc.,OU=Go Daddy Class 2 Certification Authority)>, ...)>,\n",
       " <Certificate(subject=<Name(C=US,O=Starfield Technologies\\, Inc.,OU=Starfield Class 2 Certification Authority)>, ...)>,\n",
       " <Certificate(subject=<Name(C=TW,O=Government Root Certification Authority)>, ...)>,\n",
       " <Certificate(subject=<Name(C=US,O=DigiCert Inc,OU=www.digicert.com,CN=DigiCert Assured ID Root CA)>, ...)>,\n",
       " <Certificate(subject=<Name(C=US,O=DigiCert Inc,OU=www.digicert.com,CN=DigiCert Global Root CA)>, ...)>,\n",
       " <Certificate(subject=<Name(C=US,O=DigiCert Inc,OU=www.digicert.com,CN=DigiCert High Assurance EV Root CA)>, ...)>,\n",
       " <Certificate(subject=<Name(O=Digital Signature Trust Co.,CN=DST Root CA X3)>, ...)>,\n",
       " <Certificate(subject=<Name(C=CH,O=SwissSign AG,CN=SwissSign Gold CA - G2)>, ...)>,\n",
       " <Certificate(subject=<Name(C=CH,O=SwissSign AG,CN=SwissSign Silver CA - G2)>, ...)>,\n",
       " <Certificate(subject=<Name(C=US,O=GeoTrust Inc.,CN=GeoTrust Primary Certification Authority)>, ...)>,\n",
       " <Certificate(subject=<Name(C=US,O=thawte\\, Inc.,OU=Certification Services Division,OU=(c) 2006 thawte\\, Inc. - For authorized use only,CN=thawte Primary Root CA)>, ...)>,\n",
       " <Certificate(subject=<Name(C=US,O=VeriSign\\, Inc.,OU=VeriSign Trust Network,OU=(c) 2006 VeriSign\\, Inc. - For authorized use only,CN=VeriSign Class 3 Public Primary Certification Authority - G5)>, ...)>,\n",
       " <Certificate(subject=<Name(C=US,O=SecureTrust Corporation,CN=SecureTrust CA)>, ...)>,\n",
       " <Certificate(subject=<Name(C=US,O=SecureTrust Corporation,CN=Secure Global CA)>, ...)>,\n",
       " <Certificate(subject=<Name(C=GB,ST=Greater Manchester,L=Salford,O=COMODO CA Limited,CN=COMODO Certification Authority)>, ...)>,\n",
       " <Certificate(subject=<Name(C=US,O=Network Solutions L.L.C.,CN=Network Solutions Certificate Authority)>, ...)>,\n",
       " <Certificate(subject=<Name(C=GB,ST=Greater Manchester,L=Salford,O=COMODO CA Limited,CN=COMODO ECC Certification Authority)>, ...)>,\n",
       " <Certificate(subject=<Name(C=CH,O=WISeKey,OU=Copyright (c) 2005,OU=OISTE Foundation Endorsed,CN=OISTE WISeKey Global Root GA CA)>, ...)>,\n",
       " <Certificate(subject=<Name(C=FR,O=Dhimyotis,CN=Certigna)>, ...)>,\n",
       " <Certificate(subject=<Name(O=Cybertrust\\, Inc,CN=Cybertrust Global Root)>, ...)>,\n",
       " <Certificate(subject=<Name(C=TW,O=Chunghwa Telecom Co.\\, Ltd.,OU=ePKI Root Certification Authority)>, ...)>,\n",
       " <Certificate(subject=<Name(C=RO,O=certSIGN,OU=certSIGN ROOT CA)>, ...)>,\n",
       " <Certificate(subject=<Name(C=US,O=GeoTrust Inc.,OU=(c) 2008 GeoTrust Inc. - For authorized use only,CN=GeoTrust Primary Certification Authority - G3)>, ...)>,\n",
       " <Certificate(subject=<Name(C=US,O=thawte\\, Inc.,OU=(c) 2007 thawte\\, Inc. - For authorized use only,CN=thawte Primary Root CA - G2)>, ...)>,\n",
       " <Certificate(subject=<Name(C=US,O=thawte\\, Inc.,OU=Certification Services Division,OU=(c) 2008 thawte\\, Inc. - For authorized use only,CN=thawte Primary Root CA - G3)>, ...)>,\n",
       " <Certificate(subject=<Name(C=US,O=GeoTrust Inc.,OU=(c) 2007 GeoTrust Inc. - For authorized use only,CN=GeoTrust Primary Certification Authority - G2)>, ...)>,\n",
       " <Certificate(subject=<Name(C=US,O=VeriSign\\, Inc.,OU=VeriSign Trust Network,OU=(c) 2008 VeriSign\\, Inc. - For authorized use only,CN=VeriSign Universal Root Certification Authority)>, ...)>,\n",
       " <Certificate(subject=<Name(C=US,O=VeriSign\\, Inc.,OU=VeriSign Trust Network,OU=(c) 2007 VeriSign\\, Inc. - For authorized use only,CN=VeriSign Class 3 Public Primary Certification Authority - G4)>, ...)>,\n",
       " <Certificate(subject=<Name(C=HU,L=Budapest,O=NetLock Kft.,OU=Tanúsítványkiadók (Certification Services),CN=NetLock Arany (Class Gold) Főtanúsítvány)>, ...)>,\n",
       " <Certificate(subject=<Name(C=HK,O=Hongkong Post,CN=Hongkong Post Root CA 1)>, ...)>,\n",
       " <Certificate(subject=<Name(C=JP,O=Japan Certification Services\\, Inc.,CN=SecureSign RootCA11)>, ...)>,\n",
       " <Certificate(subject=<Name(C=HU,L=Budapest,O=Microsec Ltd.,CN=Microsec e-Szigno Root CA 2009,1.2.840.113549.1.9.1=info@e-szigno.hu)>, ...)>,\n",
       " <Certificate(subject=<Name(OU=GlobalSign Root CA - R3,O=GlobalSign,CN=GlobalSign)>, ...)>,\n",
       " <Certificate(subject=<Name(C=ES,CN=Autoridad de Certificacion Firmaprofesional CIF A62634068)>, ...)>,\n",
       " <Certificate(subject=<Name(C=ES,O=IZENPE S.A.,CN=Izenpe.com)>, ...)>,\n",
       " <Certificate(subject=<Name(C=EU,L=Madrid (see current address at www.camerfirma.com/address),2.5.4.5=A82743287,O=AC Camerfirma S.A.,CN=Chambers of Commerce Root - 2008)>, ...)>,\n",
       " <Certificate(subject=<Name(C=EU,L=Madrid (see current address at www.camerfirma.com/address),2.5.4.5=A82743287,O=AC Camerfirma S.A.,CN=Global Chambersign Root - 2008)>, ...)>,\n",
       " <Certificate(subject=<Name(C=US,ST=Arizona,L=Scottsdale,O=GoDaddy.com\\, Inc.,CN=Go Daddy Root Certificate Authority - G2)>, ...)>,\n",
       " <Certificate(subject=<Name(C=US,ST=Arizona,L=Scottsdale,O=Starfield Technologies\\, Inc.,CN=Starfield Root Certificate Authority - G2)>, ...)>,\n",
       " <Certificate(subject=<Name(C=US,ST=Arizona,L=Scottsdale,O=Starfield Technologies\\, Inc.,CN=Starfield Services Root Certificate Authority - G2)>, ...)>,\n",
       " <Certificate(subject=<Name(C=US,O=AffirmTrust,CN=AffirmTrust Commercial)>, ...)>,\n",
       " <Certificate(subject=<Name(C=US,O=AffirmTrust,CN=AffirmTrust Networking)>, ...)>,\n",
       " <Certificate(subject=<Name(C=US,O=AffirmTrust,CN=AffirmTrust Premium)>, ...)>,\n",
       " <Certificate(subject=<Name(C=US,O=AffirmTrust,CN=AffirmTrust Premium ECC)>, ...)>,\n",
       " <Certificate(subject=<Name(C=PL,O=Unizeto Technologies S.A.,OU=Certum Certification Authority,CN=Certum Trusted Network CA)>, ...)>,\n",
       " <Certificate(subject=<Name(C=TW,O=TAIWAN-CA,OU=Root CA,CN=TWCA Root Certification Authority)>, ...)>,\n",
       " <Certificate(subject=<Name(C=JP,O=SECOM Trust Systems CO.\\,LTD.,OU=Security Communication RootCA2)>, ...)>,\n",
       " <Certificate(subject=<Name(C=ES,O=Agencia Catalana de Certificacio (NIF Q-0801176-I),OU=Serveis Publics de Certificacio,OU=Vegeu https://www.catcert.net/verarrel (c)03,OU=Jerarquia Entitats de Certificacio Catalanes,CN=EC-ACC)>, ...)>,\n",
       " <Certificate(subject=<Name(C=GR,O=Hellenic Academic and Research Institutions Cert. Authority,CN=Hellenic Academic and Research Institutions RootCA 2011)>, ...)>,\n",
       " <Certificate(subject=<Name(C=IT,L=Milan,O=Actalis S.p.A./03358520967,CN=Actalis Authentication Root CA)>, ...)>,\n",
       " <Certificate(subject=<Name(C=GB,O=Trustis Limited,OU=Trustis FPS Root CA)>, ...)>,\n",
       " <Certificate(subject=<Name(C=NO,O=Buypass AS-983163327,CN=Buypass Class 2 Root CA)>, ...)>,\n",
       " <Certificate(subject=<Name(C=NO,O=Buypass AS-983163327,CN=Buypass Class 3 Root CA)>, ...)>,\n",
       " <Certificate(subject=<Name(C=DE,O=T-Systems Enterprise Services GmbH,OU=T-Systems Trust Center,CN=T-TeleSec GlobalRoot Class 3)>, ...)>,\n",
       " <Certificate(subject=<Name(C=EE,O=AS Sertifitseerimiskeskus,CN=EE Certification Centre Root CA,1.2.840.113549.1.9.1=pki@sk.ee)>, ...)>,\n",
       " <Certificate(subject=<Name(C=DE,O=D-Trust GmbH,CN=D-TRUST Root Class 3 CA 2 2009)>, ...)>,\n",
       " <Certificate(subject=<Name(C=DE,O=D-Trust GmbH,CN=D-TRUST Root Class 3 CA 2 EV 2009)>, ...)>,\n",
       " <Certificate(subject=<Name(C=SK,L=Bratislava,O=Disig a.s.,CN=CA Disig Root R2)>, ...)>,\n",
       " <Certificate(subject=<Name(CN=ACCVRAIZ1,OU=PKIACCV,O=ACCV,C=ES)>, ...)>,\n",
       " <Certificate(subject=<Name(C=TW,O=TAIWAN-CA,OU=Root CA,CN=TWCA Global Root CA)>, ...)>,\n",
       " <Certificate(subject=<Name(O=TeliaSonera,CN=TeliaSonera Root CA v1)>, ...)>,\n",
       " <Certificate(subject=<Name(C=TR,L=Ankara,O=E-Tuğra EBG Bilişim Teknolojileri ve Hizmetleri A.Ş.,OU=E-Tugra Sertifikasyon Merkezi,CN=E-Tugra Certification Authority)>, ...)>,\n",
       " <Certificate(subject=<Name(C=DE,O=T-Systems Enterprise Services GmbH,OU=T-Systems Trust Center,CN=T-TeleSec GlobalRoot Class 2)>, ...)>,\n",
       " <Certificate(subject=<Name(CN=Atos TrustedRoot 2011,O=Atos,C=DE)>, ...)>,\n",
       " <Certificate(subject=<Name(C=BM,O=QuoVadis Limited,CN=QuoVadis Root CA 1 G3)>, ...)>,\n",
       " <Certificate(subject=<Name(C=BM,O=QuoVadis Limited,CN=QuoVadis Root CA 2 G3)>, ...)>,\n",
       " <Certificate(subject=<Name(C=BM,O=QuoVadis Limited,CN=QuoVadis Root CA 3 G3)>, ...)>,\n",
       " <Certificate(subject=<Name(C=US,O=DigiCert Inc,OU=www.digicert.com,CN=DigiCert Assured ID Root G2)>, ...)>,\n",
       " <Certificate(subject=<Name(C=US,O=DigiCert Inc,OU=www.digicert.com,CN=DigiCert Assured ID Root G3)>, ...)>,\n",
       " <Certificate(subject=<Name(C=US,O=DigiCert Inc,OU=www.digicert.com,CN=DigiCert Global Root G2)>, ...)>,\n",
       " <Certificate(subject=<Name(C=US,O=DigiCert Inc,OU=www.digicert.com,CN=DigiCert Global Root G3)>, ...)>,\n",
       " <Certificate(subject=<Name(C=US,O=DigiCert Inc,OU=www.digicert.com,CN=DigiCert Trusted Root G4)>, ...)>,\n",
       " <Certificate(subject=<Name(C=GB,ST=Greater Manchester,L=Salford,O=COMODO CA Limited,CN=COMODO RSA Certification Authority)>, ...)>,\n",
       " <Certificate(subject=<Name(C=US,ST=New Jersey,L=Jersey City,O=The USERTRUST Network,CN=USERTrust RSA Certification Authority)>, ...)>,\n",
       " <Certificate(subject=<Name(C=US,ST=New Jersey,L=Jersey City,O=The USERTRUST Network,CN=USERTrust ECC Certification Authority)>, ...)>,\n",
       " <Certificate(subject=<Name(OU=GlobalSign ECC Root CA - R4,O=GlobalSign,CN=GlobalSign)>, ...)>,\n",
       " <Certificate(subject=<Name(OU=GlobalSign ECC Root CA - R5,O=GlobalSign,CN=GlobalSign)>, ...)>,\n",
       " <Certificate(subject=<Name(C=NL,O=Staat der Nederlanden,CN=Staat der Nederlanden Root CA - G3)>, ...)>,\n",
       " <Certificate(subject=<Name(C=NL,O=Staat der Nederlanden,CN=Staat der Nederlanden EV Root CA)>, ...)>,\n",
       " <Certificate(subject=<Name(C=US,O=IdenTrust,CN=IdenTrust Commercial Root CA 1)>, ...)>,\n",
       " <Certificate(subject=<Name(C=US,O=IdenTrust,CN=IdenTrust Public Sector Root CA 1)>, ...)>,\n",
       " <Certificate(subject=<Name(C=US,O=Entrust\\, Inc.,OU=See www.entrust.net/legal-terms,OU=(c) 2009 Entrust\\, Inc. - for authorized use only,CN=Entrust Root Certification Authority - G2)>, ...)>,\n",
       " <Certificate(subject=<Name(C=US,O=Entrust\\, Inc.,OU=See www.entrust.net/legal-terms,OU=(c) 2012 Entrust\\, Inc. - for authorized use only,CN=Entrust Root Certification Authority - EC1)>, ...)>,\n",
       " <Certificate(subject=<Name(C=CN,O=China Financial Certification Authority,CN=CFCA EV ROOT)>, ...)>,\n",
       " <Certificate(subject=<Name(C=CH,O=WISeKey,OU=OISTE Foundation Endorsed,CN=OISTE WISeKey Global Root GB CA)>, ...)>,\n",
       " <Certificate(subject=<Name(C=PL,O=Krajowa Izba Rozliczeniowa S.A.,CN=SZAFIR ROOT CA2)>, ...)>,\n",
       " <Certificate(subject=<Name(C=PL,O=Unizeto Technologies S.A.,OU=Certum Certification Authority,CN=Certum Trusted Network CA 2)>, ...)>,\n",
       " <Certificate(subject=<Name(C=GR,L=Athens,O=Hellenic Academic and Research Institutions Cert. Authority,CN=Hellenic Academic and Research Institutions RootCA 2015)>, ...)>,\n",
       " <Certificate(subject=<Name(C=GR,L=Athens,O=Hellenic Academic and Research Institutions Cert. Authority,CN=Hellenic Academic and Research Institutions ECC RootCA 2015)>, ...)>,\n",
       " <Certificate(subject=<Name(C=US,O=Internet Security Research Group,CN=ISRG Root X1)>, ...)>,\n",
       " <Certificate(subject=<Name(C=ES,O=FNMT-RCM,OU=AC RAIZ FNMT-RCM)>, ...)>,\n",
       " <Certificate(subject=<Name(C=US,O=Amazon,CN=Amazon Root CA 1)>, ...)>,\n",
       " <Certificate(subject=<Name(C=US,O=Amazon,CN=Amazon Root CA 2)>, ...)>,\n",
       " <Certificate(subject=<Name(C=US,O=Amazon,CN=Amazon Root CA 3)>, ...)>,\n",
       " <Certificate(subject=<Name(C=US,O=Amazon,CN=Amazon Root CA 4)>, ...)>,\n",
       " <Certificate(subject=<Name(C=TR,L=Gebze - Kocaeli,O=Turkiye Bilimsel ve Teknolojik Arastirma Kurumu - TUBITAK,OU=Kamu Sertifikasyon Merkezi - Kamu SM,CN=TUBITAK Kamu SM SSL Kok Sertifikasi - Surum 1)>, ...)>,\n",
       " <Certificate(subject=<Name(C=CN,O=GUANG DONG CERTIFICATE AUTHORITY CO.\\,LTD.,CN=GDCA TrustAUTH R5 ROOT)>, ...)>,\n",
       " <Certificate(subject=<Name(C=PA,ST=Panama,L=Panama City,O=TrustCor Systems S. de R.L.,OU=TrustCor Certificate Authority,CN=TrustCor RootCert CA-1)>, ...)>,\n",
       " <Certificate(subject=<Name(C=PA,ST=Panama,L=Panama City,O=TrustCor Systems S. de R.L.,OU=TrustCor Certificate Authority,CN=TrustCor RootCert CA-2)>, ...)>,\n",
       " <Certificate(subject=<Name(C=PA,ST=Panama,L=Panama City,O=TrustCor Systems S. de R.L.,OU=TrustCor Certificate Authority,CN=TrustCor ECA-1)>, ...)>,\n",
       " <Certificate(subject=<Name(C=US,ST=Texas,L=Houston,O=SSL Corporation,CN=SSL.com Root Certification Authority RSA)>, ...)>,\n",
       " <Certificate(subject=<Name(C=US,ST=Texas,L=Houston,O=SSL Corporation,CN=SSL.com Root Certification Authority ECC)>, ...)>,\n",
       " <Certificate(subject=<Name(C=US,ST=Texas,L=Houston,O=SSL Corporation,CN=SSL.com EV Root Certification Authority RSA R2)>, ...)>,\n",
       " <Certificate(subject=<Name(C=US,ST=Texas,L=Houston,O=SSL Corporation,CN=SSL.com EV Root Certification Authority ECC)>, ...)>,\n",
       " <Certificate(subject=<Name(OU=GlobalSign Root CA - R6,O=GlobalSign,CN=GlobalSign)>, ...)>,\n",
       " <Certificate(subject=<Name(C=CH,O=WISeKey,OU=OISTE Foundation Endorsed,CN=OISTE WISeKey Global Root GC CA)>, ...)>,\n",
       " <Certificate(subject=<Name(C=US,O=Google Trust Services LLC,CN=GTS Root R1)>, ...)>,\n",
       " <Certificate(subject=<Name(C=US,O=Google Trust Services LLC,CN=GTS Root R2)>, ...)>,\n",
       " <Certificate(subject=<Name(C=US,O=Google Trust Services LLC,CN=GTS Root R3)>, ...)>,\n",
       " <Certificate(subject=<Name(C=US,O=Google Trust Services LLC,CN=GTS Root R4)>, ...)>,\n",
       " <Certificate(subject=<Name(C=CN,O=UniTrust,CN=UCA Global G2 Root)>, ...)>,\n",
       " <Certificate(subject=<Name(C=CN,O=UniTrust,CN=UCA Extended Validation Root)>, ...)>,\n",
       " <Certificate(subject=<Name(C=FR,O=Dhimyotis,OU=0002 48146308100036,CN=Certigna Root CA)>, ...)>,\n",
       " <Certificate(subject=<Name(C=IN,OU=emSign PKI,O=eMudhra Technologies Limited,CN=emSign Root CA - G1)>, ...)>,\n",
       " <Certificate(subject=<Name(C=IN,OU=emSign PKI,O=eMudhra Technologies Limited,CN=emSign ECC Root CA - G3)>, ...)>,\n",
       " <Certificate(subject=<Name(C=US,OU=emSign PKI,O=eMudhra Inc,CN=emSign Root CA - C1)>, ...)>,\n",
       " <Certificate(subject=<Name(C=US,OU=emSign PKI,O=eMudhra Inc,CN=emSign ECC Root CA - C3)>, ...)>,\n",
       " <Certificate(subject=<Name(C=HK,ST=Hong Kong,L=Hong Kong,O=Hongkong Post,CN=Hongkong Post Root CA 3)>, ...)>,\n",
       " <Certificate(subject=<Name(C=US,O=Entrust\\, Inc.,OU=See www.entrust.net/legal-terms,OU=(c) 2015 Entrust\\, Inc. - for authorized use only,CN=Entrust Root Certification Authority - G4)>, ...)>,\n",
       " <Certificate(subject=<Name(C=US,O=Microsoft Corporation,CN=Microsoft ECC Root Certificate Authority 2017)>, ...)>,\n",
       " <Certificate(subject=<Name(C=US,O=Microsoft Corporation,CN=Microsoft RSA Root Certificate Authority 2017)>, ...)>,\n",
       " <Certificate(subject=<Name(C=HU,L=Budapest,O=Microsec Ltd.,2.5.4.97=VATHU-23584497,CN=e-Szigno Root CA 2017)>, ...)>,\n",
       " <Certificate(subject=<Name(C=RO,O=CERTSIGN SA,OU=certSIGN ROOT CA G2)>, ...)>]"
      ]
     },
     "execution_count": 35,
     "metadata": {},
     "output_type": "execute_result"
    }
   ],
   "source": [
    "root_certs = x509.load_pem_x509_certificates(root_CAs)\n",
    "root_certs"
   ]
  },
  {
   "cell_type": "code",
   "execution_count": 36,
   "metadata": {},
   "outputs": [
    {
     "name": "stdout",
     "output_type": "stream",
     "text": [
      "<Name(C=BE,O=GlobalSign nv-sa,OU=Root CA,CN=GlobalSign Root CA)>\n",
      "<Name(OU=GlobalSign Root CA - R2,O=GlobalSign,CN=GlobalSign)>\n",
      "<Name(O=Entrust.net,OU=www.entrust.net/CPS_2048 incorp. by ref. (limits liab.),OU=(c) 1999 Entrust.net Limited,CN=Entrust.net Certification Authority (2048))>\n",
      "<Name(C=IE,O=Baltimore,OU=CyberTrust,CN=Baltimore CyberTrust Root)>\n",
      "<Name(C=US,O=Entrust\\, Inc.,OU=www.entrust.net/CPS is incorporated by reference,OU=(c) 2006 Entrust\\, Inc.,CN=Entrust Root Certification Authority)>\n",
      "<Name(C=US,O=GeoTrust Inc.,CN=GeoTrust Global CA)>\n",
      "<Name(C=US,O=GeoTrust Inc.,CN=GeoTrust Universal CA)>\n",
      "<Name(C=US,O=GeoTrust Inc.,CN=GeoTrust Universal CA 2)>\n",
      "<Name(C=GB,ST=Greater Manchester,L=Salford,O=Comodo CA Limited,CN=AAA Certificate Services)>\n",
      "<Name(C=BM,O=QuoVadis Limited,OU=Root Certification Authority,CN=QuoVadis Root Certification Authority)>\n",
      "<Name(C=BM,O=QuoVadis Limited,CN=QuoVadis Root CA 2)>\n",
      "<Name(C=BM,O=QuoVadis Limited,CN=QuoVadis Root CA 3)>\n",
      "<Name(C=JP,O=SECOM Trust.net,OU=Security Communication RootCA1)>\n",
      "<Name(C=FI,O=Sonera,CN=Sonera Class2 CA)>\n",
      "<Name(C=US,OU=www.xrampsecurity.com,O=XRamp Security Services Inc,CN=XRamp Global Certification Authority)>\n",
      "<Name(C=US,O=The Go Daddy Group\\, Inc.,OU=Go Daddy Class 2 Certification Authority)>\n",
      "<Name(C=US,O=Starfield Technologies\\, Inc.,OU=Starfield Class 2 Certification Authority)>\n",
      "<Name(C=TW,O=Government Root Certification Authority)>\n",
      "<Name(C=US,O=DigiCert Inc,OU=www.digicert.com,CN=DigiCert Assured ID Root CA)>\n",
      "<Name(C=US,O=DigiCert Inc,OU=www.digicert.com,CN=DigiCert Global Root CA)>\n",
      "<Name(C=US,O=DigiCert Inc,OU=www.digicert.com,CN=DigiCert High Assurance EV Root CA)>\n",
      "<Name(O=Digital Signature Trust Co.,CN=DST Root CA X3)>\n",
      "<Name(C=CH,O=SwissSign AG,CN=SwissSign Gold CA - G2)>\n",
      "<Name(C=CH,O=SwissSign AG,CN=SwissSign Silver CA - G2)>\n",
      "<Name(C=US,O=GeoTrust Inc.,CN=GeoTrust Primary Certification Authority)>\n",
      "<Name(C=US,O=thawte\\, Inc.,OU=Certification Services Division,OU=(c) 2006 thawte\\, Inc. - For authorized use only,CN=thawte Primary Root CA)>\n",
      "<Name(C=US,O=VeriSign\\, Inc.,OU=VeriSign Trust Network,OU=(c) 2006 VeriSign\\, Inc. - For authorized use only,CN=VeriSign Class 3 Public Primary Certification Authority - G5)>\n",
      "<Name(C=US,O=SecureTrust Corporation,CN=SecureTrust CA)>\n",
      "<Name(C=US,O=SecureTrust Corporation,CN=Secure Global CA)>\n",
      "<Name(C=GB,ST=Greater Manchester,L=Salford,O=COMODO CA Limited,CN=COMODO Certification Authority)>\n",
      "<Name(C=US,O=Network Solutions L.L.C.,CN=Network Solutions Certificate Authority)>\n",
      "<Name(C=GB,ST=Greater Manchester,L=Salford,O=COMODO CA Limited,CN=COMODO ECC Certification Authority)>\n",
      "<Name(C=CH,O=WISeKey,OU=Copyright (c) 2005,OU=OISTE Foundation Endorsed,CN=OISTE WISeKey Global Root GA CA)>\n",
      "<Name(C=FR,O=Dhimyotis,CN=Certigna)>\n",
      "<Name(O=Cybertrust\\, Inc,CN=Cybertrust Global Root)>\n",
      "<Name(C=TW,O=Chunghwa Telecom Co.\\, Ltd.,OU=ePKI Root Certification Authority)>\n",
      "<Name(C=RO,O=certSIGN,OU=certSIGN ROOT CA)>\n",
      "<Name(C=US,O=GeoTrust Inc.,OU=(c) 2008 GeoTrust Inc. - For authorized use only,CN=GeoTrust Primary Certification Authority - G3)>\n",
      "<Name(C=US,O=thawte\\, Inc.,OU=(c) 2007 thawte\\, Inc. - For authorized use only,CN=thawte Primary Root CA - G2)>\n",
      "<Name(C=US,O=thawte\\, Inc.,OU=Certification Services Division,OU=(c) 2008 thawte\\, Inc. - For authorized use only,CN=thawte Primary Root CA - G3)>\n",
      "<Name(C=US,O=GeoTrust Inc.,OU=(c) 2007 GeoTrust Inc. - For authorized use only,CN=GeoTrust Primary Certification Authority - G2)>\n",
      "<Name(C=US,O=VeriSign\\, Inc.,OU=VeriSign Trust Network,OU=(c) 2008 VeriSign\\, Inc. - For authorized use only,CN=VeriSign Universal Root Certification Authority)>\n",
      "<Name(C=US,O=VeriSign\\, Inc.,OU=VeriSign Trust Network,OU=(c) 2007 VeriSign\\, Inc. - For authorized use only,CN=VeriSign Class 3 Public Primary Certification Authority - G4)>\n",
      "<Name(C=HU,L=Budapest,O=NetLock Kft.,OU=Tanúsítványkiadók (Certification Services),CN=NetLock Arany (Class Gold) Főtanúsítvány)>\n",
      "<Name(C=HK,O=Hongkong Post,CN=Hongkong Post Root CA 1)>\n",
      "<Name(C=JP,O=Japan Certification Services\\, Inc.,CN=SecureSign RootCA11)>\n",
      "<Name(C=HU,L=Budapest,O=Microsec Ltd.,CN=Microsec e-Szigno Root CA 2009,1.2.840.113549.1.9.1=info@e-szigno.hu)>\n",
      "<Name(OU=GlobalSign Root CA - R3,O=GlobalSign,CN=GlobalSign)>\n",
      "<Name(C=ES,CN=Autoridad de Certificacion Firmaprofesional CIF A62634068)>\n",
      "<Name(C=ES,O=IZENPE S.A.,CN=Izenpe.com)>\n",
      "<Name(C=EU,L=Madrid (see current address at www.camerfirma.com/address),2.5.4.5=A82743287,O=AC Camerfirma S.A.,CN=Chambers of Commerce Root - 2008)>\n",
      "<Name(C=EU,L=Madrid (see current address at www.camerfirma.com/address),2.5.4.5=A82743287,O=AC Camerfirma S.A.,CN=Global Chambersign Root - 2008)>\n",
      "<Name(C=US,ST=Arizona,L=Scottsdale,O=GoDaddy.com\\, Inc.,CN=Go Daddy Root Certificate Authority - G2)>\n",
      "<Name(C=US,ST=Arizona,L=Scottsdale,O=Starfield Technologies\\, Inc.,CN=Starfield Root Certificate Authority - G2)>\n",
      "<Name(C=US,ST=Arizona,L=Scottsdale,O=Starfield Technologies\\, Inc.,CN=Starfield Services Root Certificate Authority - G2)>\n",
      "<Name(C=US,O=AffirmTrust,CN=AffirmTrust Commercial)>\n",
      "<Name(C=US,O=AffirmTrust,CN=AffirmTrust Networking)>\n",
      "<Name(C=US,O=AffirmTrust,CN=AffirmTrust Premium)>\n",
      "<Name(C=US,O=AffirmTrust,CN=AffirmTrust Premium ECC)>\n",
      "<Name(C=PL,O=Unizeto Technologies S.A.,OU=Certum Certification Authority,CN=Certum Trusted Network CA)>\n",
      "<Name(C=TW,O=TAIWAN-CA,OU=Root CA,CN=TWCA Root Certification Authority)>\n",
      "<Name(C=JP,O=SECOM Trust Systems CO.\\,LTD.,OU=Security Communication RootCA2)>\n",
      "<Name(C=ES,O=Agencia Catalana de Certificacio (NIF Q-0801176-I),OU=Serveis Publics de Certificacio,OU=Vegeu https://www.catcert.net/verarrel (c)03,OU=Jerarquia Entitats de Certificacio Catalanes,CN=EC-ACC)>\n",
      "<Name(C=GR,O=Hellenic Academic and Research Institutions Cert. Authority,CN=Hellenic Academic and Research Institutions RootCA 2011)>\n",
      "<Name(C=IT,L=Milan,O=Actalis S.p.A./03358520967,CN=Actalis Authentication Root CA)>\n",
      "<Name(C=GB,O=Trustis Limited,OU=Trustis FPS Root CA)>\n",
      "<Name(C=NO,O=Buypass AS-983163327,CN=Buypass Class 2 Root CA)>\n",
      "<Name(C=NO,O=Buypass AS-983163327,CN=Buypass Class 3 Root CA)>\n",
      "<Name(C=DE,O=T-Systems Enterprise Services GmbH,OU=T-Systems Trust Center,CN=T-TeleSec GlobalRoot Class 3)>\n",
      "<Name(C=EE,O=AS Sertifitseerimiskeskus,CN=EE Certification Centre Root CA,1.2.840.113549.1.9.1=pki@sk.ee)>\n",
      "<Name(C=DE,O=D-Trust GmbH,CN=D-TRUST Root Class 3 CA 2 2009)>\n",
      "<Name(C=DE,O=D-Trust GmbH,CN=D-TRUST Root Class 3 CA 2 EV 2009)>\n",
      "<Name(C=SK,L=Bratislava,O=Disig a.s.,CN=CA Disig Root R2)>\n",
      "<Name(CN=ACCVRAIZ1,OU=PKIACCV,O=ACCV,C=ES)>\n",
      "<Name(C=TW,O=TAIWAN-CA,OU=Root CA,CN=TWCA Global Root CA)>\n",
      "<Name(O=TeliaSonera,CN=TeliaSonera Root CA v1)>\n",
      "<Name(C=TR,L=Ankara,O=E-Tuğra EBG Bilişim Teknolojileri ve Hizmetleri A.Ş.,OU=E-Tugra Sertifikasyon Merkezi,CN=E-Tugra Certification Authority)>\n",
      "<Name(C=DE,O=T-Systems Enterprise Services GmbH,OU=T-Systems Trust Center,CN=T-TeleSec GlobalRoot Class 2)>\n",
      "<Name(CN=Atos TrustedRoot 2011,O=Atos,C=DE)>\n",
      "<Name(C=BM,O=QuoVadis Limited,CN=QuoVadis Root CA 1 G3)>\n",
      "<Name(C=BM,O=QuoVadis Limited,CN=QuoVadis Root CA 2 G3)>\n",
      "<Name(C=BM,O=QuoVadis Limited,CN=QuoVadis Root CA 3 G3)>\n",
      "<Name(C=US,O=DigiCert Inc,OU=www.digicert.com,CN=DigiCert Assured ID Root G2)>\n",
      "<Name(C=US,O=DigiCert Inc,OU=www.digicert.com,CN=DigiCert Assured ID Root G3)>\n",
      "<Name(C=US,O=DigiCert Inc,OU=www.digicert.com,CN=DigiCert Global Root G2)>\n",
      "<Name(C=US,O=DigiCert Inc,OU=www.digicert.com,CN=DigiCert Global Root G3)>\n",
      "<Name(C=US,O=DigiCert Inc,OU=www.digicert.com,CN=DigiCert Trusted Root G4)>\n",
      "<Name(C=GB,ST=Greater Manchester,L=Salford,O=COMODO CA Limited,CN=COMODO RSA Certification Authority)>\n",
      "<Name(C=US,ST=New Jersey,L=Jersey City,O=The USERTRUST Network,CN=USERTrust RSA Certification Authority)>\n",
      "<Name(C=US,ST=New Jersey,L=Jersey City,O=The USERTRUST Network,CN=USERTrust ECC Certification Authority)>\n",
      "<Name(OU=GlobalSign ECC Root CA - R4,O=GlobalSign,CN=GlobalSign)>\n",
      "<Name(OU=GlobalSign ECC Root CA - R5,O=GlobalSign,CN=GlobalSign)>\n",
      "<Name(C=NL,O=Staat der Nederlanden,CN=Staat der Nederlanden Root CA - G3)>\n",
      "<Name(C=NL,O=Staat der Nederlanden,CN=Staat der Nederlanden EV Root CA)>\n",
      "<Name(C=US,O=IdenTrust,CN=IdenTrust Commercial Root CA 1)>\n",
      "<Name(C=US,O=IdenTrust,CN=IdenTrust Public Sector Root CA 1)>\n",
      "<Name(C=US,O=Entrust\\, Inc.,OU=See www.entrust.net/legal-terms,OU=(c) 2009 Entrust\\, Inc. - for authorized use only,CN=Entrust Root Certification Authority - G2)>\n",
      "<Name(C=US,O=Entrust\\, Inc.,OU=See www.entrust.net/legal-terms,OU=(c) 2012 Entrust\\, Inc. - for authorized use only,CN=Entrust Root Certification Authority - EC1)>\n",
      "<Name(C=CN,O=China Financial Certification Authority,CN=CFCA EV ROOT)>\n",
      "<Name(C=CH,O=WISeKey,OU=OISTE Foundation Endorsed,CN=OISTE WISeKey Global Root GB CA)>\n",
      "<Name(C=PL,O=Krajowa Izba Rozliczeniowa S.A.,CN=SZAFIR ROOT CA2)>\n",
      "<Name(C=PL,O=Unizeto Technologies S.A.,OU=Certum Certification Authority,CN=Certum Trusted Network CA 2)>\n",
      "<Name(C=GR,L=Athens,O=Hellenic Academic and Research Institutions Cert. Authority,CN=Hellenic Academic and Research Institutions RootCA 2015)>\n",
      "<Name(C=GR,L=Athens,O=Hellenic Academic and Research Institutions Cert. Authority,CN=Hellenic Academic and Research Institutions ECC RootCA 2015)>\n",
      "<Name(C=US,O=Internet Security Research Group,CN=ISRG Root X1)>\n",
      "<Name(C=ES,O=FNMT-RCM,OU=AC RAIZ FNMT-RCM)>\n",
      "<Name(C=US,O=Amazon,CN=Amazon Root CA 1)>\n",
      "<Name(C=US,O=Amazon,CN=Amazon Root CA 2)>\n",
      "<Name(C=US,O=Amazon,CN=Amazon Root CA 3)>\n",
      "<Name(C=US,O=Amazon,CN=Amazon Root CA 4)>\n",
      "<Name(C=TR,L=Gebze - Kocaeli,O=Turkiye Bilimsel ve Teknolojik Arastirma Kurumu - TUBITAK,OU=Kamu Sertifikasyon Merkezi - Kamu SM,CN=TUBITAK Kamu SM SSL Kok Sertifikasi - Surum 1)>\n",
      "<Name(C=CN,O=GUANG DONG CERTIFICATE AUTHORITY CO.\\,LTD.,CN=GDCA TrustAUTH R5 ROOT)>\n",
      "<Name(C=PA,ST=Panama,L=Panama City,O=TrustCor Systems S. de R.L.,OU=TrustCor Certificate Authority,CN=TrustCor RootCert CA-1)>\n",
      "<Name(C=PA,ST=Panama,L=Panama City,O=TrustCor Systems S. de R.L.,OU=TrustCor Certificate Authority,CN=TrustCor RootCert CA-2)>\n",
      "<Name(C=PA,ST=Panama,L=Panama City,O=TrustCor Systems S. de R.L.,OU=TrustCor Certificate Authority,CN=TrustCor ECA-1)>\n",
      "<Name(C=US,ST=Texas,L=Houston,O=SSL Corporation,CN=SSL.com Root Certification Authority RSA)>\n",
      "<Name(C=US,ST=Texas,L=Houston,O=SSL Corporation,CN=SSL.com Root Certification Authority ECC)>\n",
      "<Name(C=US,ST=Texas,L=Houston,O=SSL Corporation,CN=SSL.com EV Root Certification Authority RSA R2)>\n",
      "<Name(C=US,ST=Texas,L=Houston,O=SSL Corporation,CN=SSL.com EV Root Certification Authority ECC)>\n",
      "<Name(OU=GlobalSign Root CA - R6,O=GlobalSign,CN=GlobalSign)>\n",
      "<Name(C=CH,O=WISeKey,OU=OISTE Foundation Endorsed,CN=OISTE WISeKey Global Root GC CA)>\n",
      "<Name(C=US,O=Google Trust Services LLC,CN=GTS Root R1)>\n",
      "<Name(C=US,O=Google Trust Services LLC,CN=GTS Root R2)>\n",
      "<Name(C=US,O=Google Trust Services LLC,CN=GTS Root R3)>\n",
      "<Name(C=US,O=Google Trust Services LLC,CN=GTS Root R4)>\n",
      "<Name(C=CN,O=UniTrust,CN=UCA Global G2 Root)>\n",
      "<Name(C=CN,O=UniTrust,CN=UCA Extended Validation Root)>\n",
      "<Name(C=FR,O=Dhimyotis,OU=0002 48146308100036,CN=Certigna Root CA)>\n",
      "<Name(C=IN,OU=emSign PKI,O=eMudhra Technologies Limited,CN=emSign Root CA - G1)>\n",
      "<Name(C=IN,OU=emSign PKI,O=eMudhra Technologies Limited,CN=emSign ECC Root CA - G3)>\n",
      "<Name(C=US,OU=emSign PKI,O=eMudhra Inc,CN=emSign Root CA - C1)>\n",
      "<Name(C=US,OU=emSign PKI,O=eMudhra Inc,CN=emSign ECC Root CA - C3)>\n",
      "<Name(C=HK,ST=Hong Kong,L=Hong Kong,O=Hongkong Post,CN=Hongkong Post Root CA 3)>\n",
      "<Name(C=US,O=Entrust\\, Inc.,OU=See www.entrust.net/legal-terms,OU=(c) 2015 Entrust\\, Inc. - for authorized use only,CN=Entrust Root Certification Authority - G4)>\n",
      "<Name(C=US,O=Microsoft Corporation,CN=Microsoft ECC Root Certificate Authority 2017)>\n",
      "<Name(C=US,O=Microsoft Corporation,CN=Microsoft RSA Root Certificate Authority 2017)>\n",
      "<Name(C=HU,L=Budapest,O=Microsec Ltd.,2.5.4.97=VATHU-23584497,CN=e-Szigno Root CA 2017)>\n",
      "<Name(C=RO,O=CERTSIGN SA,OU=certSIGN ROOT CA G2)>\n"
     ]
    }
   ],
   "source": [
    "for rootCA in root_certs:\n",
    "    print(rootCA.issuer)"
   ]
  },
  {
   "cell_type": "markdown",
   "metadata": {},
   "source": [
    "These are trusted certificates that can be stored locally and used to verify signatures. Let's see how this is done."
   ]
  },
  {
   "cell_type": "markdown",
   "metadata": {},
   "source": [
    "### Establish a Socket Connection"
   ]
  },
  {
   "cell_type": "markdown",
   "metadata": {},
   "source": [
    "We have seen how to establish a socket connection before.  The folks who implement TLS in Python have gone to a lot of trouble to make it transparent to use a TLS-enabled socket.  The problem is that the normal ways of doing so \"hide\" a lot of the details, and we explicitly want access to those details.  So we have to go to a bit of extra trouble to get this to work."
   ]
  },
  {
   "cell_type": "markdown",
   "metadata": {},
   "source": [
    "### Load Prereqs"
   ]
  },
  {
   "cell_type": "code",
   "execution_count": 38,
   "metadata": {},
   "outputs": [],
   "source": [
    "import socket\n",
    "import ssl"
   ]
  },
  {
   "cell_type": "markdown",
   "metadata": {},
   "source": [
    "### Parameters to Use"
   ]
  },
  {
   "cell_type": "code",
   "execution_count": 77,
   "metadata": {},
   "outputs": [],
   "source": [
    "HOSTNAME = 'cybertruck1.engr.colostate.edu'\n",
    "DEST_IPADDR = '129.82.20.206'\n",
    "PORT = 443"
   ]
  },
  {
   "attachments": {},
   "cell_type": "markdown",
   "metadata": {},
   "source": [
    "To prepare for this section:\n",
    "* Open Wireshark\n",
    "* Set a capture filter to 'host 129.82.20.206 and port 443'\n",
    "* Set a display filter to 'tls'\n",
    "![WiresharkSetupforTLS.png](WiresharkSetupforTLS.png)"
   ]
  },
  {
   "cell_type": "code",
   "execution_count": 86,
   "metadata": {},
   "outputs": [
    {
     "data": {
      "text/plain": [
       "'-----BEGIN CERTIFICATE-----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\\nuhwHqzKBknq/HQ==\\n-----END CERTIFICATE-----\\n'"
      ]
     },
     "execution_count": 86,
     "metadata": {},
     "output_type": "execute_result"
    }
   ],
   "source": [
    "ssl.get_server_certificate((HOSTNAME,PORT),ssl.PROTOCOL_TLSv1_2)"
   ]
  },
  {
   "cell_type": "markdown",
   "metadata": {},
   "source": [
    "This produced a recording in wireshark.\n",
    "![TLS1.2WiresharkCapture.png](TLS1.2WiresharkCapture.png)"
   ]
  },
  {
   "cell_type": "code",
   "execution_count": 93,
   "metadata": {},
   "outputs": [
    {
     "data": {
      "text/plain": [
       "'-----BEGIN CERTIFICATE-----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\\nuhwHqzKBknq/HQ==\\n-----END CERTIFICATE-----\\n'"
      ]
     },
     "execution_count": 93,
     "metadata": {},
     "output_type": "execute_result"
    }
   ],
   "source": [
    "server_pem = ssl.get_server_certificate((HOSTNAME,PORT),ssl.PROTOCOL_TLS)\n",
    "server_pem"
   ]
  },
  {
   "cell_type": "code",
   "execution_count": 94,
   "metadata": {},
   "outputs": [
    {
     "name": "stdout",
     "output_type": "stream",
     "text": [
      "<Certificate(subject=<Name(C=US,ST=Colorado,O=Colorado State University,CN=cybertruck1.engr.colostate.edu)>, ...)>\n"
     ]
    }
   ],
   "source": [
    "#What does this say?\n",
    "server_certs = x509.load_pem_x509_certificates(server_pem.encode('ascii'))\n",
    "for inter_cert in server_certs:\n",
    "    print(inter_cert)"
   ]
  },
  {
   "cell_type": "code",
   "execution_count": 180,
   "metadata": {},
   "outputs": [
    {
     "data": {
      "text/plain": [
       "True"
      ]
     },
     "execution_count": 180,
     "metadata": {},
     "output_type": "execute_result"
    }
   ],
   "source": [
    "context = ssl.create_default_context()\n",
    "context.load_verify_locations(cafile=certifi.where())\n",
    "context.check_hostname"
   ]
  },
  {
   "cell_type": "code",
   "execution_count": 181,
   "metadata": {},
   "outputs": [
    {
     "data": {
      "text/plain": [
       "<Options.OP_NO_SSLv3|OP_CIPHER_SERVER_PREFERENCE|OP_ENABLE_MIDDLEBOX_COMPAT|OP_NO_COMPRESSION|OP_ALL: -2108555180>"
      ]
     },
     "execution_count": 181,
     "metadata": {},
     "output_type": "execute_result"
    }
   ],
   "source": [
    "context.options"
   ]
  },
  {
   "cell_type": "code",
   "execution_count": 178,
   "metadata": {},
   "outputs": [
    {
     "name": "stdout",
     "output_type": "stream",
     "text": [
      "ISRG Root X1\n",
      "Certigna\n",
      "TeliaSonera Root CA v1\n",
      "Izenpe.com\n",
      "Sonera Class2 CA\n",
      "Amazon Root CA 1\n",
      "Amazon Root CA 2\n",
      "Amazon Root CA 3\n",
      "Amazon Root CA 4\n",
      "Cybertrust Global Root\n",
      "Atos TrustedRoot 2011\n",
      "UCA Global G2 Root\n",
      "DST Root CA X3\n",
      "AffirmTrust Premium\n",
      "GeoTrust Global CA\n",
      "ACCVRAIZ1\n",
      "AffirmTrust Commercial\n",
      "AffirmTrust Networking\n",
      "QuoVadis Root CA 2\n",
      "QuoVadis Root CA 3\n",
      "SwissSign Gold CA - G2\n",
      "AffirmTrust Premium ECC\n",
      "GeoTrust Universal CA\n",
      "SwissSign Silver CA - G2\n",
      "UCA Extended Validation Root\n",
      "Hongkong Post Root CA 1\n",
      "GeoTrust Universal CA 2\n",
      "GTS Root R1\n",
      "GTS Root R2\n",
      "GTS Root R3\n",
      "GTS Root R4\n",
      "QuoVadis Root CA 1 G3\n",
      "QuoVadis Root CA 2 G3\n",
      "QuoVadis Root CA 3 G3\n",
      "SecureTrust CA\n",
      "IdenTrust Commercial Root CA 1\n",
      "Secure Global CA\n",
      "DigiCert Global Root CA\n",
      "GlobalSign\n",
      "GlobalSign\n",
      "GlobalSign\n",
      "D-TRUST Root Class 3 CA 2 2009\n",
      "IdenTrust Public Sector Root CA 1\n",
      "DigiCert Global Root CA\n",
      "DigiCert Global Root CA\n",
      "Buypass Class 2 Root CA\n",
      "Buypass Class 3 Root CA\n",
      "DigiCert Global Root CA\n",
      "Baltimore CyberTrust Root\n",
      "ISRG Root X1\n",
      "D-TRUST Root Class 3 CA 2 EV 2009\n",
      "Hotspot 2.0 Trust Root CA - 03\n",
      "GlobalSign\n",
      "GlobalSign\n",
      "Autoridad de Certificacion Firmaprofesional CIF A62634068\n",
      "SZAFIR ROOT CA2\n",
      "TWCA Global Root CA\n",
      "CA Disig Root R2\n",
      "CFCA EV ROOT\n",
      "emSign Root CA - C1\n",
      "GlobalSign Root CA\n",
      "SecureSign RootCA11\n",
      "Staat der Nederlanden EV Root CA\n",
      "GeoTrust Primary Certification Authority\n",
      "DigiCert Global Root G2\n",
      "Certigna Root CA\n",
      "Baltimore CyberTrust Root\n",
      "Staat der Nederlanden Root CA - G3\n",
      "emSign ECC Root CA - C3\n",
      "DoD Root CA 3\n",
      "DoD Root CA 3\n",
      "DoD Root CA 3\n",
      "DoD Root CA 3\n",
      "DoD Root CA 3\n",
      "DoD Root CA 3\n",
      "DoD Root CA 3\n",
      "DoD Root CA 5\n",
      "DoD Root CA 3\n",
      "DoD Root CA 3\n",
      "DoD Root CA 5\n",
      "DoD Root CA 5\n",
      "DoD Root CA 3\n",
      "DoD Root CA 3\n",
      "DoD Root CA 4\n",
      "DoD Root CA 5\n",
      "DoD Root CA 6\n",
      "DoD Root CA 3\n",
      "DoD Root CA 3\n",
      "DoD Root CA 3\n",
      "DoD Root CA 3\n",
      "DoD Root CA 3\n",
      "DoD Root CA 3\n",
      "DoD Root CA 3\n",
      "DoD Root CA 3\n",
      "DoD Root CA 3\n",
      "DoD Root CA 3\n",
      "TWCA Root Certification Authority\n",
      "DoD Root CA 3\n",
      "Microsoft Root Certificate Authority\n",
      "DigiCert Global Root CA\n",
      "DigiCert Global Root G2\n",
      "DigiCert Global Root G3\n",
      "GDCA TrustAUTH R5 ROOT\n",
      "DigiCert Trusted Root G4\n",
      "Network Solutions Certificate Authority\n",
      "DigiCert Assured ID Root CA\n",
      "DigiCert Assured ID Root G2\n",
      "DigiCert Assured ID Root G3\n",
      "Microsoft ECC Root Certificate Authority 2017\n",
      "Microsoft RSA Root Certificate Authority 2017\n",
      "GlobalSign Root CA\n",
      "emSign Root CA - G1\n",
      "emSign ECC Root CA - G3\n",
      "Actalis Authentication Root CA\n",
      "DigiCert High Assurance EV Root CA\n",
      "OISTE WISeKey Global Root GB CA\n",
      "OISTE WISeKey Global Root GC CA\n",
      "Hongkong Post Root CA 3\n",
      "AddTrust External CA Root\n",
      "DigiCert High Assurance EV Root CA\n",
      "e-Szigno Root CA 2017\n",
      "pafwca.colostate.edu\n",
      "EE Certification Centre Root CA\n",
      "USERTrust RSA Certification Authority\n",
      "AAA Certificate Services\n",
      "SSL.com Root Certification Authority ECC\n",
      "SSL.com Root Certification Authority RSA\n",
      "Certum Trusted Network CA\n",
      "Microsoft Root Certificate Authority 2010\n",
      "Microsoft Root Certificate Authority 2011\n",
      "QuoVadis Root Certification Authority\n",
      "SSL.com EV Root Certification Authority ECC\n",
      "Certum Trusted Network CA 2\n",
      "COMODO Certification Authority\n",
      "T-TeleSec GlobalRoot Class 2\n",
      "T-TeleSec GlobalRoot Class 3\n",
      "Microsec e-Szigno Root CA 2009\n",
      "SSL.com EV Root Certification Authority RSA R2\n",
      "XRamp Global Certification Authority\n",
      "Go Daddy Root Certificate Authority - G2\n",
      "thawte Primary Root CA - G2\n",
      "COMODO ECC Certification Authority\n",
      "COMODO RSA Certification Authority\n",
      "USERTrust ECC Certification Authority\n",
      "AAA Certificate Services\n",
      "USERTrust RSA Certification Authority\n",
      "Microsoft Root Certificate Authority 2010\n",
      "Microsoft Root Certificate Authority 2011\n",
      "JHUAPL Root CA\n",
      "OISTE WISeKey Global Root GA CA\n",
      "JHUAPL Root CA\n",
      "Lockheed Martin Root Certification Authority 3\n",
      "Starfield Root Certificate Authority - G2\n",
      "Microsoft ECC TS Root Certificate Authority 2018\n",
      "Microsoft Time Stamp Root Certificate Authority 2014\n",
      "Microsoft ECC Product Root Certificate Authority 2018\n",
      "USERTrust RSA Certification Authority\n",
      "Hellenic Academic and Research Institutions RootCA 2011\n",
      "COMODO RSA Certification Authority\n",
      "Starfield Services Root Certificate Authority - G2\n",
      "GeoTrust Primary Certification Authority - G2\n",
      "GeoTrust Primary Certification Authority - G3\n",
      "Siemens Root CA V3.0 2016\n",
      "TrustCor ECA-1\n",
      "TrustCor RootCert CA-1\n",
      "TrustCor RootCert CA-2\n",
      "Hellenic Academic and Research Institutions RootCA 2015\n",
      "NetLock Arany (Class Gold) Főtanúsítvány\n",
      "thawte Primary Root CA\n",
      "Hellenic Academic and Research Institutions ECC RootCA 2015\n",
      "Global Chambersign Root - 2008\n",
      "Chambers of Commerce Root - 2008\n",
      "thawte Primary Root CA - G3\n",
      "Entrust Root Certification Authority\n",
      "E-Tugra Certification Authority\n",
      "Go Daddy Root Certificate Authority - G2\n",
      "Lockheed Martin Root Certification Authority 3\n",
      "Entrust.net Certification Authority (2048)\n",
      "VeriSign Universal Root Certification Authority\n",
      "Entrust Root Certification Authority - G2\n",
      "Entrust Root Certification Authority - G4\n",
      "Entrust Root Certification Authority - EC1\n",
      "Thawte Server CA\n",
      "VeriSign Class 3 Public Primary Certification Authority - G5\n",
      "VeriSign Class 3 Public Primary Certification Authority - G4\n",
      "TUBITAK Kamu SM SSL Kok Sertifikasi - Surum 1\n",
      "EC-ACC\n"
     ]
    }
   ],
   "source": [
    "for c in context.get_ca_certs():\n",
    "    for item in c['issuer']:\n",
    "        if item[0][0] == 'commonName':\n",
    "            print(item[0][1])"
   ]
  },
  {
   "cell_type": "markdown",
   "metadata": {},
   "source": [
    "### Create the socket connection"
   ]
  },
  {
   "cell_type": "markdown",
   "metadata": {},
   "source": [
    "The call to 'do_handshake' does all the work required establish the connection."
   ]
  },
  {
   "cell_type": "code",
   "execution_count": 222,
   "metadata": {},
   "outputs": [
    {
     "name": "stdout",
     "output_type": "stream",
     "text": [
      "<ssl.SSLSocket fd=1480, family=AddressFamily.AF_INET, type=SocketKind.SOCK_STREAM, proto=0, laddr=('10.205.5.72', 62348), raddr=('129.82.20.206', 443)>\n"
     ]
    }
   ],
   "source": [
    "with socket.socket(socket.AF_INET, socket.SOCK_STREAM) as sock:\n",
    "    with context.wrap_socket(sock, server_hostname=HOSTNAME) as conn:\n",
    "        conn.settimeout(5)\n",
    "        conn.connect((DEST_IPADDR, PORT))\n",
    "        conn.setblocking(1)\n",
    "        conn.do_handshake()\n",
    "        print(conn)\n",
    "        cert = conn.getpeercert()\n",
    "        cert_bin = conn.getpeercert(binary_form=True)"
   ]
  },
  {
   "cell_type": "code",
   "execution_count": 225,
   "metadata": {},
   "outputs": [
    {
     "data": {
      "text/plain": [
       "{'subject': ((('countryName', 'US'),),\n",
       "  (('stateOrProvinceName', 'Colorado'),),\n",
       "  (('organizationName', 'Colorado State University'),),\n",
       "  (('commonName', 'cybertruck1.engr.colostate.edu'),)),\n",
       " 'issuer': ((('countryName', 'US'),),\n",
       "  (('stateOrProvinceName', 'MI'),),\n",
       "  (('localityName', 'Ann Arbor'),),\n",
       "  (('organizationName', 'Internet2'),),\n",
       "  (('organizationalUnitName', 'InCommon'),),\n",
       "  (('commonName', 'InCommon RSA Server CA'),)),\n",
       " 'version': 3,\n",
       " 'serialNumber': '3BE82775B646C5000089B5CAD18F86A8',\n",
       " 'notBefore': 'Mar 20 00:00:00 2023 GMT',\n",
       " 'notAfter': 'Apr 19 23:59:59 2024 GMT',\n",
       " 'subjectAltName': (('DNS', 'cybertruck1.engr.colostate.edu'),),\n",
       " 'OCSP': ('http://ocsp.usertrust.com',),\n",
       " 'caIssuers': ('http://crt.usertrust.com/InCommonRSAServerCA_2.crt',),\n",
       " 'crlDistributionPoints': ('http://crl.incommon-rsa.org/InCommonRSAServerCA.crl',)}"
      ]
     },
     "execution_count": 225,
     "metadata": {},
     "output_type": "execute_result"
    }
   ],
   "source": [
    "cert"
   ]
  },
  {
   "cell_type": "code",
   "execution_count": 227,
   "metadata": {},
   "outputs": [
    {
     "data": {
      "text/plain": [
       "'http://crt.usertrust.com/InCommonRSAServerCA_2.crt'"
      ]
     },
     "execution_count": 227,
     "metadata": {},
     "output_type": "execute_result"
    }
   ],
   "source": [
    "cert['caIssuers'][0]"
   ]
  },
  {
   "cell_type": "code",
   "execution_count": 224,
   "metadata": {},
   "outputs": [
    {
     "data": {
      "text/plain": [
       "b'0\\x82\\x06\\xc60\\x82\\x05\\xae\\xa0\\x03\\x02\\x01\\x02\\x02\\x10;\\xe8\\'u\\xb6F\\xc5\\x00\\x00\\x89\\xb5\\xca\\xd1\\x8f\\x86\\xa80\\r\\x06\\t*\\x86H\\x86\\xf7\\r\\x01\\x01\\x0b\\x05\\x000v1\\x0b0\\t\\x06\\x03U\\x04\\x06\\x13\\x02US1\\x0b0\\t\\x06\\x03U\\x04\\x08\\x13\\x02MI1\\x120\\x10\\x06\\x03U\\x04\\x07\\x13\\tAnn Arbor1\\x120\\x10\\x06\\x03U\\x04\\n\\x13\\tInternet21\\x110\\x0f\\x06\\x03U\\x04\\x0b\\x13\\x08InCommon1\\x1f0\\x1d\\x06\\x03U\\x04\\x03\\x13\\x16InCommon RSA Server CA0\\x1e\\x17\\r230320000000Z\\x17\\r240419235959Z0m1\\x0b0\\t\\x06\\x03U\\x04\\x06\\x13\\x02US1\\x110\\x0f\\x06\\x03U\\x04\\x08\\x13\\x08Colorado1\"0 \\x06\\x03U\\x04\\n\\x13\\x19Colorado State University1\\'0%\\x06\\x03U\\x04\\x03\\x13\\x1ecybertruck1.engr.colo'"
      ]
     },
     "execution_count": 224,
     "metadata": {},
     "output_type": "execute_result"
    }
   ],
   "source": [
    "cert_bin[:300]"
   ]
  },
  {
   "cell_type": "code",
   "execution_count": null,
   "metadata": {},
   "outputs": [],
   "source": []
  },
  {
   "cell_type": "code",
   "execution_count": 155,
   "metadata": {},
   "outputs": [
    {
     "data": {
      "text/plain": [
       "<Certificate(subject=<Name(C=US,ST=Colorado,O=Colorado State University,CN=cybertruck1.engr.colostate.edu)>, ...)>"
      ]
     },
     "execution_count": 155,
     "metadata": {},
     "output_type": "execute_result"
    }
   ],
   "source": [
    "server_cert = x509.load_der_x509_certificate(cert_bin)\n",
    "server_cert"
   ]
  },
  {
   "cell_type": "code",
   "execution_count": 189,
   "metadata": {},
   "outputs": [
    {
     "name": "stdout",
     "output_type": "stream",
     "text": [
      "InCommon RSA Server CA\n"
     ]
    }
   ],
   "source": [
    "\n",
    "for attribute in server_cert.issuer.get_attributes_for_oid(x509.NameOID.COMMON_NAME):\n",
    "    print(attribute.value)\n",
    "issuer_name = attribute.value"
   ]
  },
  {
   "cell_type": "code",
   "execution_count": 195,
   "metadata": {},
   "outputs": [
    {
     "name": "stdout",
     "output_type": "stream",
     "text": [
      "<Extension(oid=<ObjectIdentifier(oid=2.5.29.35, name=authorityKeyIdentifier)>, critical=False, value=<AuthorityKeyIdentifier(key_identifier=b'\\x1e\\x05\\xa3w\\x8fl\\x96\\xe2[\\x87K\\xa6\\xb4\\x86\\xacq\\x00\\x0c\\xe78', authority_cert_issuer=None, authority_cert_serial_number=None)>)>\n",
      "<Extension(oid=<ObjectIdentifier(oid=2.5.29.14, name=subjectKeyIdentifier)>, critical=False, value=<SubjectKeyIdentifier(digest=b'g\\x0c\\x8c\\xd1Ar\\xfcl\\xdcb,oy\\xeam\\xb7\\xa8\\xe8\\x9b\\xb9')>)>\n",
      "<Extension(oid=<ObjectIdentifier(oid=2.5.29.15, name=keyUsage)>, critical=True, value=<KeyUsage(digital_signature=True, content_commitment=False, key_encipherment=True, data_encipherment=False, key_agreement=False, key_cert_sign=False, crl_sign=False, encipher_only=False, decipher_only=False)>)>\n",
      "<Extension(oid=<ObjectIdentifier(oid=2.5.29.19, name=basicConstraints)>, critical=True, value=<BasicConstraints(ca=False, path_length=None)>)>\n",
      "<Extension(oid=<ObjectIdentifier(oid=2.5.29.37, name=extendedKeyUsage)>, critical=False, value=<ExtendedKeyUsage([<ObjectIdentifier(oid=1.3.6.1.5.5.7.3.1, name=serverAuth)>, <ObjectIdentifier(oid=1.3.6.1.5.5.7.3.2, name=clientAuth)>])>)>\n",
      "<Extension(oid=<ObjectIdentifier(oid=2.5.29.32, name=certificatePolicies)>, critical=False, value=<CertificatePolicies([<PolicyInformation(policy_identifier=<ObjectIdentifier(oid=1.3.6.1.4.1.5923.1.4.3.1.1, name=Unknown OID)>, policy_qualifiers=['https://www.incommon.org/cert/repository/cps_ssl.pdf'])>, <PolicyInformation(policy_identifier=<ObjectIdentifier(oid=2.23.140.1.2.2, name=Unknown OID)>, policy_qualifiers=None)>])>)>\n",
      "<Extension(oid=<ObjectIdentifier(oid=2.5.29.31, name=cRLDistributionPoints)>, critical=False, value=<CRLDistributionPoints([<DistributionPoint(full_name=[<UniformResourceIdentifier(value='http://crl.incommon-rsa.org/InCommonRSAServerCA.crl')>], relative_name=None, reasons=None, crl_issuer=None)>])>)>\n",
      "<Extension(oid=<ObjectIdentifier(oid=1.3.6.1.5.5.7.1.1, name=authorityInfoAccess)>, critical=False, value=<AuthorityInformationAccess([<AccessDescription(access_method=<ObjectIdentifier(oid=1.3.6.1.5.5.7.48.2, name=caIssuers)>, access_location=<UniformResourceIdentifier(value='http://crt.usertrust.com/InCommonRSAServerCA_2.crt')>)>, <AccessDescription(access_method=<ObjectIdentifier(oid=1.3.6.1.5.5.7.48.1, name=OCSP)>, access_location=<UniformResourceIdentifier(value='http://ocsp.usertrust.com')>)>])>)>\n",
      "<Extension(oid=<ObjectIdentifier(oid=2.5.29.17, name=subjectAltName)>, critical=False, value=<SubjectAlternativeName(<GeneralNames([<DNSName(value='cybertruck1.engr.colostate.edu')>])>)>)>\n",
      "<Extension(oid=<ObjectIdentifier(oid=1.3.6.1.4.1.11129.2.4.2, name=signedCertificateTimestampList)>, critical=False, value=<PrecertificateSignedCertificateTimestamps([<builtins.Sct object at 0x000001AECFD4B150>, <builtins.Sct object at 0x000001AECFD4BC00>, <builtins.Sct object at 0x000001AECFD4B0C0>])>)>\n"
     ]
    }
   ],
   "source": [
    "for e in server_cert.extensions:\n",
    "    print(e)"
   ]
  },
  {
   "cell_type": "code",
   "execution_count": 197,
   "metadata": {},
   "outputs": [
    {
     "data": {
      "text/plain": [
       "<ObjectIdentifier(oid=1.3.6.1.5.5.7.48.2, name=caIssuers)>"
      ]
     },
     "execution_count": 197,
     "metadata": {},
     "output_type": "execute_result"
    }
   ],
   "source": [
    "issuers_constant = x509.oid.AuthorityInformationAccessOID.CA_ISSUERS\n",
    "issuers_constant"
   ]
  },
  {
   "cell_type": "code",
   "execution_count": 203,
   "metadata": {},
   "outputs": [
    {
     "data": {
      "text/plain": [
       "<ObjectIdentifier(oid=1.3.6.1.5.5.7.1.1, name=authorityInfoAccess)>"
      ]
     },
     "execution_count": 203,
     "metadata": {},
     "output_type": "execute_result"
    }
   ],
   "source": [
    "access_constant = x509.ExtensionOID.AUTHORITY_INFORMATION_ACCESS\n",
    "access_constant"
   ]
  },
  {
   "cell_type": "code",
   "execution_count": 205,
   "metadata": {},
   "outputs": [
    {
     "data": {
      "text/plain": [
       "<Extension(oid=<ObjectIdentifier(oid=1.3.6.1.5.5.7.1.1, name=authorityInfoAccess)>, critical=False, value=<AuthorityInformationAccess([<AccessDescription(access_method=<ObjectIdentifier(oid=1.3.6.1.5.5.7.48.2, name=caIssuers)>, access_location=<UniformResourceIdentifier(value='http://crt.usertrust.com/InCommonRSAServerCA_2.crt')>)>, <AccessDescription(access_method=<ObjectIdentifier(oid=1.3.6.1.5.5.7.48.1, name=OCSP)>, access_location=<UniformResourceIdentifier(value='http://ocsp.usertrust.com')>)>])>)>"
      ]
     },
     "execution_count": 205,
     "metadata": {},
     "output_type": "execute_result"
    }
   ],
   "source": [
    "server_cert.extensions.get_extension_for_oid(access_constant)"
   ]
  },
  {
   "cell_type": "code",
   "execution_count": 211,
   "metadata": {},
   "outputs": [
    {
     "data": {
      "text/plain": [
       "<AuthorityInformationAccess([<AccessDescription(access_method=<ObjectIdentifier(oid=1.3.6.1.5.5.7.48.2, name=caIssuers)>, access_location=<UniformResourceIdentifier(value='http://crt.usertrust.com/InCommonRSAServerCA_2.crt')>)>, <AccessDescription(access_method=<ObjectIdentifier(oid=1.3.6.1.5.5.7.48.1, name=OCSP)>, access_location=<UniformResourceIdentifier(value='http://ocsp.usertrust.com')>)>])>"
      ]
     },
     "execution_count": 211,
     "metadata": {},
     "output_type": "execute_result"
    }
   ],
   "source": [
    "server_cert.extensions.get_extension_for_oid(access_constant).value"
   ]
  },
  {
   "cell_type": "code",
   "execution_count": 213,
   "metadata": {},
   "outputs": [
    {
     "name": "stdout",
     "output_type": "stream",
     "text": [
      "<AccessDescription(access_method=<ObjectIdentifier(oid=1.3.6.1.5.5.7.48.2, name=caIssuers)>, access_location=<UniformResourceIdentifier(value='http://crt.usertrust.com/InCommonRSAServerCA_2.crt')>)>\n",
      "<AccessDescription(access_method=<ObjectIdentifier(oid=1.3.6.1.5.5.7.48.1, name=OCSP)>, access_location=<UniformResourceIdentifier(value='http://ocsp.usertrust.com')>)>\n"
     ]
    }
   ],
   "source": [
    "for a in server_cert.extensions.get_extension_for_oid(access_constant).value:\n",
    "    print(a)"
   ]
  },
  {
   "cell_type": "code",
   "execution_count": 217,
   "metadata": {},
   "outputs": [
    {
     "data": {
      "text/plain": [
       "'http://crt.usertrust.com/InCommonRSAServerCA_2.crt'"
      ]
     },
     "execution_count": 217,
     "metadata": {},
     "output_type": "execute_result"
    }
   ],
   "source": [
    "caIssuers = server_cert.extensions.get_extension_for_oid(access_constant).value[0].access_location.value\n",
    "caIssuers"
   ]
  },
  {
   "cell_type": "code",
   "execution_count": 218,
   "metadata": {},
   "outputs": [
    {
     "data": {
      "text/plain": [
       "b'0\\x82\\x05\\xf90\\x82\\x03\\xe1\\xa0\\x03\\x02\\x01\\x02\\x02\\x10G \\xd0\\xfa\\x85F\\x1a~\\x17\\xa1d\\x02\\x91\\x84ct0\\r\\x06\\t*\\x86H\\x86\\xf7\\r\\x01\\x01\\x0c\\x05\\x000\\x81\\x881\\x0b0\\t\\x06\\x03U\\x04\\x06\\x13\\x02US1\\x130\\x11\\x06\\x03U\\x04\\x08\\x13\\nNew Jersey1\\x140\\x12\\x06\\x03U\\x04\\x07\\x13\\x0bJersey City1\\x1e0\\x1c\\x06\\x03U\\x04\\n\\x13\\x15The USERTRUST Network1.0,\\x06\\x03U\\x04\\x03\\x13%USERTrust RSA Certification Authority0\\x1e\\x17\\r141006000000Z\\x17\\r241005235959Z0v1\\x0b0\\t\\x06\\x03U\\x04\\x06\\x13\\x02US1\\x0b0\\t\\x06\\x03U\\x04\\x08\\x13\\x02MI1\\x120\\x10\\x06\\x03U\\x04\\x07\\x13\\tAnn Arbor1\\x120\\x10\\x06\\x03U\\x04\\n\\x13\\tInternet21\\x110\\x0f\\x06\\x03U\\x04\\x0b\\x13\\x08InCommon1\\x1f0\\x1d\\x06\\x03U\\x04\\x03\\x13\\x16InCommon RSA Server CA0\\x82\\x01\"0\\r\\x06\\t*\\x86H\\x86\\xf7\\r\\x01\\x01\\x01\\x05\\x00\\x03\\x82\\x01\\x0f\\x000\\x82\\x01\\n\\x02\\x82\\x01\\x01\\x00\\x9c\\x1b\\xf1\\xbb/\\x7fc\\x18\\x15QQT\\x0f\\x9e\\xc5NM\\x10X\\xfa0\\x9b\\x17)\\x90\\xe63\\x0c\\xac\\x13S|T\\x91\\xb4\\xea\\xd8n\\x9b\\x89m\\xbb3>\\x8f\\xd2\\r\\xa6\\xe9\\xf9\\xba\\xe9\\r\\x0c\\x1a\\x9e\\xb2\\x8e\\xc9p.\\xef\\x1e\\x05}\\x95\\xeb-\\x8d\\xa2\\xa9M\\xb3\\x9c\\xe7\\xf3\\x196\\xbb\\xa7\\xf1|\\xe6\\x08\\x1ea\\'Dz\\x96\\xf4\\xa84\\xdb\\xe2B\\xc8\\xa5\\xdb7\\xd5\\xb5\\xe7\\xe4Br?\\xb4\\x13\\xcf\\x8b\\x07$E\\x1e\\x8c\\x91\\x83F\\xb9\\t\\xa6\\xfc\\x18\\xa3\\x06\\x02\\xec4\\x8d2f\\x95\\'\\xea\\xe1\\x97\\xe8\\xdb5\\xa3+V\\xebW\\xe8\\xf0\\x10Y\\xdfmp\\x0cfj\\xd0d\\xe5\\xa8\\xa3\\x981\\xad\\x1db\\xd5\\xfa\\x92\\xe3\\x9aC\\xcd-5\\xfb\\xd9\\x9e3[E}\\xc4\\x86(,f\\x12\\xc8\\xdb\\x0f\\x190\\r?\\xe9\\xf0\\xeaJ^@\\x07\\xc7\\xf6 zSx\\x81dz~Ej\\x16o\\xf4\\x93X\\xc9b\\xfb)\\'}\\xa1\\x7f!\\xce\\xe7OG\\xd6\\x8aV\\xe0\\xe3f\\xf8\\xec\\xdd\\x89\\xdc&\\x8c\\x19h;\\x8d\\x8b\\xe2\\xfbG#\\x0b\\x7f7\\x02\\x03\\x01\\x00\\x01\\xa3\\x82\\x01n0\\x82\\x01j0\\x1f\\x06\\x03U\\x1d#\\x04\\x180\\x16\\x80\\x14Sy\\xbfZ\\xaa+J\\xcfT\\x80\\xe1\\xd8\\x9b\\xc0\\x9d\\xf2\\xb2\\x03f\\xcb0\\x1d\\x06\\x03U\\x1d\\x0e\\x04\\x16\\x04\\x14\\x1e\\x05\\xa3w\\x8fl\\x96\\xe2[\\x87K\\xa6\\xb4\\x86\\xacq\\x00\\x0c\\xe780\\x0e\\x06\\x03U\\x1d\\x0f\\x01\\x01\\xff\\x04\\x04\\x03\\x02\\x01\\x860\\x12\\x06\\x03U\\x1d\\x13\\x01\\x01\\xff\\x04\\x080\\x06\\x01\\x01\\xff\\x02\\x01\\x000\\x1d\\x06\\x03U\\x1d%\\x04\\x160\\x14\\x06\\x08+\\x06\\x01\\x05\\x05\\x07\\x03\\x01\\x06\\x08+\\x06\\x01\\x05\\x05\\x07\\x03\\x020\\x1b\\x06\\x03U\\x1d \\x04\\x140\\x120\\x06\\x06\\x04U\\x1d \\x000\\x08\\x06\\x06g\\x81\\x0c\\x01\\x02\\x020P\\x06\\x03U\\x1d\\x1f\\x04I0G0E\\xa0C\\xa0A\\x86?http://crl.usertrust.com/USERTrustRSACertificationAuthority.crl0v\\x06\\x08+\\x06\\x01\\x05\\x05\\x07\\x01\\x01\\x04j0h0?\\x06\\x08+\\x06\\x01\\x05\\x05\\x070\\x02\\x863http://crt.usertrust.com/USERTrustRSAAddTrustCA.crt0%\\x06\\x08+\\x06\\x01\\x05\\x05\\x070\\x01\\x86\\x19http://ocsp.usertrust.com0\\r\\x06\\t*\\x86H\\x86\\xf7\\r\\x01\\x01\\x0c\\x05\\x00\\x03\\x82\\x02\\x01\\x00-\\x11\\x068\\xd6\\xdb\\xd7Xh\\xaf\\xaa8g\\x17\\x8d\\xe2\\x13\\xd7\\xa3\\x14$\\xd9\\x06\\x13\\xeb\\xeb\\x91/\\xdfOg-\\xc8\\xd3\\x14\\xd7VeR\\x9en\\x1f\\x98\\x08\\x8e\\x9aH\\x1b\\xc1\\x8bY\\x9a\\xa3W\\x9b\\xdb\\x86\\xf8Y@\\xfc\\x19\\xb0u\\x11*\\xc2\\x126\\xba\\x8er\\x8a\\x06N\\'\\xb7\\x8dX\\x14\\xd1o\\xb4\\xf9h\\xfc\\x98\\xdd\\xa4\\x9c%@6\\xde\\xbd\\x17f+\\x03\\x7fx\\x81\\xb1\\x80t\\x9e_:\\xb4&/jH\\x8464\\x8e\\xa7(\\xef\\x87\\xf3a\\xe7\\xdbg\\xf5R\\xdb\\xd7\\xd1\\xe60q\\xbb\\x8b\\xa3\\xd4\\xff\\xb9d\\x89\\x9e\\x9b\\x81\\x9b\\x8fW\\xb8dL\\xd5\\x06\\x19\\x8e\\xe7\\x91\\x85|\\x18\\xd1\\x89\\xd8\\xf6\\xea\\x1dh\\x14\\x11\\xd9\\xee\\x17\\x83\\x1fPc\\xcf\\x0e\\xf6\\x86*n\\xe3\\xb1\\xa4\\xc9\\xfa\\xf64Lw*\\x80\\x860\\xb0\\xa3\\xdc\\x1bq\\xec\\x04\\xa7\\xe4\\x98\\xbc\\x16\\x85>\\x84&\\xb3\\xc0\\xe55U~y\\x98\\xa3\\xd4\\xd4\\x8d\\xb6\\xe7B\\xe8D \\x127_\\t\\xc9\\xfb\\x03\\xe4\\xf5et\\x96\\xed\\xca\\xb9\\xb3\\xf6\\t\\xffL\\xa6\\xd1]:\\xfc\\xd1M\\xaa\\xe4\\x98r\\xbe8K\\x7f\\x89N&\\x8f\\xd4\\xcc\\xbeV\\tq\\x03Jl\\xa3\\xe25\\x86\\xdd\\x1e\\xd9\\xf11\\x03\\xf7\\x13M\\x0b\\x11\\x811y\\xccz\\xd7\\xbe\\xdc\\xfb\\xf3v\\x1b,\\xbd\\xb3\\x91\\x0f\\x00Y\\x07* C\\xdcK\\xd8\\xb5\\x19\\x14\\x8f\\xe2z\\x84)\\xd1C?/\\xcc\\xdf?\\x9d\\xbb\\xbdh\\xc4\\xce\\xe0\\xcd\\xe7\\x1c12xb\\xfa\\xf0\\x93\\xa2\\x1e\\xc9\\xd7\\x9fh\\xe5\\xa8v\\xf6c\\xfeh\\x99\\xef\\xba6\\xd7\\x12q\\x9a\\x9e\\xb3q\\x1f;\\xbe\\x00c\\x9e=_!\\xc2\\xb1\\x86\\x1b\\xb8N!\\xc3\\xc3C\\t.c\\x0c\\xcd\\xff\\x14\\xf6\\xf6\"\\xe9\\xfd\\xca\\x9f\\xf5\\x98D\\xb6A\\x9cA\\xc2\\x08\\x98}\\xdb\\xa0\\x9f\"~\\xc0\\xa7I\\xbb\\xb4\\x18\\x1fK\\xd3\\xa6*\\x87\\xb9\\\\\\xca\\xf2\\x83L@\\x03\\xb2R\\x1ay!\\x087\\x18N\\xd9\\x8d_\\x99\\xc6\\x05_\\xf1j\\xae\\xbauZxG::e^\\xe5\\xc4\\xd0\\xe3\\xda\\xd2\\xebZ(-\\xb9\\x02\\x99`\\xa2o</f|\\x98E\\x9c\\xc9\\xfa\\x01\\xef2\\x8e|>\\xf9\\xf4\\x03{$\\xa6V\\t\\x8c$'"
      ]
     },
     "execution_count": 218,
     "metadata": {},
     "output_type": "execute_result"
    }
   ],
   "source": [
    "r = requests.get(caIssuers)\n",
    "r.content"
   ]
  },
  {
   "cell_type": "code",
   "execution_count": 146,
   "metadata": {},
   "outputs": [
    {
     "data": {
      "text/plain": [
       "['GlobalSign Root CA',\n",
       " 'GlobalSign',\n",
       " 'Entrust.net Certification Authority (2048)',\n",
       " 'Baltimore CyberTrust Root',\n",
       " 'Entrust Root Certification Authority',\n",
       " 'GeoTrust Global CA',\n",
       " 'GeoTrust Universal CA',\n",
       " 'GeoTrust Universal CA 2',\n",
       " 'AAA Certificate Services',\n",
       " 'QuoVadis Root Certification Authority',\n",
       " 'QuoVadis Root CA 2',\n",
       " 'QuoVadis Root CA 3',\n",
       " 'Sonera Class2 CA',\n",
       " 'XRamp Global Certification Authority',\n",
       " 'DigiCert Assured ID Root CA',\n",
       " 'DigiCert Global Root CA',\n",
       " 'DigiCert High Assurance EV Root CA',\n",
       " 'DST Root CA X3',\n",
       " 'SwissSign Gold CA - G2',\n",
       " 'SwissSign Silver CA - G2',\n",
       " 'GeoTrust Primary Certification Authority',\n",
       " 'thawte Primary Root CA',\n",
       " 'VeriSign Class 3 Public Primary Certification Authority - G5',\n",
       " 'SecureTrust CA',\n",
       " 'Secure Global CA',\n",
       " 'COMODO Certification Authority',\n",
       " 'Network Solutions Certificate Authority',\n",
       " 'COMODO ECC Certification Authority',\n",
       " 'OISTE WISeKey Global Root GA CA',\n",
       " 'Certigna',\n",
       " 'Cybertrust Global Root',\n",
       " 'GeoTrust Primary Certification Authority - G3',\n",
       " 'thawte Primary Root CA - G2',\n",
       " 'thawte Primary Root CA - G3',\n",
       " 'GeoTrust Primary Certification Authority - G2',\n",
       " 'VeriSign Universal Root Certification Authority',\n",
       " 'VeriSign Class 3 Public Primary Certification Authority - G4',\n",
       " 'NetLock Arany (Class Gold) Főtanúsítvány',\n",
       " 'Hongkong Post Root CA 1',\n",
       " 'SecureSign RootCA11',\n",
       " 'Microsec e-Szigno Root CA 2009',\n",
       " 'GlobalSign',\n",
       " 'Autoridad de Certificacion Firmaprofesional CIF A62634068',\n",
       " 'Izenpe.com',\n",
       " 'Chambers of Commerce Root - 2008',\n",
       " 'Global Chambersign Root - 2008',\n",
       " 'Go Daddy Root Certificate Authority - G2',\n",
       " 'Starfield Root Certificate Authority - G2',\n",
       " 'Starfield Services Root Certificate Authority - G2',\n",
       " 'AffirmTrust Commercial',\n",
       " 'AffirmTrust Networking',\n",
       " 'AffirmTrust Premium',\n",
       " 'AffirmTrust Premium ECC',\n",
       " 'Certum Trusted Network CA',\n",
       " 'TWCA Root Certification Authority',\n",
       " 'EC-ACC',\n",
       " 'Hellenic Academic and Research Institutions RootCA 2011',\n",
       " 'Actalis Authentication Root CA',\n",
       " 'Buypass Class 2 Root CA',\n",
       " 'Buypass Class 3 Root CA',\n",
       " 'T-TeleSec GlobalRoot Class 3',\n",
       " 'EE Certification Centre Root CA',\n",
       " 'D-TRUST Root Class 3 CA 2 2009',\n",
       " 'D-TRUST Root Class 3 CA 2 EV 2009',\n",
       " 'CA Disig Root R2',\n",
       " 'ACCVRAIZ1',\n",
       " 'TWCA Global Root CA',\n",
       " 'TeliaSonera Root CA v1',\n",
       " 'E-Tugra Certification Authority',\n",
       " 'T-TeleSec GlobalRoot Class 2',\n",
       " 'Atos TrustedRoot 2011',\n",
       " 'QuoVadis Root CA 1 G3',\n",
       " 'QuoVadis Root CA 2 G3',\n",
       " 'QuoVadis Root CA 3 G3',\n",
       " 'DigiCert Assured ID Root G2',\n",
       " 'DigiCert Assured ID Root G3',\n",
       " 'DigiCert Global Root G2',\n",
       " 'DigiCert Global Root G3',\n",
       " 'DigiCert Trusted Root G4',\n",
       " 'COMODO RSA Certification Authority',\n",
       " 'USERTrust RSA Certification Authority',\n",
       " 'USERTrust ECC Certification Authority',\n",
       " 'GlobalSign',\n",
       " 'GlobalSign',\n",
       " 'Staat der Nederlanden Root CA - G3',\n",
       " 'Staat der Nederlanden EV Root CA',\n",
       " 'IdenTrust Commercial Root CA 1',\n",
       " 'IdenTrust Public Sector Root CA 1',\n",
       " 'Entrust Root Certification Authority - G2',\n",
       " 'Entrust Root Certification Authority - EC1',\n",
       " 'CFCA EV ROOT',\n",
       " 'OISTE WISeKey Global Root GB CA',\n",
       " 'SZAFIR ROOT CA2',\n",
       " 'Certum Trusted Network CA 2',\n",
       " 'Hellenic Academic and Research Institutions RootCA 2015',\n",
       " 'Hellenic Academic and Research Institutions ECC RootCA 2015',\n",
       " 'ISRG Root X1',\n",
       " 'Amazon Root CA 1',\n",
       " 'Amazon Root CA 2',\n",
       " 'Amazon Root CA 3',\n",
       " 'Amazon Root CA 4',\n",
       " 'TUBITAK Kamu SM SSL Kok Sertifikasi - Surum 1',\n",
       " 'GDCA TrustAUTH R5 ROOT',\n",
       " 'TrustCor RootCert CA-1',\n",
       " 'TrustCor RootCert CA-2',\n",
       " 'TrustCor ECA-1',\n",
       " 'SSL.com Root Certification Authority RSA',\n",
       " 'SSL.com Root Certification Authority ECC',\n",
       " 'SSL.com EV Root Certification Authority RSA R2',\n",
       " 'SSL.com EV Root Certification Authority ECC',\n",
       " 'GlobalSign',\n",
       " 'OISTE WISeKey Global Root GC CA',\n",
       " 'GTS Root R1',\n",
       " 'GTS Root R2',\n",
       " 'GTS Root R3',\n",
       " 'GTS Root R4',\n",
       " 'UCA Global G2 Root',\n",
       " 'UCA Extended Validation Root',\n",
       " 'Certigna Root CA',\n",
       " 'emSign Root CA - G1',\n",
       " 'emSign ECC Root CA - G3',\n",
       " 'emSign Root CA - C1',\n",
       " 'emSign ECC Root CA - C3',\n",
       " 'Hongkong Post Root CA 3',\n",
       " 'Entrust Root Certification Authority - G4',\n",
       " 'Microsoft ECC Root Certificate Authority 2017',\n",
       " 'Microsoft RSA Root Certificate Authority 2017',\n",
       " 'e-Szigno Root CA 2017']"
      ]
     },
     "execution_count": 146,
     "metadata": {},
     "output_type": "execute_result"
    }
   ],
   "source": [
    "#generate a list of known roots\n",
    "root_names = []\n",
    "for c in root_certs:\n",
    "    try:\n",
    "        root_names.append(c.issuer.get_attributes_for_oid(x509.NameOID.COMMON_NAME)[-1].value)\n",
    "    except IndexError:\n",
    "        pass\n",
    "root_names"
   ]
  },
  {
   "cell_type": "code",
   "execution_count": 158,
   "metadata": {},
   "outputs": [
    {
     "data": {
      "text/plain": [
       "False"
      ]
     },
     "execution_count": 158,
     "metadata": {},
     "output_type": "execute_result"
    }
   ],
   "source": [
    "issuer_name in root_names"
   ]
  },
  {
   "cell_type": "code",
   "execution_count": 102,
   "metadata": {},
   "outputs": [
    {
     "data": {
      "text/plain": [
       "<Response [200]>"
      ]
     },
     "execution_count": 102,
     "metadata": {},
     "output_type": "execute_result"
    }
   ],
   "source": [
    "r=requests.get(cert['caIssuers'][0])\n",
    "r"
   ]
  },
  {
   "cell_type": "code",
   "execution_count": 109,
   "metadata": {},
   "outputs": [
    {
     "data": {
      "text/plain": [
       "b'0\\x82\\x05\\xf90\\x82\\x03\\xe1\\xa0\\x03\\x02\\x01\\x02\\x02\\x10G \\xd0\\xfa\\x85F\\x1a~\\x17\\xa1d\\x02\\x91\\x84ct0\\r\\x06\\t*\\x86H\\x86\\xf7\\r\\x01\\x01\\x0c\\x05\\x000\\x81\\x881\\x0b0\\t\\x06\\x03U\\x04\\x06\\x13\\x02US1\\x130\\x11\\x06\\x03U\\x04\\x08\\x13\\nNew Jersey1\\x140\\x12\\x06\\x03U\\x04\\x07\\x13\\x0bJersey City1\\x1e0\\x1c\\x06\\x03U\\x04\\n\\x13\\x15The USERTRUST Network1.0,\\x06\\x03U\\x04\\x03\\x13%USERTrust RSA Certification Authority0\\x1e\\x17\\r141006000000Z\\x17\\r241005235959Z0v1\\x0b0\\t\\x06\\x03U\\x04\\x06\\x13\\x02US1\\x0b0\\t\\x06\\x03U\\x04\\x08\\x13\\x02MI1\\x120\\x10\\x06\\x03U\\x04\\x07\\x13\\tAnn Arbor1\\x120\\x10\\x06\\x03U\\x04\\n\\x13\\tInternet21\\x110\\x0f\\x06\\x03U\\x04\\x0b\\x13\\x08InCommon1\\x1f0\\x1d\\x06\\x03U\\x04\\x03\\x13\\x16InCommon RSA Server CA0\\x82\\x01\"0\\r\\x06\\t*\\x86H\\x86\\xf7\\r\\x01\\x01\\x01\\x05\\x00\\x03\\x82\\x01\\x0f\\x000\\x82\\x01\\n\\x02\\x82\\x01\\x01\\x00\\x9c\\x1b\\xf1\\xbb/\\x7fc\\x18\\x15QQT\\x0f\\x9e\\xc5NM\\x10X\\xfa0\\x9b\\x17)\\x90\\xe63\\x0c\\xac\\x13S|T\\x91\\xb4\\xea\\xd8n\\x9b\\x89m\\xbb3>\\x8f\\xd2\\r\\xa6\\xe9\\xf9\\xba\\xe9\\r\\x0c\\x1a\\x9e\\xb2\\x8e\\xc9p.\\xef\\x1e\\x05}\\x95\\xeb-\\x8d\\xa2\\xa9M\\xb3\\x9c\\xe7\\xf3\\x196\\xbb\\xa7\\xf1|\\xe6\\x08\\x1ea\\'Dz\\x96\\xf4\\xa84\\xdb\\xe2B\\xc8\\xa5\\xdb7\\xd5\\xb5\\xe7\\xe4Br?\\xb4\\x13\\xcf\\x8b\\x07$E\\x1e\\x8c\\x91\\x83F\\xb9\\t\\xa6\\xfc\\x18\\xa3\\x06\\x02\\xec4\\x8d2f\\x95\\'\\xea\\xe1\\x97\\xe8\\xdb5\\xa3+V\\xebW\\xe8\\xf0\\x10Y\\xdfmp\\x0cfj\\xd0d\\xe5\\xa8\\xa3\\x981\\xad\\x1db\\xd5\\xfa\\x92\\xe3\\x9aC\\xcd-5\\xfb\\xd9\\x9e3[E}\\xc4\\x86(,f\\x12\\xc8\\xdb\\x0f\\x190\\r?\\xe9\\xf0\\xeaJ^@\\x07\\xc7\\xf6 zSx\\x81dz~Ej\\x16o\\xf4\\x93X\\xc9b\\xfb)\\'}\\xa1\\x7f!\\xce\\xe7OG\\xd6\\x8aV\\xe0\\xe3f\\xf8\\xec\\xdd\\x89\\xdc&\\x8c\\x19h;\\x8d\\x8b\\xe2\\xfbG#\\x0b\\x7f7\\x02\\x03\\x01\\x00\\x01\\xa3\\x82\\x01n0\\x82\\x01j0\\x1f\\x06\\x03U\\x1d#\\x04\\x180\\x16\\x80\\x14Sy\\xbfZ\\xaa+J\\xcfT\\x80\\xe1\\xd8\\x9b\\xc0\\x9d\\xf2\\xb2\\x03f\\xcb0\\x1d\\x06\\x03U\\x1d\\x0e\\x04\\x16\\x04\\x14\\x1e\\x05\\xa3w\\x8fl\\x96\\xe2[\\x87K\\xa6\\xb4\\x86\\xacq\\x00\\x0c\\xe780\\x0e\\x06\\x03U\\x1d\\x0f\\x01\\x01\\xff\\x04\\x04\\x03\\x02\\x01\\x860\\x12\\x06\\x03U\\x1d\\x13\\x01\\x01\\xff\\x04\\x080\\x06\\x01\\x01\\xff\\x02\\x01\\x000\\x1d\\x06\\x03U\\x1d%\\x04\\x160\\x14\\x06\\x08+\\x06\\x01\\x05\\x05\\x07\\x03\\x01\\x06\\x08+\\x06\\x01\\x05\\x05\\x07\\x03\\x020\\x1b\\x06\\x03U\\x1d \\x04\\x140\\x120\\x06\\x06\\x04U\\x1d \\x000\\x08\\x06\\x06g\\x81\\x0c\\x01\\x02\\x020P\\x06\\x03U\\x1d\\x1f\\x04I0G0E\\xa0C\\xa0A\\x86?http://crl.usertrust.com/USERTrustRSACertificationAuthority.crl0v\\x06\\x08+\\x06\\x01\\x05\\x05\\x07\\x01\\x01\\x04j0h0?\\x06\\x08+\\x06\\x01\\x05\\x05\\x070\\x02\\x863http://crt.usertrust.com/USERTrustRSAAddTrustCA.crt0%\\x06\\x08+\\x06\\x01\\x05\\x05\\x070\\x01\\x86\\x19http://ocsp.usertrust.com0\\r\\x06\\t*\\x86H\\x86\\xf7\\r\\x01\\x01\\x0c\\x05\\x00\\x03\\x82\\x02\\x01\\x00-\\x11\\x068\\xd6\\xdb\\xd7Xh\\xaf\\xaa8g\\x17\\x8d\\xe2\\x13\\xd7\\xa3\\x14$\\xd9\\x06\\x13\\xeb\\xeb\\x91/\\xdfOg-\\xc8\\xd3\\x14\\xd7VeR\\x9en\\x1f\\x98\\x08\\x8e\\x9aH\\x1b\\xc1\\x8bY\\x9a\\xa3W\\x9b\\xdb\\x86\\xf8Y@\\xfc\\x19\\xb0u\\x11*\\xc2\\x126\\xba\\x8er\\x8a\\x06N\\'\\xb7\\x8dX\\x14\\xd1o\\xb4\\xf9h\\xfc\\x98\\xdd\\xa4\\x9c%@6\\xde\\xbd\\x17f+\\x03\\x7fx\\x81\\xb1\\x80t\\x9e_:\\xb4&/jH\\x8464\\x8e\\xa7(\\xef\\x87\\xf3a\\xe7\\xdbg\\xf5R\\xdb\\xd7\\xd1\\xe60q\\xbb\\x8b\\xa3\\xd4\\xff\\xb9d\\x89\\x9e\\x9b\\x81\\x9b\\x8fW\\xb8dL\\xd5\\x06\\x19\\x8e\\xe7\\x91\\x85|\\x18\\xd1\\x89\\xd8\\xf6\\xea\\x1dh\\x14\\x11\\xd9\\xee\\x17\\x83\\x1fPc\\xcf\\x0e\\xf6\\x86*n\\xe3\\xb1\\xa4\\xc9\\xfa\\xf64Lw*\\x80\\x860\\xb0\\xa3\\xdc\\x1bq\\xec\\x04\\xa7\\xe4\\x98\\xbc\\x16\\x85>\\x84&\\xb3\\xc0\\xe55U~y\\x98\\xa3\\xd4\\xd4\\x8d\\xb6\\xe7B\\xe8D \\x127_\\t\\xc9\\xfb\\x03\\xe4\\xf5et\\x96\\xed\\xca\\xb9\\xb3\\xf6\\t\\xffL\\xa6\\xd1]:\\xfc\\xd1M\\xaa\\xe4\\x98r\\xbe8K\\x7f\\x89N&\\x8f\\xd4\\xcc\\xbeV\\tq\\x03Jl\\xa3\\xe25\\x86\\xdd\\x1e\\xd9\\xf11\\x03\\xf7\\x13M\\x0b\\x11\\x811y\\xccz\\xd7\\xbe\\xdc\\xfb\\xf3v\\x1b,\\xbd\\xb3\\x91\\x0f\\x00Y\\x07* C\\xdcK\\xd8\\xb5\\x19\\x14\\x8f\\xe2z\\x84)\\xd1C?/\\xcc\\xdf?\\x9d\\xbb\\xbdh\\xc4\\xce\\xe0\\xcd\\xe7\\x1c12xb\\xfa\\xf0\\x93\\xa2\\x1e\\xc9\\xd7\\x9fh\\xe5\\xa8v\\xf6c\\xfeh\\x99\\xef\\xba6\\xd7\\x12q\\x9a\\x9e\\xb3q\\x1f;\\xbe\\x00c\\x9e=_!\\xc2\\xb1\\x86\\x1b\\xb8N!\\xc3\\xc3C\\t.c\\x0c\\xcd\\xff\\x14\\xf6\\xf6\"\\xe9\\xfd\\xca\\x9f\\xf5\\x98D\\xb6A\\x9cA\\xc2\\x08\\x98}\\xdb\\xa0\\x9f\"~\\xc0\\xa7I\\xbb\\xb4\\x18\\x1fK\\xd3\\xa6*\\x87\\xb9\\\\\\xca\\xf2\\x83L@\\x03\\xb2R\\x1ay!\\x087\\x18N\\xd9\\x8d_\\x99\\xc6\\x05_\\xf1j\\xae\\xbauZxG::e^\\xe5\\xc4\\xd0\\xe3\\xda\\xd2\\xebZ(-\\xb9\\x02\\x99`\\xa2o</f|\\x98E\\x9c\\xc9\\xfa\\x01\\xef2\\x8e|>\\xf9\\xf4\\x03{$\\xa6V\\t\\x8c$'"
      ]
     },
     "execution_count": 109,
     "metadata": {},
     "output_type": "execute_result"
    }
   ],
   "source": [
    "#See the content of the certificate in DER format\n",
    "r.content"
   ]
  },
  {
   "cell_type": "code",
   "execution_count": 114,
   "metadata": {},
   "outputs": [
    {
     "data": {
      "text/plain": [
       "<Certificate(subject=<Name(C=US,ST=MI,L=Ann Arbor,O=Internet2,OU=InCommon,CN=InCommon RSA Server CA)>, ...)>"
      ]
     },
     "execution_count": 114,
     "metadata": {},
     "output_type": "execute_result"
    }
   ],
   "source": [
    "intermediate_cert = x509.load_der_x509_certificate(r.content)\n",
    "intermediate_cert"
   ]
  },
  {
   "cell_type": "code",
   "execution_count": 124,
   "metadata": {},
   "outputs": [
    {
     "data": {
      "text/plain": [
       "<Name(C=US,ST=MI,L=Ann Arbor,O=Internet2,OU=InCommon,CN=InCommon RSA Server CA)>"
      ]
     },
     "execution_count": 124,
     "metadata": {},
     "output_type": "execute_result"
    }
   ],
   "source": [
    "intermediate_cert.subject"
   ]
  },
  {
   "cell_type": "code",
   "execution_count": 125,
   "metadata": {},
   "outputs": [
    {
     "data": {
      "text/plain": [
       "<Name(C=US,ST=New Jersey,L=Jersey City,O=The USERTRUST Network,CN=USERTrust RSA Certification Authority)>"
      ]
     },
     "execution_count": 125,
     "metadata": {},
     "output_type": "execute_result"
    }
   ],
   "source": [
    "intermediate_cert.issuer"
   ]
  },
  {
   "cell_type": "code",
   "execution_count": 145,
   "metadata": {},
   "outputs": [
    {
     "name": "stdout",
     "output_type": "stream",
     "text": [
      "USERTrust RSA Certification Authority\n"
     ]
    }
   ],
   "source": [
    "for attribute in intermediate_cert.issuer.get_attributes_for_oid(x509.NameOID.COMMON_NAME):\n",
    "    print(attribute.value)\n",
    "issuer_name = attribute.value"
   ]
  },
  {
   "cell_type": "code",
   "execution_count": 148,
   "metadata": {},
   "outputs": [
    {
     "data": {
      "text/plain": [
       "True"
      ]
     },
     "execution_count": 148,
     "metadata": {},
     "output_type": "execute_result"
    }
   ],
   "source": [
    "#Check to see if the issuer of the intermetidate certificate is in a root of trust.\n",
    "issuer_name in root_names"
   ]
  },
  {
   "cell_type": "code",
   "execution_count": null,
   "metadata": {},
   "outputs": [],
   "source": []
  },
  {
   "cell_type": "markdown",
   "metadata": {},
   "source": [
    "### Set up an SSL context, which will allow us to control and query a lot of the parameters for the exchange"
   ]
  },
  {
   "cell_type": "code",
   "execution_count": 50,
   "metadata": {},
   "outputs": [
    {
     "data": {
      "text/plain": [
       "((('countryName', 'US'),),\n",
       " (('stateOrProvinceName', 'MI'),),\n",
       " (('localityName', 'Ann Arbor'),),\n",
       " (('organizationName', 'Internet2'),),\n",
       " (('organizationalUnitName', 'InCommon'),),\n",
       " (('commonName', 'InCommon RSA Server CA'),))"
      ]
     },
     "execution_count": 50,
     "metadata": {},
     "output_type": "execute_result"
    }
   ],
   "source": [
    "cert['issuer']\n"
   ]
  },
  {
   "cell_type": "code",
   "execution_count": 51,
   "metadata": {},
   "outputs": [
    {
     "ename": "AttributeError",
     "evalue": "'Name' object has no attribute 'org'",
     "output_type": "error",
     "traceback": [
      "\u001b[1;31m---------------------------------------------------------------------------\u001b[0m",
      "\u001b[1;31mAttributeError\u001b[0m                            Traceback (most recent call last)",
      "\u001b[1;32m<ipython-input-51-ae8bc2aab246>\u001b[0m in \u001b[0;36m<module>\u001b[1;34m\u001b[0m\n\u001b[0;32m      1\u001b[0m \u001b[1;32mfor\u001b[0m \u001b[0mrootCA\u001b[0m \u001b[1;32min\u001b[0m \u001b[0mroot_certs\u001b[0m\u001b[1;33m:\u001b[0m\u001b[1;33m\u001b[0m\u001b[1;33m\u001b[0m\u001b[0m\n\u001b[1;32m----> 2\u001b[1;33m     \u001b[0mprint\u001b[0m\u001b[1;33m(\u001b[0m\u001b[0mrootCA\u001b[0m\u001b[1;33m.\u001b[0m\u001b[0missuer\u001b[0m\u001b[1;33m.\u001b[0m\u001b[0morg\u001b[0m\u001b[1;33m)\u001b[0m\u001b[1;33m\u001b[0m\u001b[1;33m\u001b[0m\u001b[0m\n\u001b[0m",
      "\u001b[1;31mAttributeError\u001b[0m: 'Name' object has no attribute 'org'"
     ]
    }
   ],
   "source": [
    "for rootCA in root_certs:\n",
    "    print(rootCA.issuer.org)"
   ]
  },
  {
   "cell_type": "markdown",
   "metadata": {},
   "source": [
    "Bring up your Wireshark window now"
   ]
  },
  {
   "cell_type": "code",
   "execution_count": null,
   "metadata": {},
   "outputs": [],
   "source": [
    "with socket.socket(socket.AF_INET, socket.SOCK_STREAM) as s:\n",
    "    conn = SSL.Connection(context, socket=s)\n",
    "    conn.settimeout(5)\n",
    "    conn.connect((DEST_IPADDR, PORT))\n",
    "    conn.setblocking(1)\n",
    "    conn.do_handshake()\n",
    "    peerCert = conn.get_peer_certificate()  # Get the certificate from the packet\n",
    "    certChain = conn.get_peer_cert_chain()  # Get the certificates of interest from the local trust store\n"
   ]
  },
  {
   "cell_type": "markdown",
   "metadata": {},
   "source": [
    "### Extract the certs we care about "
   ]
  },
  {
   "cell_type": "markdown",
   "metadata": {},
   "source": [
    "TBH, we are using two different cryptography libraries here.  I'm using OpenSSL only because it has a call to extract the certificate chain from the message.  I'd rather use the cryptography library (which we've looked at before) to do the heavy lifting..."
   ]
  },
  {
   "cell_type": "code",
   "execution_count": null,
   "metadata": {},
   "outputs": [],
   "source": [
    "CACert = certChain[-1].to_cryptography()\n",
    "pktCert = peerCert.to_cryptography()"
   ]
  },
  {
   "cell_type": "markdown",
   "metadata": {},
   "source": [
    "### Repeat the steps from the sequence diagram..."
   ]
  },
  {
   "cell_type": "markdown",
   "metadata": {},
   "source": [
    "![Certificates](CA.png)"
   ]
  },
  {
   "cell_type": "markdown",
   "metadata": {},
   "source": [
    "#### Verify the certificate with the public key from our local cert store"
   ]
  },
  {
   "cell_type": "code",
   "execution_count": null,
   "metadata": {},
   "outputs": [],
   "source": [
    "#\n",
    "# Verify certificate w/ CA public key\n",
    "#\n",
    "\n",
    "try:\n",
    "    CACert.public_key().verify(\n",
    "            pktCert.signature,\n",
    "            pktCert.tbs_certificate_bytes,\n",
    "            padding.PKCS1v15(),\n",
    "            pktCert.signature_hash_algorithm\n",
    "        )\n",
    "    print(\"Valid signature\")\n",
    "except InvalidSignature as e:\n",
    "    print(\"Invalid signature\")"
   ]
  },
  {
   "cell_type": "markdown",
   "metadata": {},
   "source": [
    "#### Verify the hostname & certificate validity times"
   ]
  },
  {
   "cell_type": "code",
   "execution_count": null,
   "metadata": {},
   "outputs": [],
   "source": [
    "# todo"
   ]
  },
  {
   "cell_type": "markdown",
   "metadata": {},
   "source": [
    "#### Verify the hashes"
   ]
  },
  {
   "cell_type": "code",
   "execution_count": null,
   "metadata": {},
   "outputs": [],
   "source": [
    "# todo"
   ]
  }
 ],
 "metadata": {
  "kernelspec": {
   "display_name": "Python 3",
   "language": "python",
   "name": "python3"
  },
  "language_info": {
   "codemirror_mode": {
    "name": "ipython",
    "version": 3
   },
   "file_extension": ".py",
   "mimetype": "text/x-python",
   "name": "python",
   "nbconvert_exporter": "python",
   "pygments_lexer": "ipython3",
   "version": "3.8.5"
  },
  "latex_envs": {
   "LaTeX_envs_menu_present": true,
   "autoclose": false,
   "autocomplete": true,
   "bibliofile": "biblio.bib",
   "cite_by": "apalike",
   "current_citInitial": 1,
   "eqLabelWithNumbers": true,
   "eqNumInitial": 1,
   "hotkeys": {
    "equation": "Ctrl-E",
    "itemize": "Ctrl-I"
   },
   "labels_anchors": false,
   "latex_user_defs": false,
   "report_style_numbering": false,
   "user_envs_cfg": false
  }
 },
 "nbformat": 4,
 "nbformat_minor": 4
}
