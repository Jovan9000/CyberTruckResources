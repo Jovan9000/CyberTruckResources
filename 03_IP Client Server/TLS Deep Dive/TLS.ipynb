{
 "cells": [
  {
   "cell_type": "markdown",
   "metadata": {},
   "source": [
    "# <center> TLS Deep Dive\n",
    "## <center> ENGR 580A2: Secure Vehicle and Industrial Networking\n",
    "## <center> <img src=\"https://www.engr.colostate.edu/~jdaily/Systems-EN-CSU-1-C357.svg\" width=\"600\" /> \n",
    "### <center> Instructor: Dr. Jeremy Daily<br>\n",
    "### <center> Content Author: Jerry Duggan<br>Fall 2020"
   ]
  },
  {
   "cell_type": "markdown",
   "metadata": {},
   "source": [
    "## Learning Objectives\n",
    "By the end of this module, you will:\n",
    "* Understand how to create and verify a self-signed certificate;\n",
    "* Understand how to initiate a TLS v1.2 session with an HTTP server;\n",
    "* Understand how to access components of a TLS certificate with a client application, and how to verify the certificate;\n",
    "* Understand how to use Wireshark to examine the steps for establishing a TLS session."
   ]
  },
  {
   "cell_type": "markdown",
   "metadata": {},
   "source": [
    "## Quick Review"
   ]
  },
  {
   "cell_type": "markdown",
   "metadata": {},
   "source": [
    "![Person in the Middle](PITM.png)"
   ]
  },
  {
   "cell_type": "markdown",
   "metadata": {},
   "source": [
    "![Certificates](CA.png)"
   ]
  },
  {
   "cell_type": "markdown",
   "metadata": {},
   "source": [
    "## Create & verify a self-signed certificate"
   ]
  },
  {
   "cell_type": "markdown",
   "metadata": {},
   "source": [
    "### Load dependencies"
   ]
  },
  {
   "cell_type": "code",
   "execution_count": 1,
   "metadata": {},
   "outputs": [],
   "source": [
    "from cryptography.hazmat.primitives.asymmetric import rsa\n",
    "from cryptography.hazmat.primitives import hashes\n",
    "from cryptography.exceptions import InvalidSignature\n",
    "from datetime import datetime, timedelta\n",
    "from cryptography.hazmat.backends import default_backend\n",
    "from cryptography import x509\n",
    "from cryptography.hazmat.primitives.asymmetric import padding"
   ]
  },
  {
   "cell_type": "markdown",
   "metadata": {},
   "source": [
    "### Generate private key & calculate it's associated public key"
   ]
  },
  {
   "cell_type": "code",
   "execution_count": 2,
   "metadata": {},
   "outputs": [
    {
     "name": "stdout",
     "output_type": "stream",
     "text": [
      "<cryptography.hazmat.backends.openssl.rsa._RSAPublicKey object at 0x00000220134B37C8>\n"
     ]
    }
   ],
   "source": [
    "privateKey = rsa.generate_private_key(\n",
    "        public_exponent=65537,\n",
    "        key_size=2048,\n",
    "        backend=default_backend()\n",
    "    )\n",
    "\n",
    "publicKey = privateKey.public_key()\n",
    "print(publicKey)"
   ]
  },
  {
   "cell_type": "markdown",
   "metadata": {},
   "source": [
    "### Create an x509 object with our pertinent information"
   ]
  },
  {
   "cell_type": "code",
   "execution_count": 4,
   "metadata": {},
   "outputs": [
    {
     "data": {
      "text/plain": [
       "<Name(C=US,ST=Colorado,L=Fort Collins,O=Colorado State University,CN=fakesite.edu)>"
      ]
     },
     "execution_count": 4,
     "metadata": {},
     "output_type": "execute_result"
    }
   ],
   "source": [
    "issuer = x509.Name([\n",
    "        x509.NameAttribute(x509.NameOID.COUNTRY_NAME,           u\"US\"),\n",
    "        x509.NameAttribute(x509.NameOID.STATE_OR_PROVINCE_NAME, u\"Colorado\"),\n",
    "        x509.NameAttribute(x509.NameOID.LOCALITY_NAME,          u\"Fort Collins\"),\n",
    "        x509.NameAttribute(x509.NameOID.ORGANIZATION_NAME,      u\"Colorado State University\"),\n",
    "        x509.NameAttribute(x509.NameOID.COMMON_NAME,            u\"fakesite.edu\")\n",
    "    ])\n",
    "issuer"
   ]
  },
  {
   "cell_type": "markdown",
   "metadata": {},
   "source": [
    "### This is a self-signed certificate, so in the case the issuer is also the subject"
   ]
  },
  {
   "cell_type": "code",
   "execution_count": 5,
   "metadata": {},
   "outputs": [],
   "source": [
    "subject = issuer"
   ]
  },
  {
   "cell_type": "markdown",
   "metadata": {},
   "source": [
    "### Create the certificate builder..."
   ]
  },
  {
   "cell_type": "code",
   "execution_count": 6,
   "metadata": {},
   "outputs": [
    {
     "data": {
      "text/plain": [
       "<cryptography.x509.base.CertificateBuilder at 0x2201363c348>"
      ]
     },
     "execution_count": 6,
     "metadata": {},
     "output_type": "execute_result"
    }
   ],
   "source": [
    "rawCert = (\n",
    "        x509.CertificateBuilder()\n",
    "            .subject_name(subject)\n",
    "            .issuer_name(issuer)\n",
    "            .public_key(publicKey)\n",
    "            .serial_number(x509.random_serial_number())\n",
    "            .not_valid_before(datetime.utcnow())\n",
    "            .not_valid_after(datetime.utcnow() + timedelta(days=10))\n",
    "            .add_extension(x509.SubjectAlternativeName([x509.DNSName(u\"localhost\")]), critical=False)\n",
    "            )\n",
    "rawCert"
   ]
  },
  {
   "cell_type": "markdown",
   "metadata": {},
   "source": [
    "### And sign it with our private key to make it a real certificate"
   ]
  },
  {
   "cell_type": "code",
   "execution_count": 7,
   "metadata": {},
   "outputs": [
    {
     "data": {
      "text/plain": [
       "<Certificate(subject=<Name(C=US,ST=Colorado,L=Fort Collins,O=Colorado State University,CN=fakesite.edu)>, ...)>"
      ]
     },
     "execution_count": 7,
     "metadata": {},
     "output_type": "execute_result"
    }
   ],
   "source": [
    "signedCert = rawCert.sign(privateKey, hashes.SHA256(), backend=default_backend())\n",
    "signedCert"
   ]
  },
  {
   "cell_type": "markdown",
   "metadata": {},
   "source": [
    "### Pretend the public key & certificate were transmitted..."
   ]
  },
  {
   "cell_type": "markdown",
   "metadata": {},
   "source": [
    "### And now the \"client\" verifies it"
   ]
  },
  {
   "cell_type": "code",
   "execution_count": 8,
   "metadata": {},
   "outputs": [
    {
     "name": "stdout",
     "output_type": "stream",
     "text": [
      "Valid signature\n"
     ]
    }
   ],
   "source": [
    "try:\n",
    "    publicKey.verify(\n",
    "            signedCert.signature,\n",
    "            signedCert.tbs_certificate_bytes,\n",
    "            padding.PKCS1v15(),\n",
    "            signedCert.signature_hash_algorithm\n",
    "        )\n",
    "    print(\"Valid signature\")\n",
    "except InvalidSignature as e:\n",
    "    print(\"Invalid signature\")"
   ]
  },
  {
   "cell_type": "markdown",
   "metadata": {},
   "source": [
    "## TLS Deep Dive"
   ]
  },
  {
   "cell_type": "markdown",
   "metadata": {},
   "source": [
    "To prepare for this section:\n",
    "* Open Wireshark\n",
    "* Set a capture filter to 'host 140.82.112.3 and port 443'\n",
    "* Set a display filter to 'tls'"
   ]
  },
  {
   "cell_type": "markdown",
   "metadata": {},
   "source": [
    "### Establish a Socket Connection"
   ]
  },
  {
   "cell_type": "markdown",
   "metadata": {},
   "source": [
    "We have seen how to establish a socket connection before.  The folks who implement TLS in Python have gone to a lot of trouble to make it transpartent to use a TLS-enabled socket.  The problem is that the normal ways of doing so \"hide\" a lot of the details, and we explicitly want access to those details.  So we have to go to a bit of extra trouble to get this to work."
   ]
  },
  {
   "cell_type": "markdown",
   "metadata": {},
   "source": [
    "### Load Prereqs"
   ]
  },
  {
   "cell_type": "code",
   "execution_count": 12,
   "metadata": {},
   "outputs": [],
   "source": [
    "from OpenSSL import SSL\n",
    "import certifi\n",
    "import socket\n",
    "from cryptography import x509\n",
    "from cryptography.hazmat.backends import default_backend\n",
    "from cryptography.hazmat.primitives.asymmetric import padding"
   ]
  },
  {
   "cell_type": "markdown",
   "metadata": {},
   "source": [
    "### Parameters to Use"
   ]
  },
  {
   "cell_type": "code",
   "execution_count": 13,
   "metadata": {},
   "outputs": [],
   "source": [
    "HOSTNAME = 'api.github.com'\n",
    "DEST_IPADDR = '140.82.112.3'\n",
    "PORT = 443"
   ]
  },
  {
   "cell_type": "markdown",
   "metadata": {},
   "source": [
    "### Set up an SSL context, which will allow us to control and query a lot of the parameters for the exchange"
   ]
  },
  {
   "cell_type": "code",
   "execution_count": 14,
   "metadata": {},
   "outputs": [],
   "source": [
    "context = SSL.Context(method=SSL.TLSv1_2_METHOD)\n",
    "context.load_verify_locations(cafile=certifi.where())"
   ]
  },
  {
   "cell_type": "markdown",
   "metadata": {},
   "source": [
    "### Create the socket connection"
   ]
  },
  {
   "cell_type": "markdown",
   "metadata": {},
   "source": [
    "The call to 'do_handshake' does all the work required establish the connection."
   ]
  },
  {
   "cell_type": "markdown",
   "metadata": {},
   "source": [
    "Bring up your Wireshark window now"
   ]
  },
  {
   "cell_type": "code",
   "execution_count": 18,
   "metadata": {},
   "outputs": [],
   "source": [
    "with socket.socket(socket.AF_INET, socket.SOCK_STREAM) as s:\n",
    "    conn = SSL.Connection(context, socket=s)\n",
    "    conn.settimeout(5)\n",
    "    conn.connect((DEST_IPADDR, PORT))\n",
    "    conn.setblocking(1)\n",
    "    conn.do_handshake()\n",
    "    peerCert = conn.get_peer_certificate()  # Get the certificate from the packet\n",
    "    certChain = conn.get_peer_cert_chain()  # Get the certificates of interest from the local trust store\n"
   ]
  },
  {
   "cell_type": "markdown",
   "metadata": {},
   "source": [
    "### Extract the certs we care about "
   ]
  },
  {
   "cell_type": "markdown",
   "metadata": {},
   "source": [
    "TBH, we are using two different cryptography libraries here.  I'm using OpenSSL only because it has a call to extract the certificate chain from the message.  I'd rather use the cryptography library (which we've looked at before) to do the heavy lifting..."
   ]
  },
  {
   "cell_type": "code",
   "execution_count": 17,
   "metadata": {},
   "outputs": [],
   "source": [
    "CACert = certChain[-1].to_cryptography()\n",
    "pktCert = peerCert.to_cryptography()"
   ]
  },
  {
   "cell_type": "markdown",
   "metadata": {},
   "source": [
    "### Repeat the steps from the sequence diagram..."
   ]
  },
  {
   "cell_type": "markdown",
   "metadata": {},
   "source": [
    "![Certificates](CA.png)"
   ]
  },
  {
   "cell_type": "markdown",
   "metadata": {},
   "source": [
    "#### Verify the certificate with the public key from our local cert store"
   ]
  },
  {
   "cell_type": "code",
   "execution_count": 40,
   "metadata": {},
   "outputs": [
    {
     "name": "stdout",
     "output_type": "stream",
     "text": [
      "Invalid signature\n"
     ]
    }
   ],
   "source": [
    "#\n",
    "# Verify certificate w/ CA public key\n",
    "#\n",
    "\n",
    "try:\n",
    "    CACert.public_key().verify(\n",
    "            pktCert.signature,\n",
    "            pktCert.tbs_certificate_bytes,\n",
    "            padding.PKCS1v15(),\n",
    "            pktCert.signature_hash_algorithm\n",
    "        )\n",
    "    print(\"Valid signature\")\n",
    "except InvalidSignature as e:\n",
    "    print(\"Invalid signature\")"
   ]
  },
  {
   "cell_type": "markdown",
   "metadata": {},
   "source": [
    "#### Verify the hostname & certificate validity times"
   ]
  },
  {
   "cell_type": "code",
   "execution_count": 41,
   "metadata": {},
   "outputs": [],
   "source": [
    "# todo"
   ]
  },
  {
   "cell_type": "markdown",
   "metadata": {},
   "source": [
    "#### Verify the hashes"
   ]
  },
  {
   "cell_type": "code",
   "execution_count": null,
   "metadata": {},
   "outputs": [],
   "source": [
    "# todo"
   ]
  }
 ],
 "metadata": {
  "kernelspec": {
   "display_name": "Python 3",
   "language": "python",
   "name": "python3"
  },
  "language_info": {
   "codemirror_mode": {
    "name": "ipython",
    "version": 3
   },
   "file_extension": ".py",
   "mimetype": "text/x-python",
   "name": "python",
   "nbconvert_exporter": "python",
   "pygments_lexer": "ipython3",
   "version": "3.7.7"
  }
 },
 "nbformat": 4,
 "nbformat_minor": 4
}
