{
 "cells": [
  {
   "cell_type": "markdown",
   "metadata": {},
   "source": [
    "# <center> Enhanced Tornado Server Example\n",
    "## <center> ENGR 580A2: Secure Vehicle and Industrial Networking\n",
    "## <center> <img src=\"https://www.engr.colostate.edu/~jdaily/Systems-EN-CSU-1-C357.svg\" width=\"600\" /> \n",
    "### <center> Instructor: Dr. Jeremy Daily<br>\n",
    "### <center> Content Author: Jerry Duggan<br>Fall 2020"
   ]
  },
  {
   "cell_type": "markdown",
   "metadata": {},
   "source": [
    "This notebook is slightly different in each block is a complete server. They run asyncronously, which means only 1 block can run at a time. To run another block, the Python Kernel must be shut down. Therefore, the notebook displays the bad practice of copy and pasted code."
   ]
  },
  {
   "cell_type": "markdown",
   "metadata": {},
   "source": [
    "Start wireshark & listen on port 9100 (optionally view filter 'http' protocol) to watch traffic."
   ]
  },
  {
   "cell_type": "code",
   "execution_count": 1,
   "metadata": {},
   "outputs": [],
   "source": [
    "import tornado.ioloop\n",
    "import tornado.web\n",
    "import time\n",
    "import json\n",
    "import os\n",
    "import base64\n",
    "import logging"
   ]
  },
  {
   "cell_type": "markdown",
   "metadata": {},
   "source": [
    "# SimpleClient\n",
    "Basic functionality -- accept a POST request, and return the original \"cipher_text\" (which is not encrypted) as \"plaintext\""
   ]
  },
  {
   "cell_type": "code",
   "execution_count": 2,
   "metadata": {},
   "outputs": [],
   "source": [
    "# No encryption\n",
    "\n",
    "class MainHandler(tornado.web.RequestHandler):\n",
    "    def get(self):\n",
    "        self.write(\n",
    "            {'message': \"The current time is {}\".format(time.time())}\n",
    "        )\n",
    "\n",
    "    def post(self):\n",
    "        data = json.loads(self.request.body.decode('utf-8'))\n",
    "        self.write({'original_text': data['cipher_text'], 'plaintext': data['cipher_text']})\n"
   ]
  },
  {
   "cell_type": "markdown",
   "metadata": {},
   "source": [
    "# SymmetricKeyClient\n",
    "Server will respond to a GET request with a symmetric key.  Client then uses this key to encrypt\n",
    "a message and POST it to the server.  Server decrypts the message with the symmetric key and returns\n",
    "cipher_text and plaintext back to the client.\n",
    "\n",
    "**VERY BAD PRACTICE** as symmetric key can be snooped.  No security here at all."
   ]
  },
  {
   "cell_type": "code",
   "execution_count": 3,
   "metadata": {},
   "outputs": [],
   "source": [
    "# Symmetric encryption with key exchange via GET.  Bad practice -- don't do this!\n",
    "\n",
    "from cryptography.fernet import Fernet\n",
    "SYMMETRIC_KEY = Fernet.generate_key()\n",
    "f = Fernet(SYMMETRIC_KEY)\n",
    "\n",
    "class EncryptedHandler(tornado.web.RequestHandler):\n",
    "    def get(self):\n",
    "        #Write the key data out\n",
    "        # Don't ever do this. It is bad. You'll expose the key!\n",
    "        self.write({'key': SYMMETRIC_KEY.decode('utf-8')})\n",
    "\n",
    "    def post(self):\n",
    "        data = json.loads(self.request.body.decode('utf-8'))\n",
    "        logging.debug(f'Got JSON data: {data}')\n",
    "        cipher_text = data['cipher_text']\n",
    "        f = Fernet(SYMMETRIC_KEY)\n",
    "        plaintext = f.decrypt(cipher_text.encode('utf-8')).decode('utf-8')\n",
    "        self.write({'ciphertext': cipher_text, 'plaintext': plaintext})"
   ]
  },
  {
   "cell_type": "markdown",
   "metadata": {},
   "source": [
    "# PublicKeyClient\n",
    "Server responds to a GET request with its public key.  Client then uses this public key to encrypt a message.  Server uses its private key to decrypt, returning both the original cipher_text and the decrypted plaintext.\n",
    "\n",
    "This is reasonable practice, as only the server knows its private key, and thus only the server can decrypt, so message privace is maintained.  It is subject to impersonation of the client, though...\n",
    "\n",
    "It is also potentially slow, as asymmetric encryption is significantly slower than symmetric encryption."
   ]
  },
  {
   "cell_type": "code",
   "execution_count": 4,
   "metadata": {},
   "outputs": [],
   "source": [
    "# Asymmetric encryption with the server's public key, which is queried in \n",
    "# the initial GET.  This provides message privacy in a reasonable way.\n",
    "\n",
    "from cryptography.hazmat.backends import default_backend\n",
    "from cryptography.hazmat.primitives.asymmetric import rsa\n",
    "from cryptography.hazmat.primitives import serialization\n",
    "\n",
    "from cryptography.hazmat.primitives import hashes\n",
    "from cryptography.hazmat.primitives.asymmetric import padding\n",
    "\n",
    "PRIVATE_KEY = rsa.generate_private_key(\n",
    "    public_exponent=65537,\n",
    "    key_size=2048,\n",
    "    backend=default_backend()\n",
    ")\n",
    "PUBLIC_KEY = PRIVATE_KEY.public_key()\n",
    "\n",
    "class ServerPublicKeyHandler(tornado.web.RequestHandler):\n",
    "\n",
    "    def get(self):\n",
    "        # provide the public key.  This is not bad...  \n",
    "        # It is, after all, the public key\n",
    "        pem = PUBLIC_KEY.public_bytes(\n",
    "            encoding=serialization.Encoding.PEM,\n",
    "            format=serialization.PublicFormat.SubjectPublicKeyInfo\n",
    "        )\n",
    "        self.write({'publicKey': pem.decode('ASCII')})\n",
    "\n",
    "    def post(self):\n",
    "        data = json.loads(self.request.body.decode('utf-8'))\n",
    "        cyphertext = data['cipher_text']\n",
    "        logging.debug(f\"Cyphertext: {cyphertext}\")\n",
    "        cypherbytes = base64.b64decode(cyphertext)\n",
    "        logging.debug(f\"Cypherbytes: {cypherbytes}\")\n",
    "\n",
    "        try:\n",
    "            plaintext = PRIVATE_KEY.decrypt(\n",
    "                cypherbytes,\n",
    "                padding.OAEP(\n",
    "                    mgf=padding.MGF1(algorithm=hashes.SHA256()),\n",
    "                    algorithm=hashes.SHA256(),\n",
    "                    label=None\n",
    "                )\n",
    "            )\n",
    "        except ValueError as e:\n",
    "            logging.warning(f\"Value Error: {e}\")\n",
    "            plaintext = None\n",
    "        self.write({'original_text': data['cipher_text'], \n",
    "                    'plaintext': plaintext.decode('utf-8')})"
   ]
  },
  {
   "cell_type": "markdown",
   "metadata": {},
   "source": [
    "# KeyExchangeClient\n",
    "Client sends its public key as a URL argument in the GET.  Server replies to the get by encrypting a symmetric key with the client public key.  Client uses its private key to decrypt the symmetric key, and sends subsequent messages encryped with the symmetric key.\n",
    "\n",
    "Much faster than using asymmetric encryption for the entire conversation.\n",
    "\n",
    "Still subject to impersonation -- this time on the server side.  Can be cracked by a Person-in-the-middle (PITM) attack."
   ]
  },
  {
   "cell_type": "code",
   "execution_count": 5,
   "metadata": {},
   "outputs": [],
   "source": [
    "# Transfer a symmetric key -- kinda like the first example.  But this example\n",
    "# uses the client's public key to encrypt the symmetric key, so it is safe from snooping.\n",
    "\n",
    "class ServerPublicKeyExchangeHandler(tornado.web.RequestHandler):\n",
    "\n",
    "    def get(self):\n",
    "        encodedClientPublicKey = self.request.query_arguments['client_publicKey'][0]\n",
    "        clientPublicKeyBytes = base64.b64decode(encodedClientPublicKey)\n",
    "        clientPublicKey = serialization.load_der_public_key(clientPublicKeyBytes, backend=default_backend())\n",
    "        # provide the symmetric key, but encrypt it with the client public key \n",
    "        # to keep it secret\n",
    "        logging.debug(f\"Symmetric key: {SYMMETRIC_KEY}\")\n",
    "        encryptedSymmetricKey = clientPublicKey.encrypt(SYMMETRIC_KEY,\n",
    "                                                        padding.OAEP(\n",
    "                                                            mgf=padding.MGF1(algorithm=hashes.SHA256()),\n",
    "                                                            algorithm=hashes.SHA256(),\n",
    "                                                            label=None)\n",
    "                                                        )\n",
    "        encodedEncryptedSymmetricKey = base64.b64encode(encryptedSymmetricKey).decode('utf-8')\n",
    "        self.write({'encodedEncryptedSymmetricKey': encodedEncryptedSymmetricKey})\n",
    "\n",
    "    def post(self):\n",
    "        data = json.loads(self.request.body.decode('utf-8'))\n",
    "        cyphertext = data['cipher_text']\n",
    "        logging.debug(f\"Cyphertext: {cyphertext}\")\n",
    "        cypherbytes = base64.b64decode(cyphertext)\n",
    "        logging.debug(f\"Cypherbytes: {cypherbytes}\")\n",
    "\n",
    "        try:\n",
    "            plaintext = PRIVATE_KEY.decrypt(\n",
    "                cypherbytes,\n",
    "                padding.OAEP(\n",
    "                    mgf=padding.MGF1(algorithm=hashes.SHA256()),\n",
    "                    algorithm=hashes.SHA256(),\n",
    "                    label=None\n",
    "                )\n",
    "            )\n",
    "        except ValueError as e:\n",
    "            logging.warning(f\"Value Error: {e}\")\n",
    "            plaintext = None\n",
    "        self.write({'original_text': data['cipher_text'], 'plaintext': plaintext.decode('utf-8')})"
   ]
  },
  {
   "cell_type": "code",
   "execution_count": 6,
   "metadata": {},
   "outputs": [
    {
     "name": "stdout",
     "output_type": "stream",
     "text": [
      "Listening on port 9100\n"
     ]
    },
    {
     "name": "stderr",
     "output_type": "stream",
     "text": [
      "INFO:tornado.access:200 POST / (::1) 0.00ms\n"
     ]
    }
   ],
   "source": [
    "try:\n",
    "    logging.basicConfig(level=logging.DEBUG)\n",
    "    port = 9100\n",
    "    app = tornado.web.Application([\n",
    "        (r\"/\", MainHandler),\n",
    "        (r\"/encrypted/\", EncryptedHandler),\n",
    "        (r\"/serverPublicKey/\", ServerPublicKeyHandler),\n",
    "        (r\"/serverPublicKeySymmetricKeyExchange/\", ServerPublicKeyExchangeHandler)\n",
    "       ], debug = True) #turn off debugging for production\n",
    "\n",
    "    app.listen(port)\n",
    "    print(\"Listening on port {}\".format(port))\n",
    "    # tornado.ioloop.IOLoop.current().start()\n",
    "    #Restart Kernel to stop\n",
    "except OSError:\n",
    "    os._exit(00)\n",
    "    #Be sure to run all"
   ]
  }
 ],
 "metadata": {
  "kernelspec": {
   "display_name": "Python 3",
   "language": "python",
   "name": "python3"
  },
  "language_info": {
   "codemirror_mode": {
    "name": "ipython",
    "version": 3
   },
   "file_extension": ".py",
   "mimetype": "text/x-python",
   "name": "python",
   "nbconvert_exporter": "python",
   "pygments_lexer": "ipython3",
   "version": "3.7.4"
  }
 },
 "nbformat": 4,
 "nbformat_minor": 4
}
