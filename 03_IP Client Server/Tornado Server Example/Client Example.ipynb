{
 "cells": [
  {
   "cell_type": "markdown",
   "metadata": {},
   "source": [
    "# <center> Python Client Example\n",
    "## <center> ENGR 580A2: Secure Vehicle and Industrial Networking\n",
    "## <center> <img src=\"https://www.engr.colostate.edu/~jdaily/Systems-EN-CSU-1-C357.svg\" width=\"600\" /> \n",
    "### <center> Instructor: Dr. Jeremy Daily<br>Fall 2021"
   ]
  },
  {
   "cell_type": "markdown",
   "metadata": {},
   "source": [
    "# Web Clients\n",
    "While often we think of a web client to be a browser, we can also use programs or libraries to access web based resources. \n",
    "\n",
    "Python has the requests library for these transactions.\n",
    "\n",
    "https://requests.readthedocs.io/en/master/\n",
    "\n",
    "Run this notebook after the Tornado server notebook is running."
   ]
  },
  {
   "cell_type": "code",
   "execution_count": 1,
   "metadata": {},
   "outputs": [],
   "source": [
    "import requests\n",
    "import base64\n",
    "import json"
   ]
  },
  {
   "cell_type": "code",
   "execution_count": 2,
   "metadata": {},
   "outputs": [
    {
     "name": "stdout",
     "output_type": "stream",
     "text": [
      "<Response [200]>\n"
     ]
    }
   ],
   "source": [
    "url = \"http://localhost:8080\"\n",
    "r = requests.get(url)\n",
    "print(r)"
   ]
  },
  {
   "cell_type": "markdown",
   "metadata": {},
   "source": [
    "What are the status codes?\n",
    "\n",
    "https://developer.mozilla.org/en-US/docs/Web/HTTP/Status\n",
    "\n",
    "200 is good."
   ]
  },
  {
   "cell_type": "code",
   "execution_count": 3,
   "metadata": {},
   "outputs": [
    {
     "data": {
      "text/plain": [
       "200"
      ]
     },
     "execution_count": 3,
     "metadata": {},
     "output_type": "execute_result"
    }
   ],
   "source": [
    "#Responses have status codes\n",
    "r.status_code"
   ]
  },
  {
   "cell_type": "code",
   "execution_count": 4,
   "metadata": {},
   "outputs": [
    {
     "data": {
      "text/plain": [
       "'{\"message\": \"The current time is 1632450248.170048\"}'"
      ]
     },
     "execution_count": 4,
     "metadata": {},
     "output_type": "execute_result"
    }
   ],
   "source": [
    "# Text base response\n",
    "r.text"
   ]
  },
  {
   "cell_type": "code",
   "execution_count": 5,
   "metadata": {},
   "outputs": [
    {
     "data": {
      "text/plain": [
       "b'{\"message\": \"The current time is 1632450248.170048\"}'"
      ]
     },
     "execution_count": 5,
     "metadata": {},
     "output_type": "execute_result"
    }
   ],
   "source": [
    "# Bytes as the response. Use this to read binary (like photos)\n",
    "r.content "
   ]
  },
  {
   "cell_type": "code",
   "execution_count": 6,
   "metadata": {},
   "outputs": [
    {
     "data": {
      "text/plain": [
       "<urllib3.response.HTTPResponse at 0x22068bd62c8>"
      ]
     },
     "execution_count": 6,
     "metadata": {},
     "output_type": "execute_result"
    }
   ],
   "source": [
    "# Access lower level bytes from the socket\n",
    "r = requests.get(url, stream=True)\n",
    "r.raw"
   ]
  },
  {
   "cell_type": "code",
   "execution_count": 7,
   "metadata": {},
   "outputs": [
    {
     "data": {
      "text/plain": [
       "b'{\"message\": \"The current time is 1632450248.2390492\"}'"
      ]
     },
     "execution_count": 7,
     "metadata": {},
     "output_type": "execute_result"
    }
   ],
   "source": [
    "r.raw.read()"
   ]
  },
  {
   "cell_type": "code",
   "execution_count": 8,
   "metadata": {},
   "outputs": [
    {
     "data": {
      "text/plain": [
       "{'Server': 'TornadoServer/6.0.3', 'Content-Type': 'text/html; charset=UTF-8', 'Date': 'Fri, 24 Sep 2021 02:24:08 GMT', 'Etag': '\"ce288ec10effe4ab1ec3f70df02b1c23579b3a6a\"', 'Content-Length': '53'}"
      ]
     },
     "execution_count": 8,
     "metadata": {},
     "output_type": "execute_result"
    }
   ],
   "source": [
    "# Headers are often not displayed to the client, but are available\n",
    "# requests makes it a dictionary. \n",
    "# This is the header response from the server\n",
    "r.headers"
   ]
  },
  {
   "cell_type": "code",
   "execution_count": 9,
   "metadata": {},
   "outputs": [
    {
     "data": {
      "text/plain": [
       "'UTF-8'"
      ]
     },
     "execution_count": 9,
     "metadata": {},
     "output_type": "execute_result"
    }
   ],
   "source": [
    "r.encoding"
   ]
  },
  {
   "cell_type": "code",
   "execution_count": 10,
   "metadata": {},
   "outputs": [
    {
     "data": {
      "text/plain": [
       "'http://localhost:8080/'"
      ]
     },
     "execution_count": 10,
     "metadata": {},
     "output_type": "execute_result"
    }
   ],
   "source": [
    "r.url"
   ]
  },
  {
   "cell_type": "code",
   "execution_count": 11,
   "metadata": {},
   "outputs": [
    {
     "name": "stdout",
     "output_type": "stream",
     "text": [
      "200\n"
     ]
    },
    {
     "data": {
      "text/plain": [
       "{'message': 'The current time is 1632450248.3392925'}"
      ]
     },
     "execution_count": 11,
     "metadata": {},
     "output_type": "execute_result"
    }
   ],
   "source": [
    "#This is actualy json, so we can load it directly into a dictionary\n",
    "r = requests.get(url)\n",
    "print(r.status_code)\n",
    "r.json()"
   ]
  },
  {
   "cell_type": "code",
   "execution_count": 12,
   "metadata": {},
   "outputs": [
    {
     "data": {
      "text/plain": [
       "'I have a dream that my four little children will one day live in a nation where they will not be judged by the color of their skin but by the content of their character.'"
      ]
     },
     "execution_count": 12,
     "metadata": {},
     "output_type": "execute_result"
    }
   ],
   "source": [
    "plain_text = \"I have a dream that my four little children will one day live in a nation where they will not be judged by the color of their skin but by the content of their character.\"\n",
    "plain_text"
   ]
  },
  {
   "cell_type": "code",
   "execution_count": 13,
   "metadata": {},
   "outputs": [
    {
     "name": "stdout",
     "output_type": "stream",
     "text": [
      "200\n",
      "{\"pub\": \"-----BEGIN PUBLIC KEY-----\\nMCowBQYDK2VuAyEAVDIB4f2hbUmXtDnew9hPEsaY6iOvK0B7R+PCKTSR1Qs=\\n-----END PUBLIC KEY-----\\n\"}\n",
      "-----BEGIN PUBLIC KEY-----\n",
      "MCowBQYDK2VuAyEAVDIB4f2hbUmXtDnew9hPEsaY6iOvK0B7R+PCKTSR1Qs=\n",
      "-----END PUBLIC KEY-----\n",
      "\n"
     ]
    }
   ],
   "source": [
    "#Get the key (Don't actually do this)\n",
    "r = requests.get(url+\"/encrypted/\")\n",
    "print(r.status_code)\n",
    "print(r.text)\n",
    "pub_key_text = r.json()['pub']\n",
    "print(pub_key_text)"
   ]
  },
  {
   "cell_type": "code",
   "execution_count": 14,
   "metadata": {},
   "outputs": [
    {
     "data": {
      "text/plain": [
       "<cryptography.hazmat.backends.openssl.x25519._X25519PrivateKey at 0x22068be03c8>"
      ]
     },
     "execution_count": 14,
     "metadata": {},
     "output_type": "execute_result"
    }
   ],
   "source": [
    "from cryptography.hazmat.primitives.asymmetric.x25519 import X25519PrivateKey\n",
    "from cryptography.hazmat.primitives import serialization\n",
    "#Client needs to generate a key pair\n",
    "private_key_for_client= X25519PrivateKey.generate()\n",
    "private_key_for_client"
   ]
  },
  {
   "cell_type": "code",
   "execution_count": 15,
   "metadata": {},
   "outputs": [
    {
     "name": "stdout",
     "output_type": "stream",
     "text": [
      "b'-----BEGIN PUBLIC KEY-----\\nMCowBQYDK2VuAyEA1QOfOT1wC4o3zabkRMDczxSBDyHOPJrhWeCrRmx/JAY=\\n-----END PUBLIC KEY-----\\n'\n"
     ]
    }
   ],
   "source": [
    "client_public_pem = private_key_for_client.public_key().public_bytes(\n",
    "       encoding=serialization.Encoding.PEM,\n",
    "       format=serialization.PublicFormat.SubjectPublicKeyInfo\n",
    ")\n",
    "print(client_public_pem)"
   ]
  },
  {
   "cell_type": "code",
   "execution_count": 16,
   "metadata": {},
   "outputs": [
    {
     "data": {
      "text/plain": [
       "<cryptography.hazmat.backends.openssl.x25519._X25519PublicKey at 0x22068be5388>"
      ]
     },
     "execution_count": 16,
     "metadata": {},
     "output_type": "execute_result"
    }
   ],
   "source": [
    "server_pub_key = serialization.load_pem_public_key(pub_key_text.encode('ascii'))\n",
    "server_pub_key"
   ]
  },
  {
   "cell_type": "code",
   "execution_count": 17,
   "metadata": {},
   "outputs": [
    {
     "data": {
      "text/plain": [
       "b'}\\x15\\xed\\xb5Muh\\xda8\\x18<\\x9dE\\xc1\\x07\\xb3\\xf3\\x99M\\xb9\\xb1\\xeaA\\xb4\\x07\\x16<\\xb4M\\r(-'"
      ]
     },
     "execution_count": 17,
     "metadata": {},
     "output_type": "execute_result"
    }
   ],
   "source": [
    "shared_key = private_key_for_client.exchange(server_pub_key)\n",
    "shared_key"
   ]
  },
  {
   "cell_type": "code",
   "execution_count": 18,
   "metadata": {},
   "outputs": [
    {
     "data": {
      "text/plain": [
       "{'encrypted_session_key': 'gAAAAABhTTbIre_Tx6702MH4y45HylrngxgXqi2soW6U7PwPa5RBXROVD29O_TGW7DgJPfsQheyAz_W163ysDY7Q97bKFRwsiq6AYdMvJfF0r5YMD8iE32xVEeTNMuhPECX_IAuoklVd'}"
      ]
     },
     "execution_count": 18,
     "metadata": {},
     "output_type": "execute_result"
    }
   ],
   "source": [
    "# Send the server our public key\n",
    "r = requests.post(url+\"/encrypted/\", json={\n",
    "        'pub_key':client_public_pem.decode('utf-8'),\n",
    "        'uid':1\n",
    "    })\n",
    "assert r.status_code == 200\n",
    "r.json()"
   ]
  },
  {
   "cell_type": "code",
   "execution_count": 19,
   "metadata": {},
   "outputs": [
    {
     "data": {
      "text/plain": [
       "'gAAAAABhTTbIre_Tx6702MH4y45HylrngxgXqi2soW6U7PwPa5RBXROVD29O_TGW7DgJPfsQheyAz_W163ysDY7Q97bKFRwsiq6AYdMvJfF0r5YMD8iE32xVEeTNMuhPECX_IAuoklVd'"
      ]
     },
     "execution_count": 19,
     "metadata": {},
     "output_type": "execute_result"
    }
   ],
   "source": [
    "enc_session_key = r.json()['encrypted_session_key']\n",
    "enc_session_key"
   ]
  },
  {
   "cell_type": "code",
   "execution_count": 20,
   "metadata": {},
   "outputs": [
    {
     "data": {
      "text/plain": [
       "<cryptography.fernet.Fernet at 0x22068bdce08>"
      ]
     },
     "execution_count": 20,
     "metadata": {},
     "output_type": "execute_result"
    }
   ],
   "source": [
    "from cryptography.fernet import Fernet\n",
    "f = Fernet(base64.urlsafe_b64encode(shared_key))\n",
    "f"
   ]
  },
  {
   "cell_type": "code",
   "execution_count": 21,
   "metadata": {},
   "outputs": [
    {
     "data": {
      "text/plain": [
       "b'KQnBihBYYLavHzGVaGJblQrKR86fw4BKMwOlJ84YGAk='"
      ]
     },
     "execution_count": 21,
     "metadata": {},
     "output_type": "execute_result"
    }
   ],
   "source": [
    "new_session_key = f.decrypt(enc_session_key.encode('utf-8'))\n",
    "new_session_key"
   ]
  },
  {
   "cell_type": "code",
   "execution_count": 22,
   "metadata": {},
   "outputs": [
    {
     "data": {
      "text/plain": [
       "<cryptography.fernet.Fernet at 0x22068bfd9c8>"
      ]
     },
     "execution_count": 22,
     "metadata": {},
     "output_type": "execute_result"
    }
   ],
   "source": [
    "session_cipher = Fernet(new_session_key)\n",
    "session_cipher"
   ]
  },
  {
   "cell_type": "code",
   "execution_count": 23,
   "metadata": {},
   "outputs": [
    {
     "data": {
      "text/plain": [
       "b'gAAAAABhTTbIzpPOwXWypxlt6LB9Eal-zlXKaJmHB4VVo5Ht-YGFQnUeckzSKnIRWdTBxAhLf-bHR-PYq-VvxiSLXghPVDpOp8nlBEJm0SDBAcwR6gYjdWL76kPsYaHxmLmgolSfrjagBqDLHC_7q0UjXagndtkg42aJCOurYHDGzLtfD188RIg36zSyJq6W1yRMOCrFwmH9E7QXQZmNy9bZiSeC4ptWT9puOIvKv2Pob4QI4yw5DkHbxRF7GLsmvzHOh_poXV5dDuN2btSvOxj6Pa1QhSOGRT5CFfq47OaVOOodRPHsTgQ='"
      ]
     },
     "execution_count": 23,
     "metadata": {},
     "output_type": "execute_result"
    }
   ],
   "source": [
    "cipher_text = session_cipher.encrypt(plain_text.encode('utf-8'))\n",
    "cipher_text"
   ]
  },
  {
   "cell_type": "code",
   "execution_count": 24,
   "metadata": {
    "scrolled": true
   },
   "outputs": [
    {
     "name": "stdout",
     "output_type": "stream",
     "text": [
      "<Response [200]>\n",
      "{\"decrypted message\": \"I have a dream that my four little children will one day live in a nation where they will not be judged by the color of their skin but by the content of their character.\"}\n"
     ]
    }
   ],
   "source": [
    "r = requests.post(url+\"/encrypted/\", \n",
    "                  json={'cipher_text':cipher_text.decode('utf-8'), })\n",
    "print(r)\n",
    "print(r.text)"
   ]
  },
  {
   "cell_type": "markdown",
   "metadata": {},
   "source": [
    "## Summary\n",
    "* We can see how data can be encrypted and sent across the Internet. When using symmetric encryption, there needs to be a key exchange. This should never be done in the open, like we did in this example. \n",
    "\n",
    "* We introduced GET and POST\n",
    "\n",
    "* We introduced JSON\n",
    "\n",
    "* We talked about HTTP status codes"
   ]
  },
  {
   "cell_type": "code",
   "execution_count": 25,
   "metadata": {},
   "outputs": [
    {
     "data": {
      "text/plain": [
       "'👏'"
      ]
     },
     "execution_count": 25,
     "metadata": {},
     "output_type": "execute_result"
    }
   ],
   "source": [
    "u\"\\U0001F44F\""
   ]
  }
 ],
 "metadata": {
  "kernelspec": {
   "display_name": "Python 3",
   "language": "python",
   "name": "python3"
  },
  "language_info": {
   "codemirror_mode": {
    "name": "ipython",
    "version": 3
   },
   "file_extension": ".py",
   "mimetype": "text/x-python",
   "name": "python",
   "nbconvert_exporter": "python",
   "pygments_lexer": "ipython3",
   "version": "3.7.4"
  }
 },
 "nbformat": 4,
 "nbformat_minor": 4
}
