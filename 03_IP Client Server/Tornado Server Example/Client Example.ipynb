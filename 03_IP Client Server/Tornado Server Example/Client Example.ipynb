{
 "cells": [
  {
   "cell_type": "markdown",
   "metadata": {},
   "source": [
    "# <center> Python Client Example\n",
    "## <center> ENGR 580A2: Secure Vehicle and Industrial Networking\n",
    "## <center> <img src=\"https://www.engr.colostate.edu/~jdaily/Systems-EN-CSU-1-C357.svg\" width=\"600\" /> \n",
    "### <center> Instructor: Dr. Jeremy Daily<br>Fall 2021"
   ]
  },
  {
   "cell_type": "markdown",
   "metadata": {},
   "source": [
    "# Web Clients\n",
    "While often we think of a web client to be a browser, we can also use programs or libraries to access web based resources. \n",
    "\n",
    "Python has the requests library for these transactions.\n",
    "\n",
    "https://requests.readthedocs.io/en/master/\n",
    "\n",
    "Run this notebook after the Tornado server notebook is running."
   ]
  },
  {
   "cell_type": "code",
   "execution_count": 1,
   "metadata": {},
   "outputs": [
    {
     "name": "stderr",
     "output_type": "stream",
     "text": [
      "C:\\Users\\Jeremy\\Anaconda3\\lib\\site-packages\\requests\\__init__.py:91: RequestsDependencyWarning: urllib3 (1.26.10) or chardet (3.0.4) doesn't match a supported version!\n",
      "  RequestsDependencyWarning)\n"
     ]
    }
   ],
   "source": [
    "import requests\n",
    "import base64\n",
    "import json"
   ]
  },
  {
   "cell_type": "code",
   "execution_count": 32,
   "metadata": {},
   "outputs": [
    {
     "name": "stdout",
     "output_type": "stream",
     "text": [
      "<Response [200]>\n"
     ]
    }
   ],
   "source": [
    "url = \"http://localhost:8080\"\n",
    "r = requests.get(url)\n",
    "print(r)"
   ]
  },
  {
   "cell_type": "markdown",
   "metadata": {},
   "source": [
    "What are the status codes?\n",
    "\n",
    "https://developer.mozilla.org/en-US/docs/Web/HTTP/Status\n",
    "\n",
    "200 is good."
   ]
  },
  {
   "cell_type": "code",
   "execution_count": 8,
   "metadata": {},
   "outputs": [
    {
     "data": {
      "text/plain": [
       "200"
      ]
     },
     "execution_count": 8,
     "metadata": {},
     "output_type": "execute_result"
    }
   ],
   "source": [
    "#Responses have status codes\n",
    "r.status_code"
   ]
  },
  {
   "cell_type": "code",
   "execution_count": 9,
   "metadata": {},
   "outputs": [
    {
     "data": {
      "text/plain": [
       "'{\"message\": \"The current time is 1678329567.0037196\"}'"
      ]
     },
     "execution_count": 9,
     "metadata": {},
     "output_type": "execute_result"
    }
   ],
   "source": [
    "# Text base response\n",
    "r.text"
   ]
  },
  {
   "cell_type": "code",
   "execution_count": 5,
   "metadata": {},
   "outputs": [
    {
     "data": {
      "text/plain": [
       "b'{\"message\": \"The current time is 1678329522.615879\"}'"
      ]
     },
     "execution_count": 5,
     "metadata": {},
     "output_type": "execute_result"
    }
   ],
   "source": [
    "# Bytes as the response. Use this to read binary (like photos)\n",
    "r.content "
   ]
  },
  {
   "cell_type": "code",
   "execution_count": 10,
   "metadata": {},
   "outputs": [
    {
     "data": {
      "text/plain": [
       "<urllib3.response.HTTPResponse at 0x29034891048>"
      ]
     },
     "execution_count": 10,
     "metadata": {},
     "output_type": "execute_result"
    }
   ],
   "source": [
    "# Access lower level bytes from the socket\n",
    "r = requests.get(url, stream=True)\n",
    "r.raw"
   ]
  },
  {
   "cell_type": "code",
   "execution_count": 11,
   "metadata": {},
   "outputs": [
    {
     "data": {
      "text/plain": [
       "b'{\"message\": \"The current time is 1678329583.8718126\"}'"
      ]
     },
     "execution_count": 11,
     "metadata": {},
     "output_type": "execute_result"
    }
   ],
   "source": [
    "r.raw.read()"
   ]
  },
  {
   "cell_type": "code",
   "execution_count": 12,
   "metadata": {},
   "outputs": [
    {
     "data": {
      "text/plain": [
       "{'Server': 'TornadoServer/6.0.3', 'Content-Type': 'text/html; charset=UTF-8', 'Date': 'Thu, 09 Mar 2023 02:39:43 GMT', 'Etag': '\"66ed23e11d7d3638e9904729a6f749b45b02aa75\"', 'Content-Length': '53'}"
      ]
     },
     "execution_count": 12,
     "metadata": {},
     "output_type": "execute_result"
    }
   ],
   "source": [
    "# Headers are often not displayed to the client, but are available\n",
    "# requests makes it a dictionary. \n",
    "# This is the header response from the server\n",
    "r.headers"
   ]
  },
  {
   "cell_type": "code",
   "execution_count": 15,
   "metadata": {},
   "outputs": [
    {
     "data": {
      "text/plain": [
       "'UTF-8'"
      ]
     },
     "execution_count": 15,
     "metadata": {},
     "output_type": "execute_result"
    }
   ],
   "source": [
    "r.encoding"
   ]
  },
  {
   "cell_type": "code",
   "execution_count": 16,
   "metadata": {},
   "outputs": [
    {
     "data": {
      "text/plain": [
       "'http://localhost:8080/'"
      ]
     },
     "execution_count": 16,
     "metadata": {},
     "output_type": "execute_result"
    }
   ],
   "source": [
    "r.url"
   ]
  },
  {
   "cell_type": "code",
   "execution_count": 17,
   "metadata": {},
   "outputs": [
    {
     "name": "stdout",
     "output_type": "stream",
     "text": [
      "200\n"
     ]
    },
    {
     "data": {
      "text/plain": [
       "{'message': 'The current time is 1678329773.4136622'}"
      ]
     },
     "execution_count": 17,
     "metadata": {},
     "output_type": "execute_result"
    }
   ],
   "source": [
    "#This is actualy json, so we can load it directly into a dictionary\n",
    "r = requests.get(url)\n",
    "print(r.status_code)\n",
    "r.json()"
   ]
  },
  {
   "cell_type": "code",
   "execution_count": 33,
   "metadata": {},
   "outputs": [
    {
     "data": {
      "text/plain": [
       "'I have a dream that my four little children will one day live in a nation where they will not be judged by the color of their skin but by the content of their character.'"
      ]
     },
     "execution_count": 33,
     "metadata": {},
     "output_type": "execute_result"
    }
   ],
   "source": [
    "plain_text = \"I have a dream that my four little children will one day live in a nation where they will not be judged by the color of their skin but by the content of their character.\"\n",
    "plain_text"
   ]
  },
  {
   "cell_type": "code",
   "execution_count": 34,
   "metadata": {},
   "outputs": [
    {
     "name": "stdout",
     "output_type": "stream",
     "text": [
      "200\n",
      "{\"pub\": \"-----BEGIN PUBLIC KEY-----\\nMCowBQYDK2VuAyEA7n07LnIGILC8CPV0uHVftIztbQ7R2339QGpwS6vBGxI=\\n-----END PUBLIC KEY-----\\n\"}\n",
      "-----BEGIN PUBLIC KEY-----\n",
      "MCowBQYDK2VuAyEA7n07LnIGILC8CPV0uHVftIztbQ7R2339QGpwS6vBGxI=\n",
      "-----END PUBLIC KEY-----\n",
      "\n"
     ]
    }
   ],
   "source": [
    "#Get the key (Don't actually do this)\n",
    "r = requests.get(url+\"/encrypted/\")\n",
    "print(r.status_code)\n",
    "print(r.text)\n",
    "pub_key_text = r.json()['pub']\n",
    "print(pub_key_text)"
   ]
  },
  {
   "cell_type": "code",
   "execution_count": 35,
   "metadata": {},
   "outputs": [
    {
     "data": {
      "text/plain": [
       "<cryptography.hazmat.backends.openssl.x25519._X25519PrivateKey at 0x2903489bbc8>"
      ]
     },
     "execution_count": 35,
     "metadata": {},
     "output_type": "execute_result"
    }
   ],
   "source": [
    "from cryptography.hazmat.primitives.asymmetric.x25519 import X25519PrivateKey\n",
    "from cryptography.hazmat.primitives import serialization\n",
    "#Client needs to generate a key pair\n",
    "private_key_for_client= X25519PrivateKey.generate()\n",
    "private_key_for_client"
   ]
  },
  {
   "cell_type": "code",
   "execution_count": 36,
   "metadata": {},
   "outputs": [
    {
     "name": "stdout",
     "output_type": "stream",
     "text": [
      "b'-----BEGIN PUBLIC KEY-----\\nMCowBQYDK2VuAyEAHTXpOpyeVRTrB2GkC1YEXJTiScHLiTPsqQJohfwnClg=\\n-----END PUBLIC KEY-----\\n'\n"
     ]
    }
   ],
   "source": [
    "client_public_pem = private_key_for_client.public_key().public_bytes(\n",
    "       encoding=serialization.Encoding.PEM,\n",
    "       format=serialization.PublicFormat.SubjectPublicKeyInfo\n",
    ")\n",
    "print(client_public_pem)"
   ]
  },
  {
   "cell_type": "code",
   "execution_count": 37,
   "metadata": {},
   "outputs": [
    {
     "data": {
      "text/plain": [
       "<cryptography.hazmat.backends.openssl.x25519._X25519PublicKey at 0x2903489e208>"
      ]
     },
     "execution_count": 37,
     "metadata": {},
     "output_type": "execute_result"
    }
   ],
   "source": [
    "server_pub_key = serialization.load_pem_public_key(pub_key_text.encode('ascii'))\n",
    "server_pub_key"
   ]
  },
  {
   "cell_type": "code",
   "execution_count": 38,
   "metadata": {},
   "outputs": [
    {
     "data": {
      "text/plain": [
       "b'U\\\\\\xfb\\x1b\\xf7\\xdb\\x87b\\xdc\\x1b\\xa4\\xb0\\xa2\\x0b{\\x85\\x19@D\\xc1\\xee\\x7f\\\\1\\xb1\\xe2F\\xd5\\x8b!\\xe2\\r'"
      ]
     },
     "execution_count": 38,
     "metadata": {},
     "output_type": "execute_result"
    }
   ],
   "source": [
    "shared_key = private_key_for_client.exchange(server_pub_key)\n",
    "shared_key"
   ]
  },
  {
   "cell_type": "code",
   "execution_count": 39,
   "metadata": {},
   "outputs": [
    {
     "data": {
      "text/plain": [
       "{'encrypted_session_key': 'gAAAAABkCUiZNiW3NDtbJ7PxvGr9Ay7Hxf4ZmaI4hu2J9gpDi4APZT7wJgZL3XtdK3onvoSVfDpBjqRWjDm1as1xmKbd2jnCLhSyMRo-PY-irBi1dtuClPpp7ABV2C-gF8NhDmN9dYts'}"
      ]
     },
     "execution_count": 39,
     "metadata": {},
     "output_type": "execute_result"
    }
   ],
   "source": [
    "# Send the server our public key\n",
    "r = requests.post(url+\"/encrypted/\", json={\n",
    "        'pub_key':client_public_pem.decode('utf-8'),\n",
    "        'uid':1\n",
    "    })\n",
    "assert r.status_code == 200\n",
    "r.json()"
   ]
  },
  {
   "cell_type": "code",
   "execution_count": 43,
   "metadata": {},
   "outputs": [
    {
     "data": {
      "text/plain": [
       "'gAAAAABkCUiZNiW3NDtbJ7PxvGr9Ay7Hxf4ZmaI4hu2J9gpDi4APZT7wJgZL3XtdK3onvoSVfDpBjqRWjDm1as1xmKbd2jnCLhSyMRo-PY-irBi1dtuClPpp7ABV2C-gF8NhDmN9dYts'"
      ]
     },
     "execution_count": 43,
     "metadata": {},
     "output_type": "execute_result"
    }
   ],
   "source": [
    "enc_session_key = r.json()['encrypted_session_key']\n",
    "enc_session_key"
   ]
  },
  {
   "cell_type": "code",
   "execution_count": 44,
   "metadata": {},
   "outputs": [
    {
     "data": {
      "text/plain": [
       "<cryptography.fernet.Fernet at 0x2903592b908>"
      ]
     },
     "execution_count": 44,
     "metadata": {},
     "output_type": "execute_result"
    }
   ],
   "source": [
    "from cryptography.fernet import Fernet\n",
    "f = Fernet(base64.urlsafe_b64encode(shared_key))\n",
    "f"
   ]
  },
  {
   "cell_type": "code",
   "execution_count": 45,
   "metadata": {},
   "outputs": [
    {
     "data": {
      "text/plain": [
       "b'yg4arb3r3OcWI_ZyTgzRLC-gyFcNNTo1gygwSRkiWWg='"
      ]
     },
     "execution_count": 45,
     "metadata": {},
     "output_type": "execute_result"
    }
   ],
   "source": [
    "new_session_key = f.decrypt(enc_session_key.encode('utf-8'))\n",
    "new_session_key"
   ]
  },
  {
   "cell_type": "code",
   "execution_count": 46,
   "metadata": {},
   "outputs": [
    {
     "data": {
      "text/plain": [
       "<cryptography.fernet.Fernet at 0x2903592f7c8>"
      ]
     },
     "execution_count": 46,
     "metadata": {},
     "output_type": "execute_result"
    }
   ],
   "source": [
    "session_cipher = Fernet(new_session_key)\n",
    "session_cipher"
   ]
  },
  {
   "cell_type": "code",
   "execution_count": 47,
   "metadata": {},
   "outputs": [
    {
     "data": {
      "text/plain": [
       "b'gAAAAABkCUjB3TfGNunRa4yRpg-mE5hBz-nmt26QgIgbjPqlS7ImW8VVRkG0C6HGtSY3FAZdRMCj27jZnaigAGpkaICoRFNiyRlJ5HLgruGGn4BfKhkdL7UChlEoJlCODn2JjS7jqSEUh742kVhkpWAvxFM_tcNEqR2bk5wfRMbDldsuIkLIOwFpxvRE0RVaaK5UJOIuWSA07NGYCKrEnWY7ABolWscJpOmutln2vlEwaz9Y6NqD99Gylx78sSlm_wBnc1ZFphYcv8fCBpvXVy5VxCYW75wWL3qbxvqjNI40v0bVVY2hLEo='"
      ]
     },
     "execution_count": 47,
     "metadata": {},
     "output_type": "execute_result"
    }
   ],
   "source": [
    "cipher_text = session_cipher.encrypt(plain_text.encode('utf-8'))\n",
    "cipher_text"
   ]
  },
  {
   "cell_type": "code",
   "execution_count": 48,
   "metadata": {
    "scrolled": true
   },
   "outputs": [
    {
     "name": "stdout",
     "output_type": "stream",
     "text": [
      "<Response [200]>\n",
      "{\"decrypted message\": \"I have a dream that my four little children will one day live in a nation where they will not be judged by the color of their skin but by the content of their character.\"}\n"
     ]
    }
   ],
   "source": [
    "r = requests.post(url+\"/encrypted/\", \n",
    "                  json={'cipher_text':cipher_text.decode('utf-8'), })\n",
    "print(r)\n",
    "print(r.text)"
   ]
  },
  {
   "cell_type": "markdown",
   "metadata": {},
   "source": [
    "## Summary\n",
    "* We can see how data can be encrypted and sent across the Internet. When using symmetric encryption, there needs to be a key exchange. This should never be done in the open, like we did in this example. \n",
    "\n",
    "* We introduced GET and POST\n",
    "\n",
    "* We introduced JSON\n",
    "\n",
    "* We talked about HTTP status codes"
   ]
  },
  {
   "cell_type": "code",
   "execution_count": 25,
   "metadata": {},
   "outputs": [
    {
     "data": {
      "text/plain": [
       "'👏'"
      ]
     },
     "execution_count": 25,
     "metadata": {},
     "output_type": "execute_result"
    }
   ],
   "source": [
    "u\"\\U0001F44F\""
   ]
  }
 ],
 "metadata": {
  "kernelspec": {
   "display_name": "Python 3",
   "language": "python",
   "name": "python3"
  },
  "language_info": {
   "codemirror_mode": {
    "name": "ipython",
    "version": 3
   },
   "file_extension": ".py",
   "mimetype": "text/x-python",
   "name": "python",
   "nbconvert_exporter": "python",
   "pygments_lexer": "ipython3",
   "version": "3.7.4"
  }
 },
 "nbformat": 4,
 "nbformat_minor": 4
}
