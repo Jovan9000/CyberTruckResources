{
 "cells": [
  {
   "cell_type": "markdown",
   "metadata": {},
   "source": [
    "# <center> Lesson 4a - Cryptographic Primitives - Symmetric Encryption\n",
    "## <center> SYSE 541: Secure Vehicle and Industrial Networking\n",
    "## <center> <img src=\"https://www.engr.colostate.edu/~jdaily/Systems-EN-CSU-1-C357.svg\" width=\"400\" /> \n",
    "### <center> Instructor: Dr. Jeremy Daily"
   ]
  },
  {
   "cell_type": "markdown",
   "metadata": {},
   "source": [
    "## Objective\n",
    "In this lesson, we will introduce a protocol for authentication. This protocol will depend on a pre-shared key and symmetric encryption. Therefore, we'll discuss implementing symmetric encryption recipes and discuss the challenges and issues associated with symmetric encryption algorithms."
   ]
  },
  {
   "cell_type": "markdown",
   "metadata": {},
   "source": [
    "## Challenge-Response Authentication\n",
    "\n",
    "Let's say there is a remote process controller that you would like to interface with. The controller will act like a server and listen for connections. We'll denote the server as S and the user as the client, or C. \n",
    "\n",
    "\n",
    "The protocol could follow these steps:\n",
    "1. The Client requests a seed or nonce.\n",
    "2. The Server sends a nonce (number used once).\n",
    "3. The Client combines its unique ID with the nonce, encrypts it with a symmetric key, and sends it back to the Server.\n",
    "4. The Server decrypts the message, verifies the nonce and checks the client's unique ID against a master list. \n",
    "\n",
    "In symbol form, it might look like this:\n",
    "\n",
    "$ S\\rightarrow C: N $\n",
    "\n",
    "$ C\\rightarrow S: C,\\{C,N\\}_K $\n",
    "\n",
    "Where $C$ and $S$ represent the client and server when it's used on the left side of the colon. On the right side of the colon $C$ is the unique ID value for the Client, $N$ is a nonce. $K$ is the symmetric encryption key, so everything inside the curly braces is encrypted with K. Commas represent concatenation.\n",
    "\n",
    "See Secion 4.3.1 in Anderson for an introduction or review for this protocol.\n",
    "Let's see if we can implement this."
   ]
  },
  {
   "cell_type": "markdown",
   "metadata": {},
   "source": [
    "### Number used once\n",
    "A nonce in the protocol can come from many sources. It depends on the resources and time constraints. Perhaps the best nonce is a universally unique identifier (UUID), which combines randomness and freshness. Another is a real-time clock counter. Very simple nonces are program counters. However, a program counter is easy to reset and get low number of options. The real-time may not be available to an embedded device. We'll use a 32-byte random number as our nonce."
   ]
  },
  {
   "cell_type": "code",
   "execution_count": 1,
   "metadata": {},
   "outputs": [
    {
     "data": {
      "text/plain": [
       "b'\\xf7J\\xcdY\\r\\xbbf%\\xf7b\\x12\\x01\\xf8[Y\\xf43\\xb83\\x11e\\xcc\\xd8c$\\x05\\xe2\\x11\\xf9\\xa9\\x13\\x0c'"
      ]
     },
     "execution_count": 1,
     "metadata": {},
     "output_type": "execute_result"
    }
   ],
   "source": [
    "# Use the operating system for random number generation\n",
    "from os import urandom\n",
    "number_of_bytes = 32\n",
    "nonce = urandom(number_of_bytes)\n",
    "nonce"
   ]
  },
  {
   "cell_type": "code",
   "execution_count": 2,
   "metadata": {},
   "outputs": [
    {
     "data": {
      "text/plain": [
       "'F7 4A CD 59 0D BB 66 25 F7 62 12 01 F8 5B 59 F4 33 B8 33 11 65 CC D8 63 24 05 E2 11 F9 A9 13 0C'"
      ]
     },
     "execution_count": 2,
     "metadata": {},
     "output_type": "execute_result"
    }
   ],
   "source": [
    "#A little different form\n",
    "\" \".join([\"{:02X}\".format(b) for b in nonce])"
   ]
  },
  {
   "cell_type": "markdown",
   "metadata": {},
   "source": [
    "We'll also need an encryption key. Let's use this really bad example:"
   ]
  },
  {
   "cell_type": "code",
   "execution_count": 3,
   "metadata": {},
   "outputs": [
    {
     "data": {
      "text/plain": [
       "'54 68 69 73 49 73 4E 6F 74 53 65 63 75 72 65 21'"
      ]
     },
     "execution_count": 3,
     "metadata": {},
     "output_type": "execute_result"
    }
   ],
   "source": [
    "encryption_key = b'ThisIsNotSecure!'\n",
    "\" \".join([\"{:02X}\".format(b) for b in encryption_key])"
   ]
  },
  {
   "cell_type": "code",
   "execution_count": 4,
   "metadata": {},
   "outputs": [
    {
     "data": {
      "text/plain": [
       "16"
      ]
     },
     "execution_count": 4,
     "metadata": {},
     "output_type": "execute_result"
    }
   ],
   "source": [
    "# For an AES-128 cipher, we'll need a 16 byte key.\n",
    "len(encryption_key)"
   ]
  },
  {
   "cell_type": "markdown",
   "metadata": {},
   "source": [
    "A key derivation function (KDF) may be a better approach for a key based on a password."
   ]
  },
  {
   "cell_type": "markdown",
   "metadata": {},
   "source": [
    "### System Users\n",
    "For a proof of concept, a system server may just use names for logins. While this may be what we see as a user, the actual user data is stored in a hash table, or dictionary. Let's make a user dictionary with a fixed length value as the key and different attributes as the values."
   ]
  },
  {
   "cell_type": "code",
   "execution_count": 5,
   "metadata": {},
   "outputs": [
    {
     "data": {
      "text/plain": [
       "{1: {'name': 'Jeremy Daily', 'role': 'admin'},\n",
       " 2: {'name': 'Amazing Student', 'role': 'user'},\n",
       " 2348597: {'name': 'Michaelangelo', 'role': 'guest'}}"
      ]
     },
     "execution_count": 5,
     "metadata": {},
     "output_type": "execute_result"
    }
   ],
   "source": [
    "# The key is the user number (integer) and the value is \n",
    "# the dictionary of all the properties for the user. \n",
    "users = {1:{\"name\":\"Jeremy Daily\",\"role\":'admin'},\n",
    "         2:{\"name\":\"Amazing Student\",\"role\":'user'},\n",
    "         2348597:{\"name\":\"Michaelangelo\",\"role\":'guest'}}\n",
    "users"
   ]
  },
  {
   "cell_type": "code",
   "execution_count": 6,
   "metadata": {},
   "outputs": [],
   "source": [
    "import struct"
   ]
  },
  {
   "cell_type": "code",
   "execution_count": 7,
   "metadata": {},
   "outputs": [
    {
     "data": {
      "text/plain": [
       "'00 00 00 01'"
      ]
     },
     "execution_count": 7,
     "metadata": {},
     "output_type": "execute_result"
    }
   ],
   "source": [
    "# For the protocol, we'll also need a client ID, but it needs to be in a \n",
    "# fixed width, so we'll pack the user ID in to a fixed width.\n",
    "client_id = 1\n",
    "#but this needs to be in bytes:\n",
    "client_id_bytes = struct.pack(\">L\",client_id)\n",
    "\" \".join([\"{:02X}\".format(b) for b in client_id_bytes])"
   ]
  },
  {
   "cell_type": "code",
   "execution_count": 8,
   "metadata": {},
   "outputs": [
    {
     "data": {
      "text/plain": [
       "b'\\x00\\x00\\x00\\x01\\xf7J\\xcdY\\r\\xbbf%\\xf7b\\x12\\x01\\xf8[Y\\xf43\\xb83\\x11e\\xcc\\xd8c$\\x05\\xe2\\x11\\xf9\\xa9\\x13\\x0c'"
      ]
     },
     "execution_count": 8,
     "metadata": {},
     "output_type": "execute_result"
    }
   ],
   "source": [
    "# The data to encrypt are:\n",
    "data_to_encrypt = client_id_bytes + nonce\n",
    "data_to_encrypt"
   ]
  },
  {
   "cell_type": "markdown",
   "metadata": {},
   "source": [
    "### Symmetric Encryption\n",
    "Symmetric encryption is usually implemented as a block cipher with some feedback mode to eliminate patterns. \n",
    "\n",
    "We'll start with an example of common implementations available as libaries in Python, starting with the crypto library at\n",
    "https://cryptography.io/.\n",
    "This library is maintained and provides access to many features and algorithms needed to work with protocols using modern cryptography.\n",
    "\n",
    "DISCLAIMER: Currently cryptography.io only supports NIST curves, none of which are considered “safe” by the SafeCurves (https://safecurves.cr.yp.to/) project run by Daniel J. Bernstein and Tanja Lange.\n",
    "\n",
    "If the libraries don't load, you can install them by typing `pip install --upgrade cryptography` at the command prompt (not Jupyter or Python). This notebook was originally written for version 3.1 of the cryptography library. See the changelog: https://cryptography.io/en/latest/changelog/."
   ]
  },
  {
   "cell_type": "code",
   "execution_count": 9,
   "metadata": {},
   "outputs": [
    {
     "name": "stdout",
     "output_type": "stream",
     "text": [
      "Requirement already satisfied: cryptography in c:\\users\\jeremy\\appdata\\roaming\\python\\python37\\site-packages (39.0.2)\n",
      "Requirement already satisfied: cffi>=1.12 in c:\\users\\jeremy\\anaconda3\\lib\\site-packages (from cryptography) (1.12.3)\n",
      "Requirement already satisfied: pycparser in c:\\users\\jeremy\\anaconda3\\lib\\site-packages (from cffi>=1.12->cryptography) (2.19)\n",
      "\n",
      "[notice] A new release of pip available: 22.2 -> 23.0.1\n",
      "[notice] To update, run: python.exe -m pip install --upgrade pip\n"
     ]
    }
   ],
   "source": [
    "# If you don't have the latest version of the cryptography library installed, \n",
    "# you can use it to install in the version that is serving the jupyter notebook\n",
    "# This method may be necessary if you have multiple versions of Python on your computer. \n",
    "import sys\n",
    "#Run this if you are connected to the Internet\n",
    "!{sys.executable} -m pip install --upgrade --user cryptography\n",
    "# You may need to restart the Kernel if the requirements are not already up-to-date"
   ]
  },
  {
   "cell_type": "markdown",
   "metadata": {},
   "source": [
    "The following is a brief intro to Symmetric Ciphers where each principal as access to the same secret key. \n",
    "\n",
    "https://cryptography.io/en/latest/hazmat/primitives/symmetric-encryption/?highlight=ecb%20mode#module-cryptography.hazmat.primitives.ciphers"
   ]
  },
  {
   "cell_type": "markdown",
   "metadata": {},
   "source": [
    "## Advanced Encryption Standard\n",
    "Unless there is a really compelling reason, you should pick AES as the symmetric cipher. According to Ross Anderson in Section 5.4.2 (third edition):\n",
    "\n",
    "```The NSA has since 2005 approved AES with 128-bit keys for protecting information up to SECRET and with 192-bit or 256-bit keys for TOPSECRET. So I recommend that you use AES instead of GOST, or Camellia,or even Serpent.  The definitive specification of AES is Federal Information Processing Standard 197, and its inventors have written a book describing its design in detail.``` \n",
    "\n",
    "Let's look at how to use AES with cryptography.io."
   ]
  },
  {
   "cell_type": "markdown",
   "metadata": {},
   "source": [
    "![logo](cybertruckchallenge.bmp)"
   ]
  },
  {
   "cell_type": "code",
   "execution_count": 10,
   "metadata": {},
   "outputs": [],
   "source": [
    "from cryptography.hazmat.primitives.ciphers import Cipher, algorithms, modes"
   ]
  },
  {
   "cell_type": "markdown",
   "metadata": {},
   "source": [
    "The ECB mode is not a secure mode, but it is the simplest.\n",
    "https://cryptography.io/en/latest/hazmat/primitives/symmetric-encryption/?highlight=ecb%20mode#cryptography.hazmat.primitives.ciphers.modes.ECB"
   ]
  },
  {
   "cell_type": "code",
   "execution_count": 11,
   "metadata": {},
   "outputs": [],
   "source": [
    "key_size = 16\n",
    "key = urandom(key_size)"
   ]
  },
  {
   "cell_type": "markdown",
   "metadata": {},
   "source": [
    "### Bitmap image encryption\n",
    "We want to send a scrambled picture through the Internet. Let's keep the original image file, but encrypt the contents. Here's a blurb about how bmp files are constructed.\n",
    "https://medium.com/sysf/bits-to-bitmaps-a-simple-walkthrough-of-bmp-image-format-765dc6857393\n",
    "Based on this description, we will keep the original 54 bytes. \n",
    "\n",
    "By the way, embedding codes and cryptographic information in pictures is something called steganography. This isn't steganography, but you can learn more about it here: https://www.comptia.org/blog/what-is-steganography"
   ]
  },
  {
   "cell_type": "code",
   "execution_count": 12,
   "metadata": {},
   "outputs": [
    {
     "data": {
      "text/plain": [
       "65536"
      ]
     },
     "execution_count": 12,
     "metadata": {},
     "output_type": "execute_result"
    }
   ],
   "source": [
    "# BMP Images use 54 bytes up front to define the file\n",
    "offset = 54\n",
    "#Let's use a graphic as an example \n",
    "with open('cybertruckchallenge.bmp','rb') as raw_file:\n",
    "    logo_bytes = raw_file.read()\n",
    "data_blocks,extra = divmod(len(logo_bytes)-offset,key_size)\n",
    "data_blocks"
   ]
  },
  {
   "cell_type": "code",
   "execution_count": 13,
   "metadata": {},
   "outputs": [
    {
     "data": {
      "text/plain": [
       "<cryptography.hazmat.primitives.ciphers.base.Cipher at 0x213e86a0e48>"
      ]
     },
     "execution_count": 13,
     "metadata": {},
     "output_type": "execute_result"
    }
   ],
   "source": [
    "# This is an example of a bad mode for the cipher. NEVER USE THIS!\n",
    "cipher = Cipher(algorithms.AES(encryption_key), modes.ECB())\n",
    "cipher"
   ]
  },
  {
   "cell_type": "code",
   "execution_count": 14,
   "metadata": {},
   "outputs": [],
   "source": [
    "encryptor = cipher.encryptor()\n",
    "\n",
    "#Start the first few bytes the same as the others\n",
    "encrypted_picture_bytes = logo_bytes[:offset]\n",
    "\n",
    "#loop through bytes and ECB encrypt them\n",
    "encrypted_picture_bytes += encryptor.update(logo_bytes[offset:offset+data_blocks*key_size]) + encryptor.finalize()"
   ]
  },
  {
   "cell_type": "code",
   "execution_count": 15,
   "metadata": {},
   "outputs": [
    {
     "data": {
      "text/plain": [
       "b'BM6\\x00\\x10\\x00\\x00\\x00\\x00\\x006\\x00\\x00\\x00(\\x00\\x00\\x00\\x00\\x02\\x00\\x00\\x00\\x02\\x00\\x00\\x01\\x00 \\x00\\x00\\x00\\x00\\x00\\x00\\x00\\x00\\x00\\xc4\\x0e\\x00\\x00\\xc4\\x0e\\x00\\x00\\x00\\x00\\x00\\x00\\x00\\x00\\x00\\x00@<\\xb2\\xf6\\xa3\\xdc.\\xdc\\x8c@oFwj(\\xa8@<\\xb2\\xf6\\xa3\\xdc.\\xdc\\x8c@oFwj(\\xa8@<\\xb2\\xf6\\xa3\\xdc.\\xdc\\x8c@oFwj(\\xa8@<\\xb2\\xf6\\xa3\\xdc.\\xdc\\x8c@oFwj(\\xa8@<'"
      ]
     },
     "execution_count": 15,
     "metadata": {},
     "output_type": "execute_result"
    }
   ],
   "source": [
    "encrypted_picture_bytes[:120]"
   ]
  },
  {
   "cell_type": "code",
   "execution_count": 16,
   "metadata": {},
   "outputs": [],
   "source": [
    "with open('encrypted_logo_ECB.bmp','wb') as out:\n",
    "    out.write(encrypted_picture_bytes)"
   ]
  },
  {
   "cell_type": "markdown",
   "metadata": {},
   "source": [
    "![encrypted_logo](encrypted_logo_ECB.bmp)"
   ]
  },
  {
   "cell_type": "markdown",
   "metadata": {},
   "source": [
    "### AES-CBC\n",
    "Let's use a better mode."
   ]
  },
  {
   "cell_type": "code",
   "execution_count": 17,
   "metadata": {},
   "outputs": [],
   "source": [
    "iv = urandom(key_size)\n",
    "cipher = Cipher(algorithms.AES(encryption_key), modes.CBC(iv))\n",
    "encryptor = cipher.encryptor()\n",
    "\n",
    "#Start the first few bytes the same as the others\n",
    "encrypted_picture_bytes = logo_bytes[:offset]\n",
    "\n",
    "#loop through bytes and ECB encrypt them\n",
    "encrypted_picture_bytes += encryptor.update(logo_bytes[offset:offset+data_blocks*key_size]) + encryptor.finalize()\n",
    "\n",
    "with open('encrypted_logo_CBC.bmp','wb') as out:\n",
    "    out.write(encrypted_picture_bytes)"
   ]
  },
  {
   "cell_type": "markdown",
   "metadata": {},
   "source": [
    "![encrypted_logo](encrypted_logo_CBC.bmp)\n"
   ]
  },
  {
   "cell_type": "markdown",
   "metadata": {},
   "source": [
    "### Bad modes\n",
    "The ECB mode is nicknamed \"electronic coloring book\" because it still reveals patterns and is not secure. Other modes should be used instead."
   ]
  },
  {
   "cell_type": "markdown",
   "metadata": {},
   "source": [
    "### No integrity checks\n",
    "The process of encrypting and decrypting data does nothing to detect data alteration. Therefore, an authenticity check is critical. Let's see this through an example of encrypting the constitution preamble. First, let's encrypt the preamble with the Fernet recipe that includes a timestamp, an acceptable mode, and a message authentication code."
   ]
  },
  {
   "cell_type": "code",
   "execution_count": 18,
   "metadata": {},
   "outputs": [
    {
     "name": "stdout",
     "output_type": "stream",
     "text": [
      "We the People of the United States, in Order to form a more perfect Union, establish Justice, insure domestic Tranquility, provide for the common defence, promote the general Welfare, and secure the Blessings of Liberty to ourselves and our Posterity, do ordain and establish this Constitution for the United States of America.\n"
     ]
    }
   ],
   "source": [
    "# Let's start with some plain text:\n",
    "plain_text = \"We the People of the United States, in Order to form a more perfect Union, establish Justice, insure domestic Tranquility, provide for the common defence, promote the general Welfare, and secure the Blessings of Liberty to ourselves and our Posterity, do ordain and establish this Constitution for the United States of America.\"\n",
    "print(plain_text)\n"
   ]
  },
  {
   "cell_type": "code",
   "execution_count": 19,
   "metadata": {},
   "outputs": [],
   "source": [
    "# Out of the box recipe for using fast symmetric encryption\n",
    "from cryptography.fernet import Fernet"
   ]
  },
  {
   "cell_type": "code",
   "execution_count": 20,
   "metadata": {},
   "outputs": [],
   "source": [
    "# Generate a key suitable for using the Fernet protocol\n",
    "shared_key = Fernet.generate_key()"
   ]
  },
  {
   "cell_type": "code",
   "execution_count": 21,
   "metadata": {},
   "outputs": [
    {
     "name": "stdout",
     "output_type": "stream",
     "text": [
      "b'O_IbfXWAegAiJXAv2O34Jla_FDiJVDV4ymr_lrRPxu8='\n"
     ]
    }
   ],
   "source": [
    "# The key should be kept safe (This is the hard engineering problem)\n",
    "print(shared_key)"
   ]
  },
  {
   "cell_type": "code",
   "execution_count": 22,
   "metadata": {},
   "outputs": [
    {
     "data": {
      "text/plain": [
       "44"
      ]
     },
     "execution_count": 22,
     "metadata": {},
     "output_type": "execute_result"
    }
   ],
   "source": [
    "len(shared_key)"
   ]
  },
  {
   "cell_type": "markdown",
   "metadata": {},
   "source": [
    "The key generated is base64 encoded using a URL safe library. \n",
    "\n",
    "https://tools.ietf.org/html/rfc3548.html decribes the url and filesystem safe encoding.\n",
    "\n",
    "As described in \n",
    "https://www.pythoninformer.com/python-libraries/cryptography/fernet/ or https://www.comparitech.com/blog/information-security/what-is-fernet/,\n",
    "the generated key is contains two 16-byte randomly generated keys that are concatenated and base64 encoded."
   ]
  },
  {
   "cell_type": "code",
   "execution_count": 23,
   "metadata": {},
   "outputs": [],
   "source": [
    "import base64"
   ]
  },
  {
   "cell_type": "code",
   "execution_count": 24,
   "metadata": {},
   "outputs": [
    {
     "name": "stdout",
     "output_type": "stream",
     "text": [
      "b';\\xf2\\x1b}u\\x80z\\x00\"%p/\\xd8\\xed\\xf8&V\\xbf\\x148\\x89T5x\\xcaj\\xff\\x96\\xb4O\\xc6\\xef'\n"
     ]
    }
   ],
   "source": [
    "#This is actually two 16-byte keys concatenated and  32-byte (256 bit) base-64 random key\n",
    "key_bytes = base64.urlsafe_b64decode(shared_key)\n",
    "print(key_bytes)"
   ]
  },
  {
   "cell_type": "code",
   "execution_count": 25,
   "metadata": {},
   "outputs": [
    {
     "data": {
      "text/plain": [
       "32"
      ]
     },
     "execution_count": 25,
     "metadata": {},
     "output_type": "execute_result"
    }
   ],
   "source": [
    "# There should be 32-bytes of key material\n",
    "len(key_bytes)"
   ]
  },
  {
   "cell_type": "code",
   "execution_count": 26,
   "metadata": {},
   "outputs": [
    {
     "data": {
      "text/plain": [
       "b';\\xf2\\x1b}u\\x80z\\x00\"%p/\\xd8\\xed\\xf8&'"
      ]
     },
     "execution_count": 26,
     "metadata": {},
     "output_type": "execute_result"
    }
   ],
   "source": [
    "# The first 16 bytes (128 bits) is the signing key\n",
    "signing_key = key_bytes[:16]\n",
    "signing_key"
   ]
  },
  {
   "cell_type": "code",
   "execution_count": 27,
   "metadata": {},
   "outputs": [
    {
     "data": {
      "text/plain": [
       "b'V\\xbf\\x148\\x89T5x\\xcaj\\xff\\x96\\xb4O\\xc6\\xef'"
      ]
     },
     "execution_count": 27,
     "metadata": {},
     "output_type": "execute_result"
    }
   ],
   "source": [
    "# The second half of the key is the encryption key\n",
    "encryption_key = key_bytes[16:]\n",
    "encryption_key"
   ]
  },
  {
   "cell_type": "code",
   "execution_count": 28,
   "metadata": {},
   "outputs": [
    {
     "name": "stdout",
     "output_type": "stream",
     "text": [
      "<cryptography.fernet.Fernet object at 0x00000213E8B78988>\n"
     ]
    }
   ],
   "source": [
    "# create an instance of the Fernet cipher tool\n",
    "f = Fernet(shared_key)\n",
    "print(f)"
   ]
  },
  {
   "cell_type": "markdown",
   "metadata": {},
   "source": [
    "Fernet methods are documented at https://cryptography.io/en/latest/fernet/"
   ]
  },
  {
   "cell_type": "code",
   "execution_count": 29,
   "metadata": {},
   "outputs": [
    {
     "data": {
      "text/plain": [
       "b'We the People of the United States, in Order to form a more perfect Union, establish Justice, insure domestic Tranquility, provide for the common defence, promote the general Welfare, and secure the Blessings of Liberty to ourselves and our Posterity, do ordain and establish this Constitution for the United States of America.'"
      ]
     },
     "execution_count": 29,
     "metadata": {},
     "output_type": "execute_result"
    }
   ],
   "source": [
    "#Modern ciphers only work on numbers, so we need to convert plaintext to bytes\n",
    "plain_bytes = plain_text.encode('utf-8')\n",
    "plain_bytes"
   ]
  },
  {
   "cell_type": "code",
   "execution_count": 30,
   "metadata": {},
   "outputs": [
    {
     "name": "stdout",
     "output_type": "stream",
     "text": [
      "b'gAAAAABkG4jf6fJOouoFv4RNeSwnziXJ5z6Q4DPHtMvR_NcBQ7SFdtVdzp2iRXJofNq98yakAY3rheGQyKMlM4J7vltuSa7znLrkNMGtdAKC9-Bv1G7PpcpCIP4zbqd4A_Z5Sg5CtoTDo1EwmmpB_UDKiBIVOgN6tPutuPNrkEd_0vERf9x4YgRvmO00fhTs0wjudjqVbJcu4SoLUzaAgah482yHTCDFOBdaJ2jo6Cb75FTqkdkhPmUtWSfQA-gnKKvrFKSZ3dZG3YcIJ9TtK1w0GuFOo3dlyNZGRToFuWq9rVlHYrM1cl2uPDcCEV4j6wySiXp3p8Pq-LtmpOLpubBGMICM3jZXJgmKqVR4S5v6seo6YtaYY5d15g_q7nbMyJs3Y1NrJVqhCtdsB2T-iZswL8jDQdm8CLeAw2upGtKfamgS-nigXl_O_jhhUtI9UHLyKqhOPscMT810qfMl6nmn65qcXKmyomEOg1LSjmb9IotqliWBakJ1ePYvNfSIXWl9vJhGiWLD'\n"
     ]
    }
   ],
   "source": [
    "#the result is ready to be sent over the internet or stored on a machine\n",
    "cipher_token = f.encrypt(plain_bytes)\n",
    "print(cipher_token) # This is what can be sent across the Internet"
   ]
  },
  {
   "cell_type": "code",
   "execution_count": 31,
   "metadata": {},
   "outputs": [
    {
     "data": {
      "text/plain": [
       "b'We the People of the United States, in Order to form a more perfect Union, establish Justice, insure domestic Tranquility, provide for the common defence, promote the general Welfare, and secure the Blessings of Liberty to ourselves and our Posterity, do ordain and establish this Constitution for the United States of America.'"
      ]
     },
     "execution_count": 31,
     "metadata": {},
     "output_type": "execute_result"
    }
   ],
   "source": [
    "#The inverse is to decrypt to get bytes\n",
    "f.decrypt(cipher_token)"
   ]
  },
  {
   "cell_type": "markdown",
   "metadata": {},
   "source": [
    "From https://www.pythoninformer.com/python-libraries/cryptography/fernet/,\n",
    "The Fernet protocol implements a more complete symmetric cipher system by\n",
    "\n",
    "* Providing a secure mechanism for generating keys (a key is similar to a password).\n",
    "* Selection a secure encryption algorithm (AES using CBS mode and PKCS7 padding)\n",
    "* Randomly allocating a secure initialization vector (IV) or \"salt\" to make the encryption more secure.\n",
    "* Timestamping the encrypted message.\n",
    "* Signing the message (using HMAC and SHA256) to detect any attempts to change it.\n",
    "\n",
    "Let's disect the cipher token to see these individual attributes."
   ]
  },
  {
   "cell_type": "markdown",
   "metadata": {},
   "source": [
    "### Keys from passwords\n",
    "Let's generate a valid Fernet key with a passcode. The passcode could be shared verbally instead of electronically.\n",
    "We'll need to use some primitives. Reference: https://cryptography.io/en/latest/fernet/#using-passwords-with-fernet\n",
    "\n",
    "\n",
    "We also have to use good random numbers for the initialization vectors.\n",
    "https://docs.python.org/3/library/secrets.html"
   ]
  },
  {
   "cell_type": "code",
   "execution_count": 32,
   "metadata": {},
   "outputs": [],
   "source": [
    "from cryptography.hazmat.primitives import hashes\n",
    "from cryptography.hazmat.primitives.kdf.pbkdf2 import PBKDF2HMAC"
   ]
  },
  {
   "cell_type": "markdown",
   "metadata": {},
   "source": [
    "PBKDF2 = Password Based Key Derivation Function 2\n",
    "\n",
    "https://cryptography.io/en/latest/hazmat/primitives/key-derivation-functions/#pbkdf2"
   ]
  },
  {
   "cell_type": "code",
   "execution_count": 33,
   "metadata": {},
   "outputs": [
    {
     "data": {
      "text/plain": [
       "b\"I'm a passphrase\""
      ]
     },
     "execution_count": 33,
     "metadata": {},
     "output_type": "execute_result"
    }
   ],
   "source": [
    "# We will start with a desired pass phrase as bytes\n",
    "passcode = b\"I'm a passphrase\"\n",
    "passcode"
   ]
  },
  {
   "cell_type": "code",
   "execution_count": 34,
   "metadata": {},
   "outputs": [
    {
     "data": {
      "text/plain": [
       "b'\\xb3\\xbd\\x97\\x91f\\xaa\\x0fY\\x1e\\xd1\\x00\\x87\\x1a\\xa0l='"
      ]
     },
     "execution_count": 34,
     "metadata": {},
     "output_type": "execute_result"
    }
   ],
   "source": [
    "# generate 16 random bytes for the initialization vector or salt\n",
    "iv = urandom(16)\n",
    "iv"
   ]
  },
  {
   "cell_type": "code",
   "execution_count": 35,
   "metadata": {
    "scrolled": true
   },
   "outputs": [
    {
     "name": "stdout",
     "output_type": "stream",
     "text": [
      "b'\\x1dDMN\\xce\\xf1:iFr\\x90\\x0f>15Yq\\x80\\xb6\\x0c \\x05]\\xd1\\x10\\x1f\\xafr\\nH\\x04X'\n"
     ]
    }
   ],
   "source": [
    "#Key derivation function. This is practically  irreversible \n",
    "kdf = PBKDF2HMAC(\n",
    "        algorithm=hashes.SHA256(),\n",
    "        length=32,\n",
    "        salt=iv,\n",
    "        iterations=100000,\n",
    "    )\n",
    "kdf_result = kdf.derive(passcode)\n",
    "print(kdf_result)"
   ]
  },
  {
   "cell_type": "code",
   "execution_count": 36,
   "metadata": {},
   "outputs": [
    {
     "data": {
      "text/plain": [
       "32"
      ]
     },
     "execution_count": 36,
     "metadata": {},
     "output_type": "execute_result"
    }
   ],
   "source": [
    "# We should have 32 bytes now\n",
    "len(kdf_result)"
   ]
  },
  {
   "cell_type": "code",
   "execution_count": 37,
   "metadata": {},
   "outputs": [
    {
     "data": {
      "text/plain": [
       "b'HURNTs7xOmlGcpAPPjE1WXGAtgwgBV3REB-vcgpIBFg='"
      ]
     },
     "execution_count": 37,
     "metadata": {},
     "output_type": "execute_result"
    }
   ],
   "source": [
    "# Make a valid fernet key:\n",
    "fernet_key = base64.urlsafe_b64encode(kdf_result)\n",
    "fernet_key"
   ]
  },
  {
   "cell_type": "code",
   "execution_count": 38,
   "metadata": {},
   "outputs": [
    {
     "name": "stdout",
     "output_type": "stream",
     "text": [
      "<cryptography.fernet.Fernet object at 0x00000213E8A4ED08>\n"
     ]
    }
   ],
   "source": [
    "# Check to see if you can create a Fernet cipher\n",
    "f1 = Fernet(fernet_key)\n",
    "print(f1)"
   ]
  },
  {
   "cell_type": "markdown",
   "metadata": {},
   "source": [
    "If both parties know the passphrase and salt value, then each party could derive the same key and send encrypted messages."
   ]
  },
  {
   "cell_type": "markdown",
   "metadata": {},
   "source": [
    "## Encrypted Data\n",
    "Let's see how the data is packed and encrypted. \n",
    "The enciphered token has the following structure:\n",
    "\n",
    "1. Version [1 byte] - the only valid value currently is 128.\n",
    "2. Timestamp [8 bytes] - a 64 bit, unsigned, big-endian integer that indicates when the ciphertext was created. \n",
    "3. IV [16 bytes] - the 128 bit Initialization Vector used in AES encryption and decryption.\n",
    "4. Ciphertext [16 * N Bytes, where N is the number of cipher blocks] - the encrypted version of the plaintext message. This is encrypted using AES128 in CBC mode using the PKCS7 padding algorithm.\n",
    "5. HMAC [32 bytes] - a 256-bit hash based message authentication code of the concatenated Version, Timestamp, IV, and Ciphertext fields. The HMAC is signed using the signing key section of the Fernet key."
   ]
  },
  {
   "cell_type": "code",
   "execution_count": 39,
   "metadata": {},
   "outputs": [
    {
     "data": {
      "text/plain": [
       "b'gAAAAABkG4jf6fJOouoFv4RNeSwnziXJ5z6Q4DPHtMvR_NcBQ7SFdtVdzp2iRXJofNq98yakAY3rheGQyKMlM4J7vltuSa7znLrkNMGtdAKC9-Bv1G7PpcpCIP4zbqd4A_Z5Sg5CtoTDo1EwmmpB_UDKiBIVOgN6tPutuPNrkEd_0vERf9x4YgRvmO00fhTs0wjudjqVbJcu4SoLUzaAgah482yHTCDFOBdaJ2jo6Cb75FTqkdkhPmUtWSfQA-gnKKvrFKSZ3dZG3YcIJ9TtK1w0GuFOo3dlyNZGRToFuWq9rVlHYrM1cl2uPDcCEV4j6wySiXp3p8Pq-LtmpOLpubBGMICM3jZXJgmKqVR4S5v6seo6YtaYY5d15g_q7nbMyJs3Y1NrJVqhCtdsB2T-iZswL8jDQdm8CLeAw2upGtKfamgS-nigXl_O_jhhUtI9UHLyKqhOPscMT810qfMl6nmn65qcXKmyomEOg1LSjmb9IotqliWBakJ1ePYvNfSIXWl9vJhGiWLD'"
      ]
     },
     "execution_count": 39,
     "metadata": {},
     "output_type": "execute_result"
    }
   ],
   "source": [
    "# Recall the base64 encoded cipher token\n",
    "cipher_token"
   ]
  },
  {
   "cell_type": "code",
   "execution_count": 40,
   "metadata": {},
   "outputs": [
    {
     "data": {
      "text/plain": [
       "b'\\x80\\x00\\x00\\x00\\x00d\\x1b\\x88\\xdf\\xe9\\xf2N\\xa2\\xea\\x05\\xbf\\x84My,\\'\\xce%\\xc9\\xe7>\\x90\\xe03\\xc7\\xb4\\xcb\\xd1\\xfc\\xd7\\x01C\\xb4\\x85v\\xd5]\\xce\\x9d\\xa2Erh|\\xda\\xbd\\xf3&\\xa4\\x01\\x8d\\xeb\\x85\\xe1\\x90\\xc8\\xa3%3\\x82{\\xbe[nI\\xae\\xf3\\x9c\\xba\\xe44\\xc1\\xadt\\x02\\x82\\xf7\\xe0o\\xd4n\\xcf\\xa5\\xcaB \\xfe3n\\xa7x\\x03\\xf6yJ\\x0eB\\xb6\\x84\\xc3\\xa3Q0\\x9ajA\\xfd@\\xca\\x88\\x12\\x15:\\x03z\\xb4\\xfb\\xad\\xb8\\xf3k\\x90G\\x7f\\xd2\\xf1\\x11\\x7f\\xdcxb\\x04o\\x98\\xed4~\\x14\\xec\\xd3\\x08\\xeev:\\x95l\\x97.\\xe1*\\x0bS6\\x80\\x81\\xa8x\\xf3l\\x87L \\xc58\\x17Z\\'h\\xe8\\xe8&\\xfb\\xe4T\\xea\\x91\\xd9!>e-Y\\'\\xd0\\x03\\xe8\\'(\\xab\\xeb\\x14\\xa4\\x99\\xdd\\xd6F\\xdd\\x87\\x08\\'\\xd4\\xed+\\\\4\\x1a\\xe1N\\xa3we\\xc8\\xd6FE:\\x05\\xb9j\\xbd\\xadYGb\\xb35r]\\xae<7\\x02\\x11^#\\xeb\\x0c\\x92\\x89zw\\xa7\\xc3\\xea\\xf8\\xbbf\\xa4\\xe2\\xe9\\xb9\\xb0F0\\x80\\x8c\\xde6W&\\t\\x8a\\xa9TxK\\x9b\\xfa\\xb1\\xea:b\\xd6\\x98c\\x97u\\xe6\\x0f\\xea\\xeev\\xcc\\xc8\\x9b7cSk%Z\\xa1\\n\\xd7l\\x07d\\xfe\\x89\\x9b0/\\xc8\\xc3A\\xd9\\xbc\\x08\\xb7\\x80\\xc3k\\xa9\\x1a\\xd2\\x9fjh\\x12\\xfax\\xa0^_\\xce\\xfe8aR\\xd2=Pr\\xf2*\\xa8N>\\xc7\\x0cO\\xcdt\\xa9\\xf3%\\xeay\\xa7\\xeb\\x9a\\x9c\\\\\\xa9\\xb2\\xa2a\\x0e\\x83R\\xd2\\x8ef\\xfd\"\\x8bj\\x96%\\x81jBux\\xf6/5\\xf4\\x88]i}\\xbc\\x98F\\x89b\\xc3'"
      ]
     },
     "execution_count": 40,
     "metadata": {},
     "output_type": "execute_result"
    }
   ],
   "source": [
    "cipher_token_bytes = base64.urlsafe_b64decode(cipher_token)\n",
    "cipher_token_bytes"
   ]
  },
  {
   "cell_type": "code",
   "execution_count": 41,
   "metadata": {},
   "outputs": [
    {
     "name": "stdout",
     "output_type": "stream",
     "text": [
      "Version: 128\n",
      "time_stamp: b'\\x00\\x00\\x00\\x00d\\x1b\\x88\\xdf'\n",
      "init_vect: b\"\\xe9\\xf2N\\xa2\\xea\\x05\\xbf\\x84My,'\\xce%\\xc9\\xe7\"\n",
      "Length of cipher_data: 336\n",
      "hmac_value: b'a\\x0e\\x83R\\xd2\\x8ef\\xfd\"\\x8bj\\x96%\\x81jBux\\xf6/5\\xf4\\x88]i}\\xbc\\x98F\\x89b\\xc3'\n"
     ]
    }
   ],
   "source": [
    "#parse the fields\n",
    "version = cipher_token_bytes[0]\n",
    "print(\"Version: {}\".format(version))\n",
    "time_stamp = cipher_token_bytes[1:9]\n",
    "print(\"time_stamp: {}\".format(time_stamp))\n",
    "init_vect = cipher_token_bytes[9:25]\n",
    "print(\"init_vect: {}\".format(init_vect))\n",
    "cipher_data = cipher_token_bytes[25:-32]\n",
    "print(\"Length of cipher_data: {}\".format(len(cipher_data)))\n",
    "hmac_value = cipher_token_bytes[-32:]\n",
    "print(\"hmac_value: {}\".format(hmac_value))"
   ]
  },
  {
   "cell_type": "code",
   "execution_count": 42,
   "metadata": {},
   "outputs": [
    {
     "data": {
      "text/plain": [
       "1679526111"
      ]
     },
     "execution_count": 42,
     "metadata": {},
     "output_type": "execute_result"
    }
   ],
   "source": [
    "#Convert the timestamp bytes into an integer\n",
    "#This is the number of seconds from the Jan 1, 1970 epoch\n",
    "import struct\n",
    "time_integer = struct.unpack(\">Q\",time_stamp)[0]\n",
    "time_integer"
   ]
  },
  {
   "cell_type": "code",
   "execution_count": 43,
   "metadata": {},
   "outputs": [
    {
     "data": {
      "text/plain": [
       "'2023-03-22T17:01:51'"
      ]
     },
     "execution_count": 43,
     "metadata": {},
     "output_type": "execute_result"
    }
   ],
   "source": [
    "#convert the timestamp into iso format so we can read it.\n",
    "from datetime import datetime\n",
    "datetime.fromtimestamp(time_integer).isoformat()"
   ]
  },
  {
   "cell_type": "markdown",
   "metadata": {},
   "source": [
    "For more on time operations in Python: https://docs.python.org/3/library/datetime.html"
   ]
  },
  {
   "cell_type": "code",
   "execution_count": 44,
   "metadata": {},
   "outputs": [
    {
     "data": {
      "text/plain": [
       "b'We the People of the United States, in Order to form a more perfect Union, establish Justice, insure domestic Tranquility, provide for the common defence, promote the general Welfare, and secure the Blessings of Liberty to ourselves and our Posterity, do ordain and establish this Constitution for the United States of America.'"
      ]
     },
     "execution_count": 44,
     "metadata": {},
     "output_type": "execute_result"
    }
   ],
   "source": [
    "#Recall (no time constraints)\n",
    "f.decrypt(cipher_token)"
   ]
  },
  {
   "cell_type": "code",
   "execution_count": 67,
   "metadata": {},
   "outputs": [
    {
     "ename": "InvalidToken",
     "evalue": "",
     "output_type": "error",
     "traceback": [
      "\u001b[1;31m---------------------------------------------------------------------------\u001b[0m",
      "\u001b[1;31mInvalidToken\u001b[0m                              Traceback (most recent call last)",
      "\u001b[1;32m<ipython-input-67-a8c021423011>\u001b[0m in \u001b[0;36m<module>\u001b[1;34m\u001b[0m\n\u001b[0;32m      2\u001b[0m \u001b[1;31m# This is helpful to guarantee the freshness of data coming from a real-time producer.\u001b[0m\u001b[1;33m\u001b[0m\u001b[1;33m\u001b[0m\u001b[1;33m\u001b[0m\u001b[0m\n\u001b[0;32m      3\u001b[0m \u001b[1;31m# (i.e. instrument data from a test vehicle streaming in real-time. )\u001b[0m\u001b[1;33m\u001b[0m\u001b[1;33m\u001b[0m\u001b[1;33m\u001b[0m\u001b[0m\n\u001b[1;32m----> 4\u001b[1;33m \u001b[0mf\u001b[0m\u001b[1;33m.\u001b[0m\u001b[0mdecrypt\u001b[0m\u001b[1;33m(\u001b[0m\u001b[0mcipher_token\u001b[0m\u001b[1;33m,\u001b[0m\u001b[0mttl\u001b[0m \u001b[1;33m=\u001b[0m \u001b[1;36m10\u001b[0m\u001b[1;33m)\u001b[0m\u001b[1;33m\u001b[0m\u001b[1;33m\u001b[0m\u001b[0m\n\u001b[0m",
      "\u001b[1;32m~\\AppData\\Roaming\\Python\\Python37\\site-packages\\cryptography\\fernet.py\u001b[0m in \u001b[0;36mdecrypt\u001b[1;34m(self, token, ttl)\u001b[0m\n\u001b[0;32m     88\u001b[0m         \u001b[1;32melse\u001b[0m\u001b[1;33m:\u001b[0m\u001b[1;33m\u001b[0m\u001b[1;33m\u001b[0m\u001b[0m\n\u001b[0;32m     89\u001b[0m             \u001b[0mtime_info\u001b[0m \u001b[1;33m=\u001b[0m \u001b[1;33m(\u001b[0m\u001b[0mttl\u001b[0m\u001b[1;33m,\u001b[0m \u001b[0mint\u001b[0m\u001b[1;33m(\u001b[0m\u001b[0mtime\u001b[0m\u001b[1;33m.\u001b[0m\u001b[0mtime\u001b[0m\u001b[1;33m(\u001b[0m\u001b[1;33m)\u001b[0m\u001b[1;33m)\u001b[0m\u001b[1;33m)\u001b[0m\u001b[1;33m\u001b[0m\u001b[1;33m\u001b[0m\u001b[0m\n\u001b[1;32m---> 90\u001b[1;33m         \u001b[1;32mreturn\u001b[0m \u001b[0mself\u001b[0m\u001b[1;33m.\u001b[0m\u001b[0m_decrypt_data\u001b[0m\u001b[1;33m(\u001b[0m\u001b[0mdata\u001b[0m\u001b[1;33m,\u001b[0m \u001b[0mtimestamp\u001b[0m\u001b[1;33m,\u001b[0m \u001b[0mtime_info\u001b[0m\u001b[1;33m)\u001b[0m\u001b[1;33m\u001b[0m\u001b[1;33m\u001b[0m\u001b[0m\n\u001b[0m\u001b[0;32m     91\u001b[0m \u001b[1;33m\u001b[0m\u001b[0m\n\u001b[0;32m     92\u001b[0m     def decrypt_at_time(\n",
      "\u001b[1;32m~\\AppData\\Roaming\\Python\\Python37\\site-packages\\cryptography\\fernet.py\u001b[0m in \u001b[0;36m_decrypt_data\u001b[1;34m(self, data, timestamp, time_info)\u001b[0m\n\u001b[0;32m    144\u001b[0m             \u001b[0mttl\u001b[0m\u001b[1;33m,\u001b[0m \u001b[0mcurrent_time\u001b[0m \u001b[1;33m=\u001b[0m \u001b[0mtime_info\u001b[0m\u001b[1;33m\u001b[0m\u001b[1;33m\u001b[0m\u001b[0m\n\u001b[0;32m    145\u001b[0m             \u001b[1;32mif\u001b[0m \u001b[0mtimestamp\u001b[0m \u001b[1;33m+\u001b[0m \u001b[0mttl\u001b[0m \u001b[1;33m<\u001b[0m \u001b[0mcurrent_time\u001b[0m\u001b[1;33m:\u001b[0m\u001b[1;33m\u001b[0m\u001b[1;33m\u001b[0m\u001b[0m\n\u001b[1;32m--> 146\u001b[1;33m                 \u001b[1;32mraise\u001b[0m \u001b[0mInvalidToken\u001b[0m\u001b[1;33m\u001b[0m\u001b[1;33m\u001b[0m\u001b[0m\n\u001b[0m\u001b[0;32m    147\u001b[0m \u001b[1;33m\u001b[0m\u001b[0m\n\u001b[0;32m    148\u001b[0m             \u001b[1;32mif\u001b[0m \u001b[0mcurrent_time\u001b[0m \u001b[1;33m+\u001b[0m \u001b[0m_MAX_CLOCK_SKEW\u001b[0m \u001b[1;33m<\u001b[0m \u001b[0mtimestamp\u001b[0m\u001b[1;33m:\u001b[0m\u001b[1;33m\u001b[0m\u001b[1;33m\u001b[0m\u001b[0m\n",
      "\u001b[1;31mInvalidToken\u001b[0m: "
     ]
    }
   ],
   "source": [
    "# If more than ttl seconds have passed from the encryption, then the token is bad. \n",
    "# This is helpful to guarantee the freshness of data coming from a real-time producer.\n",
    "# (i.e. instrument data from a test vehicle streaming in real-time. )\n",
    "f.decrypt(cipher_token,ttl = 10)"
   ]
  },
  {
   "cell_type": "markdown",
   "metadata": {},
   "source": [
    "### AES-CBC decryption\n",
    "We have the keys used for the symmetric encryption along with the IV, so we can create an AES cipher based on these inputs and decrypt the cipher text. We'll need to import these primitives. Reference: https://cryptography.io/en/latest/hazmat/primitives/symmetric-encryption/"
   ]
  },
  {
   "cell_type": "code",
   "execution_count": 46,
   "metadata": {},
   "outputs": [],
   "source": [
    "from cryptography.hazmat.primitives.ciphers import Cipher, algorithms, modes"
   ]
  },
  {
   "cell_type": "code",
   "execution_count": 47,
   "metadata": {},
   "outputs": [
    {
     "data": {
      "text/plain": [
       "b'V\\xbf\\x148\\x89T5x\\xcaj\\xff\\x96\\xb4O\\xc6\\xef'"
      ]
     },
     "execution_count": 47,
     "metadata": {},
     "output_type": "execute_result"
    }
   ],
   "source": [
    "#Recall\n",
    "encryption_key"
   ]
  },
  {
   "cell_type": "code",
   "execution_count": 48,
   "metadata": {},
   "outputs": [
    {
     "data": {
      "text/plain": [
       "<cryptography.hazmat.primitives.ciphers.base.Cipher at 0x213e8b8fb88>"
      ]
     },
     "execution_count": 48,
     "metadata": {},
     "output_type": "execute_result"
    }
   ],
   "source": [
    "cipher = Cipher(algorithms.AES(encryption_key), modes.CBC(init_vect))\n",
    "cipher"
   ]
  },
  {
   "cell_type": "code",
   "execution_count": 49,
   "metadata": {},
   "outputs": [
    {
     "data": {
      "text/plain": [
       "<cryptography.hazmat.primitives.ciphers.base._CipherContext at 0x213e8b87988>"
      ]
     },
     "execution_count": 49,
     "metadata": {},
     "output_type": "execute_result"
    }
   ],
   "source": [
    "decryptor = cipher.decryptor()\n",
    "decryptor"
   ]
  },
  {
   "cell_type": "code",
   "execution_count": 50,
   "metadata": {},
   "outputs": [
    {
     "data": {
      "text/plain": [
       "b'We the People of the United States, in Order to form a more perfect Union, establish Justice, insure domestic Tranquility, provide for the common defence, promote the general Welfare, and secure the Blessings of Liberty to ourselves and our Posterity, do ordain and establish this Constitution for the United States of America.\\t\\t\\t\\t\\t\\t\\t\\t\\t'"
      ]
     },
     "execution_count": 50,
     "metadata": {},
     "output_type": "execute_result"
    }
   ],
   "source": [
    "#Notice the padding at the end\n",
    "# if this gives an error, reinitialize the decryptor\n",
    "clear = decryptor.update(cipher_data) + decryptor.finalize()\n",
    "clear"
   ]
  },
  {
   "cell_type": "code",
   "execution_count": 51,
   "metadata": {},
   "outputs": [
    {
     "data": {
      "text/plain": [
       "9"
      ]
     },
     "execution_count": 51,
     "metadata": {},
     "output_type": "execute_result"
    }
   ],
   "source": [
    "# The padding is performed by inserting N bytes at the end of the clear bytes\n",
    "# The pad length N is encoded as the pad value. The pad value is determined as chr(N).\n",
    "# The inverse of chr(N) is ord(char)\n",
    "ord('\\t')"
   ]
  },
  {
   "cell_type": "markdown",
   "metadata": {},
   "source": [
    "There were 9 b'/t' characters padded to the end of the preamble to make the block divisible by 16."
   ]
  },
  {
   "cell_type": "code",
   "execution_count": 52,
   "metadata": {},
   "outputs": [],
   "source": [
    "from cryptography.hazmat.primitives import padding"
   ]
  },
  {
   "cell_type": "code",
   "execution_count": 53,
   "metadata": {},
   "outputs": [
    {
     "data": {
      "text/plain": [
       "b'We the People of the United States, in Order to form a more perfect Union, establish Justice, insure domestic Tranquility, provide for the common defence, promote the general Welfare, and secure the Blessings of Liberty to ourselves and our Posterity, do ordain and establish this Constitution for the United States of A'"
      ]
     },
     "execution_count": 53,
     "metadata": {},
     "output_type": "execute_result"
    }
   ],
   "source": [
    "# Let's use the primitive (16 bytes = 128 bits)\n",
    "unpadder = padding.PKCS7(128).unpadder()\n",
    "unpadded_clear = unpadder.update(clear)\n",
    "unpadded_clear"
   ]
  },
  {
   "cell_type": "code",
   "execution_count": 54,
   "metadata": {},
   "outputs": [
    {
     "data": {
      "text/plain": [
       "b'merica.'"
      ]
     },
     "execution_count": 54,
     "metadata": {},
     "output_type": "execute_result"
    }
   ],
   "source": [
    "#We are still missing the last part:\n",
    "unpadder.finalize()"
   ]
  },
  {
   "cell_type": "code",
   "execution_count": 55,
   "metadata": {},
   "outputs": [
    {
     "data": {
      "text/plain": [
       "b'We the People of the United States, in Order to form a more perfect Union, establish Justice, insure domestic Tranquility, provide for the common defence, promote the general Welfare, and secure the Blessings of Liberty to ourselves and our Posterity, do ordain and establish this Constitution for the United States of America.'"
      ]
     },
     "execution_count": 55,
     "metadata": {},
     "output_type": "execute_result"
    }
   ],
   "source": [
    "#Putting the two together\n",
    "unpadder = padding.PKCS7(128).unpadder()\n",
    "unpadded_clear = unpadder.update(clear) + unpadder.finalize()\n",
    "unpadded_clear"
   ]
  },
  {
   "cell_type": "markdown",
   "metadata": {},
   "source": [
    "### Tamper Detection\n",
    "What if someone manipulates a bit in the cipher_data? The decryption will still work, but the message will be changed. We need to detect these manipulations before presenting actual data. The decryptor does not know if the data bits were rearranged.\n",
    "\n",
    "Key Point: encryption does not mean authentication. "
   ]
  },
  {
   "cell_type": "code",
   "execution_count": 56,
   "metadata": {},
   "outputs": [
    {
     "data": {
      "text/plain": [
       "True"
      ]
     },
     "execution_count": 56,
     "metadata": {},
     "output_type": "execute_result"
    }
   ],
   "source": [
    "#Change to a bytearray to manipulate\n",
    "altered_cipher = bytearray(cipher_data)\n",
    "altered_cipher == bytearray(cipher_data)"
   ]
  },
  {
   "cell_type": "code",
   "execution_count": 57,
   "metadata": {},
   "outputs": [
    {
     "data": {
      "text/plain": [
       "False"
      ]
     },
     "execution_count": 57,
     "metadata": {},
     "output_type": "execute_result"
    }
   ],
   "source": [
    "#Change a byte\n",
    "altered_cipher[29] = 0\n",
    "altered_cipher == bytearray(cipher_data)"
   ]
  },
  {
   "cell_type": "code",
   "execution_count": 58,
   "metadata": {},
   "outputs": [
    {
     "data": {
      "text/plain": [
       "b'We the People of the United States, in Order to form a more perfect Union, establish Justice, insure domestic Tranquility, provide for the common defence, promote the general Welfare, and secure the Blessings of Liberty to ourselves and our Posterity, do ordain and establish this Constitution for the United States of America.\\t\\t\\t\\t\\t\\t\\t\\t\\t'"
      ]
     },
     "execution_count": 58,
     "metadata": {},
     "output_type": "execute_result"
    }
   ],
   "source": [
    "# use the same decryptor and decrypt\n",
    "decryptor = cipher.decryptor()\n",
    "decryptor.update(cipher_data) + decryptor.finalize()"
   ]
  },
  {
   "cell_type": "code",
   "execution_count": 59,
   "metadata": {},
   "outputs": [
    {
     "data": {
      "text/plain": [
       "b'We the People ofbmYA4\\xe45\\xff\\x85\\xfd\\\\qqx\\xc1\\x84es, in Order uo form a more perfect Union, establish Justice, insure domestic Tranquility, provide for the common defence, promote the general Welfare, and secure the Blessings of Liberty to ourselves and our Posterity, do ordain and establish this Constitution for the United States of America.\\t\\t\\t\\t\\t\\t\\t\\t\\t'"
      ]
     },
     "execution_count": 59,
     "metadata": {},
     "output_type": "execute_result"
    }
   ],
   "source": [
    "# in cipher block chaining (CBC) mode, some of the original text will come through after manipulating a byte.\n",
    "decryptor = cipher.decryptor()\n",
    "decryptor.update(altered_cipher) + decryptor.finalize()"
   ]
  },
  {
   "cell_type": "markdown",
   "metadata": {},
   "source": [
    "How can someone tell if the enciphered data was manipulated?\n",
    "\n",
    "Ans: use a message authentication code.\n",
    "\n",
    "https://cryptography.io/en/latest/hazmat/primitives/mac/hmac/"
   ]
  },
  {
   "cell_type": "code",
   "execution_count": 60,
   "metadata": {},
   "outputs": [],
   "source": [
    "from cryptography.hazmat.primitives import hashes, hmac"
   ]
  },
  {
   "cell_type": "code",
   "execution_count": 61,
   "metadata": {},
   "outputs": [
    {
     "data": {
      "text/plain": [
       "b';\\xf2\\x1b}u\\x80z\\x00\"%p/\\xd8\\xed\\xf8&'"
      ]
     },
     "execution_count": 61,
     "metadata": {},
     "output_type": "execute_result"
    }
   ],
   "source": [
    "#recall\n",
    "signing_key"
   ]
  },
  {
   "cell_type": "code",
   "execution_count": 62,
   "metadata": {},
   "outputs": [
    {
     "data": {
      "text/plain": [
       "b'a\\x0e\\x83R\\xd2\\x8ef\\xfd\"\\x8bj\\x96%\\x81jBux\\xf6/5\\xf4\\x88]i}\\xbc\\x98F\\x89b\\xc3'"
      ]
     },
     "execution_count": 62,
     "metadata": {},
     "output_type": "execute_result"
    }
   ],
   "source": [
    "#Add the concatenated message bytes to the HMAC and produce the digest\n",
    "h = hmac.HMAC(signing_key,hashes.SHA256())\n",
    "h.update(cipher_token_bytes[:-32])\n",
    "new_hmac_digest = h.finalize()\n",
    "new_hmac_digest"
   ]
  },
  {
   "cell_type": "code",
   "execution_count": 63,
   "metadata": {},
   "outputs": [
    {
     "data": {
      "text/plain": [
       "True"
      ]
     },
     "execution_count": 63,
     "metadata": {},
     "output_type": "execute_result"
    }
   ],
   "source": [
    "#Compare\n",
    "hmac_value == new_hmac_digest"
   ]
  },
  {
   "cell_type": "code",
   "execution_count": 64,
   "metadata": {},
   "outputs": [
    {
     "name": "stdout",
     "output_type": "stream",
     "text": [
      "Message Authenticated\n"
     ]
    }
   ],
   "source": [
    "# Using verify\n",
    "h = hmac.HMAC(signing_key,hashes.SHA256())\n",
    "h.update(cipher_token_bytes[:-32])\n",
    "h.verify(cipher_token_bytes[-32:])\n",
    "# If the verify command doesn't raise an error, it's ok.\n",
    "print(\"Message Authenticated\")"
   ]
  },
  {
   "cell_type": "code",
   "execution_count": 65,
   "metadata": {},
   "outputs": [
    {
     "ename": "InvalidSignature",
     "evalue": "Signature did not match digest.",
     "output_type": "error",
     "traceback": [
      "\u001b[1;31m---------------------------------------------------------------------------\u001b[0m",
      "\u001b[1;31mInvalidSignature\u001b[0m                          Traceback (most recent call last)",
      "\u001b[1;32m<ipython-input-65-a84ba8ea0d7c>\u001b[0m in \u001b[0;36m<module>\u001b[1;34m\u001b[0m\n\u001b[0;32m      3\u001b[0m \u001b[1;31m# Remove the first byte\u001b[0m\u001b[1;33m\u001b[0m\u001b[1;33m\u001b[0m\u001b[1;33m\u001b[0m\u001b[0m\n\u001b[0;32m      4\u001b[0m \u001b[0mh\u001b[0m\u001b[1;33m.\u001b[0m\u001b[0mupdate\u001b[0m\u001b[1;33m(\u001b[0m\u001b[0mcipher_token_bytes\u001b[0m\u001b[1;33m[\u001b[0m\u001b[1;36m1\u001b[0m\u001b[1;33m:\u001b[0m\u001b[1;33m-\u001b[0m\u001b[1;36m32\u001b[0m\u001b[1;33m]\u001b[0m\u001b[1;33m)\u001b[0m\u001b[1;33m\u001b[0m\u001b[1;33m\u001b[0m\u001b[0m\n\u001b[1;32m----> 5\u001b[1;33m \u001b[0mh\u001b[0m\u001b[1;33m.\u001b[0m\u001b[0mverify\u001b[0m\u001b[1;33m(\u001b[0m\u001b[0mcipher_token_bytes\u001b[0m\u001b[1;33m[\u001b[0m\u001b[1;33m-\u001b[0m\u001b[1;36m32\u001b[0m\u001b[1;33m:\u001b[0m\u001b[1;33m]\u001b[0m\u001b[1;33m)\u001b[0m\u001b[1;33m\u001b[0m\u001b[1;33m\u001b[0m\u001b[0m\n\u001b[0m",
      "\u001b[1;32m~\\AppData\\Roaming\\Python\\Python37\\site-packages\\cryptography\\hazmat\\primitives\\hmac.py\u001b[0m in \u001b[0;36mverify\u001b[1;34m(self, signature)\u001b[0m\n\u001b[0;32m     68\u001b[0m \u001b[1;33m\u001b[0m\u001b[0m\n\u001b[0;32m     69\u001b[0m         \u001b[0mctx\u001b[0m\u001b[1;33m,\u001b[0m \u001b[0mself\u001b[0m\u001b[1;33m.\u001b[0m\u001b[0m_ctx\u001b[0m \u001b[1;33m=\u001b[0m \u001b[0mself\u001b[0m\u001b[1;33m.\u001b[0m\u001b[0m_ctx\u001b[0m\u001b[1;33m,\u001b[0m \u001b[1;32mNone\u001b[0m\u001b[1;33m\u001b[0m\u001b[1;33m\u001b[0m\u001b[0m\n\u001b[1;32m---> 70\u001b[1;33m         \u001b[0mctx\u001b[0m\u001b[1;33m.\u001b[0m\u001b[0mverify\u001b[0m\u001b[1;33m(\u001b[0m\u001b[0msignature\u001b[0m\u001b[1;33m)\u001b[0m\u001b[1;33m\u001b[0m\u001b[1;33m\u001b[0m\u001b[0m\n\u001b[0m",
      "\u001b[1;32m~\\AppData\\Roaming\\Python\\Python37\\site-packages\\cryptography\\hazmat\\backends\\openssl\\hmac.py\u001b[0m in \u001b[0;36mverify\u001b[1;34m(self, signature)\u001b[0m\n\u001b[0;32m     82\u001b[0m         \u001b[0mdigest\u001b[0m \u001b[1;33m=\u001b[0m \u001b[0mself\u001b[0m\u001b[1;33m.\u001b[0m\u001b[0mfinalize\u001b[0m\u001b[1;33m(\u001b[0m\u001b[1;33m)\u001b[0m\u001b[1;33m\u001b[0m\u001b[1;33m\u001b[0m\u001b[0m\n\u001b[0;32m     83\u001b[0m         \u001b[1;32mif\u001b[0m \u001b[1;32mnot\u001b[0m \u001b[0mconstant_time\u001b[0m\u001b[1;33m.\u001b[0m\u001b[0mbytes_eq\u001b[0m\u001b[1;33m(\u001b[0m\u001b[0mdigest\u001b[0m\u001b[1;33m,\u001b[0m \u001b[0msignature\u001b[0m\u001b[1;33m)\u001b[0m\u001b[1;33m:\u001b[0m\u001b[1;33m\u001b[0m\u001b[1;33m\u001b[0m\u001b[0m\n\u001b[1;32m---> 84\u001b[1;33m             \u001b[1;32mraise\u001b[0m \u001b[0mInvalidSignature\u001b[0m\u001b[1;33m(\u001b[0m\u001b[1;34m\"Signature did not match digest.\"\u001b[0m\u001b[1;33m)\u001b[0m\u001b[1;33m\u001b[0m\u001b[1;33m\u001b[0m\u001b[0m\n\u001b[0m",
      "\u001b[1;31mInvalidSignature\u001b[0m: Signature did not match digest."
     ]
    }
   ],
   "source": [
    "# Using verify\n",
    "h = hmac.HMAC(signing_key,hashes.SHA256())\n",
    "# Remove the first byte\n",
    "h.update(cipher_token_bytes[1:-32])\n",
    "h.verify(cipher_token_bytes[-32:])"
   ]
  },
  {
   "cell_type": "code",
   "execution_count": 66,
   "metadata": {},
   "outputs": [
    {
     "name": "stdout",
     "output_type": "stream",
     "text": [
      "Invalid Signature\n"
     ]
    }
   ],
   "source": [
    "# Use a try -except block to catch the verification error\n",
    "from cryptography import exceptions\n",
    "h = hmac.HMAC(signing_key,hashes.SHA256())\n",
    "# Remove the first byte\n",
    "h.update(cipher_token_bytes[1:-32])\n",
    "try:\n",
    "    h.verify(cipher_token_bytes[-32:])\n",
    "    print(\"Message Authenticated\")\n",
    "except exceptions.InvalidSignature:\n",
    "    print(\"Invalid Signature\")"
   ]
  },
  {
   "cell_type": "markdown",
   "metadata": {},
   "source": [
    "## Section Summary\n",
    "In this section we disected the Fernet protocol for symmetric encryption. In this process we discussed\n",
    "* Improper Modes of Encryption \n",
    "* Key Generation\n",
    "* Keys from Passwords\n",
    "* Availability Controls with Timestamps\n",
    "* Confidentiality Controls using AES in the cipher block chaining mode\n",
    "* Integrity Controls and Tamper Detection using HMAC\n",
    "The Fernet recipe is a good starting point to send data across the Internet between trusted parties with a shared key."
   ]
  }
 ],
 "metadata": {
  "kernelspec": {
   "display_name": "Python 3",
   "language": "python",
   "name": "python3"
  },
  "language_info": {
   "codemirror_mode": {
    "name": "ipython",
    "version": 3
   },
   "file_extension": ".py",
   "mimetype": "text/x-python",
   "name": "python",
   "nbconvert_exporter": "python",
   "pygments_lexer": "ipython3",
   "version": "3.7.4"
  },
  "latex_envs": {
   "LaTeX_envs_menu_present": true,
   "autoclose": false,
   "autocomplete": true,
   "bibliofile": "biblio.bib",
   "cite_by": "apalike",
   "current_citInitial": 1,
   "eqLabelWithNumbers": true,
   "eqNumInitial": 1,
   "hotkeys": {
    "equation": "Ctrl-E",
    "itemize": "Ctrl-I"
   },
   "labels_anchors": false,
   "latex_user_defs": false,
   "report_style_numbering": false,
   "user_envs_cfg": false
  }
 },
 "nbformat": 4,
 "nbformat_minor": 2
}
