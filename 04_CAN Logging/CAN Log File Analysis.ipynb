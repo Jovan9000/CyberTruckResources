{
 "cells": [
  {
   "cell_type": "markdown",
   "metadata": {},
   "source": [
    "# <center> CAN Log File Analysis\n",
    "## <center> ENGR 580A2: Secure Vehicle and Industrial Networking\n",
    "## <center><img src=\"https://www.engr.colostate.edu/~jdaily/Systems-EN-CSU-1-C357.svg\" width=\"400\" />\n",
    "### <center> Instructor: Dr. Jeremy Daily"
   ]
  },
  {
   "cell_type": "markdown",
   "metadata": {},
   "source": [
    "## Objective\n",
    "* Work through examples of converting log files from different formats into the Linux SocketCAN format.\n",
    "* Extract signals from SAE J1939 traces and plot them.\n",
    "\n",
    "This notebook can be run on Windows or Linux."
   ]
  },
  {
   "cell_type": "code",
   "execution_count": 1,
   "metadata": {},
   "outputs": [],
   "source": [
    "# Use the struct library to interpret bytes\n",
    "import struct\n",
    "#Use the time libary to work with the timestamps\n",
    "import time"
   ]
  },
  {
   "cell_type": "markdown",
   "metadata": {},
   "source": [
    "# Log File Conversions\n",
    "Often CAN logs are in different formats based on the tool used to collect the data. This section provides a demonstration on how to convert from one format to the Linux can-utils candump format. The goal is to list all CAN messages in the following format:\n",
    "```\n",
    "(UNIX Timestamp) channel CANID#DATA\n",
    "```\n",
    "The data length code is determined by the length of the data field.\n",
    "\n",
    "Extended IDs will have 8 characters in the CAN ID and 3 characters (nibbles) if the standard 11-bit arbitration identifiers are used.\n",
    "\n",
    "The can-utils package that includes `candump` is here: https://github.com/linux-can/can-utils\n",
    "\n",
    "Additional information can be found by examining the SocketCAN documentation here: https://www.kernel.org/doc/html/v4.17/networking/can.html\n",
    "\n",
    "Finally, some of the manual pages show the candump format and structure: https://manpages.debian.org/bullseye/can-utils/candump.1.en.html"
   ]
  },
  {
   "cell_type": "markdown",
   "metadata": {},
   "source": [
    "## Vehicle Spy\n",
    "The Intrepid Vehicle Spy software is a popular software for working with CAN and J1939. The low-cost ValueCAN device enables engineers to quickly connect to networks and see traffic. In this example, there is a file that was recorded using VSPY3 called `VSpy on a Kenworth.csv`.\n"
   ]
  },
  {
   "cell_type": "code",
   "execution_count": 2,
   "metadata": {},
   "outputs": [
    {
     "data": {
      "text/plain": [
       "['Vehicle Spy 3 Bus Traffic File\\n',\n",
       " 'Save Date,11/29/2018\\n',\n",
       " 'Save Time,3:53:39 pm\\n',\n",
       " 'Start Date,11/29/2018\\n',\n",
       " 'Start Time,3:53:21 pm\\n',\n",
       " 'System Time,6132156\\n',\n",
       " 'Notes,\\n',\n",
       " '\\n',\n",
       " 'Network Description,Hardware,Network,Protocol,Baud Rate\\n',\n",
       " 'HS CAN,Default,HS CAN,CAN,500000,\\n',\n",
       " 'MS CAN,Default,MS CAN,CAN,500000,\\n',\n",
       " 'SW CAN,Default,SW CAN,CAN,33333,\\n',\n",
       " 'J1850 VPW,Default,J1850 VPW,J1850 VPW,10417,\\n',\n",
       " 'ISO9141/KW2K,Default,ISO9141/KW2K,KeyWord 2000,10417,\\n',\n",
       " 'LSFT CAN,Default,LSFT CAN,CAN,125000,\\n',\n",
       " 'J1850 PWM,Default,J1850 PWM,J1850 PWM,41600,\\n',\n",
       " 'J1708,Default,J1708,J1708,9600,\\n',\n",
       " 'neoVI,Default,neoVI,CAN,,\\n',\n",
       " 'HS CAN2 (neoVI 3G),Default,HS CAN2 (neoVI 3G),CAN,500000,\\n',\n",
       " 'HS CAN3 (neoVI 3G),Default,HS CAN3 (neoVI 3G),CAN,500000,\\n',\n",
       " 'LIN2 (neoVI 3G),Default,LIN2 (neoVI 3G),LIN,10417,\\n',\n",
       " 'LIN3 (neoVI 3G),Default,LIN3 (neoVI 3G),LIN,10417,\\n',\n",
       " 'LIN4 (neoVI 3G),Default,LIN4 (neoVI 3G),LIN,10417,\\n',\n",
       " 'CGI (neoVI 3G),Default,CGI (neoVI 3G),CGI,625000,\\n',\n",
       " 'LIN,Default,LIN,LIN,10417,\\n',\n",
       " 'ISO9141/KW2K 2,Default,ISO9141/KW2K 2,KeyWord 2000,10417,\\n',\n",
       " 'ISO9141/KW2K 3,Default,ISO9141/KW2K 3,KeyWord 2000,10417,\\n',\n",
       " 'ISO9141/KW2K 4,Default,ISO9141/KW2K 4,KeyWord 2000,10417,\\n',\n",
       " 'HS CAN4,Default,HS CAN4,CAN,500000,\\n',\n",
       " 'HS CAN5,Default,HS CAN5,CAN,500000,\\n',\n",
       " 'UART (neoVI 3G),Default,UART (neoVI 3G),UART,10417,\\n',\n",
       " 'UART2 (neoVI 3G),Default,UART2 (neoVI 3G),UART,10417,\\n',\n",
       " 'LIN5 (neoVI 3G),Default,LIN5 (neoVI 3G),LIN,10417,\\n',\n",
       " 'MOST (VNET A),Default,MOST (VNET A),MOST,1000000,\\n',\n",
       " 'FlexRay1A (VNET A),Default,FlexRay1A (VNET A),FlexRay,5000000,\\n',\n",
       " 'FlexRay1B (VNET A),Default,FlexRay1B (VNET A),FlexRay,5000000,\\n',\n",
       " 'FlexRay2A (VNET A),Default,FlexRay2A (VNET A),FlexRay,5000000,\\n',\n",
       " 'FlexRay2B (VNET A),Default,FlexRay2B (VNET A),FlexRay,5000000,\\n',\n",
       " 'HS CAN (VNET A),Default,HS CAN (VNET A),CAN,500000,\\n',\n",
       " 'MS CAN (VNET A),Default,MS CAN (VNET A),CAN,500000,\\n',\n",
       " 'SW CAN (VNET A),Default,SW CAN (VNET A),CAN,33333,\\n',\n",
       " 'J1850 VPW (VNET A),Default,J1850 VPW (VNET A),J1850 VPW,10417,\\n',\n",
       " 'LSFT CAN (VNET A),Default,LSFT CAN (VNET A),CAN,125000,\\n',\n",
       " 'J1708 (VNET A),Default,J1708 (VNET A),J1708,9600,\\n',\n",
       " 'neoVI (VNET A),Default,neoVI (VNET A),CAN,500000,\\n',\n",
       " 'HS CAN2 (VNET A),Default,HS CAN2 (VNET A),CAN,500000,\\n',\n",
       " 'HS CAN3 (VNET A),Default,HS CAN3 (VNET A),CAN,500000,\\n',\n",
       " 'LIN (VNET A),Default,LIN (VNET A),LIN,10417,\\n',\n",
       " 'LIN2 (VNET A),Default,LIN2 (VNET A),LIN,10417,\\n',\n",
       " 'LIN3 (VNET A),Default,LIN3 (VNET A),LIN,10417,\\n',\n",
       " 'LIN4 (VNET A),Default,LIN4 (VNET A),LIN,10417,\\n',\n",
       " 'CGI (VNET A),Default,CGI (VNET A),CGI,625000,\\n',\n",
       " 'ISO9141/KW2K (VNET A),Default,ISO9141/KW2K (VNET A),KeyWord 2000,10417,\\n',\n",
       " 'ISO9141/KW2K 2 (VNET A),Default,ISO9141/KW2K 2 (VNET A),KeyWord 2000,10417,\\n',\n",
       " 'ISO9141/KW2K 3 (VNET A),Default,ISO9141/KW2K 3 (VNET A),KeyWord 2000,10417,\\n',\n",
       " 'ISO9141/KW2K 4 (VNET A),Default,ISO9141/KW2K 4 (VNET A),KeyWord 2000,10417,\\n',\n",
       " 'HS CAN (VNET B),Default,HS CAN (VNET B),CAN,500000,\\n',\n",
       " 'MS CAN (VNET B),Default,MS CAN (VNET B),CAN,500000,\\n',\n",
       " 'SW CAN (VNET B),Default,SW CAN (VNET B),CAN,33333,\\n',\n",
       " 'J1850 VPW (VNET B),Default,J1850 VPW (VNET B),J1850 VPW,10417,\\n',\n",
       " 'LSFT CAN (VNET B),Default,LSFT CAN (VNET B),CAN,125000,\\n',\n",
       " 'J1708 (VNET B),Default,J1708 (VNET B),J1708,9600,\\n',\n",
       " 'neoVI (VNET B),Default,neoVI (VNET B),CAN,500000,\\n',\n",
       " 'HS CAN2 (VNET B),Default,HS CAN2 (VNET B),CAN,500000,\\n',\n",
       " 'HS CAN3 (VNET B),Default,HS CAN3 (VNET B),CAN,500000,\\n',\n",
       " 'LIN (VNET B),Default,LIN (VNET B),LIN,10417,\\n',\n",
       " 'LIN2 (VNET B),Default,LIN2 (VNET B),LIN,10417,\\n',\n",
       " 'LIN3 (VNET B),Default,LIN3 (VNET B),LIN,10417,\\n',\n",
       " 'LIN4 (VNET B),Default,LIN4 (VNET B),LIN,10417,\\n',\n",
       " 'CGI (VNET B),Default,CGI (VNET B),CGI,625000,\\n',\n",
       " 'ISO9141/KW2K (VNET B),Default,ISO9141/KW2K (VNET B),KeyWord 2000,10417,\\n',\n",
       " 'ISO9141/KW2K 2 (VNET B),Default,ISO9141/KW2K 2 (VNET B),KeyWord 2000,10417,\\n',\n",
       " 'ISO9141/KW2K 3 (VNET B),Default,ISO9141/KW2K 3 (VNET B),KeyWord 2000,10417,\\n',\n",
       " 'ISO9141/KW2K 4 (VNET B),Default,ISO9141/KW2K 4 (VNET B),KeyWord 2000,10417,\\n',\n",
       " 'HS CAN4 (VNET A),Default,HS CAN4 (VNET A),CAN,500000,\\n',\n",
       " 'HS CAN5 (VNET A),Default,HS CAN5 (VNET A),CAN,500000,\\n',\n",
       " 'LIN5 (VNET A),Default,LIN5 (VNET A),LIN,10417,\\n',\n",
       " 'HS CAN4 (VNET B),Default,HS CAN4 (VNET B),CAN,500000,\\n',\n",
       " 'HS CAN5 (VNET B),Default,HS CAN5 (VNET B),CAN,500000,\\n',\n",
       " 'LIN5 (VNET B),Default,LIN5 (VNET B),LIN,10417,\\n',\n",
       " 'Ethernet DAQ (neoVI 3G),Default,Ethernet DAQ (neoVI 3G),Ethernet,0,\\n',\n",
       " 'Ethernet,Default,,Ethernet,,\\n',\n",
       " 'MOST (VNET B),Default,MOST (VNET B),MOST,1000000,\\n',\n",
       " 'FlexRay1A (VNET B),Default,FlexRay1A (VNET B),FlexRay,5000000,\\n',\n",
       " 'FlexRay1B (VNET B),Default,FlexRay1B (VNET B),FlexRay,5000000,\\n',\n",
       " 'FlexRay2A (VNET B),Default,FlexRay2A (VNET B),FlexRay,5000000,\\n',\n",
       " 'FlexRay2B (VNET B),Default,FlexRay2B (VNET B),FlexRay,5000000,\\n',\n",
       " 'SW CAN2 (neoVI 3G),Default,SW CAN2 (neoVI 3G),CAN,33333,\\n',\n",
       " 'SW CAN2 (VNET A),Default,SW CAN2 (VNET A),CAN,33333,\\n',\n",
       " 'SW CAN2 (VNET B),Default,SW CAN2 (VNET B),CAN,33333,\\n',\n",
       " 'FSA,(None),(Virtual),FSA,,\\n',\n",
       " '\\n',\n",
       " '\\n',\n",
       " '\\n',\n",
       " 'Line,Abs Time(Sec),Rel Time (Sec),Status,Er,Tx,Description,Network,Node,ID,Cycle,Ch,B1-256,Dyn,Symbol Type,Strt-PPI-NULL-Sync-Res,H-CRC,CRC,Tframe,Tss Length,Value,Trigger,Signals\\n',\n",
       " 'Line,Abs Time(Sec),Rel Time (Sec),Status,Er,Tx,Description,Network,Node,Arb ID,Remote,Xtd,B1,B2,B3,B4,B5,B6,B7,B8,Value,Trigger,Signals\\n',\n",
       " 'Line,Abs Time(Sec),Rel Time (Sec),Status,Er,Tx,Description,Network,Node,PT,Trgt,Src,B1,B2,B3,B4,B5,B6,B7,B8,Value,Trigger,Signals\\n',\n",
       " '1,2.570999999999998,0,67371012,F,F,HS CAN $18F00131,HS CAN,,18F00131,F,T,FF,FF,FF,3F,00,FF,FF,FF,,,\\n',\n",
       " '2,2.571587999999992,0.0005879999999933716,67371012,F,F,HS CAN $18E0FF31,HS CAN,,18E0FF31,F,T,00,FF,FF,FF,FF,F0,FF,FF,,,\\n',\n",
       " '3,2.572163950000004,0.0005759500000124262,67371012,F,F,HS CAN $18FEF131,HS CAN,,18FEF131,F,T,F7,FF,FF,C7,CC,FF,FF,FF,,,\\n',\n",
       " '4,2.572759949999991,0.0005959999999873844,67371012,F,F,HS CAN $18FEF031,HS CAN,,18FEF031,F,T,FF,FF,FF,FF,FF,FF,FF,FF,,,\\n',\n",
       " '5,2.573343925000003,0.0005839750000120603,67371012,F,F,HS CAN $18FEFC31,HS CAN,,18FEFC31,F,T,FF,1F,FF,FF,FF,FF,00,FF,,,\\n',\n",
       " '6,2.573923925000002,0.0005799999999993588,67371012,F,F,HS CAN $18FEAE31,HS CAN,,18FEAE31,F,T,FF,FF,6E,6E,FF,FF,FF,FF,,,\\n',\n",
       " '7,2.574516074999991,0.0005921499999885782,67371012,F,F,HS CAN $18FEF731,HS CAN,,18FEF731,F,T,FF,FF,FF,FF,FA,00,FF,FF,,,\\n',\n",
       " '8,2.575108075000003,0.0005920000000116943,67371012,F,F,HS CAN $18FF0431,HS CAN,,18FF0431,F,T,40,9C,FF,FF,FF,FF,FF,FF,,,\\n',\n",
       " '9,2.575708050000003,0.0005999750000000859,67371012,F,F,HS CAN $18FF5031,HS CAN,,18FF5031,F,T,FF,FF,FF,FF,FF,FA,FF,FF,,,\\n',\n",
       " '10,2.576308025000003,0.0005999750000000859,67371012,F,F,HS CAN $18FD8331,HS CAN,,18FD8331,F,T,F8,FF,FF,FF,FF,FF,FF,FF,,,\\n',\n",
       " '11,2.576899999999995,0.0005919749999918622,67371012,F,F,HS CAN $18FEFA31,HS CAN,,18FEFA31,F,T,00,DC,DC,FF,FF,FF,FF,FF,,,\\n',\n",
       " '12,2.577495799999994,0.000595799999999258,67371012,F,F,HS CAN $18FEF231,HS CAN,,18FEF231,F,T,FF,FF,FF,FF,FF,FF,FF,FF,,,\\n',\n",
       " '13,2.578099774999998,0.0006039750000041977,67371012,F,F,HS CAN $18FEF831,HS CAN,,18FEF831,F,T,FF,FF,FF,FF,FF,FF,FF,FF,,,\\n',\n",
       " '14,2.578683749999996,0.0005839749999978494,67371012,F,F,HS CAN $18FEC131,HS CAN,,18FEC131,F,T,17,10,31,0A,FF,FF,FF,FF,,,\\n',\n",
       " '15,2.579283924999998,0.0006001750000024231,67371012,F,F,HS CAN $CF00331,HS CAN,,CF00331,F,T,FF,FF,FF,FF,FF,FF,FF,FF,,,\\n',\n",
       " '16,2.581403649999998,0.002119725000000017,67371012,F,F,HS CAN $18EA00F9,HS CAN,,18EA00F9,F,T,EC,FE,00,,,,,,,,\\n',\n",
       " '17,2.581963649999992,0.0005599999999930105,67371012,F,F,HS CAN $18FECA31,HS CAN,,18FECA31,F,T,C0,FF,A8,00,11,7E,FF,FF,,,\\n',\n",
       " '18,2.620990649999996,0.03902700000000436,67371012,F,F,HS CAN $CF00331,HS CAN,,CF00331,F,T,FF,FF,FF,FF,FF,FF,FF,FF,,,\\n',\n",
       " '19,2.671000899999996,0.0500102499999997,67371012,F,F,HS CAN $18F00131,HS CAN,,18F00131,F,T,FF,FF,FF,3F,00,FF,FF,FF,,,\\n',\n",
       " '20,2.671573074999998,0.000572175000002062,290271137103876,F,F,HS CAN $18FEF131,HS CAN,,18FEF131,F,T,F7,FF,FF,07,CC,FF,FF,FF,,,\\n',\n",
       " '21,2.672169049999994,0.000595974999995974,67371012,F,F,HS CAN $18FEF031,HS CAN,,18FEF031,F,T,FF,FF,FF,FF,FF,FF,FF,FF,,,\\n',\n",
       " '22,2.672764849999993,0.000595799999999258,67371012,F,F,HS CAN $18FF0431,HS CAN,,18FF0431,F,T,40,9C,FF,FF,FF,FF,FF,FF,,,\\n',\n",
       " '23,2.673364824999993,0.0005999750000000859,67371012,F,F,HS CAN $18FF5031,HS CAN,,18FF5031,F,T,FF,FF,FF,FF,FF,FA,FF,FF,,,\\n',\n",
       " '24,2.673960800000003,0.0005959750000101849,67371012,F,F,HS CAN $18FEF231,HS CAN,,18FEF231,F,T,FF,FF,FF,FF,FF,FF,FF,FF,,,\\n',\n",
       " '25,2.674560775000004,0.0005999750000000859,67371012,F,F,HS CAN $CF00331,HS CAN,,CF00331,F,T,FF,FF,FF,FF,FF,FF,FF,FF,,,\\n',\n",
       " '26,2.707927999999996,0.03336722499999212,67371012,F,F,HS CAN $8FE6E0B,HS CAN,,8FE6E0B,F,T,00,00,00,00,00,00,00,00,,,\\n',\n",
       " '27,2.720995599999995,0.0130675999999994,67371012,F,F,HS CAN $CF00331,HS CAN,,CF00331,F,T,FF,FF,FF,FF,FF,FF,FF,FF,,,\\n',\n",
       " '28,2.727827250000004,0.006831650000009404,67371012,F,F,HS CAN $18F0010B,HS CAN,,18F0010B,F,T,CF,FF,F0,FF,FF,DC,FF,FF,,,\\n',\n",
       " '29,2.728427249999996,0.0005999999999914962,67371012,F,F,HS CAN $8FE6E0B,HS CAN,,8FE6E0B,F,T,00,00,00,00,00,00,00,00,,,\\n',\n",
       " '30,2.737842900000004,0.009415650000008214,67371012,F,F,HS CAN $18FEBF0B,HS CAN,,18FEBF0B,F,T,00,00,7D,7D,7D,7D,FF,FF,,,\\n',\n",
       " '31,2.747862525000002,0.0100196249999982,67371012,F,F,HS CAN $18FECA0B,HS CAN,,18FECA0B,F,T,04,FF,00,00,00,00,FF,FF,,,\\n',\n",
       " '32,2.748514499999999,0.0006519749999966962,67371012,F,F,HS CAN $8FE6E0B,HS CAN,,8FE6E0B,F,T,00,00,00,00,00,00,00,00,,,\\n',\n",
       " '33,2.767901975000001,0.01938747500000204,67371012,F,F,HS CAN $8FE6E0B,HS CAN,,8FE6E0B,F,T,00,00,00,00,00,00,00,00,,,\\n',\n",
       " '34,2.770994000000002,0.003092025000000831,67371012,F,F,HS CAN $18F00131,HS CAN,,18F00131,F,T,FF,FF,FF,3F,00,FF,FF,FF,,,\\n',\n",
       " '35,2.771565975000002,0.0005719749999997248,67371012,F,F,HS CAN $18FEF131,HS CAN,,18FEF131,F,T,F7,FF,FF,07,CC,FF,FF,FF,,,\\n',\n",
       " '36,2.772161975000003,0.0005960000000015953,67371012,F,F,HS CAN $18FEF031,HS CAN,,18FEF031,F,T,FF,FF,FF,FF,FF,FF,FF,FF,,,\\n',\n",
       " '37,2.772757949999999,0.000595974999995974,67371012,F,F,HS CAN $18FF0431,HS CAN,,18FF0431,F,T,40,9C,FF,FF,FF,FF,FF,FF,,,\\n',\n",
       " '38,2.773357924999999,0.0005999750000000859,67371012,F,F,HS CAN $18FF5031,HS CAN,,18FF5031,F,T,FF,FF,FF,FF,FF,FA,FF,FF,,,\\n',\n",
       " '39,2.773953699999993,0.0005957749999936368,67371012,F,F,HS CAN $18FEF231,HS CAN,,18FEF231,F,T,FF,FF,FF,FF,FF,FF,FF,FF,,,\\n',\n",
       " '40,2.774553699999998,0.0006000000000057071,67371012,F,F,HS CAN $CF00331,HS CAN,,CF00331,F,T,FF,FF,FF,FF,FF,FF,FF,FF,,,\\n',\n",
       " '41,2.787901250000004,0.01334755000000598,67371012,F,F,HS CAN $8FE6E0B,HS CAN,,8FE6E0B,F,T,00,00,00,00,00,00,00,00,,,\\n',\n",
       " '42,2.807944500000005,0.02004325000000051,67371012,F,F,HS CAN $8FE6E0B,HS CAN,,8FE6E0B,F,T,00,00,00,00,00,00,00,00,,,\\n',\n",
       " '43,2.820984100000004,0.01303959999999904,67371012,F,F,HS CAN $CF00331,HS CAN,,CF00331,F,T,FF,FF,FF,FF,FF,FF,FF,FF,,,\\n',\n",
       " '44,2.827931824999993,0.006947724999989191,67371012,F,F,HS CAN $18F0010B,HS CAN,,18F0010B,F,T,CF,FF,F0,FF,FF,DC,FF,FF,,,\\n',\n",
       " '45,2.828531799999994,0.0005999750000000859,67371012,F,F,HS CAN $8FE6E0B,HS CAN,,8FE6E0B,F,T,00,00,00,00,00,00,00,00,,,\\n',\n",
       " '46,2.838095449999998,0.009563650000004032,67371012,F,F,HS CAN $18FEBF0B,HS CAN,,18FEBF0B,F,T,00,00,7D,7D,7D,7D,FF,FF,,,\\n',\n",
       " '47,2.848103074999998,0.01000762500000008,67371012,F,F,HS CAN $8FE6E0B,HS CAN,,8FE6E0B,F,T,00,00,00,00,00,00,00,00,,,\\n',\n",
       " '48,2.868130350000002,0.0200272750000039,67371012,F,F,HS CAN $8FE6E0B,HS CAN,,8FE6E0B,F,T,00,00,00,00,00,00,00,00,,,\\n',\n",
       " '49,2.870998200000002,0.002867850000001226,67371012,F,F,HS CAN $18F00131,HS CAN,,18F00131,F,T,FF,FF,FF,3F,00,FF,FF,FF,,,\\n',\n",
       " '50,2.871570175000002,0.0005719749999997248,67371012,F,F,HS CAN $18FEF131,HS CAN,,18FEF131,F,T,F7,FF,FF,07,CC,FF,FF,FF,,,\\n',\n",
       " '51,2.872166175000004,0.0005960000000015953,67371012,F,F,HS CAN $18FEF031,HS CAN,,18FEF031,F,T,FF,FF,FF,FF,FF,FF,FF,FF,,,\\n',\n",
       " '52,2.87276215,0.000595974999995974,67371012,F,F,HS CAN $18FF0431,HS CAN,,18FF0431,F,T,40,9C,FF,FF,FF,FF,FF,FF,,,\\n',\n",
       " '53,2.873362125,0.0005999750000000859,67371012,F,F,HS CAN $18FF5031,HS CAN,,18FF5031,F,T,FF,FF,FF,FF,FF,FA,FF,FF,,,\\n',\n",
       " '54,2.873958325000004,0.0005962000000039325,67371012,F,F,HS CAN $18FEF231,HS CAN,,18FEF231,F,T,FF,FF,FF,FF,FF,FF,FF,FF,,,\\n',\n",
       " '55,2.874558300000004,0.0005999750000000859,67371012,F,F,HS CAN $CF00331,HS CAN,,CF00331,F,T,FF,FF,FF,FF,FF,FF,FF,FF,,,\\n',\n",
       " '56,2.8881497,0.0135913999999957,67371012,F,F,HS CAN $8FE6E0B,HS CAN,,8FE6E0B,F,T,00,00,00,00,00,00,00,00,,,\\n',\n",
       " '57,2.908216874999994,0.02006717499999411,67371012,F,F,HS CAN $8FE6E0B,HS CAN,,8FE6E0B,F,T,00,00,00,00,00,00,00,00,,,\\n',\n",
       " '58,2.920972599999999,0.01275572500000521,67371012,F,F,HS CAN $CF00331,HS CAN,,CF00331,F,T,FF,FF,FF,FF,FF,FF,FF,FF,,,\\n',\n",
       " '59,2.926484575000004,0.005511975000004554,67371012,F,F,HS CAN $18EEFF00,HS CAN,,18EEFF00,F,T,02,03,A9,01,00,00,00,10,,,\\n',\n",
       " '60,2.928156575000002,0.00167199999999923,67371012,F,F,HS CAN $18F0010B,HS CAN,,18F0010B,F,T,CF,FF,F0,FF,FF,DC,FF,FF,,,\\n',\n",
       " '61,2.92875635,0.0005997749999977486,67371012,F,F,HS CAN $8FE6E0B,HS CAN,,8FE6E0B,F,T,00,00,00,00,00,00,00,00,,,\\n',\n",
       " '62,2.936504474999992,0.007748124999992001,67371012,F,F,HS CAN $CF00400,HS CAN,,CF00400,F,T,00,7D,7D,00,00,00,F0,7D,,,\\n',\n",
       " '63,2.937544274999994,0.001039800000000923,67371012,F,F,HS CAN $CF00300,HS CAN,,CF00300,F,T,F1,00,00,FF,FF,0C,00,FF,,,\\n',\n",
       " '64,2.938180274999994,0.0006360000000000809,67371012,F,F,HS CAN $18FEBF0B,HS CAN,,18FEBF0B,F,T,00,00,7D,7D,7D,7D,FF,FF,,,\\n',\n",
       " '65,2.938768249999996,0.0005879750000019612,67371012,F,F,HS CAN $18FCFD00,HS CAN,,18FCFD00,F,T,FF,FF,FF,FF,00,00,FF,FF,,,\\n',\n",
       " '66,2.93949225,0.000724000000005276,67371012,F,F,HS CAN $18FEDF00,HS CAN,,18FEDF00,F,T,82,FF,FF,FF,7D,00,00,00,,,\\n',\n",
       " '67,2.940300225000002,0.000807975000000738,67371012,F,F,HS CAN $18EA3100,HS CAN,,18EA3100,F,T,E6,FE,00,,,,,,,,\\n',\n",
       " '68,2.945544174999995,0.005243949999993447,67371012,F,F,HS CAN $1CECFF00,HS CAN,,1CECFF00,F,T,20,27,00,06,FF,E3,FE,00,,,\\n',\n",
       " '69,2.946500174999997,0.0009560000000021774,67371012,F,F,HS CAN $CF00400,HS CAN,,CF00400,F,T,00,7D,7D,00,00,00,F0,7D,,,\\n',\n",
       " '70,2.947500149999996,0.0009999749999991536,67371012,F,F,HS CAN $CF00A00,HS CAN,,CF00A00,F,T,00,00,00,00,FF,FF,FF,FF,,,\\n',\n",
       " '71,2.948212150000004,0.0007120000000071514,67371012,F,F,HS CAN $8FE6E0B,HS CAN,,8FE6E0B,F,T,00,00,00,00,00,00,00,00,,,\\n',\n",
       " '72,2.948780349999992,0.0005681999999893605,67371012,F,F,HS CAN $18F0000F,HS CAN,,18F0000F,F,T,00,7D,7D,F3,00,7D,00,61,,,\\n',\n",
       " '73,2.949540124999998,0.0007597750000059023,67371012,F,F,HS CAN $18FE9900,HS CAN,,18FE9900,F,T,CC,AD,FF,FF,FF,FF,FF,FF,,,\\n',\n",
       " '74,2.956508275000004,0.006968150000005835,67371012,F,F,HS CAN $CF00400,HS CAN,,CF00400,F,T,00,7D,7D,00,00,00,F0,7D,,,\\n',\n",
       " '75,2.95754805,0.001039774999995302,67371012,F,F,HS CAN $18F00E00,HS CAN,,18F00E00,F,T,FF,FF,FE,71,FF,FF,FF,FF,,,\\n',\n",
       " '76,2.958500049999998,0.0009519999999980656,67371012,F,F,HS CAN $18FEF200,HS CAN,,18FEF200,F,T,00,00,00,00,00,00,00,FF,,,\\n',\n",
       " '77,2.959492224999991,0.0009921749999932672,67371012,F,F,HS CAN $18FEDF00,HS CAN,,18FEDF00,F,T,82,FF,FF,FF,7D,00,00,00,,,\\n',\n",
       " '78,2.965552174999999,0.00605995000000803,67371012,F,F,HS CAN $CF00400,HS CAN,,CF00400,F,T,00,7D,7D,00,00,00,F0,7D,,,\\n',\n",
       " '79,2.96649995,0.000947775000000206,67371012,F,F,HS CAN $10FDA300,HS CAN,,10FDA300,F,T,FF,FF,3E,FF,FF,FF,FF,FF,,,\\n',\n",
       " '80,2.967487949999992,0.0009879999999924394,67371012,F,F,HS CAN $18FEE000,HS CAN,,18FEE000,F,T,FF,FF,FF,FF,CD,5C,68,00,,,\\n',\n",
       " '81,2.968275899999994,0.0007879500000029793,67371012,F,F,HS CAN $8FE6E0B,HS CAN,,8FE6E0B,F,T,00,00,00,00,00,00,00,00,,,\\n',\n",
       " '82,2.968859925000004,0.0005840250000090919,67371012,F,F,HS CAN $18FE9800,HS CAN,,18FE9800,F,T,00,32,FF,FF,FF,FF,FF,FF,,,\\n',\n",
       " '83,2.970983849999996,0.002123924999992255,67371012,F,F,HS CAN $18F00131,HS CAN,,18F00131,F,T,FF,FF,FF,3F,00,FF,FF,FF,,,\\n',\n",
       " '84,2.971559849999992,0.000575999999995247,67371012,F,F,HS CAN $18FEF131,HS CAN,,18FEF131,F,T,F7,FF,FF,07,CC,FF,FF,FF,,,\\n',\n",
       " '85,2.972155825000002,0.0005959750000101849,67371012,F,F,HS CAN $18FEF031,HS CAN,,18FEF031,F,T,FF,FF,FF,FF,FF,FF,FF,FF,,,\\n',\n",
       " '86,2.972752,0.0005961749999983113,67371012,F,F,HS CAN $18FF0431,HS CAN,,18FF0431,F,T,40,9C,FF,FF,FF,FF,FF,FF,,,\\n',\n",
       " '87,2.973351975,0.0005999750000000859,67371012,F,F,HS CAN $18FF5031,HS CAN,,18FF5031,F,T,FF,FF,FF,FF,FF,FA,FF,FF,,,\\n',\n",
       " '88,2.973947774999999,0.000595799999999258,67371012,F,F,HS CAN $18FEF231,HS CAN,,18FEF231,F,T,FF,FF,FF,FF,FF,FF,FF,FF,,,\\n',\n",
       " '89,2.974547950000002,0.0006001750000024231,67371012,F,F,HS CAN $CF00331,HS CAN,,CF00331,F,T,FF,FF,FF,FF,FF,FF,FF,FF,,,\\n',\n",
       " '90,2.976499950000004,0.00195200000000284,67371012,F,F,HS CAN $CF00400,HS CAN,,CF00400,F,T,00,7D,7D,00,00,00,F0,7D,,,\\n',\n",
       " '91,2.977543949999998,0.001043999999993162,67371012,F,F,HS CAN $18FF4500,HS CAN,,18FF4500,F,T,FA,00,FA,00,FF,00,00,00,,,\\n',\n",
       " '92,2.978491824999992,0.0009478749999942692,67371012,F,F,HS CAN $18FEDF00,HS CAN,,18FEDF00,F,T,82,FF,FF,FF,7D,00,00,00,,,\\n',\n",
       " '93,2.979500024999993,0.001008200000001125,67371012,F,F,HS CAN $1CFE9200,HS CAN,,1CFE9200,F,T,FF,80,B0,FF,FF,FF,FF,FF,,,\\n',\n",
       " '94,2.986495949999991,0.006995924999998238,67371012,F,F,HS CAN $CF00400,HS CAN,,CF00400,F,T,00,7D,7D,00,00,00,F0,7D,,,\\n',\n",
       " '95,2.987487924999996,0.0009919750000051408,67371012,F,F,HS CAN $CF00300,HS CAN,,CF00300,F,T,F1,00,00,FF,FF,0C,00,FF,,,\\n',\n",
       " '96,2.988251675000001,0.0007637500000043929,67371012,F,F,HS CAN $8FE6E0B,HS CAN,,8FE6E0B,F,T,00,00,00,00,00,00,00,00,,,\\n',\n",
       " '97,2.988839724999991,0.0005880499999904032,67371012,F,F,HS CAN $18FFA800,HS CAN,,18FFA800,F,T,00,00,00,00,04,10,0F,F3,,,\\n',\n",
       " '98,2.989547899999991,0.0007081749999997555,67371012,F,F,HS CAN $18FE9700,HS CAN,,18FE9700,F,T,29,3D,FF,FF,FF,FF,FF,FF,,,\\n',\n",
       " '99,2.996499900000004,0.006952000000012504,67371012,F,F,HS CAN $CF00400,HS CAN,,CF00400,F,T,00,7D,7D,00,00,00,F0,7D,,,\\n',\n",
       " '100,2.997555875000004,0.001055974999999876,67371012,F,F,HS CAN $CF00A00,HS CAN,,CF00A00,F,T,00,00,00,00,FF,FF,FF,FF,,,\\n',\n",
       " '101,2.998491874999999,0.000935999999995829,67371012,F,F,HS CAN $CFD9200,HS CAN,,CFD9200,F,T,F0,FF,FF,FF,FF,C3,FF,FF,,,\\n',\n",
       " '102,2.999491849999998,0.0009999749999991536,67371012,F,F,HS CAN $18FEDF00,HS CAN,,18FEDF00,F,T,82,FF,FF,FF,7D,00,00,00,,,\\n',\n",
       " '103,3.002947625000004,0.003455775000006156,67371012,F,F,HS CAN $18FEE631,HS CAN,,18FEE631,F,T,AC,03,00,00,00,00,FF,FA,,,\\n']"
      ]
     },
     "execution_count": 2,
     "metadata": {},
     "output_type": "execute_result"
    }
   ],
   "source": [
    "# Read the data into Python\n",
    "with open(\"VSpy on a Kenworth.csv\", \"r\") as f:\n",
    "    lines = f.readlines()\n",
    "lines[:200]"
   ]
  },
  {
   "cell_type": "code",
   "execution_count": 3,
   "metadata": {},
   "outputs": [],
   "source": [
    "# confirm this is a Vehicle Spy file\n",
    "# The following will raise and exception if it's not true.\n",
    "assert \"Vehicle Spy 3\" in lines[0] "
   ]
  },
  {
   "cell_type": "code",
   "execution_count": 4,
   "metadata": {},
   "outputs": [
    {
     "data": {
      "text/plain": [
       "'11/29/2018'"
      ]
     },
     "execution_count": 4,
     "metadata": {},
     "output_type": "execute_result"
    }
   ],
   "source": [
    "#Extract the start date \n",
    "start_date = lines[3].strip().split(',')[1]\n",
    "start_date"
   ]
  },
  {
   "cell_type": "code",
   "execution_count": 5,
   "metadata": {},
   "outputs": [
    {
     "data": {
      "text/plain": [
       "'3:53:21 pm'"
      ]
     },
     "execution_count": 5,
     "metadata": {},
     "output_type": "execute_result"
    }
   ],
   "source": [
    "#Extract the start time \n",
    "start_time = lines[4].strip().split(',')[1]\n",
    "start_time"
   ]
  },
  {
   "cell_type": "markdown",
   "metadata": {},
   "source": [
    "See https://docs.python.org/3/library/time.html#time.strftime for the format strings for the time function"
   ]
  },
  {
   "cell_type": "code",
   "execution_count": 6,
   "metadata": {},
   "outputs": [
    {
     "data": {
      "text/plain": [
       "'11/29/2018 3:53:21 pm -0700'"
      ]
     },
     "execution_count": 6,
     "metadata": {},
     "output_type": "execute_result"
    }
   ],
   "source": [
    "# Make a full time string and assume mountain time\n",
    "time_string = start_date + ' ' + start_time + \" -0700\"\n",
    "time_string"
   ]
  },
  {
   "cell_type": "code",
   "execution_count": 7,
   "metadata": {},
   "outputs": [
    {
     "data": {
      "text/plain": [
       "time.struct_time(tm_year=2018, tm_mon=11, tm_mday=29, tm_hour=15, tm_min=53, tm_sec=21, tm_wday=3, tm_yday=333, tm_isdst=-1)"
      ]
     },
     "execution_count": 7,
     "metadata": {},
     "output_type": "execute_result"
    }
   ],
   "source": [
    "#Convert these to a time object\n",
    "log_time = time.strptime(time_string, \"%m/%d/%Y %I:%M:%S %p %z\") \n",
    "log_time"
   ]
  },
  {
   "cell_type": "code",
   "execution_count": 8,
   "metadata": {},
   "outputs": [
    {
     "data": {
      "text/plain": [
       "1543532001.0"
      ]
     },
     "execution_count": 8,
     "metadata": {},
     "output_type": "execute_result"
    }
   ],
   "source": [
    "# Determine the number of seconds from the Unix epoch\n",
    "log_time_offset = time.mktime(log_time)\n",
    "log_time_offset"
   ]
  },
  {
   "cell_type": "code",
   "execution_count": 9,
   "metadata": {},
   "outputs": [
    {
     "data": {
      "text/plain": [
       "97"
      ]
     },
     "execution_count": 9,
     "metadata": {},
     "output_type": "execute_result"
    }
   ],
   "source": [
    "# Find the starting line\n",
    "start_line = 0\n",
    "for line in lines:\n",
    "    if \"1,\" in line[:2]: #The text of the first line\n",
    "        break\n",
    "    else:\n",
    "        start_line+=1\n",
    "start_line # this should be the line number where the log data starts"
   ]
  },
  {
   "cell_type": "code",
   "execution_count": 10,
   "metadata": {},
   "outputs": [
    {
     "data": {
      "text/plain": [
       "'1,2.570999999999998,0,67371012,F,F,HS CAN $18F00131,HS CAN,,18F00131,F,T,FF,FF,FF,3F,00,FF,FF,FF,,,\\n'"
      ]
     },
     "execution_count": 10,
     "metadata": {},
     "output_type": "execute_result"
    }
   ],
   "source": [
    "line"
   ]
  },
  {
   "cell_type": "code",
   "execution_count": 11,
   "metadata": {},
   "outputs": [
    {
     "data": {
      "text/plain": [
       "'Line,Abs Time(Sec),Rel Time (Sec),Status,Er,Tx,Description,Network,Node,Arb ID,Remote,Xtd,B1,B2,B3,B4,B5,B6,B7,B8,Value,Trigger,Signals\\n'"
      ]
     },
     "execution_count": 11,
     "metadata": {},
     "output_type": "execute_result"
    }
   ],
   "source": [
    "# Here's the first header\n",
    "lines[start_line-2]"
   ]
  },
  {
   "cell_type": "code",
   "execution_count": 12,
   "metadata": {},
   "outputs": [
    {
     "data": {
      "text/plain": [
       "'Line,Abs Time(Sec),Rel Time (Sec),Status,Er,Tx,Description,Network,Node,PT,Trgt,Src,B1,B2,B3,B4,B5,B6,B7,B8,Value,Trigger,Signals\\n'"
      ]
     },
     "execution_count": 12,
     "metadata": {},
     "output_type": "execute_result"
    }
   ],
   "source": [
    "# Here's the second header\n",
    "lines[start_line-1]"
   ]
  },
  {
   "cell_type": "code",
   "execution_count": 13,
   "metadata": {},
   "outputs": [
    {
     "data": {
      "text/plain": [
       "'1,2.570999999999998,0,67371012,F,F,HS CAN $18F00131,HS CAN,,18F00131,F,T,FF,FF,FF,3F,00,FF,FF,FF,,,\\n'"
      ]
     },
     "execution_count": 13,
     "metadata": {},
     "output_type": "execute_result"
    }
   ],
   "source": [
    "# Extract the first line\n",
    "line = lines[97]\n",
    "line"
   ]
  },
  {
   "cell_type": "markdown",
   "metadata": {},
   "source": [
    "We have a comma separated values line with a format shown in the first header. To convert this into a list, we'll use the split command. But first, we'll need to strip off the whitespace. "
   ]
  },
  {
   "cell_type": "code",
   "execution_count": 14,
   "metadata": {},
   "outputs": [
    {
     "data": {
      "text/plain": [
       "['1',\n",
       " '2.570999999999998',\n",
       " '0',\n",
       " '67371012',\n",
       " 'F',\n",
       " 'F',\n",
       " 'HS CAN $18F00131',\n",
       " 'HS CAN',\n",
       " '',\n",
       " '18F00131',\n",
       " 'F',\n",
       " 'T',\n",
       " 'FF',\n",
       " 'FF',\n",
       " 'FF',\n",
       " '3F',\n",
       " '00',\n",
       " 'FF',\n",
       " 'FF',\n",
       " 'FF',\n",
       " '',\n",
       " '',\n",
       " '']"
      ]
     },
     "execution_count": 14,
     "metadata": {},
     "output_type": "execute_result"
    }
   ],
   "source": [
    "line.strip().split(',')"
   ]
  },
  {
   "cell_type": "code",
   "execution_count": 15,
   "metadata": {},
   "outputs": [
    {
     "name": "stdout",
     "output_type": "stream",
     "text": [
      " 0 Line\n",
      " 1 Abs Time(Sec)\n",
      " 2 Rel Time (Sec)\n",
      " 3 Status\n",
      " 4 Er\n",
      " 5 Tx\n",
      " 6 Description\n",
      " 7 Network\n",
      " 8 Node\n",
      " 9 Arb ID\n",
      "10 Remote\n",
      "11 Xtd\n",
      "12 B1\n",
      "13 B2\n",
      "14 B3\n",
      "15 B4\n",
      "16 B5\n",
      "17 B6\n",
      "18 B7\n",
      "19 B8\n",
      "20 Value\n",
      "21 Trigger\n",
      "22 Signals\n"
     ]
    }
   ],
   "source": [
    "# Let's create an index key for each line\n",
    "header = lines[start_line-2].strip().split(',')\n",
    "for i,head in zip(range(len(header)),header):\n",
    "    print(\"{:2d} {}\".format(i,head))"
   ]
  },
  {
   "cell_type": "markdown",
   "metadata": {},
   "source": [
    "To convert to `candump`, use the time, Arb ID, and data bytes.\n",
    "\n",
    "Let's assume the `HS CAN` channel maps to `can1`.\n",
    "\n",
    "We'll work through all the file to produce this new record."
   ]
  },
  {
   "cell_type": "code",
   "execution_count": 16,
   "metadata": {},
   "outputs": [
    {
     "name": "stdout",
     "output_type": "stream",
     "text": [
      "(1543532003.571000) can1 18F00131#FFFFFF3F00FFFFFF\n",
      "(1543532003.571588) can1 18E0FF31#00FFFFFFFFF0FFFF\n",
      "(1543532003.572164) can1 18FEF131#F7FFFFC7CCFFFFFF\n",
      "(1543532003.572760) can1 18FEF031#FFFFFFFFFFFFFFFF\n",
      "(1543532003.573344) can1 18FEFC31#FF1FFFFFFFFF00FF\n",
      "(1543532003.573924) can1 18FEAE31#FFFF6E6EFFFFFFFF\n",
      "(1543532003.574516) can1 18FEF731#FFFFFFFFFA00FFFF\n",
      "(1543532003.575108) can1 18FF0431#409CFFFFFFFFFFFF\n",
      "(1543532003.575708) can1 18FF5031#FFFFFFFFFFFAFFFF\n",
      "(1543532003.576308) can1 18FD8331#F8FFFFFFFFFFFFFF\n",
      "(1543532003.576900) can1 18FEFA31#00DCDCFFFFFFFFFF\n",
      "(1543532003.577496) can1 18FEF231#FFFFFFFFFFFFFFFF\n",
      "(1543532003.578100) can1 18FEF831#FFFFFFFFFFFFFFFF\n",
      "(1543532003.578684) can1 18FEC131#1710310AFFFFFFFF\n",
      "(1543532003.579284) can1 0CF00331#FFFFFFFFFFFFFFFF\n",
      "(1543532003.581404) can1 18EA00F9#ECFE00\n",
      "(1543532003.581964) can1 18FECA31#C0FFA800117EFFFF\n",
      "(1543532003.620991) can1 0CF00331#FFFFFFFFFFFFFFFF\n",
      "(1543532003.671001) can1 18F00131#FFFFFF3F00FFFFFF\n",
      "(1543532003.671573) can1 18FEF131#F7FFFF07CCFFFFFF\n",
      "(1543532003.672169) can1 18FEF031#FFFFFFFFFFFFFFFF\n",
      "(1543532003.672765) can1 18FF0431#409CFFFFFFFFFFFF\n",
      "(1543532003.673365) can1 18FF5031#FFFFFFFFFFFAFFFF\n",
      "(1543532003.673961) can1 18FEF231#FFFFFFFFFFFFFFFF\n",
      "(1543532003.674561) can1 0CF00331#FFFFFFFFFFFFFFFF\n",
      "(1543532003.707928) can1 08FE6E0B#0000000000000000\n",
      "(1543532003.720996) can1 0CF00331#FFFFFFFFFFFFFFFF\n",
      "(1543532003.727827) can1 18F0010B#CFFFF0FFFFDCFFFF\n",
      "(1543532003.728427) can1 08FE6E0B#0000000000000000\n",
      "(1543532003.737843) can1 18FEBF0B#00007D7D7D7DFFFF\n",
      "(1543532003.747863) can1 18FECA0B#04FF00000000FFFF\n",
      "(1543532003.748514) can1 08FE6E0B#0000000000000000\n",
      "(1543532003.767902) can1 08FE6E0B#0000000000000000\n",
      "(1543532003.770994) can1 18F00131#FFFFFF3F00FFFFFF\n",
      "(1543532003.771566) can1 18FEF131#F7FFFF07CCFFFFFF\n",
      "(1543532003.772162) can1 18FEF031#FFFFFFFFFFFFFFFF\n",
      "(1543532003.772758) can1 18FF0431#409CFFFFFFFFFFFF\n",
      "(1543532003.773358) can1 18FF5031#FFFFFFFFFFFAFFFF\n",
      "(1543532003.773954) can1 18FEF231#FFFFFFFFFFFFFFFF\n",
      "(1543532003.774554) can1 0CF00331#FFFFFFFFFFFFFFFF\n",
      "(1543532003.787901) can1 08FE6E0B#0000000000000000\n",
      "(1543532003.807945) can1 08FE6E0B#0000000000000000\n",
      "(1543532003.820984) can1 0CF00331#FFFFFFFFFFFFFFFF\n",
      "(1543532003.827932) can1 18F0010B#CFFFF0FFFFDCFFFF\n",
      "(1543532003.828532) can1 08FE6E0B#0000000000000000\n",
      "(1543532003.838095) can1 18FEBF0B#00007D7D7D7DFFFF\n",
      "(1543532003.848103) can1 08FE6E0B#0000000000000000\n",
      "(1543532003.868130) can1 08FE6E0B#0000000000000000\n",
      "(1543532003.870998) can1 18F00131#FFFFFF3F00FFFFFF\n",
      "(1543532003.871570) can1 18FEF131#F7FFFF07CCFFFFFF\n",
      "(1543532003.872166) can1 18FEF031#FFFFFFFFFFFFFFFF\n",
      "(1543532003.872762) can1 18FF0431#409CFFFFFFFFFFFF\n",
      "(1543532003.873362) can1 18FF5031#FFFFFFFFFFFAFFFF\n",
      "(1543532003.873958) can1 18FEF231#FFFFFFFFFFFFFFFF\n",
      "(1543532003.874558) can1 0CF00331#FFFFFFFFFFFFFFFF\n",
      "(1543532003.888150) can1 08FE6E0B#0000000000000000\n",
      "(1543532003.908217) can1 08FE6E0B#0000000000000000\n",
      "(1543532003.920973) can1 0CF00331#FFFFFFFFFFFFFFFF\n",
      "(1543532003.926485) can1 18EEFF00#0203A90100000010\n",
      "(1543532003.928157) can1 18F0010B#CFFFF0FFFFDCFFFF\n",
      "(1543532003.928756) can1 08FE6E0B#0000000000000000\n",
      "(1543532003.936504) can1 0CF00400#007D7D000000F07D\n",
      "(1543532003.937544) can1 0CF00300#F10000FFFF0C00FF\n",
      "(1543532003.938180) can1 18FEBF0B#00007D7D7D7DFFFF\n",
      "(1543532003.938768) can1 18FCFD00#FFFFFFFF0000FFFF\n",
      "(1543532003.939492) can1 18FEDF00#82FFFFFF7D000000\n",
      "(1543532003.940300) can1 18EA3100#E6FE00\n",
      "(1543532003.945544) can1 1CECFF00#20270006FFE3FE00\n",
      "(1543532003.946500) can1 0CF00400#007D7D000000F07D\n",
      "(1543532003.947500) can1 0CF00A00#00000000FFFFFFFF\n",
      "(1543532003.948212) can1 08FE6E0B#0000000000000000\n",
      "(1543532003.948780) can1 18F0000F#007D7DF3007D0061\n",
      "(1543532003.949540) can1 18FE9900#CCADFFFFFFFFFFFF\n",
      "(1543532003.956508) can1 0CF00400#007D7D000000F07D\n",
      "(1543532003.957548) can1 18F00E00#FFFFFE71FFFFFFFF\n",
      "(1543532003.958500) can1 18FEF200#00000000000000FF\n",
      "(1543532003.959492) can1 18FEDF00#82FFFFFF7D000000\n",
      "(1543532003.965552) can1 0CF00400#007D7D000000F07D\n",
      "(1543532003.966500) can1 10FDA300#FFFF3EFFFFFFFFFF\n",
      "(1543532003.967488) can1 18FEE000#FFFFFFFFCD5C6800\n",
      "(1543532003.968276) can1 08FE6E0B#0000000000000000\n",
      "(1543532003.968860) can1 18FE9800#0032FFFFFFFFFFFF\n",
      "(1543532003.970984) can1 18F00131#FFFFFF3F00FFFFFF\n",
      "(1543532003.971560) can1 18FEF131#F7FFFF07CCFFFFFF\n",
      "(1543532003.972156) can1 18FEF031#FFFFFFFFFFFFFFFF\n",
      "(1543532003.972752) can1 18FF0431#409CFFFFFFFFFFFF\n",
      "(1543532003.973352) can1 18FF5031#FFFFFFFFFFFAFFFF\n",
      "(1543532003.973948) can1 18FEF231#FFFFFFFFFFFFFFFF\n",
      "(1543532003.974548) can1 0CF00331#FFFFFFFFFFFFFFFF\n",
      "(1543532003.976500) can1 0CF00400#007D7D000000F07D\n",
      "(1543532003.977544) can1 18FF4500#FA00FA00FF000000\n",
      "(1543532003.978492) can1 18FEDF00#82FFFFFF7D000000\n",
      "(1543532003.979500) can1 1CFE9200#FF80B0FFFFFFFFFF\n",
      "(1543532003.986496) can1 0CF00400#007D7D000000F07D\n",
      "(1543532003.987488) can1 0CF00300#F10000FFFF0C00FF\n",
      "(1543532003.988252) can1 08FE6E0B#0000000000000000\n",
      "(1543532003.988840) can1 18FFA800#0000000004100FF3\n",
      "(1543532003.989548) can1 18FE9700#293DFFFFFFFFFFFF\n",
      "(1543532003.996500) can1 0CF00400#007D7D000000F07D\n",
      "(1543532003.997556) can1 0CF00A00#00000000FFFFFFFF\n",
      "(1543532003.998492) can1 0CFD9200#F0FFFFFFFFC3FFFF\n",
      "(1543532003.999492) can1 18FEDF00#82FFFFFF7D000000\n",
      "(1543532004.002948) can1 18FEE631#AC0300000000FFFA\n",
      "\n"
     ]
    }
   ],
   "source": [
    "#Create an empty string\n",
    "candump_string = \"\"\n",
    "# Iterate through the log file and concatenate the next line\n",
    "for line in lines[start_line:200]:\n",
    "    line_list = line.strip().split(',')\n",
    "    # Extract the network as the channel:\n",
    "    channel = line_list[7]\n",
    "    if \"HS CAN\" in channel:\n",
    "        channel = 'can1'\n",
    "    elif \"MS CAN\" in channel:\n",
    "        channel = 'can0'\n",
    "    else:\n",
    "        continue # This line wasn't from the CAN\n",
    "    \n",
    "    #Convert the time into a floating point number to measure the number of seconds\n",
    "    abs_time = float(line_list[1]) + log_time_offset\n",
    "    \n",
    "    #Convert the CANID from hex to an integer\n",
    "    can_id = int(line_list[9],16)\n",
    "    \n",
    "    # Create bytes from the data\n",
    "    # The data is orignally in a text format and it needs to be converted into a long string\n",
    "    # Location 12-19 have the bytes, but the last value in the list slice is not indexed\n",
    "    can_data_string = \"\".join(line_list[12:20])\n",
    "    can_data = bytes.fromhex(can_data_string)\n",
    "    \n",
    "    candump_string += \"({:0.6f}) {} {:08X}#{}\\n\".format(abs_time,\n",
    "                                                         channel,\n",
    "                                                         can_id,\n",
    "                                                         can_data_string)\n",
    "    \n",
    "print(candump_string)"
   ]
  },
  {
   "cell_type": "code",
   "execution_count": 17,
   "metadata": {},
   "outputs": [],
   "source": [
    "# Save this to a file\n",
    "with open('candump on a Kenworth.log','w') as f:\n",
    "    f.write(candump_string)"
   ]
  },
  {
   "cell_type": "markdown",
   "metadata": {},
   "source": [
    "Now we can use this file for other purposes, like replaying the data through `canplayer` on a Raspberry Pi.\n",
    "\n",
    "Note: there are more efficient ways to combine these steps by reading and converting the file line by line as opposed to dumping everything in memory. This is an important consideration if you have large log files on an embedded device. "
   ]
  },
  {
   "cell_type": "markdown",
   "metadata": {},
   "source": [
    "## Class Exercise: Convert the Vector file\n",
    "Convert the file called `Vector CAN Case XL on Freightliner.csv` to the candump format."
   ]
  },
  {
   "cell_type": "code",
   "execution_count": 18,
   "metadata": {},
   "outputs": [
    {
     "data": {
      "text/plain": [
       "[b';Timestamp [s],Timediff[\\xb5s],Trigger Type,Event Type,Data,Data,Data,Data\\r\\n',\n",
       " b'0.000000,+1332170382000000\\xb5s,,Realtime (83),Mon Mar 19 15:19:42 2012\\r\\n',\n",
       " b'0.000000,+0\\xb5s,Single,Session Start (4484),ID:c0015b89\\r\\n',\n",
       " b'0.000000,+0\\xb5s,On/Off,BUS INFO (4c2),ch:1,Baudrate:1443, Silent:1, Protocol:0, Pre-Trigger:0, Post-Trigger:0, Fw:6081f201\\r\\n',\n",
       " b'0.000000,+0\\xb5s,On/Off,BUS INFO (84c2),ch:2,Baudrate:1443, Silent:0, Protocol:0, Pre-Trigger:0, Post-Trigger:0, Fw:6081f201\\r\\n',\n",
       " b'143.783033,+143783033\\xb5s,On/Off,CAN (4a8),RX ch:1,Dlc:8,idx:,301,data:,09,6f,a7,3b,0a,b8,0c,98,\\r\\n',\n",
       " b'143.783594,+561\\xb5s,On/Off,CAN (4a8),RX ch:1,Dlc:8,idx:,302,data:,1d,35,19,85,00,0c,7e,6f,\\r\\n',\n",
       " b'143.784174,+580\\xb5s,On/Off,CAN (4a8),RX ch:1,Dlc:8,idx:,303,data:,00,00,00,00,02,63,8c,01,\\r\\n',\n",
       " b'143.784770,+596\\xb5s,On/Off,CAN (4a8),RX ch:1,Dlc:8,idx:,304,data:,00,00,00,00,00,00,00,00,\\r\\n',\n",
       " b'143.785354,+584\\xb5s,On/Off,CAN (4a8),RX ch:1,Dlc:8,idx:,305,data:,00,00,49,c7,00,00,00,00,\\r\\n',\n",
       " b'143.785946,+592\\xb5s,On/Off,CAN (4a8),RX ch:1,Dlc:8,idx:,306,data:,00,0c,00,00,00,00,00,00,\\r\\n',\n",
       " b'143.786426,+480\\xb5s,On/Off,CAN (498),RX ch:1,Dlc:8,id:,308,data:,00,04,2f,e4,eb,7b,00,00,\\r\\n',\n",
       " b'143.786898,+472\\xb5s,On/Off,CAN (498),RX ch:1,Dlc:8,id:,309,data:,ff,f4,97,42,07,f4,00,00,\\r\\n',\n",
       " b'143.787362,+464\\xb5s,On/Off,CAN (498),RX ch:1,Dlc:8,id:,310,data:,39,ea,70,29,b5,b2,d4,be,\\r\\n',\n",
       " b'143.787814,+452\\xb5s,On/Off,CAN (498),RX ch:1,Dlc:8,id:,311,data:,bd,4f,f9,24,bb,03,75,96,\\r\\n',\n",
       " b'143.788266,+452\\xb5s,On/Off,CAN (498),RX ch:1,Dlc:8,id:,312,data:,bf,42,8f,5c,3f,3d,70,a4,\\r\\n',\n",
       " b'143.788718,+452\\xb5s,On/Off,CAN (498),RX ch:1,Dlc:8,id:,313,data:,bc,f5,c2,8f,3f,7d,8c,9e,\\r\\n',\n",
       " b'143.789270,+552\\xb5s,On/Off,CAN (4a8),RX ch:1,Dlc:8,idx:,cf00400,data:,f0,7d,89,86,12,00,ff,89,\\r\\n',\n",
       " b'143.789850,+580\\xb5s,On/Off,CAN (4a8),RX ch:1,Dlc:8,idx:,14ff3131,data:,00,30,03,00,00,ff,ff,ff,\\r\\n',\n",
       " b'143.790434,+584\\xb5s,On/Off,CAN (4a8),RX ch:1,Dlc:8,idx:,18f00100,data:,ff,ff,ff,ff,ff,ff,ff,ff,\\r\\n',\n",
       " b'143.791902,+1468\\xb5s,On/Off,CAN (4a8),RX ch:1,Dlc:8,idx:,14f00031,data:,cf,ff,ff,ff,ff,ff,ff,ff,\\r\\n',\n",
       " b'143.792867,+965\\xb5s,On/Off,CAN (4a8),RX ch:1,Dlc:8,idx:,301,data:,09,6f,a7,3c,0a,b8,0c,98,\\r\\n',\n",
       " b'143.793431,+564\\xb5s,On/Off,CAN (4a8),RX ch:1,Dlc:8,idx:,302,data:,1d,35,19,85,00,06,7e,0f,\\r\\n',\n",
       " b'143.794011,+580\\xb5s,On/Off,CAN (4a8),RX ch:1,Dlc:8,idx:,303,data:,00,00,00,00,03,63,8c,01,\\r\\n',\n",
       " b'143.794607,+596\\xb5s,On/Off,CAN (4a8),RX ch:1,Dlc:8,idx:,304,data:,00,00,00,00,00,00,00,00,\\r\\n',\n",
       " b'143.795191,+584\\xb5s,On/Off,CAN (4a8),RX ch:1,Dlc:8,idx:,305,data:,00,00,49,c7,00,00,00,00,\\r\\n',\n",
       " b'143.795787,+596\\xb5s,On/Off,CAN (4a8),RX ch:1,Dlc:8,idx:,306,data:,00,08,00,00,00,00,00,00,\\r\\n',\n",
       " b'143.796263,+476\\xb5s,On/Off,CAN (498),RX ch:1,Dlc:8,id:,308,data:,00,04,2f,e4,eb,75,00,00,\\r\\n',\n",
       " b'143.796739,+476\\xb5s,On/Off,CAN (498),RX ch:1,Dlc:8,id:,309,data:,ff,f4,97,42,07,fa,00,00,\\r\\n',\n",
       " b'143.797199,+460\\xb5s,On/Off,CAN (498),RX ch:1,Dlc:8,id:,310,data:,39,9d,84,cc,b7,06,9a,58,\\r\\n',\n",
       " b'143.797651,+452\\xb5s,On/Off,CAN (498),RX ch:1,Dlc:8,id:,311,data:,bd,81,d3,8b,bb,f8,e4,8f,\\r\\n',\n",
       " b'143.798103,+452\\xb5s,On/Off,CAN (498),RX ch:1,Dlc:8,id:,312,data:,bf,1c,28,f6,3f,19,99,9a,\\r\\n',\n",
       " b'143.798563,+460\\xb5s,On/Off,CAN (498),RX ch:1,Dlc:8,id:,313,data:,bf,b8,51,ec,3f,7e,68,1d,\\r\\n',\n",
       " b'143.799115,+552\\xb5s,On/Off,CAN (4a8),RX ch:1,Dlc:8,idx:,cf00400,data:,f0,7d,89,86,12,00,ff,89,\\r\\n',\n",
       " b'143.799703,+588\\xb5s,On/Off,CAN (4a8),RX ch:1,Dlc:8,idx:,18f0000f,data:,00,7d,ff,ff,0f,7d,ff,ff,\\r\\n',\n",
       " b'143.800271,+568\\xb5s,On/Off,CAN (4a8),RX ch:1,Dlc:8,idx:,18fef600,data:,ff,00,54,34,ff,d9,2c,ff,\\r\\n',\n",
       " b'143.800747,+476\\xb5s,On/Off,CAN (4a0),RX ch:1,Dlc:0,idx:,18f00f3d\\r\\n',\n",
       " b'143.801919,+1172\\xb5s,On/Off,CAN (4a8),RX ch:1,Dlc:8,idx:,14f00131,data:,ff,ff,ff,ff,00,ff,ff,ff,\\r\\n',\n",
       " b'143.802747,+828\\xb5s,On/Off,CAN (4a8),RX ch:1,Dlc:8,idx:,301,data:,09,6f,a7,3d,0a,b8,0c,98,\\r\\n',\n",
       " b'143.803299,+552\\xb5s,On/Off,CAN (4a8),RX ch:1,Dlc:8,idx:,302,data:,1d,35,19,85,00,0a,86,8f,\\r\\n',\n",
       " b'143.803875,+576\\xb5s,On/Off,CAN (4a8),RX ch:1,Dlc:8,idx:,303,data:,00,00,00,00,04,63,8c,01,\\r\\n',\n",
       " b'143.804471,+596\\xb5s,On/Off,CAN (4a8),RX ch:1,Dlc:8,idx:,304,data:,00,00,00,00,00,00,00,00,\\r\\n',\n",
       " b'143.805055,+584\\xb5s,On/Off,CAN (4a8),RX ch:1,Dlc:8,idx:,305,data:,00,00,49,c7,00,00,00,00,\\r\\n',\n",
       " b'143.805651,+596\\xb5s,On/Off,CAN (4a8),RX ch:1,Dlc:8,idx:,306,data:,00,08,00,00,00,00,00,00,\\r\\n',\n",
       " b'143.806131,+480\\xb5s,On/Off,CAN (498),RX ch:1,Dlc:8,id:,308,data:,00,04,2f,e4,eb,7b,00,00,\\r\\n',\n",
       " b'143.806607,+476\\xb5s,On/Off,CAN (498),RX ch:1,Dlc:8,id:,309,data:,ff,f4,97,42,07,fa,00,00,\\r\\n',\n",
       " b'143.807067,+460\\xb5s,On/Off,CAN (498),RX ch:1,Dlc:8,id:,310,data:,39,c7,79,8a,39,1f,f6,03,\\r\\n',\n",
       " b'143.807515,+448\\xb5s,On/Off,CAN (498),RX ch:1,Dlc:8,id:,311,data:,bd,72,87,3d,bc,d4,dc,0c,\\r\\n',\n",
       " b'143.807967,+452\\xb5s,On/Off,CAN (498),RX ch:1,Dlc:8,id:,312,data:,bf,88,f5,c3,bf,d8,51,ec,\\r\\n',\n",
       " b'143.808423,+456\\xb5s,On/Off,CAN (498),RX ch:1,Dlc:8,id:,313,data:,3f,35,c2,8f,3f,78,42,a8,\\r\\n',\n",
       " b'143.808979,+556\\xb5s,On/Off,CAN (4a8),RX ch:1,Dlc:8,idx:,cf00400,data:,f0,7d,88,89,12,00,ff,88,\\r\\n',\n",
       " b'143.809263,+284\\xb5s,On/Off,CAN (4a0),RX ch:1,Dlc:0,idx:,cf00a01\\r\\n',\n",
       " b'143.809851,+588\\xb5s,On/Off,CAN (4a8),RX ch:1,Dlc:8,idx:,10fe6f00,data:,ff,ff,ff,ff,ff,ff,ff,ff,\\r\\n',\n",
       " b'143.810131,+280\\xb5s,On/Off,CAN (4a0),RX ch:1,Dlc:0,idx:,10f01a01\\r\\n',\n",
       " b'143.810415,+284\\xb5s,On/Off,CAN (4a0),RX ch:1,Dlc:0,idx:,10fda301\\r\\n',\n",
       " b'143.810699,+284\\xb5s,On/Off,CAN (4a0),RX ch:1,Dlc:0,idx:,18fdd001\\r\\n',\n",
       " b'143.810987,+288\\xb5s,On/Off,CAN (4a0),RX ch:1,Dlc:0,idx:,18fedb01\\r\\n',\n",
       " b'143.811271,+284\\xb5s,On/Off,CAN (4a0),RX ch:1,Dlc:0,idx:,18fd9401\\r\\n',\n",
       " b'143.811551,+280\\xb5s,On/Off,CAN (4a0),RX ch:1,Dlc:0,idx:,18feca01\\r\\n',\n",
       " b'143.812120,+569\\xb5s,On/Off,CAN (4a8),RX ch:1,Dlc:8,idx:,14fef121,data:,f7,ff,ff,0f,ff,ff,ff,ff,\\r\\n',\n",
       " b'143.812404,+284\\xb5s,On/Off,CAN (4a0),RX ch:1,Dlc:0,idx:,18fe9701\\r\\n',\n",
       " b'143.812692,+288\\xb5s,On/Off,CAN (4a0),RX ch:1,Dlc:0,idx:,18fe9801\\r\\n',\n",
       " b'143.813256,+564\\xb5s,On/Off,CAN (4a8),RX ch:1,Dlc:8,idx:,301,data:,09,6f,a7,3e,0a,b8,0c,98,\\r\\n',\n",
       " b'143.813816,+560\\xb5s,On/Off,CAN (4a8),RX ch:1,Dlc:8,idx:,302,data:,1d,35,19,85,00,05,83,f9,\\r\\n',\n",
       " b'143.814396,+580\\xb5s,On/Off,CAN (4a8),RX ch:1,Dlc:8,idx:,303,data:,00,00,00,00,03,63,8c,01,\\r\\n',\n",
       " b'143.814992,+596\\xb5s,On/Off,CAN (4a8),RX ch:1,Dlc:8,idx:,304,data:,00,00,00,00,00,00,00,00,\\r\\n',\n",
       " b'143.815576,+584\\xb5s,On/Off,CAN (4a8),RX ch:1,Dlc:8,idx:,305,data:,00,00,49,c7,00,00,00,00,\\r\\n',\n",
       " b'143.816164,+588\\xb5s,On/Off,CAN (4a8),RX ch:1,Dlc:8,idx:,306,data:,00,09,00,00,00,00,00,00,\\r\\n',\n",
       " b'143.816644,+480\\xb5s,On/Off,CAN (498),RX ch:1,Dlc:8,id:,308,data:,00,04,2f,e4,eb,77,00,00,\\r\\n',\n",
       " b'143.817120,+476\\xb5s,On/Off,CAN (498),RX ch:1,Dlc:8,id:,309,data:,ff,f4,97,42,07,fa,00,00,\\r\\n',\n",
       " b'143.817572,+452\\xb5s,On/Off,CAN (498),RX ch:1,Dlc:8,id:,310,data:,39,d8,f4,da,36,b3,ca,50,\\r\\n',\n",
       " b'143.818016,+444\\xb5s,On/Off,CAN (498),RX ch:1,Dlc:8,id:,311,data:,bd,2a,99,49,bc,4e,19,52,\\r\\n',\n",
       " b'143.818472,+456\\xb5s,On/Off,CAN (498),RX ch:1,Dlc:8,id:,312,data:,bf,78,51,ec,be,f5,c2,8f,\\r\\n',\n",
       " b'143.818932,+460\\xb5s,On/Off,CAN (498),RX ch:1,Dlc:8,id:,313,data:,3f,d4,7a,e1,3f,78,72,0c,\\r\\n',\n",
       " b'143.819488,+556\\xb5s,On/Off,CAN (4a8),RX ch:1,Dlc:8,idx:,cf00400,data:,f0,7d,88,89,12,00,ff,88,\\r\\n',\n",
       " b'143.819772,+284\\xb5s,On/Off,CAN (4a0),RX ch:1,Dlc:0,idx:,18fe9901\\r\\n',\n",
       " b'143.820336,+564\\xb5s,On/Off,CAN (4a8),RX ch:1,Dlc:8,idx:,cf00300,data:,dd,00,12,ff,ff,ff,52,ff,\\r\\n',\n",
       " b'143.820620,+284\\xb5s,On/Off,CAN (4a0),RX ch:1,Dlc:0,idx:,18fe9a01\\r\\n',\n",
       " b'143.821204,+584\\xb5s,On/Off,CAN (4a8),RX ch:1,Dlc:8,idx:,18fef200,data:,14,00,00,00,00,00,ff,ff,\\r\\n',\n",
       " b'143.821488,+284\\xb5s,On/Off,CAN (4a0),RX ch:1,Dlc:0,idx:,18fedd01\\r\\n',\n",
       " b'143.821768,+280\\xb5s,On/Off,CAN (4a0),RX ch:1,Dlc:0,idx:,18fd6601\\r\\n',\n",
       " b'143.822328,+560\\xb5s,On/Off,CAN (4a8),RX ch:1,Dlc:8,idx:,14fef131,data:,cf,ff,ff,f3,00,ff,ff,30,\\r\\n',\n",
       " b'143.822608,+280\\xb5s,On/Off,CAN (4a0),RX ch:1,Dlc:0,idx:,18fe6901\\r\\n',\n",
       " b'143.823169,+561\\xb5s,On/Off,CAN (4a8),RX ch:1,Dlc:8,idx:,301,data:,09,6f,a7,3f,0a,b8,0c,98,\\r\\n',\n",
       " b'143.823725,+556\\xb5s,On/Off,CAN (4a8),RX ch:1,Dlc:8,idx:,302,data:,1d,35,19,85,00,09,49,fe,\\r\\n',\n",
       " b'143.824305,+580\\xb5s,On/Off,CAN (4a8),RX ch:1,Dlc:8,idx:,303,data:,00,00,00,00,00,63,8c,01,\\r\\n',\n",
       " b'143.824901,+596\\xb5s,On/Off,CAN (4a8),RX ch:1,Dlc:8,idx:,304,data:,00,00,00,00,00,00,00,00,\\r\\n',\n",
       " b'143.825485,+584\\xb5s,On/Off,CAN (4a8),RX ch:1,Dlc:8,idx:,305,data:,00,00,49,c7,00,00,00,00,\\r\\n',\n",
       " b'143.826081,+596\\xb5s,On/Off,CAN (4a8),RX ch:1,Dlc:8,idx:,306,data:,00,0a,00,00,00,00,00,00,\\r\\n',\n",
       " b'143.826557,+476\\xb5s,On/Off,CAN (498),RX ch:1,Dlc:8,id:,308,data:,00,04,2f,e4,eb,65,00,00,\\r\\n',\n",
       " b'143.827029,+472\\xb5s,On/Off,CAN (498),RX ch:1,Dlc:8,id:,309,data:,ff,f4,97,42,07,fd,00,00,\\r\\n',\n",
       " b'143.827493,+464\\xb5s,On/Off,CAN (498),RX ch:1,Dlc:8,id:,310,data:,39,b9,7d,4a,36,b3,ca,50,\\r\\n',\n",
       " b'143.827942,+449\\xb5s,On/Off,CAN (498),RX ch:1,Dlc:8,id:,311,data:,bd,63,31,a3,bc,54,2e,f9,\\r\\n',\n",
       " b'143.828410,+468\\xb5s,On/Off,CAN (498),RX ch:1,Dlc:8,id:,312,data:,bf,a6,66,66,3f,40,00,00,\\r\\n',\n",
       " b'143.828870,+460\\xb5s,On/Off,CAN (498),RX ch:1,Dlc:8,id:,313,data:,bf,5c,28,f6,3f,80,1a,1b,\\r\\n',\n",
       " b'143.829425,+555\\xb5s,On/Off,CAN (4a8),RX ch:1,Dlc:8,idx:,cf00400,data:,f0,7d,88,8a,12,00,ff,88,\\r\\n',\n",
       " b'143.830002,+577\\xb5s,On/Off,CAN (4a8),RX ch:1,Dlc:8,idx:,10ff2121,data:,32,00,0f,80,f8,ff,ff,fa,\\r\\n',\n",
       " b'143.830570,+568\\xb5s,On/Off,CAN (4a8),RX ch:1,Dlc:8,idx:,18f0010b,data:,cf,ff,fc,ff,ff,0f,ff,ff,\\r\\n',\n",
       " b'143.831154,+584\\xb5s,On/Off,CAN (4a8),RX ch:1,Dlc:8,idx:,18fedf00,data:,84,00,13,ff,7d,ff,ff,ff,\\r\\n',\n",
       " b'143.831726,+572\\xb5s,On/Off,CAN (4a8),RX ch:1,Dlc:8,idx:,18ff1919,data:,01,43,00,02,ff,ff,ff,ff,\\r\\n',\n",
       " b'143.832306,+580\\xb5s,On/Off,CAN (4a8),RX ch:1,Dlc:8,idx:,cf00421,data:,ff,ff,ff,ff,ff,ff,ff,ff,\\r\\n',\n",
       " b'143.832866,+560\\xb5s,On/Off,CAN (4a8),RX ch:1,Dlc:8,idx:,301,data:,09,6f,a7,40,0a,b8,0c,98,\\r\\n',\n",
       " b'143.833426,+560\\xb5s,On/Off,CAN (4a8),RX ch:1,Dlc:8,idx:,302,data:,1d,35,19,85,00,06,4e,ca,\\r\\n',\n",
       " b'143.834002,+576\\xb5s,On/Off,CAN (4a8),RX ch:1,Dlc:8,idx:,303,data:,00,00,00,00,01,63,8c,01,\\r\\n',\n",
       " b'143.834598,+596\\xb5s,On/Off,CAN (4a8),RX ch:1,Dlc:8,idx:,304,data:,00,00,00,00,00,00,00,00,\\r\\n',\n",
       " b'143.835182,+584\\xb5s,On/Off,CAN (4a8),RX ch:1,Dlc:8,idx:,305,data:,00,00,49,c7,00,00,00,00,\\r\\n',\n",
       " b'143.835774,+592\\xb5s,On/Off,CAN (4a8),RX ch:1,Dlc:8,idx:,306,data:,00,0b,00,00,00,00,00,00,\\r\\n',\n",
       " b'143.836250,+476\\xb5s,On/Off,CAN (498),RX ch:1,Dlc:8,id:,308,data:,00,04,2f,e4,eb,66,00,00,\\r\\n',\n",
       " b'143.836726,+476\\xb5s,On/Off,CAN (498),RX ch:1,Dlc:8,id:,309,data:,ff,f4,97,42,07,fa,00,00,\\r\\n',\n",
       " b'143.837198,+472\\xb5s,On/Off,CAN (498),RX ch:1,Dlc:8,id:,310,data:,39,a8,01,fb,38,3e,d8,f2,\\r\\n',\n",
       " b'143.837650,+452\\xb5s,On/Off,CAN (498),RX ch:1,Dlc:8,id:,311,data:,bd,90,59,3b,bc,98,f5,09,\\r\\n',\n",
       " b'143.838106,+456\\xb5s,On/Off,CAN (498),RX ch:1,Dlc:8,id:,312,data:,bf,17,0a,3d,be,fa,e1,48,\\r\\n',\n",
       " b'143.838562,+456\\xb5s,On/Off,CAN (498),RX ch:1,Dlc:8,id:,313,data:,bf,2e,14,7b,3f,82,55,b6,\\r\\n',\n",
       " b'143.839114,+552\\xb5s,On/Off,CAN (4a8),RX ch:1,Dlc:8,idx:,cf00400,data:,f0,7d,89,89,12,00,ff,89,\\r\\n',\n",
       " b'143.839687,+573\\xb5s,On/Off,CAN (4a8),RX ch:1,Dlc:8,idx:,14ff2321,data:,04,5c,ff,ff,ff,ff,ff,ff,\\r\\n',\n",
       " b'143.840267,+580\\xb5s,On/Off,CAN (4a8),RX ch:1,Dlc:8,idx:,18febf0b,data:,00,00,7d,7d,7d,7d,ff,ff,\\r\\n',\n",
       " b'143.840847,+580\\xb5s,On/Off,CAN (4a8),RX ch:1,Dlc:8,idx:,18ff1b19,data:,ff,fd,ff,ff,ff,ff,ff,ff,\\r\\n',\n",
       " b'143.841131,+284\\xb5s,On/Off,CAN (4a0),RX ch:1,Dlc:0,idx:,18ffac01\\r\\n',\n",
       " b'143.841415,+284\\xb5s,On/Off,CAN (4a0),RX ch:1,Dlc:0,idx:,18ffab01\\r\\n',\n",
       " b'143.841703,+288\\xb5s,On/Off,CAN (4a0),RX ch:1,Dlc:0,idx:,18ffaa01\\r\\n',\n",
       " b'143.842287,+584\\xb5s,On/Off,CAN (4a8),RX ch:1,Dlc:8,idx:,14fda421,data:,ff,ff,ff,ff,ff,ff,ff,ff,\\r\\n',\n",
       " b'143.842843,+556\\xb5s,On/Off,CAN (4a8),RX ch:1,Dlc:8,idx:,301,data:,09,6f,a7,41,0a,b8,0c,98,\\r\\n',\n",
       " b'143.843403,+560\\xb5s,On/Off,CAN (4a8),RX ch:1,Dlc:8,idx:,302,data:,1d,35,19,85,00,01,1c,77,\\r\\n',\n",
       " b'143.843979,+576\\xb5s,On/Off,CAN (4a8),RX ch:1,Dlc:8,idx:,303,data:,00,00,00,00,01,63,8c,01,\\r\\n',\n",
       " b'143.844575,+596\\xb5s,On/Off,CAN (4a8),RX ch:1,Dlc:8,idx:,304,data:,00,00,00,00,00,00,00,00,\\r\\n',\n",
       " b'143.845159,+584\\xb5s,On/Off,CAN (4a8),RX ch:1,Dlc:8,idx:,305,data:,00,00,49,c7,00,00,00,00,\\r\\n',\n",
       " b'143.845755,+596\\xb5s,On/Off,CAN (4a8),RX ch:1,Dlc:8,idx:,306,data:,00,0f,00,00,00,00,00,00,\\r\\n',\n",
       " b'143.846235,+480\\xb5s,On/Off,CAN (498),RX ch:1,Dlc:8,id:,308,data:,00,04,2f,e4,eb,68,00,00,\\r\\n',\n",
       " b'143.846715,+480\\xb5s,On/Off,CAN (498),RX ch:1,Dlc:8,id:,309,data:,ff,f4,97,42,07,fb,00,00,\\r\\n',\n",
       " b'143.847175,+460\\xb5s,On/Off,CAN (498),RX ch:1,Dlc:8,id:,310,data:,39,b2,7f,2b,b5,b2,d4,be,\\r\\n',\n",
       " b'143.847627,+452\\xb5s,On/Off,CAN (498),RX ch:1,Dlc:8,id:,311,data:,bd,5e,95,00,bb,f0,d7,2f,\\r\\n',\n",
       " b'143.848083,+456\\xb5s,On/Off,CAN (498),RX ch:1,Dlc:8,id:,312,data:,bf,4a,3d,71,bf,3a,e1,48,\\r\\n',\n",
       " b'143.848547,+464\\xb5s,On/Off,CAN (498),RX ch:1,Dlc:8,id:,313,data:,3f,57,0a,3d,3f,80,a6,ec,\\r\\n',\n",
       " b'143.849100,+553\\xb5s,On/Off,CAN (4a8),RX ch:1,Dlc:8,idx:,cf00400,data:,f0,7d,89,86,12,00,ff,89,\\r\\n',\n",
       " b'143.849684,+584\\xb5s,On/Off,CAN (4a8),RX ch:1,Dlc:8,idx:,14ff0121,data:,ff,ff,ff,ff,ff,ff,fc,ff,\\r\\n',\n",
       " b'143.850268,+584\\xb5s,On/Off,CAN (4a8),RX ch:1,Dlc:8,idx:,18fef000,data:,ff,ff,ff,00,00,f0,00,ff,\\r\\n',\n",
       " b'143.850844,+576\\xb5s,On/Off,CAN (4a8),RX ch:1,Dlc:8,idx:,18fef117,data:,f7,ff,ff,ff,ff,ff,ff,ff,\\r\\n',\n",
       " b'143.851124,+280\\xb5s,On/Off,CAN (4a0),RX ch:1,Dlc:0,idx:,1cfe9201\\r\\n',\n",
       " b'143.851400,+276\\xb5s,On/Off,CAN (4a0),RX ch:1,Dlc:0,idx:,18f00f3d\\r\\n',\n",
       " b'143.851676,+276\\xb5s,On/Off,CAN (4a0),RX ch:1,Dlc:0,idx:,18fdb23d\\r\\n',\n",
       " b'143.852261,+585\\xb5s,On/Off,CAN (4a8),RX ch:1,Dlc:8,idx:,14fef031,data:,ff,ff,ff,ff,ff,fc,00,ff,\\r\\n',\n",
       " b'143.852549,+288\\xb5s,On/Off,CAN (4a0),RX ch:1,Dlc:0,idx:,18fdb400\\r\\n',\n",
       " b'143.852825,+276\\xb5s,On/Off,CAN (4a0),RX ch:1,Dlc:0,idx:,18fd8c3d\\r\\n',\n",
       " b'143.853381,+556\\xb5s,On/Off,CAN (4a8),RX ch:1,Dlc:8,idx:,301,data:,09,6f,a7,42,0a,b8,0c,98,\\r\\n',\n",
       " b'143.853941,+560\\xb5s,On/Off,CAN (4a8),RX ch:1,Dlc:8,idx:,302,data:,1d,35,19,85,00,07,06,e0,\\r\\n',\n",
       " b'143.854521,+580\\xb5s,On/Off,CAN (4a8),RX ch:1,Dlc:8,idx:,303,data:,00,00,00,00,00,63,8c,01,\\r\\n',\n",
       " b'143.855117,+596\\xb5s,On/Off,CAN (4a8),RX ch:1,Dlc:8,idx:,304,data:,00,00,00,00,00,00,00,00,\\r\\n',\n",
       " b'143.855701,+584\\xb5s,On/Off,CAN (4a8),RX ch:1,Dlc:8,idx:,305,data:,00,00,49,c7,00,00,00,00,\\r\\n',\n",
       " b'143.856289,+588\\xb5s,On/Off,CAN (4a8),RX ch:1,Dlc:8,idx:,306,data:,00,11,00,00,00,00,00,00,\\r\\n',\n",
       " b'143.856769,+480\\xb5s,On/Off,CAN (498),RX ch:1,Dlc:8,id:,308,data:,00,04,2f,e4,eb,73,00,00,\\r\\n',\n",
       " b'143.857241,+472\\xb5s,On/Off,CAN (498),RX ch:1,Dlc:8,id:,309,data:,ff,f4,97,42,07,fd,00,00,\\r\\n',\n",
       " b'143.857717,+476\\xb5s,On/Off,CAN (498),RX ch:1,Dlc:8,id:,310,data:,39,a8,01,fb,39,0a,ea,0f,\\r\\n',\n",
       " b'143.858169,+452\\xb5s,On/Off,CAN (498),RX ch:1,Dlc:8,id:,311,data:,bd,67,0a,40,bc,0e,39,d5,\\r\\n',\n",
       " b'143.858621,+452\\xb5s,On/Off,CAN (498),RX ch:1,Dlc:8,id:,312,data:,bf,8c,cc,cd,3f,0a,3d,71,\\r\\n',\n",
       " b'143.859077,+456\\xb5s,On/Off,CAN (498),RX ch:1,Dlc:8,id:,313,data:,bf,87,ae,14,3f,80,a8,52,\\r\\n',\n",
       " b'143.859629,+552\\xb5s,On/Off,CAN (4a8),RX ch:1,Dlc:8,idx:,cf00400,data:,f0,7d,89,85,12,00,ff,89,\\r\\n',\n",
       " b'143.859913,+284\\xb5s,On/Off,CAN (4a0),RX ch:1,Dlc:0,idx:,cf00a01\\r\\n',\n",
       " b'143.860501,+588\\xb5s,On/Off,CAN (4a8),RX ch:1,Dlc:8,idx:,14ff0221,data:,ff,ff,ff,ff,ff,ff,ff,ff,\\r\\n',\n",
       " b'143.861070,+569\\xb5s,On/Off,CAN (4a8),RX ch:1,Dlc:8,idx:,18fee000,data:,ef,9e,0e,00,ef,9e,0e,00,\\r\\n',\n",
       " b'143.861350,+280\\xb5s,On/Off,CAN (4a0),RX ch:1,Dlc:0,idx:,10f01a01\\r\\n',\n",
       " b'143.861926,+576\\xb5s,On/Off,CAN (4a8),RX ch:1,Dlc:8,idx:,14fd3e00,data:,c0,2a,ff,16,2c,ff,ff,ff,\\r\\n',\n",
       " b'143.862994,+1068\\xb5s,On/Off,CAN (4a8),RX ch:1,Dlc:8,idx:,301,data:,09,6f,a7,43,0a,b8,0c,98,\\r\\n',\n",
       " b'143.863546,+552\\xb5s,On/Off,CAN (4a8),RX ch:1,Dlc:8,idx:,302,data:,1d,35,19,85,00,04,35,b3,\\r\\n',\n",
       " b'143.864122,+576\\xb5s,On/Off,CAN (4a8),RX ch:1,Dlc:8,idx:,303,data:,00,00,00,ff,fc,63,8c,01,\\r\\n',\n",
       " b'143.864718,+596\\xb5s,On/Off,CAN (4a8),RX ch:1,Dlc:8,idx:,304,data:,00,00,00,00,00,00,00,00,\\r\\n',\n",
       " b'143.865302,+584\\xb5s,On/Off,CAN (4a8),RX ch:1,Dlc:8,idx:,305,data:,00,00,49,c7,00,00,00,00,\\r\\n',\n",
       " b'143.865898,+596\\xb5s,On/Off,CAN (4a8),RX ch:1,Dlc:8,idx:,306,data:,00,0f,00,00,00,00,00,00,\\r\\n',\n",
       " b'143.866378,+480\\xb5s,On/Off,CAN (498),RX ch:1,Dlc:8,id:,308,data:,00,04,2f,e4,eb,6a,00,00,\\r\\n',\n",
       " b'143.866854,+476\\xb5s,On/Off,CAN (498),RX ch:1,Dlc:8,id:,309,data:,ff,f4,97,42,08,00,00,00,\\r\\n',\n",
       " b'143.867327,+473\\xb5s,On/Off,CAN (498),RX ch:1,Dlc:8,id:,310,data:,39,8c,09,7c,38,06,b9,12,\\r\\n',\n",
       " b'143.867779,+452\\xb5s,On/Off,CAN (498),RX ch:1,Dlc:8,id:,311,data:,bd,87,e7,32,bc,a8,96,5f,\\r\\n',\n",
       " b'143.868231,+452\\xb5s,On/Off,CAN (498),RX ch:1,Dlc:8,id:,312,data:,bf,b3,33,33,be,94,7a,e1,\\r\\n',\n",
       " b'143.868687,+456\\xb5s,On/Off,CAN (498),RX ch:1,Dlc:8,id:,313,data:,bf,d3,33,33,3f,7e,55,28,\\r\\n',\n",
       " b'143.869239,+552\\xb5s,On/Off,CAN (4a8),RX ch:1,Dlc:8,idx:,cf00400,data:,f0,7d,89,85,12,00,ff,89,\\r\\n',\n",
       " b'143.869811,+572\\xb5s,On/Off,CAN (4a8),RX ch:1,Dlc:8,idx:,cf00300,data:,dd,00,12,ff,ff,ff,52,ff,\\r\\n',\n",
       " b'143.870451,+640\\xb5s,On/Off,CAN (4a8),RX ch:1,Dlc:8,idx:,18fef100,data:,c7,00,00,00,00,00,00,30,\\r\\n',\n",
       " b'143.872831,+2380\\xb5s,On/Off,CAN (4a8),RX ch:1,Dlc:8,idx:,301,data:,09,6f,a7,44,0a,b8,0c,98,\\r\\n',\n",
       " b'143.873387,+556\\xb5s,On/Off,CAN (4a8),RX ch:1,Dlc:8,idx:,302,data:,1d,35,19,85,00,07,3b,72,\\r\\n',\n",
       " b'143.873959,+572\\xb5s,On/Off,CAN (4a8),RX ch:1,Dlc:8,idx:,303,data:,00,00,00,ff,f9,63,8c,01,\\r\\n',\n",
       " b'143.874555,+596\\xb5s,On/Off,CAN (4a8),RX ch:1,Dlc:8,idx:,304,data:,00,00,00,00,00,00,00,00,\\r\\n',\n",
       " b'143.875139,+584\\xb5s,On/Off,CAN (4a8),RX ch:1,Dlc:8,idx:,305,data:,00,00,49,c7,00,00,00,00,\\r\\n',\n",
       " b'143.875735,+596\\xb5s,On/Off,CAN (4a8),RX ch:1,Dlc:8,idx:,306,data:,00,0f,00,00,00,00,00,00,\\r\\n',\n",
       " b'143.876216,+481\\xb5s,On/Off,CAN (498),RX ch:1,Dlc:8,id:,308,data:,00,04,2f,e4,eb,64,00,00,\\r\\n',\n",
       " b'143.876688,+472\\xb5s,On/Off,CAN (498),RX ch:1,Dlc:8,id:,309,data:,ff,f4,97,42,08,05,00,00,\\r\\n',\n",
       " b'143.877152,+464\\xb5s,On/Off,CAN (498),RX ch:1,Dlc:8,id:,310,data:,39,ab,81,0b,39,11,ee,0b,\\r\\n',\n",
       " b'143.877596,+444\\xb5s,On/Off,CAN (498),RX ch:1,Dlc:8,id:,311,data:,bd,71,af,4b,bc,e8,ea,1a,\\r\\n',\n",
       " b'143.878052,+456\\xb5s,On/Off,CAN (498),RX ch:1,Dlc:8,id:,312,data:,bf,b9,99,9a,bf,8f,5c,29,\\r\\n',\n",
       " b'143.878512,+460\\xb5s,On/Off,CAN (498),RX ch:1,Dlc:8,id:,313,data:,3e,94,7a,e1,3f,75,5b,ea,\\r\\n',\n",
       " b'143.879072,+560\\xb5s,On/Off,CAN (4a8),RX ch:1,Dlc:8,idx:,cf00400,data:,f0,7d,89,83,12,00,ff,89,\\r\\n',\n",
       " b'143.879648,+576\\xb5s,On/Off,CAN (4a8),RX ch:1,Dlc:8,idx:,10ff2121,data:,32,00,0f,80,f8,ff,ff,fa,\\r\\n',\n",
       " b'143.880232,+584\\xb5s,On/Off,CAN (4a8),RX ch:1,Dlc:8,idx:,18fedf00,data:,84,00,13,ff,7d,ff,ff,ff,\\r\\n',\n",
       " b'143.882720,+2488\\xb5s,On/Off,CAN (4a8),RX ch:1,Dlc:8,idx:,301,data:,09,6f,a7,45,0a,b8,0c,97,\\r\\n',\n",
       " b'143.883280,+560\\xb5s,On/Off,CAN (4a8),RX ch:1,Dlc:8,idx:,302,data:,1d,35,19,84,00,01,2e,7f,\\r\\n',\n",
       " b'143.883852,+572\\xb5s,On/Off,CAN (4a8),RX ch:1,Dlc:8,idx:,303,data:,00,00,00,ff,fa,63,8c,01,\\r\\n',\n",
       " b'143.884448,+596\\xb5s,On/Off,CAN (4a8),RX ch:1,Dlc:8,idx:,304,data:,00,00,00,00,00,00,00,00,\\r\\n',\n",
       " b'143.885032,+584\\xb5s,On/Off,CAN (4a8),RX ch:1,Dlc:8,idx:,305,data:,00,00,49,c7,00,00,00,00,\\r\\n',\n",
       " b'143.885628,+596\\xb5s,On/Off,CAN (4a8),RX ch:1,Dlc:8,idx:,306,data:,00,0f,00,00,00,00,00,00,\\r\\n',\n",
       " b'143.886104,+476\\xb5s,On/Off,CAN (498),RX ch:1,Dlc:8,id:,308,data:,00,04,2f,e4,eb,51,00,00,\\r\\n',\n",
       " b'143.886576,+472\\xb5s,On/Off,CAN (498),RX ch:1,Dlc:8,id:,309,data:,ff,f4,97,42,08,48,00,00,\\r\\n',\n",
       " b'143.887032,+456\\xb5s,On/Off,CAN (498),RX ch:1,Dlc:8,id:,310,data:,39,b2,7f,2b,38,dd,b4,39,\\r\\n']"
      ]
     },
     "execution_count": 18,
     "metadata": {},
     "output_type": "execute_result"
    }
   ],
   "source": [
    "# Read the data into Python\n",
    "with open(\"Vector CAN Case XL on Freightliner.csv\", \"rb\") as f:\n",
    "    lines = f.readlines()\n",
    "lines[:200]"
   ]
  },
  {
   "cell_type": "code",
   "execution_count": 19,
   "metadata": {},
   "outputs": [
    {
     "data": {
      "text/plain": [
       "'143.783033,+143783033s,On/Off,CAN (4a8),RX ch:1,Dlc:8,idx:,301,data:,09,6f,a7,3b,0a,b8,0c,98,\\r\\n'"
      ]
     },
     "execution_count": 19,
     "metadata": {},
     "output_type": "execute_result"
    }
   ],
   "source": [
    "lines[5].decode('utf-8','ignore')"
   ]
  },
  {
   "cell_type": "code",
   "execution_count": 20,
   "metadata": {},
   "outputs": [],
   "source": [
    "start_line = 5"
   ]
  },
  {
   "cell_type": "code",
   "execution_count": 21,
   "metadata": {},
   "outputs": [
    {
     "name": "stdout",
     "output_type": "stream",
     "text": [
      "(143.783033) can1      301#096fa73b0ab80c98\n",
      "(143.783594) can1      302#1d351985000c7e6f\n",
      "(143.784174) can1      303#0000000002638c01\n",
      "(143.784770) can1      304#0000000000000000\n",
      "(143.785354) can1      305#000049c700000000\n",
      "(143.785946) can1      306#000c000000000000\n",
      "(143.786426) can1      308#00042fe4eb7b0000\n",
      "(143.786898) can1      309#fff4974207f40000\n",
      "(143.787362) can1      310#39ea7029b5b2d4be\n",
      "(143.787814) can1      311#bd4ff924bb037596\n",
      "(143.788266) can1      312#bf428f5c3f3d70a4\n",
      "(143.788718) can1      313#bcf5c28f3f7d8c9e\n",
      "(143.789270) can1 0CF00400#f07d89861200ff89\n",
      "(143.789850) can1 14FF3131#0030030000ffffff\n",
      "(143.790434) can1 18F00100#ffffffffffffffff\n",
      "(143.791902) can1 14F00031#cfffffffffffffff\n",
      "(143.792867) can1      301#096fa73c0ab80c98\n",
      "(143.793431) can1      302#1d35198500067e0f\n",
      "(143.794011) can1      303#0000000003638c01\n",
      "(143.794607) can1      304#0000000000000000\n",
      "(143.795191) can1      305#000049c700000000\n",
      "(143.795787) can1      306#0008000000000000\n",
      "(143.796263) can1      308#00042fe4eb750000\n",
      "(143.796739) can1      309#fff4974207fa0000\n",
      "(143.797199) can1      310#399d84ccb7069a58\n",
      "(143.797651) can1      311#bd81d38bbbf8e48f\n",
      "(143.798103) can1      312#bf1c28f63f19999a\n",
      "(143.798563) can1      313#bfb851ec3f7e681d\n",
      "(143.799115) can1 0CF00400#f07d89861200ff89\n",
      "(143.799703) can1 18F0000F#007dffff0f7dffff\n",
      "(143.800271) can1 18FEF600#ff005434ffd92cff\n",
      "(143.800747) can1 18F00F3D#\n",
      "(143.801919) can1 14F00131#ffffffff00ffffff\n",
      "(143.802747) can1      301#096fa73d0ab80c98\n",
      "(143.803299) can1      302#1d351985000a868f\n",
      "(143.803875) can1      303#0000000004638c01\n",
      "(143.804471) can1      304#0000000000000000\n",
      "(143.805055) can1      305#000049c700000000\n",
      "(143.805651) can1      306#0008000000000000\n",
      "(143.806131) can1      308#00042fe4eb7b0000\n",
      "(143.806607) can1      309#fff4974207fa0000\n",
      "(143.807067) can1      310#39c7798a391ff603\n",
      "(143.807515) can1      311#bd72873dbcd4dc0c\n",
      "(143.807967) can1      312#bf88f5c3bfd851ec\n",
      "(143.808423) can1      313#3f35c28f3f7842a8\n",
      "(143.808979) can1 0CF00400#f07d88891200ff88\n",
      "(143.809263) can1 0CF00A01#\n",
      "(143.809851) can1 10FE6F00#ffffffffffffffff\n",
      "(143.810131) can1 10F01A01#\n",
      "(143.810415) can1 10FDA301#\n",
      "(143.810699) can1 18FDD001#\n",
      "(143.810987) can1 18FEDB01#\n",
      "(143.811271) can1 18FD9401#\n",
      "(143.811551) can1 18FECA01#\n",
      "(143.812120) can1 14FEF121#f7ffff0fffffffff\n",
      "(143.812404) can1 18FE9701#\n",
      "(143.812692) can1 18FE9801#\n",
      "(143.813256) can1      301#096fa73e0ab80c98\n",
      "(143.813816) can1      302#1d351985000583f9\n",
      "(143.814396) can1      303#0000000003638c01\n",
      "(143.814992) can1      304#0000000000000000\n",
      "(143.815576) can1      305#000049c700000000\n",
      "(143.816164) can1      306#0009000000000000\n",
      "(143.816644) can1      308#00042fe4eb770000\n",
      "(143.817120) can1      309#fff4974207fa0000\n",
      "(143.817572) can1      310#39d8f4da36b3ca50\n",
      "(143.818016) can1      311#bd2a9949bc4e1952\n",
      "(143.818472) can1      312#bf7851ecbef5c28f\n",
      "(143.818932) can1      313#3fd47ae13f78720c\n",
      "(143.819488) can1 0CF00400#f07d88891200ff88\n",
      "(143.819772) can1 18FE9901#\n",
      "(143.820336) can1 0CF00300#dd0012ffffff52ff\n",
      "(143.820620) can1 18FE9A01#\n",
      "(143.821204) can1 18FEF200#140000000000ffff\n",
      "(143.821488) can1 18FEDD01#\n",
      "(143.821768) can1 18FD6601#\n",
      "(143.822328) can1 14FEF131#cffffff300ffff30\n",
      "(143.822608) can1 18FE6901#\n",
      "(143.823169) can1      301#096fa73f0ab80c98\n",
      "(143.823725) can1      302#1d351985000949fe\n",
      "(143.824305) can1      303#0000000000638c01\n",
      "(143.824901) can1      304#0000000000000000\n",
      "(143.825485) can1      305#000049c700000000\n",
      "(143.826081) can1      306#000a000000000000\n",
      "(143.826557) can1      308#00042fe4eb650000\n",
      "(143.827029) can1      309#fff4974207fd0000\n",
      "(143.827493) can1      310#39b97d4a36b3ca50\n",
      "(143.827942) can1      311#bd6331a3bc542ef9\n",
      "(143.828410) can1      312#bfa666663f400000\n",
      "(143.828870) can1      313#bf5c28f63f801a1b\n",
      "(143.829425) can1 0CF00400#f07d888a1200ff88\n",
      "(143.830002) can1 10FF2121#32000f80f8fffffa\n",
      "(143.830570) can1 18F0010B#cffffcffff0fffff\n",
      "(143.831154) can1 18FEDF00#840013ff7dffffff\n",
      "(143.831726) can1 18FF1919#01430002ffffffff\n",
      "(143.832306) can1 0CF00421#ffffffffffffffff\n",
      "(143.832866) can1      301#096fa7400ab80c98\n",
      "(143.833426) can1      302#1d35198500064eca\n",
      "(143.834002) can1      303#0000000001638c01\n",
      "(143.834598) can1      304#0000000000000000\n",
      "(143.835182) can1      305#000049c700000000\n",
      "(143.835774) can1      306#000b000000000000\n",
      "(143.836250) can1      308#00042fe4eb660000\n",
      "(143.836726) can1      309#fff4974207fa0000\n",
      "(143.837198) can1      310#39a801fb383ed8f2\n",
      "(143.837650) can1      311#bd90593bbc98f509\n",
      "(143.838106) can1      312#bf170a3dbefae148\n",
      "(143.838562) can1      313#bf2e147b3f8255b6\n",
      "(143.839114) can1 0CF00400#f07d89891200ff89\n",
      "(143.839687) can1 14FF2321#045cffffffffffff\n",
      "(143.840267) can1 18FEBF0B#00007d7d7d7dffff\n",
      "(143.840847) can1 18FF1B19#fffdffffffffffff\n",
      "(143.841131) can1 18FFAC01#\n",
      "(143.841415) can1 18FFAB01#\n",
      "(143.841703) can1 18FFAA01#\n",
      "(143.842287) can1 14FDA421#ffffffffffffffff\n",
      "(143.842843) can1      301#096fa7410ab80c98\n",
      "(143.843403) can1      302#1d35198500011c77\n",
      "(143.843979) can1      303#0000000001638c01\n",
      "(143.844575) can1      304#0000000000000000\n",
      "(143.845159) can1      305#000049c700000000\n",
      "(143.845755) can1      306#000f000000000000\n",
      "(143.846235) can1      308#00042fe4eb680000\n",
      "(143.846715) can1      309#fff4974207fb0000\n",
      "(143.847175) can1      310#39b27f2bb5b2d4be\n",
      "(143.847627) can1      311#bd5e9500bbf0d72f\n",
      "(143.848083) can1      312#bf4a3d71bf3ae148\n",
      "(143.848547) can1      313#3f570a3d3f80a6ec\n",
      "(143.849100) can1 0CF00400#f07d89861200ff89\n",
      "(143.849684) can1 14FF0121#fffffffffffffcff\n",
      "(143.850268) can1 18FEF000#ffffff0000f000ff\n",
      "(143.850844) can1 18FEF117#f7ffffffffffffff\n",
      "(143.851124) can1 1CFE9201#\n",
      "(143.851400) can1 18F00F3D#\n",
      "(143.851676) can1 18FDB23D#\n",
      "(143.852261) can1 14FEF031#fffffffffffc00ff\n",
      "(143.852549) can1 18FDB400#\n",
      "(143.852825) can1 18FD8C3D#\n",
      "(143.853381) can1      301#096fa7420ab80c98\n",
      "(143.853941) can1      302#1d351985000706e0\n",
      "(143.854521) can1      303#0000000000638c01\n",
      "(143.855117) can1      304#0000000000000000\n",
      "(143.855701) can1      305#000049c700000000\n",
      "(143.856289) can1      306#0011000000000000\n",
      "(143.856769) can1      308#00042fe4eb730000\n",
      "(143.857241) can1      309#fff4974207fd0000\n",
      "(143.857717) can1      310#39a801fb390aea0f\n",
      "(143.858169) can1      311#bd670a40bc0e39d5\n",
      "(143.858621) can1      312#bf8ccccd3f0a3d71\n",
      "(143.859077) can1      313#bf87ae143f80a852\n",
      "(143.859629) can1 0CF00400#f07d89851200ff89\n",
      "(143.859913) can1 0CF00A01#\n",
      "(143.860501) can1 14FF0221#ffffffffffffffff\n",
      "(143.861070) can1 18FEE000#ef9e0e00ef9e0e00\n",
      "(143.861350) can1 10F01A01#\n",
      "(143.861926) can1 14FD3E00#c02aff162cffffff\n",
      "(143.862994) can1      301#096fa7430ab80c98\n",
      "(143.863546) can1      302#1d351985000435b3\n",
      "(143.864122) can1      303#000000fffc638c01\n",
      "(143.864718) can1      304#0000000000000000\n",
      "(143.865302) can1      305#000049c700000000\n",
      "(143.865898) can1      306#000f000000000000\n",
      "(143.866378) can1      308#00042fe4eb6a0000\n",
      "(143.866854) can1      309#fff4974208000000\n",
      "(143.867327) can1      310#398c097c3806b912\n",
      "(143.867779) can1      311#bd87e732bca8965f\n",
      "(143.868231) can1      312#bfb33333be947ae1\n",
      "(143.868687) can1      313#bfd333333f7e5528\n",
      "(143.869239) can1 0CF00400#f07d89851200ff89\n",
      "(143.869811) can1 0CF00300#dd0012ffffff52ff\n",
      "(143.870451) can1 18FEF100#c700000000000030\n",
      "(143.872831) can1      301#096fa7440ab80c98\n",
      "(143.873387) can1      302#1d35198500073b72\n",
      "(143.873959) can1      303#000000fff9638c01\n",
      "(143.874555) can1      304#0000000000000000\n",
      "(143.875139) can1      305#000049c700000000\n",
      "(143.875735) can1      306#000f000000000000\n",
      "(143.876216) can1      308#00042fe4eb640000\n",
      "(143.876688) can1      309#fff4974208050000\n",
      "(143.877152) can1      310#39ab810b3911ee0b\n",
      "(143.877596) can1      311#bd71af4bbce8ea1a\n",
      "(143.878052) can1      312#bfb9999abf8f5c29\n",
      "(143.878512) can1      313#3e947ae13f755bea\n",
      "(143.879072) can1 0CF00400#f07d89831200ff89\n",
      "(143.879648) can1 10FF2121#32000f80f8fffffa\n",
      "(143.880232) can1 18FEDF00#840013ff7dffffff\n",
      "(143.882720) can1      301#096fa7450ab80c97\n",
      "(143.883280) can1      302#1d35198400012e7f\n",
      "(143.883852) can1      303#000000fffa638c01\n",
      "(143.884448) can1      304#0000000000000000\n",
      "(143.885032) can1      305#000049c700000000\n",
      "(143.885628) can1      306#000f000000000000\n",
      "(143.886104) can1      308#00042fe4eb510000\n",
      "(143.886576) can1      309#fff4974208480000\n",
      "(143.887032) can1      310#39b27f2b38ddb439\n",
      "\n"
     ]
    }
   ],
   "source": [
    "#Create an empty string\n",
    "candump_string = \"\"\n",
    "# Iterate through the log file and concatenate the next line\n",
    "for line in lines[start_line:200]: #Change this to get the whole file\n",
    "    line_string = line.decode('utf-8','ignore')\n",
    "    line_list = line_string.strip().split(',')\n",
    "    # Extract the network as the channel:\n",
    "    channel = line_list[4]\n",
    "    if \"ch:1\" in channel:\n",
    "        channel = 'can1'\n",
    "    elif \"ch:0\" in channel:\n",
    "        channel = 'can0'\n",
    "    else:\n",
    "        continue # This line wasn't from the CAN\n",
    "    \n",
    "    #Convert the time into a floating point number to measure the number of seconds\n",
    "    abs_time = float(line_list[0]) #+ log_time_offset\n",
    "    \n",
    "    #Convert the CANID from hex to an integer\n",
    "    try:\n",
    "        can_id = int(line_list[7],16)\n",
    "    except ValueError:\n",
    "        continue\n",
    "    \n",
    "    # Create bytes from the data\n",
    "    # The data is orignally in a text format and it needs to be converted into a long string\n",
    "    # Location 12-19 have the bytes, but the last value in the list slice is not indexed\n",
    "    can_data_string = \"\".join(line_list[9:17])\n",
    "    can_data = bytes.fromhex(can_data_string)\n",
    "    \n",
    "    if len(line_list[7]) <= 3:\n",
    "        id_string = \"     {:03X}\".format(can_id)\n",
    "    else:\n",
    "        id_string = \"{:08X}\".format(can_id)\n",
    "    \n",
    "    candump_string += \"({:0.6f}) {} {}#{}\\n\".format(abs_time,\n",
    "                                                         channel,\n",
    "                                                         id_string,\n",
    "                                                         can_data_string)\n",
    "    \n",
    "print(candump_string)"
   ]
  },
  {
   "cell_type": "code",
   "execution_count": 22,
   "metadata": {},
   "outputs": [],
   "source": [
    "# Save this to a file\n",
    "with open('candump for CAN Case XL on Freightliner.log','w') as f:\n",
    "    f.write(candump_string)"
   ]
  },
  {
   "cell_type": "markdown",
   "metadata": {},
   "source": [
    "### Section Summary\n",
    "We have worked through 2 examples of how to convert log files of different formats into a candump file format. Now, let's analyze the data"
   ]
  },
  {
   "cell_type": "markdown",
   "metadata": {},
   "source": [
    "# CAN Log File Analysis\n",
    "Given a log file in the candump format, what does it say? \n",
    "\n",
    "To address this question, let's characterize the messages based on their IDs. To do this, we'll use the dictionary structure to keep track of the message counts and other meta data. Then we can plot the information."
   ]
  },
  {
   "cell_type": "code",
   "execution_count": 23,
   "metadata": {},
   "outputs": [],
   "source": [
    "# We can also plot this\n",
    "import matplotlib.pyplot as plt"
   ]
  },
  {
   "cell_type": "code",
   "execution_count": 24,
   "metadata": {},
   "outputs": [],
   "source": [
    "# Define a function to get CAN data in a usable form from candump formats.\n",
    "def parse_candump(line):\n",
    "    #Strip the new-line characters and split based on whitespace\n",
    "    line_as_list = line.strip().split()\n",
    "    #extract the text characters from the first entry and remove the parens.\n",
    "    time_string = line_as_list[0].strip('()')\n",
    "    \n",
    "    #Assume UTC for the time zone\n",
    "    timestamp = float(time_string)\n",
    "    \n",
    "    #extract the string representing the physical CAN channel\n",
    "    channel = line_as_list[1]\n",
    "    \n",
    "    # Split the last entry into the ID and the data fields based on the hash\n",
    "    can = line_as_list[2].split('#')\n",
    "    \n",
    "    #Convert the ID into an integer\n",
    "    can_id = int(can[0],16)\n",
    "    \n",
    "    #Convert the data into bytes\n",
    "    can_data = bytes.fromhex(can[1])\n",
    "    \n",
    "    #Determine the data length code\n",
    "    dlc = len(can_data)\n",
    "    \n",
    "    return timestamp, channel, can_id, dlc, can_data"
   ]
  },
  {
   "cell_type": "code",
   "execution_count": 26,
   "metadata": {},
   "outputs": [
    {
     "data": {
      "text/plain": [
       "{419348235: 8175,\n",
       " 150892043: 20436,\n",
       " 217056256: 41156,\n",
       " 217056000: 8231,\n",
       " 418382129: 4116,\n",
       " 419361024: 4116,\n",
       " 419361073: 4116,\n",
       " 418381839: 4116,\n",
       " 419360817: 4116,\n",
       " 419361280: 4116,\n",
       " 419361329: 4116,\n",
       " 217056049: 8231,\n",
       " 419356672: 4116,\n",
       " 418053937: 178,\n",
       " 419360000: 28,\n",
       " 418382091: 4087,\n",
       " 419351089: 412,\n",
       " 419356416: 1646,\n",
       " 419275093: 823,\n",
       " 419321344: 412,\n",
       " 419360256: 412,\n",
       " 419362304: 823,\n",
       " 218029312: 412,\n",
       " 419360512: 823,\n",
       " 419362048: 412,\n",
       " 419348736: 412,\n",
       " 419347712: 412,\n",
       " 419357696: 412,\n",
       " 419362560: 412,\n",
       " 419265536: 412,\n",
       " 419364608: 42,\n",
       " 418001152: 412,\n",
       " 485293839: 83,\n",
       " 485228303: 249,\n",
       " 419358257: 412,\n",
       " 419357952: 33,\n",
       " 417398577: 411,\n",
       " 419363889: 411,\n",
       " 419343921: 411,\n",
       " 419362609: 411,\n",
       " 419363377: 411,\n",
       " 419362865: 411,\n",
       " 419348785: 411,\n",
       " 485293824: 161,\n",
       " 485228288: 777,\n",
       " 419358976: 80,\n",
       " 486454016: 14,\n",
       " 419358464: 14,\n",
       " 418053899: 5,\n",
       " 201326603: 175,\n",
       " 201330699: 46,\n",
       " 201392907: 108,\n",
       " 201337099: 45,\n",
       " 201327371: 45,\n",
       " 201330443: 46}"
      ]
     },
     "execution_count": 26,
     "metadata": {},
     "output_type": "execute_result"
    }
   ],
   "source": [
    "# Initialize the dictionary. The keys will be the IDs and the values will be the count\n",
    "can_id_dict = {}\n",
    "with open('candump_kw_drive.txt', 'r') as f:\n",
    "    for line in f:\n",
    "        timestamp, channel, can_id, dlc, can_data = parse_candump(line)\n",
    "        try:\n",
    "            # Add another to the count for each ID\n",
    "            can_id_dict[can_id] += 1\n",
    "        except KeyError:\n",
    "            # The ID wasn't in the dictionary, so let's initialize it\n",
    "            can_id_dict[can_id] = 1\n",
    "can_id_dict "
   ]
  },
  {
   "cell_type": "code",
   "execution_count": 27,
   "metadata": {},
   "outputs": [
    {
     "name": "stdout",
     "output_type": "stream",
     "text": [
      " 8FE6E0B 20436\n",
      " C00000B   175\n",
      " C00030B    45\n",
      " C000F0B    46\n",
      " C00100B    46\n",
      " C00290B    45\n",
      " C01030B   108\n",
      " CF00300  8231\n",
      " CF00331  8231\n",
      " CF00400 41156\n",
      " CFEDD00   412\n",
      "18E0FF31   411\n",
      "18EA3100   412\n",
      "18EAFF0B     5\n",
      "18EAFF31   178\n",
      "18F0000F  4116\n",
      "18F0010B  4087\n",
      "18F00131  4116\n",
      "18FD7C00   412\n",
      "18FDA155   823\n",
      "18FE5600   412\n",
      "18FEAE31   411\n",
      "18FEBD00   412\n",
      "18FEBF0B  8175\n",
      "18FEC100   412\n",
      "18FEC131   411\n",
      "18FECA31   412\n",
      "18FEDF00  1646\n",
      "18FEE000  4116\n",
      "18FEE400   412\n",
      "18FEE500    33\n",
      "18FEE631   412\n",
      "18FEE700    14\n",
      "18FEE900    80\n",
      "18FEED00    28\n",
      "18FEEE00   412\n",
      "18FEEF00   823\n",
      "18FEF031  4116\n",
      "18FEF100  4116\n",
      "18FEF131  4116\n",
      "18FEF200  4116\n",
      "18FEF231  4116\n",
      "18FEF500   412\n",
      "18FEF600   823\n",
      "18FEF700   412\n",
      "18FEF731   411\n",
      "18FEF831   411\n",
      "18FEFA31   411\n",
      "18FEFC31   411\n",
      "18FEFF00    42\n",
      "1CEBFF00   777\n",
      "1CEBFF0F   249\n",
      "1CECFF00   161\n",
      "1CECFF0F    83\n",
      "1CFEB300    14\n"
     ]
    }
   ],
   "source": [
    "# Let's print this in hex\n",
    "for k,v in sorted(can_id_dict.items()):\n",
    "    print(\"{:8X} {:5d}\".format(k,v))"
   ]
  },
  {
   "cell_type": "code",
   "execution_count": 28,
   "metadata": {},
   "outputs": [],
   "source": [
    "from matplotlib import pyplot as plt"
   ]
  },
  {
   "cell_type": "code",
   "execution_count": 29,
   "metadata": {},
   "outputs": [
    {
     "data": {
      "image/png": "[encoded data removed]",
      "text/plain": [
       "<Figure size 864x864 with 1 Axes>"
      ]
     },
     "metadata": {
      "needs_background": "light"
     },
     "output_type": "display_data"
    }
   ],
   "source": [
    "# Plot the bar chart\n",
    "\n",
    "fig, ax = plt.subplots()\n",
    "\n",
    "y_pos = [i for i in range(len(can_id_dict))]\n",
    "counts = [v for k,v in sorted(can_id_dict.items())]\n",
    "ax.barh(y_pos, counts, align='center')\n",
    "IDs = [\"{:8X}\".format(k) for k,v in sorted(can_id_dict.items())]\n",
    "ax.set_yticks(y_pos)\n",
    "ax.set_yticklabels(IDs)\n",
    "ax.invert_yaxis()  # labels read top-to-bottom\n",
    "ax.set_xlabel('Count')\n",
    "ax.set_title('CAN message counts per identifier')\n",
    "\n",
    "fig.set_figwidth(12)\n",
    "fig.set_figheight(12)"
   ]
  },
  {
   "cell_type": "code",
   "execution_count": 30,
   "metadata": {},
   "outputs": [
    {
     "data": {
      "image/png": "[encoded data removed]",
      "text/plain": [
       "<Figure size 864x864 with 1 Axes>"
      ]
     },
     "metadata": {
      "needs_background": "light"
     },
     "output_type": "display_data"
    }
   ],
   "source": [
    "# Produce the same plot without the most frequent messages.\n",
    "fig, ax = plt.subplots()\n",
    "exclude = (0xCF00400,0x8Fe6e0b)\n",
    "y_pos = [i for i in range(len(can_id_dict)-len(exclude))]\n",
    "counts = [v for k,v in sorted(can_id_dict.items()) if k not in exclude]\n",
    "ax.barh(y_pos, counts, align='center')\n",
    "IDs = [\"{:8X}\".format(k) for k,v in sorted(can_id_dict.items()) if k not in exclude]\n",
    "ax.set_yticks(y_pos)\n",
    "ax.set_yticklabels(IDs)\n",
    "ax.invert_yaxis()  # labels read top-to-bottom\n",
    "ax.set_xlabel('Count')\n",
    "ax.set_title('CAN message counts per identifier without {}'.format(\" \".join([\"{:8X}\".format(i) for i in exclude])))\n",
    "\n",
    "fig.set_figwidth(12)\n",
    "fig.set_figheight(12)"
   ]
  },
  {
   "cell_type": "markdown",
   "metadata": {},
   "source": [
    "### Decoding messages\n",
    "What to the IDs 0xCF00400,0x8FE6E0B actually mean? We can look these up with the SAE J1939-71 standard, or use the Digital Annex. But first, we have do split the IDs into the J1939 parameters: priority, parameter group number (PGN), destination address (DA), and source address (SA). \n",
    "\n",
    "To describe the protocol data unit (PDU), see SAE J1939-21, which may be available from the library. Also, other on-line tutorials also describe the J1939 PDU.\n",
    "\n",
    "* https://www.csselectronics.com/pages/j1939-explained-simple-intro-tutorial\n",
    "* https://www.kvaser.com/about-can/higher-layer-protocols/j1939-introduction/\n",
    "* https://assets.vector.com/cms/content/know-how/_application-notes/AN-ION-1-3100_Introduction_to_J1939.pdf\n",
    "\n",
    "The key points from these resources are the fact there are two PDU formats. The first format is used for peer-to-peer communications an explicitly includes a source and destination address in the arbitration ID. For these PDU1 messages, the first nibble in the PGN field is a 0xE (14 dec) or lower. The second PDU format is for broadcast messages and the destination is implied to be the global address of 0xFF. These PGNs start with the nibble of 0xF. The function below can parse an extended CAN id into the J1939 parameters."
   ]
  },
  {
   "cell_type": "code",
   "execution_count": 31,
   "metadata": {},
   "outputs": [],
   "source": [
    "#parse J1939 protocol data unit information from the ID using bit masks and shifts\n",
    "PRIORITY_MASK = 0x1C000000\n",
    "EDP_MASK      = 0x02000000\n",
    "DP_MASK       = 0x01000000\n",
    "PF_MASK       = 0x00FF0000\n",
    "PS_MASK       = 0x0000FF00\n",
    "SA_MASK       = 0x000000FF\n",
    "PDU1_PGN_MASK = 0x03FF0000\n",
    "PDU2_PGN_MASK = 0x03FFFF00\n",
    "\n",
    "def get_j1939_from_id(can_id):\n",
    "    #priority\n",
    "    priority = (PRIORITY_MASK & can_id) >> 26\n",
    "\n",
    "    #Extended Data Page\n",
    "    edp = (EDP_MASK & can_id) >> 25\n",
    "    \n",
    "    # Data Page\n",
    "    dp = (DP_MASK & can_id) >> 24\n",
    "    \n",
    "    # Protocol Data Unit (PDU) Format\n",
    "    PF = (can_id & PF_MASK) >> 16\n",
    "    \n",
    "    # Protocol Data Unit (PDU) Specific\n",
    "    PS = (can_id & PS_MASK) >> 8\n",
    "    \n",
    "    # Determine the Parameter Group Number and Destination Address\n",
    "    if PF >= 0xF0: #240\n",
    "        # PDU 2 format, include the PS as a group extension\n",
    "        DA = 255\n",
    "        PGN = (can_id & PDU2_PGN_MASK) >> 8\n",
    "    else:\n",
    "        PGN = (can_id & PDU1_PGN_MASK) >> 8\n",
    "        DA = PS\n",
    "    # Source address\n",
    "    SA = (can_id & SA_MASK)\n",
    "    \n",
    "    return priority,PGN,DA,SA"
   ]
  },
  {
   "cell_type": "code",
   "execution_count": 32,
   "metadata": {},
   "outputs": [
    {
     "data": {
      "text/plain": [
       "(3, 61444, 255, 0)"
      ]
     },
     "execution_count": 32,
     "metadata": {},
     "output_type": "execute_result"
    }
   ],
   "source": [
    "# Determine the PGN parameters from our two most frequent messages\n",
    "get_j1939_from_id(0xCF00400)"
   ]
  },
  {
   "cell_type": "code",
   "execution_count": 33,
   "metadata": {},
   "outputs": [
    {
     "data": {
      "text/plain": [
       "(2, 65134, 255, 11)"
      ]
     },
     "execution_count": 33,
     "metadata": {},
     "output_type": "execute_result"
    }
   ],
   "source": [
    "get_j1939_from_id(0x8Fe6e0b)"
   ]
  },
  {
   "cell_type": "markdown",
   "metadata": {},
   "source": [
    "### Parameter Group Numbers (PGNs)\n",
    "Look up the PGN from SAE J1939. The standard says this about each PGN:\n",
    "\n",
    "### PGN 61444 (0x00F004)\n",
    "Name: `Electronic Engine Controller 1`\n",
    "\n",
    "Acronym: `EEC1`\n",
    "\n",
    "Description: `Engine related parameters`\n",
    "\n",
    "Transmission Repetition Rate: `engine speed dependent` which is normally about 10ms\n",
    "\n",
    "Data Length: `8`\n",
    "\n",
    "Extended Data Page: `0`\n",
    "\n",
    "Data Page: `0`\n",
    "\n",
    "PDU Format: `240`\n",
    "\n",
    "PDU Specific: `4`\n",
    "\n",
    "Default Priority: `3`\n",
    "\n",
    "#### PGN Supporting Information:\n",
    "\n",
    "Use this table to understand what parameters are in the data. Keep in mind, Python indexes starting with 0 and J1939 starts with 1.\n",
    "\n",
    "| Start Position | Length | Parameter Name | SPN |\n",
    "|:- |:- |:- |:- |\n",
    "| 1.1 | 4 bits | Engine Torque Mode | 899 |\n",
    "| 1.5 | 4 bits | Actual Engine - Percent Torque High Resolution | 4154 |\n",
    "| 2 | 1 byte | Driver's Demand Engine - Percent Torque | 512 |\n",
    "| 3 | 1 byte | Actual Engine - Percent Torque | 513 |\n",
    "| 4-5 | 2 bytes | Engine Speed | 190 |\n",
    "| 6 | 1 byte | Source Address of Controlling Device for Engine Control | 1483 |\n",
    "| 7.1 | 4 bits | Engine Starter Mode | 1675 |\n",
    "| 8 | 1 byte | Engine Demand – Percent Torque | 2432 |"
   ]
  },
  {
   "cell_type": "markdown",
   "metadata": {},
   "source": [
    "### Suspect Parameter Numbers (SPNs)\n",
    "Also in SAE J1939-71 is a definition for the SPNs. The data are shown below:\n",
    "\n",
    "#### SPN 190\n",
    "\n",
    "* Name: `Engine Speed`\n",
    "* Description: `Actual engine speed which is calculated over a minimum crankshaft angle of 720 degrees divided by the number of cylinders.`\n",
    "* Data Length: `2 bytes`\n",
    "* Resolution: `0.125 rpm/bit, 0 offset`\n",
    "* Data Range: `0 to 8,031.875 rpm`\n",
    "* Operational Range: `same as data range`\n",
    "* Type: `Measured`\n",
    "* PGN reference: `61444`\n",
    "\n",
    "#### SPN 512\n",
    "\n",
    "* Name: `Driver's Demand Engine - Percent Torque`\n",
    "* Description: `The requested torque output of the engine by the driver. It is based on input from the following requestors external to the powertrain: operator (via the accelerator pedal), cruise control and/or road speed limit governor. Dynamic commands from internal powertrain functions such as smoke control, low- and high-speed engine governing; ASR and shift control are excluded from this calculation. The data is transmitted in indicated torque as a percent of the reference engine torque. See PGN 65251 for the engine configuration message. Several status bits are defined separately to indicate the request which is currently being honored. This parameter may be used for shift scheduling.`\n",
    "* Data Length: `1 byte`\n",
    "* Resolution: `1 %/bit, -125 % offset`\n",
    "* Data Range: `-125 to 125 %`\n",
    "* Operational Range: `0 to 125%`\n",
    "* Type: `Measured`\n",
    "* PGN reference: `61444`\n",
    "\n",
    "There are additional details on the direct interpretation of SPN 512 in Appendix D of SAE J1939-71"
   ]
  },
  {
   "cell_type": "code",
   "execution_count": 35,
   "metadata": {},
   "outputs": [],
   "source": [
    "# Extract engine speed from the log file from the source Engine #1.\n",
    "try:\n",
    "    del time_zero\n",
    "except NameError:\n",
    "    pass # the variable doesn't exist\n",
    "\n",
    "#Setup lists to keep track of the values\n",
    "PGN61444_time = []\n",
    "SPN190_value = []\n",
    "SPN512_value = []\n",
    "\n",
    "start_time = 50 #seconds\n",
    "max_time = 100 #seconds\n",
    "\n",
    "# Use the file in the parent directory\n",
    "\n",
    "with open('candump_kw_drive.txt', 'r') as f:\n",
    "    for line in f:\n",
    "        # Extract the CAN data from each line\n",
    "        timestamp, channel, can_id, dlc, can_data = parse_candump(line)\n",
    "        try:\n",
    "            relative_time = timestamp - time_zero\n",
    "        except NameError:\n",
    "            time_zero = timestamp #Assume the first data point is the lowest time\n",
    "            relative_time = 0\n",
    "        if relative_time > max_time:\n",
    "            continue #Don't worry about interpreting any data out of range\n",
    "        if relative_time < start_time:\n",
    "            continue\n",
    "            \n",
    "        # Interpret the CAN ID in the context of a J1939 message\n",
    "        priority,PGN,DA,SA = get_j1939_from_id(can_id)\n",
    "        \n",
    "        # Look for the EEC1 message from Engine #1\n",
    "        if PGN == 61444 and SA == 0:\n",
    "            PGN61444_time.append(relative_time)\n",
    "       \n",
    "            spn190 = struct.unpack(\"<H\",can_data[3:5])[0] * 0.125 - 0\n",
    "            SPN190_value.append(spn190)\n",
    "            \n",
    "            spn512 = can_data[1] * 1 - 125\n",
    "            SPN512_value.append(spn512)\n",
    "        # Uncomment, fill in and add additional elif statements to look for more PGN,SA combinations of interest\n",
    "        # elif PGN == ???? and SA == ??:\n",
    "            #Add similar code here\n",
    "        else:\n",
    "            pass #Not interested in any other messages at this time"
   ]
  },
  {
   "cell_type": "code",
   "execution_count": 36,
   "metadata": {},
   "outputs": [
    {
     "data": {
      "text/plain": [
       "[50.00366401672363,\n",
       " 50.01367497444153,\n",
       " 50.02460217475891,\n",
       " 50.033918142318726,\n",
       " 50.044602155685425]"
      ]
     },
     "execution_count": 36,
     "metadata": {},
     "output_type": "execute_result"
    }
   ],
   "source": [
    "#Display the times\n",
    "PGN61444_time[0:5]"
   ]
  },
  {
   "cell_type": "code",
   "execution_count": 37,
   "metadata": {},
   "outputs": [
    {
     "data": {
      "text/plain": [
       "[867.0, 855.5, 855.5, 844.5, 844.5]"
      ]
     },
     "execution_count": 37,
     "metadata": {},
     "output_type": "execute_result"
    }
   ],
   "source": [
    "#display the Values in RPM\n",
    "SPN190_value[0:5]           "
   ]
  },
  {
   "cell_type": "code",
   "execution_count": 38,
   "metadata": {},
   "outputs": [
    {
     "data": {
      "text/plain": [
       "[0, 0, 0, 0, 0]"
      ]
     },
     "execution_count": 38,
     "metadata": {},
     "output_type": "execute_result"
    }
   ],
   "source": [
    "#display the demanded torque\n",
    "SPN512_value[0:5]"
   ]
  },
  {
   "cell_type": "code",
   "execution_count": 39,
   "metadata": {},
   "outputs": [
    {
     "data": {
      "text/plain": [
       "[<matplotlib.lines.Line2D at 0x244a715dfc8>]"
      ]
     },
     "execution_count": 39,
     "metadata": {},
     "output_type": "execute_result"
    },
    {
     "data": {
      "image/png": "[encoded data removed]",
      "text/plain": [
       "<Figure size 432x288 with 1 Axes>"
      ]
     },
     "metadata": {
      "needs_background": "light"
     },
     "output_type": "display_data"
    }
   ],
   "source": [
    "# Take a quick look at the graph for a sanity check\n",
    "plt.plot(PGN61444_time,SPN190_value)"
   ]
  },
  {
   "cell_type": "code",
   "execution_count": 40,
   "metadata": {},
   "outputs": [
    {
     "data": {
      "image/png": "[encoded data removed]",
      "text/plain": [
       "<Figure size 252x252 with 2 Axes>"
      ]
     },
     "metadata": {
      "needs_background": "light"
     },
     "output_type": "display_data"
    }
   ],
   "source": [
    "#Let's Create a publication quality graphic for a 2 column paper in word.\n",
    "\n",
    "# Set the font appearance\n",
    "plt.rc('font', size=10) #controls default text size\n",
    "plt.rc('axes', titlesize=12) #fontsize of the title\n",
    "plt.rc('axes', labelsize=10) #fontsize of the x and y labels\n",
    "plt.rc('xtick', labelsize=10) #fontsize of the x tick labels\n",
    "plt.rc('ytick', labelsize=10) #fontsize of the y tick labels\n",
    "plt.rc('legend', fontsize=10) #fontsize of the legend\n",
    "\n",
    "fig = plt.figure()\n",
    "# Change the size as needed. 3.5 inches is the right width for a double column\n",
    "fig.set_figwidth(3.5)\n",
    "fig.set_figheight(3.5)\n",
    "\n",
    "ax1= plt.gca() #get current axis\n",
    "# Plot the engine speed\n",
    "line1 = ax1.plot(PGN61444_time,\n",
    "                 SPN190_value,\n",
    "                 label=\"Engine Speed (RPM)\",\n",
    "                 color='blue')\n",
    "plt.grid()\n",
    "plt.ylabel('Rev/Min')\n",
    "#Set the limits on both axis to align with gridlines\n",
    "ax1.set_ylim([0,2000]) \n",
    "# Set a tight axis across the bottom\n",
    "ax1.autoscale(enable=True, axis='x', tight=True)\n",
    "plt.xlabel('Time (sec)')\n",
    "\n",
    "# Setup another axis\n",
    "plt.twinx()\n",
    "#get current axis, which is the right axis now\n",
    "ax2 = plt.gca() \n",
    "#Plot the driver demand\n",
    "line2 = ax2.plot(PGN61444_time,\n",
    "                 SPN512_value,\n",
    "                 label=\"Percent Driver Demand\",\n",
    "                 color='red',\n",
    "                 alpha=0.6)#transparency\n",
    "# Setting the limits can help move the plots relative to eachother too.\n",
    "ax2.set_ylim([0,200])\n",
    "plt.ylabel(\"Percent\")\n",
    "\n",
    "#build a common legend box\n",
    "lines = line1+line2\n",
    "labs = [l.get_label() for l in lines]\n",
    "plt.legend(lines, labs)\n",
    "\n",
    "# Give the plot a title\n",
    "plt.title(\"Driver Demand and Engine Speed\")\n",
    "\n",
    "# Save the figure in vector forms. The SVG can be imported as a crisp file into Word\n",
    "plt.savefig('EngineSpeedAndDriverDemand.pdf')\n",
    "plt.savefig('EngineSpeedAndDriverDemand.svg')"
   ]
  },
  {
   "cell_type": "markdown",
   "metadata": {},
   "source": [
    "#### Comments\n",
    "The graph shows the manual action of the driver depressing and releasing the accelerator pedal in the cab of the truck, which gets interpreted as the driver demand. The peak demand is 100%, which means the driver pressed the pedal all the way down. The engine speed usually follows the demand. You can also see shifting patterns, since this vehicle was equipped with a manual transmission, the driver releases the accelerator pedal, the engine speed drops, the gears shift, and the driver continues to accelerate. Towards the end of the graph, the vehicle was approaching a steady speed.\n",
    "\n",
    "#### Exercise\n",
    "Confirm this last statement. Add the vehicle speed (SPN84) to this graph to see if the speed becomes steady towards the end of the trace. "
   ]
  },
  {
   "cell_type": "markdown",
   "metadata": {},
   "source": [
    "## Summary\n",
    "In this notebook we looked at the following:\n",
    "* Converting log files from VSPY and Vector into the candump format\n",
    "* Determining the number of unique messages in the log file and plotting their occurrence count\n",
    "* Parsing a CAN ID into the J1939 parameters of priority, parameter group number, destination address, and source address\n",
    "* Interpreting the contents of the message based on the J1939-71 standard\n",
    "* Plotting the results of the interpretation of the signals in the CAN log"
   ]
  },
  {
   "cell_type": "code",
   "execution_count": null,
   "metadata": {},
   "outputs": [],
   "source": []
  }
 ],
 "metadata": {
  "kernelspec": {
   "display_name": "Python 3",
   "language": "python",
   "name": "python3"
  },
  "language_info": {
   "codemirror_mode": {
    "name": "ipython",
    "version": 3
   },
   "file_extension": ".py",
   "mimetype": "text/x-python",
   "name": "python",
   "nbconvert_exporter": "python",
   "pygments_lexer": "ipython3",
   "version": "3.7.4"
  },
  "latex_envs": {
   "LaTeX_envs_menu_present": true,
   "autoclose": false,
   "autocomplete": true,
   "bibliofile": "biblio.bib",
   "cite_by": "apalike",
   "current_citInitial": 1,
   "eqLabelWithNumbers": true,
   "eqNumInitial": 1,
   "hotkeys": {
    "equation": "Ctrl-E",
    "itemize": "Ctrl-I"
   },
   "labels_anchors": false,
   "latex_user_defs": false,
   "report_style_numbering": false,
   "user_envs_cfg": false
  }
 },
 "nbformat": 4,
 "nbformat_minor": 4
}
