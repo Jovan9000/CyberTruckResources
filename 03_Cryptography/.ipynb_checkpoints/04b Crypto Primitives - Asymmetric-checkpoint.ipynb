{
 "cells": [
  {
   "cell_type": "markdown",
   "metadata": {},
   "source": [
    "#### <center> Module 4b - Asymmetric Cryptographic Primitives \n",
    "## <center> ENGR 580A2: Secure Vehicle and Industrial Networking\n",
    "## <center> <img src=\"https://www.engr.colostate.edu/~jdaily/Systems-EN-CSU-1-C357.svg\" width=\"600\" /> \n",
    "### <center> Instructor: Dr. Jeremy Daily<br>Fall 2021"
   ]
  },
  {
   "cell_type": "markdown",
   "metadata": {},
   "source": [
    "## Learning Objectives\n",
    "By the end of this exercise, students should be able to\n",
    "1. Use asymmetric encryption algorithms to encrypt messages\n",
    "1. Use asymmetric encryption algorithms for envelope encryption\n",
    "by using RSA public-private key pairs."
   ]
  },
  {
   "cell_type": "code",
   "execution_count": null,
   "metadata": {},
   "outputs": [],
   "source": [
    "# Install some prequisites\n",
    "# Be sure version 3.1 or higher is installed\n",
    "%pip install --upgrade --user cryptography"
   ]
  },
  {
   "cell_type": "markdown",
   "metadata": {},
   "source": [
    "## Proposition: \n",
    "\n",
    "### Confidentiality\n",
    "Alice would like to send a message to Bob such that only Bob can read it.\n",
    "\n",
    "Bob sends Alice his public key. He doesn't care if anyone else can read it. \n",
    "\n",
    "Alice uses Bob's public key to encrypt data and send it back to Bob.\n",
    "\n",
    "Bob decrypts the data with his private key. \n",
    "\n",
    "<img src=\"Asymmetric Encryption Primitives - Send Secret Message.svg\"/> \n",
    "\n",
    "\n",
    "\n",
    "Let's work out these scenarios with some code. We'll use the RSA asymmetric key for this example."
   ]
  },
  {
   "cell_type": "code",
   "execution_count": null,
   "metadata": {},
   "outputs": [],
   "source": [
    "# Import only the modules we need\n",
    "from cryptography.hazmat.primitives.asymmetric import rsa\n",
    "from cryptography.hazmat.primitives import serialization\n",
    "from cryptography.hazmat.primitives import hashes\n",
    "from cryptography.hazmat.primitives.asymmetric import padding"
   ]
  },
  {
   "cell_type": "markdown",
   "metadata": {},
   "source": [
    "https://cryptography.io/en/latest/hazmat/primitives/asymmetric/rsa/"
   ]
  },
  {
   "cell_type": "markdown",
   "metadata": {},
   "source": [
    "## Generate Keys for Alice"
   ]
  },
  {
   "cell_type": "code",
   "execution_count": null,
   "metadata": {},
   "outputs": [],
   "source": [
    "#Alice needs to generate a key pair\n",
    "private_key_for_alice = rsa.generate_private_key(\n",
    "                         public_exponent=65537,\n",
    "                         key_size=2048 # should use at least 4096, but smaller keys are easier to display\n",
    "                        )\n",
    "private_key_for_alice"
   ]
  },
  {
   "cell_type": "code",
   "execution_count": null,
   "metadata": {},
   "outputs": [],
   "source": [
    "# let's see what this looks like. We'll serialize the key and render it in ascii text (base64 encoded)\n",
    "private_pem_for_alice = private_key_for_alice.private_bytes(\n",
    "    encoding=serialization.Encoding.PEM,\n",
    "    format=serialization.PrivateFormat.TraditionalOpenSSL,\n",
    "    encryption_algorithm=serialization.NoEncryption()\n",
    " )\n",
    "print(private_pem_for_alice.decode('ascii'))"
   ]
  },
  {
   "cell_type": "code",
   "execution_count": null,
   "metadata": {},
   "outputs": [],
   "source": [
    "#To send out the public key, we have to derive it from the private key and serialize it\n",
    "public_key_for_alice = private_key_for_alice.public_key()\n",
    "public_key_for_alice"
   ]
  },
  {
   "cell_type": "code",
   "execution_count": null,
   "metadata": {},
   "outputs": [],
   "source": [
    "#Let's serialize it so we can send it accross the network to bob (and everyone)\n",
    "public_pem_key_for_alice = public_key_for_alice.public_bytes(\n",
    "       encoding=serialization.Encoding.PEM,\n",
    "       format=serialization.PublicFormat.SubjectPublicKeyInfo\n",
    ")\n",
    "print(public_pem_key_for_alice.decode('ascii'))"
   ]
  },
  {
   "cell_type": "markdown",
   "metadata": {},
   "source": [
    "## Generate Keys for Bob"
   ]
  },
  {
   "cell_type": "code",
   "execution_count": null,
   "metadata": {},
   "outputs": [],
   "source": [
    "#Bob also needs to generate a key pair\n",
    "private_key_for_bob = rsa.generate_private_key(\n",
    "                         public_exponent=65537,\n",
    "                         key_size=2048 # should use at least 4096, but smaller keys are easier to display\n",
    "                        )\n",
    "private_key_for_bob"
   ]
  },
  {
   "cell_type": "code",
   "execution_count": null,
   "metadata": {},
   "outputs": [],
   "source": [
    "# let's see what this looks like. We'll serialize the key and render it in ascii text (base64 encoded)\n",
    "private_pem_for_bob = private_key_for_bob.private_bytes(\n",
    "    encoding=serialization.Encoding.PEM,\n",
    "    format=serialization.PrivateFormat.TraditionalOpenSSL,\n",
    "    encryption_algorithm=serialization.NoEncryption()\n",
    " )\n",
    "print(private_pem_for_bob.decode('ascii'))"
   ]
  },
  {
   "cell_type": "code",
   "execution_count": null,
   "metadata": {},
   "outputs": [],
   "source": [
    "# Bob extracts the public key \n",
    "public_key_for_bob = private_key_for_bob.public_key()\n",
    "public_key_for_bob"
   ]
  },
  {
   "cell_type": "code",
   "execution_count": null,
   "metadata": {},
   "outputs": [],
   "source": [
    "#Let's serialize it so we can send it across the network to Alice (and everyone)\n",
    "public_pem_key_for_bob = public_key_for_bob.public_bytes(\n",
    "       encoding=serialization.Encoding.PEM,\n",
    "       format=serialization.PublicFormat.SubjectPublicKeyInfo\n",
    ")\n",
    "print(public_pem_key_for_bob.decode('ascii'))"
   ]
  },
  {
   "cell_type": "markdown",
   "metadata": {},
   "source": [
    "## Alice Sends a Message to Bob"
   ]
  },
  {
   "cell_type": "code",
   "execution_count": null,
   "metadata": {},
   "outputs": [],
   "source": [
    "# Alice has a message for Bob:\n",
    "plain_text = b'We choose to go to the Moon in this decade and do the other things, not because they are easy, but because they are hard;'\n",
    "plain_text"
   ]
  },
  {
   "cell_type": "code",
   "execution_count": null,
   "metadata": {},
   "outputs": [],
   "source": [
    "public_pem_key_for_bob"
   ]
  },
  {
   "cell_type": "code",
   "execution_count": null,
   "metadata": {},
   "outputs": [],
   "source": [
    "# Alice needs Bob's public key as the encryption key\n",
    "# Alice gets Bob's PEM key (as bytes) and converts it into a usable form\n",
    "encryption_key = serialization.load_pem_public_key(public_pem_key_for_bob)\n",
    "encryption_key"
   ]
  },
  {
   "cell_type": "code",
   "execution_count": null,
   "metadata": {},
   "outputs": [],
   "source": [
    "# Alice encrypts the message with Bob's public key\n",
    "cipher_text_from_alice = encryption_key.encrypt(\n",
    "     plain_text,\n",
    "     padding.OAEP(\n",
    "         mgf=padding.MGF1(algorithm=hashes.SHA256()),\n",
    "         algorithm=hashes.SHA256(),\n",
    "         label=None\n",
    "     )\n",
    " )\n",
    "cipher_text_from_alice"
   ]
  },
  {
   "cell_type": "code",
   "execution_count": null,
   "metadata": {},
   "outputs": [],
   "source": [
    "import base64"
   ]
  },
  {
   "cell_type": "code",
   "execution_count": null,
   "metadata": {},
   "outputs": [],
   "source": [
    "# To send this to Bob, we need to encode it in base64 and then transmit it \n",
    "# across the network.\n",
    "message_from_alice = base64.b64encode(cipher_text_from_alice)\n",
    "message_from_alice"
   ]
  },
  {
   "cell_type": "code",
   "execution_count": null,
   "metadata": {},
   "outputs": [],
   "source": [
    "# Only bob can decrypt the message. If Alice tries, it won't work\n",
    "plaintext = private_key_for_alice.decrypt(\n",
    "     base64.b64decode(message_from_alice),\n",
    "     padding.OAEP(\n",
    "         mgf=padding.MGF1(algorithm=hashes.SHA256()),\n",
    "         algorithm=hashes.SHA256(),\n",
    "         label=None\n",
    "     )\n",
    " )"
   ]
  },
  {
   "cell_type": "code",
   "execution_count": null,
   "metadata": {},
   "outputs": [],
   "source": [
    "#Only Bob can decrypt the message with his private key, which was kept safe.\n",
    "plaintext = private_key_for_bob.decrypt(\n",
    "     base64.b64decode(message_from_alice),\n",
    "     padding.OAEP(\n",
    "         mgf=padding.MGF1(algorithm=hashes.SHA256()),\n",
    "         algorithm=hashes.SHA256(),\n",
    "         label=None\n",
    "     )\n",
    " )\n",
    "plaintext"
   ]
  },
  {
   "cell_type": "markdown",
   "metadata": {},
   "source": [
    "## There's more to it\n",
    "What happens if the message is actually longer? For example, we wanted to include more content.\n",
    "Let's make the message longer and repeat the process."
   ]
  },
  {
   "cell_type": "code",
   "execution_count": null,
   "metadata": {},
   "outputs": [],
   "source": [
    "plain_text = plaintext + b' because that goal will serve to organize and measure the best of our energies and skills, because that challenge is one that we are willing to accept, one we are unwilling to postpone, and one we intend to win, and the others, too.'\n",
    "plain_text"
   ]
  },
  {
   "cell_type": "code",
   "execution_count": null,
   "metadata": {},
   "outputs": [],
   "source": [
    "# Alice encrypts the message with Bob's public key\n",
    "cipher_text_from_alice = encryption_key.encrypt(\n",
    "     plain_text,\n",
    "     padding.OAEP(\n",
    "         mgf=padding.MGF1(algorithm=hashes.SHA256()),\n",
    "         algorithm=hashes.SHA256(),\n",
    "         label=None\n",
    "     )\n",
    " )\n",
    "cipher_text_from_alice"
   ]
  },
  {
   "cell_type": "markdown",
   "metadata": {},
   "source": [
    "# Envelope Encryption\n",
    "In the previous example, the size limitations of the message became apparent. Asymmetric encryption is not very good at encrypting long messages. Instead, the approach is to encrypt long messages with a symmetric cipher, then use asymmetric encryption to encipher the key. You can then send both the enciphered key and the ciphertext together.\n",
    "\n",
    "Recall symmetric encryption using the Fernet recipe: https://cryptography.io/en/latest/fernet/\n",
    "\n",
    "<img src=\"Asymmetric Encryption Primitives - Envelope Encryption.svg\"/> \n",
    "\n",
    "Let's work out this scenario."
   ]
  },
  {
   "cell_type": "code",
   "execution_count": null,
   "metadata": {},
   "outputs": [],
   "source": [
    "# Alice has a long message to send to Bob\n",
    "plain_text"
   ]
  },
  {
   "cell_type": "code",
   "execution_count": null,
   "metadata": {},
   "outputs": [],
   "source": [
    "# This message must be encrypted using a symmetric cipher.\n",
    "from cryptography.fernet import Fernet\n",
    "key = Fernet.generate_key()\n",
    "# This key should be unique for each operation.\n",
    "key"
   ]
  },
  {
   "cell_type": "code",
   "execution_count": null,
   "metadata": {},
   "outputs": [],
   "source": [
    "f = Fernet(key)\n",
    "cipher_text = f.encrypt(plain_text)\n",
    "cipher_text"
   ]
  },
  {
   "cell_type": "code",
   "execution_count": null,
   "metadata": {},
   "outputs": [],
   "source": [
    "# If the key is sent along with the token, then extracting the message is trivial.\n",
    "# Therefore, we must protect the key.\n",
    "# Alice already has Bob's public key, so let's use that to encrypt the key.\n",
    "protected_key_from_alice = encryption_key.encrypt(\n",
    "     key,\n",
    "     padding.OAEP(\n",
    "         mgf=padding.MGF1(algorithm=hashes.SHA256()),\n",
    "         algorithm=hashes.SHA256(),\n",
    "         label=None\n",
    "     )\n",
    " )\n",
    "protected_key_from_alice"
   ]
  },
  {
   "cell_type": "code",
   "execution_count": null,
   "metadata": {},
   "outputs": [],
   "source": [
    "# Let's create a message for transmission across the internet.\n",
    "# Use the JSON format\n",
    "import json"
   ]
  },
  {
   "cell_type": "code",
   "execution_count": null,
   "metadata": {},
   "outputs": [],
   "source": [
    "#Raw bytes need to be base64 encoded, then decoded into python strings\n",
    "# The Fernet recipe already produces a base64 encoded output\n",
    "message_for_bob = {\n",
    "    'protected_key': base64.b64encode(protected_key_from_alice).decode('utf-8'),\n",
    "    'cipher_text': cipher_text.decode('utf-8')\n",
    "}\n",
    "message_for_bob"
   ]
  },
  {
   "cell_type": "code",
   "execution_count": null,
   "metadata": {},
   "outputs": [],
   "source": [
    "# This is a dictionary\n",
    "# It works within Python, but isn't able to be sent across the Internet.\n",
    "type(message_for_bob)"
   ]
  },
  {
   "cell_type": "code",
   "execution_count": null,
   "metadata": {},
   "outputs": [],
   "source": [
    "# We can serialize a dictionary \n",
    "json_for_bob = json.dumps(message_for_bob, indent=4)\n",
    "print(json_for_bob)"
   ]
  },
  {
   "cell_type": "code",
   "execution_count": null,
   "metadata": {},
   "outputs": [],
   "source": [
    "# This is simply formated and encoded text data and\n",
    "# it can be sent safely through the Internet\n",
    "type(json_for_bob)"
   ]
  },
  {
   "cell_type": "code",
   "execution_count": null,
   "metadata": {},
   "outputs": [],
   "source": [
    "# Once Bob recieves the message, he can decrypt the key, then decrypt the message. \n",
    "# (i.e. open the envelope, then read the letter)\n",
    "message_from_alice = json.loads(json_for_bob)\n",
    "message_from_alice"
   ]
  },
  {
   "cell_type": "code",
   "execution_count": null,
   "metadata": {},
   "outputs": [],
   "source": [
    "# The message from alice is loaded into a dictionary\n",
    "type(message_from_alice)"
   ]
  },
  {
   "cell_type": "code",
   "execution_count": null,
   "metadata": {},
   "outputs": [],
   "source": [
    "# Let's extract the key\n",
    "key_bytes = base64.b64decode(message_from_alice['protected_key'])\n",
    "print(key_bytes)"
   ]
  },
  {
   "cell_type": "code",
   "execution_count": null,
   "metadata": {},
   "outputs": [],
   "source": [
    "# This should match the example above. Let's decrypt this ciphertext.\n",
    "# Only Bob can decrypt using his private key\n",
    "key_for_bob = private_key_for_bob.decrypt(\n",
    "     key_bytes,\n",
    "     padding.OAEP(\n",
    "         mgf=padding.MGF1(algorithm=hashes.SHA256()),\n",
    "         algorithm=hashes.SHA256(),\n",
    "         label=None\n",
    "     )\n",
    " )\n",
    "key_for_bob"
   ]
  },
  {
   "cell_type": "code",
   "execution_count": null,
   "metadata": {},
   "outputs": [],
   "source": [
    "# We now have the Fernet symmetric key, so we can decrypt the message (as bytes)\n",
    "f = Fernet(key_for_bob)\n",
    "plaintext_for_bob = f.decrypt(message_from_alice['cipher_text'].encode('ascii'))\n",
    "plaintext_for_bob"
   ]
  },
  {
   "cell_type": "markdown",
   "metadata": {},
   "source": [
    "This is great! We are no longer limited by the size constraints of RSA encryption. We just focus on encrypting the symmetric key to take advantage of the speed and size of symmetric (i.e. AES-CBC) encryption."
   ]
  },
  {
   "cell_type": "markdown",
   "metadata": {},
   "source": [
    "## Class Exercise\n",
    "\n",
    "Please send me an encrypted form of the Star Spangled Banner (or some other meaningful text).\n",
    "\n",
    "Use these specifications:\n",
    "1. RSA with 2048 bit key\n",
    "2. The message I receive should be in a JSON format with two fields:\n",
    "    1. 'protected_key': a base64 encoded RSA public key encrypted output of the Fernet key used for enciphering the message.\n",
    "    1. 'cipher_text': The output of the Fernet encryption"
   ]
  },
  {
   "cell_type": "code",
   "execution_count": null,
   "metadata": {},
   "outputs": [],
   "source": [
    "#Using triple quotes keeps the message format by inserting newline characters\n",
    "text_to_send = b'''O say can you see, by the dawn's early light,\n",
    "What so proudly we hailed at the twilight's last gleaming,\n",
    "Whose broad stripes and bright stars through the perilous fight,\n",
    "O'er the ramparts we watched, were so gallantly streaming?\n",
    "And the rocket's red glare, the bombs bursting in air,\n",
    "Gave proof through the night that our flag was still there;\n",
    "O say does that star-spangled banner yet wave\n",
    "O'er the land of the free and the home of the brave?'''\n",
    "text_to_send"
   ]
  },
  {
   "cell_type": "code",
   "execution_count": null,
   "metadata": {},
   "outputs": [],
   "source": [
    "# Open a locally stored PEM key and create a private key object\n",
    "with open('Daily_Private_RSA2048_key.pem','rb') as pem:\n",
    "    private_key_for_daily = serialization.load_pem_private_key(pem.read(),password=None)\n",
    "private_key_for_daily"
   ]
  },
  {
   "cell_type": "code",
   "execution_count": null,
   "metadata": {},
   "outputs": [],
   "source": [
    "# Generate the sharable public key\n",
    "public_key_for_daily = private_key_for_daily.public_key()\n",
    "public_key_for_daily"
   ]
  },
  {
   "cell_type": "code",
   "execution_count": null,
   "metadata": {
    "scrolled": false
   },
   "outputs": [],
   "source": [
    "# Produce a format that we can share\n",
    "public_pem_key_for_daily = public_key_for_daily.public_bytes(\n",
    "       encoding=serialization.Encoding.PEM,\n",
    "       format=serialization.PublicFormat.SubjectPublicKeyInfo\n",
    ")\n",
    "print(public_pem_key_for_daily.decode('ascii'))\n",
    "with open('Daily_Public_RSA2048_key.pem','wb') as f:\n",
    "    f.write(public_pem_key_for_daily)"
   ]
  },
  {
   "cell_type": "markdown",
   "metadata": {},
   "source": [
    "Now, follow some of the steps and make a message for me that I can run through the following function to decode your message."
   ]
  },
  {
   "cell_type": "code",
   "execution_count": null,
   "metadata": {},
   "outputs": [],
   "source": [
    "import json\n",
    "import base64\n",
    "from cryptography.fernet import Fernet\n",
    "from cryptography.hazmat.primitives.asymmetric import rsa\n",
    "from cryptography.hazmat.primitives import serialization\n",
    "from cryptography.hazmat.primitives import hashes\n",
    "from cryptography.hazmat.primitives.asymmetric import padding\n",
    "from cryptography.hazmat.backends import default_backend\n",
    "\n",
    "def encrypt_class_message(plain_text,public_pem_key):\n",
    "    public_key = serialization.load_pem_public_key(public_pem_key.encode('utf-8'))\n",
    "    print(public_key)\n",
    "    unique_key = Fernet.generate_key()\n",
    "    print(unique_key)\n",
    "    f = Fernet(unique_key)\n",
    "    cipher_text = f.encrypt(plain_text.encode('ascii'))\n",
    "    print(cipher_text)\n",
    "    protected_key = public_key.encrypt(\n",
    "         unique_key,\n",
    "         padding.OAEP(\n",
    "             mgf=padding.MGF1(algorithm=hashes.SHA256()),\n",
    "             algorithm=hashes.SHA256(),\n",
    "             label=None\n",
    "         )\n",
    "     )\n",
    "    message_dict = {\n",
    "        'protected_key': base64.b64encode(protected_key).decode('utf-8'),\n",
    "        'cipher_text': cipher_text.decode('utf-8')\n",
    "    }\n",
    "    json_with_encrypted_message = json.dumps(message_dict)\n",
    "    return json_with_encrypted_message"
   ]
  },
  {
   "cell_type": "code",
   "execution_count": null,
   "metadata": {},
   "outputs": [],
   "source": [
    "daily_pub_pem = \"\"\"-----BEGIN PUBLIC KEY-----\n",
    "MIIBIjANBgkqhkiG9w0BAQEFAAOCAQ8AMIIBCgKCAQEA1bHZs7RxSNTk+Z1MMkHE\n",
    "v7F7WK5oxLmJ9HypDyagbF4csmwCqsnhMwqJ9vEi3zmlE3VtjfrjpNSJSSvr1RDV\n",
    "mxh7yz7z+sKvH+JBccMxmFS7/IrKZpNLJPnSY4JlrrCVKYhGwcx0z+kr0Xd4fi97\n",
    "NVH7xSZaVTXJ+SC19j4EN/gb8nWcYk6umBJmVF688RdOeHQ6ZE3hLbUhKW48oDu1\n",
    "u8YyRWIHNYyxZXz7G7ojuosd69e7bkO2GR0gAmQpZhXurxD5EGJLYWKvNFYcWPux\n",
    "YJvgjlmBJCcGz4lKSJcdNzZfSg2YLqopKLcKmNSR9NmywpXIMu0S3wUAWJ7SgGMm\n",
    "XQIDAQAB\n",
    "-----END PUBLIC KEY-----\"\"\"\n",
    "\n",
    "encrypt_class_message(\"Hello!\",daily_pub_pem)"
   ]
  },
  {
   "cell_type": "code",
   "execution_count": null,
   "metadata": {},
   "outputs": [],
   "source": [
    "def decrypt_class_message(json_from_student,private_pem_key):\n",
    "    message_from_student = json.loads(json_from_student)\n",
    "    key_bytes = base64.b64decode(message_from_student['protected_key'])\n",
    "    ##\n",
    "    ## Fill in this part for the exercise\n",
    "    ##\n",
    "    plaintext_message = f.decrypt(message_bytes)\n",
    "    return plaintext_message"
   ]
  },
  {
   "cell_type": "code",
   "execution_count": null,
   "metadata": {},
   "outputs": [],
   "source": [
    "# Example\n",
    "# This cell won't run if the Private Key file is not available.\n",
    "with open('Daily_Private_RSA2048_key.pem','rb') as pem:\n",
    "    private_pem_key = pem.read()"
   ]
  },
  {
   "cell_type": "code",
   "execution_count": null,
   "metadata": {},
   "outputs": [],
   "source": [
    "# Who can send me a message through chat?\n",
    "# Replace the student variable here with your message and try it out.\n",
    "jeremy = '{\"protected_key\": \"CkWAuKAXMi+BXF/cHRts4VDnp9437JGZCaga/PKFgCglA6q87KxLjS03Xxpa1rwAjP4dyx9lzFfSlyEOdhh45diGXBA2fN7tezJ2W/WTDbv2Sg7K9Bfs0BsXA3uEpuE+5Nj2fPIOC2RYWE1VMhg37OcsOO9xbOpuDzcRACGzWFtCT4R7l5+nLO9u3y9I4UdGYFM4njHriiUcXdFiJD8TbczVRAjt2bi2Pi5RX3tzmhrWlFVyQFELvcCKHv93tfvw7bTzA4QCMyVB4nmT8dsAnqE+SM5KWoDIODEMSRDlpNQz8MCvlkK7dyjDiT9O9a1Q6kaI/qrOHPo+BXXqSgULgw==\", \"cipher_text\": \"gAAAAABhQ-8Ecam7MIfrsTrg40qPQnBlgx4ceyMVDbunVMS5D0M8YOmbslEmR7aw_WAjMgYIoNbMV2xHeHCcNxd7Ukiuo8kUIA==\"}'\n",
    "bob = '{\"protected_key\": \"KEo8SI4tLYafiLuqAAsPHE3Vz54ICWXC3UrU6RYpDQf68JPT7B5re10QysECFXausqZuoBcJXjKLqVwW1Ezxk8gKBZsoytJs0PcaMOeLNV9lf1eLAmdjfdiBG8F382rA2QYb5l7q9PfWwDqSL6K7rXaZmBt1i8hZdZ1xxXhcbuFYgF1cN5kNOR7lhrnqPvtqRFi6WmXD52yMwJmyc8Fd7v0UTg5aGJu/uW1WtT6rBao0L+nAA53aGAYiTGkN5JqA+sIytMA6cslFABeTnOXhUS7sPsSYOtpOBpyiM/lPYeEQpl/SSdpBgeD1yumrvNNmLhKLbbgIyfGBvDZBR5DnBg==\", \"cipher_text\": \"gAAAAABfbeFZiMpdzgj1ef_irV8Xq1H68PpbM9AYgDJaxjY6tYkAiMa8ZvVVJGisnzcqgb0vEVo6qqB-SZTh2numILEp6jReOoHw_8ElX9iWAysKg7rFrbr_0_eFsnnPVeZonoa7p9BR6Mo9iLmzn1vMh2Hs40XUcXXF5hn_9f1QDs-jA7XkbAieReLguEt6k4TyKQSkD2tgk1iTMhvShfhLQX-Ocv_gwvjtcJlQV4u9sdzIwL06VST-YGLVSqfxTVOpdIodxPz8V6l4vIBWNMNiwrzxFloYrj8M0RCMoXITV23HKIVacFnEJa4SPI_I2tKpGMyNiUEBpBpXlK7a9PDxI_y03Cnw8gIe4TzUDdgDRhsbhdfWEYxfTcUxr8A7db48WjJvdgVlphSgT4YsesN7vbJCKHAPw1m_CJI0SXdMVRhlxfEDOauPB_UHWEEh7suqVFZ5xkJ0dIbmdHYqxnxwv0Sx6L3Zu3bGnK1IU_pl7wI4vRh8lW7R0TwJsHZZfmqIKgzgy4VPCjmIWl1bLn7M9w8IveVdu5e_Jkvq7rdfoWaQmw_gQFA1-2E6yB3Q0VTcBALnEIGtTZ1vg8cv-D3GhBdMdCNsp8IuhtY5UcGqNJjbpqDYrxfyW50bsvMnvAVLcGr51Dy-Lrz2rWqep8Fk8831OSbF6Q==\"}'\n",
    "student = bob\n",
    "#student = jeremy\n",
    "decrypt_class_message(student,private_pem_key)"
   ]
  },
  {
   "cell_type": "markdown",
   "metadata": {},
   "source": [
    "## Summary\n",
    "We worked with RSA asymmetric encryption to send confidential traffic to a specific person. \n",
    "\n",
    "We used envelope encryption to send large messages with symmetric ciphers because asymmetric encryption is too slow and size limited. \n",
    "\n",
    "We used asymmetric encryption to digitally sign messages to determine if they have been altered.\n",
    "\n",
    "\n",
    "A question still remains: How can we trust Alice is who she says? What if Eve is in the middle pretending to be Alice?\n"
   ]
  },
  {
   "cell_type": "code",
   "execution_count": null,
   "metadata": {},
   "outputs": [],
   "source": []
  }
 ],
 "metadata": {
  "kernelspec": {
   "display_name": "Python 3",
   "language": "python",
   "name": "python3"
  },
  "language_info": {
   "codemirror_mode": {
    "name": "ipython",
    "version": 3
   },
   "file_extension": ".py",
   "mimetype": "text/x-python",
   "name": "python",
   "nbconvert_exporter": "python",
   "pygments_lexer": "ipython3",
   "version": "3.8.5"
  },
  "latex_envs": {
   "LaTeX_envs_menu_present": true,
   "autoclose": false,
   "autocomplete": true,
   "bibliofile": "biblio.bib",
   "cite_by": "apalike",
   "current_citInitial": 1,
   "eqLabelWithNumbers": true,
   "eqNumInitial": 1,
   "hotkeys": {
    "equation": "Ctrl-E",
    "itemize": "Ctrl-I"
   },
   "labels_anchors": false,
   "latex_user_defs": false,
   "report_style_numbering": false,
   "user_envs_cfg": false
  }
 },
 "nbformat": 4,
 "nbformat_minor": 2
}
