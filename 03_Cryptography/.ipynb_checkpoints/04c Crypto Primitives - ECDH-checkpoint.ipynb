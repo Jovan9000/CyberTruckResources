{
 "cells": [
  {
   "cell_type": "markdown",
   "metadata": {},
   "source": [
    "#### <center> Module 4c - Elliptic Curve Diffie-Hellman Exchange \n",
    "## <center> ENGR 580A2: Secure Vehicle and Industrial Networking\n",
    "## <center> <img src=\"https://www.engr.colostate.edu/~jdaily/Systems-EN-CSU-1-C357.svg\" width=\"600\" /> \n",
    "### <center> Instructor: Dr. Jeremy Daily<br>Fall 2021"
   ]
  },
  {
   "cell_type": "markdown",
   "metadata": {},
   "source": [
    "## Learning Objectives\n",
    "By the end of this exercise, students should be able to\n",
    "1. Exchange secrets using a Diffie-Hellman key exchange\n",
    "2. Differentiate the features and limitations between elliptic curve cryptography (ECC) and RSA"
   ]
  },
  {
   "cell_type": "code",
   "execution_count": null,
   "metadata": {},
   "outputs": [],
   "source": [
    "# Install some prequisites\n",
    "# Be sure version 3.1 or higher is installed\n",
    "%pip install --upgrade --user cryptography"
   ]
  },
  {
   "cell_type": "markdown",
   "metadata": {},
   "source": [
    "## Issue \n",
    "Symmetric encryption requires the exchange of secret keys. How can we efficiently distribute keys across the Internet such that their secrecy is maintained?\n",
    "\n",
    "Ans:\n",
    "The Diffie-Hellman key exchange:\n",
    "1. Principals exchange their public keys\n",
    "2. Another's public key along with your own private key can produce the same shared secret.\n",
    "3. Use this shared secret as the key for symmetric algorithms.\n",
    "\n",
    "We'll work through an example using Elliptic Curve Cryptography with Curve25519."
   ]
  },
  {
   "cell_type": "markdown",
   "metadata": {},
   "source": [
    "# Elliptic Curve Cryptography\n",
    "ECC is an asymmetric algorithm the uses smaller key sizes and is faster. It suffers from the lack of ability to encrypt data. Instead, ECC is used to exchange pre-shared secrets that can be used for symmetric encryption. Digital signing is well suited for ECC.\n",
    "\n",
    "References:\n",
    "\n",
    "https://safecurves.cr.yp.to/ - Advocates for more advanced Elliptic Curves\n",
    "\n",
    "https://satoshinichi.gitlab.io/b/safecurves-scare.html - Realizes there are system considerations"
   ]
  },
  {
   "cell_type": "code",
   "execution_count": null,
   "metadata": {},
   "outputs": [],
   "source": [
    "# Import only the modules we need\n",
    "import os\n",
    "import base64\n",
    "from cryptography.fernet import Fernet\n",
    "from cryptography.hazmat.primitives.asymmetric.x25519 import X25519PrivateKey\n",
    "from cryptography.hazmat.primitives import serialization"
   ]
  },
  {
   "cell_type": "markdown",
   "metadata": {},
   "source": [
    "https://cryptography.io/en/latest/hazmat/primitives/asymmetric/x25519/"
   ]
  },
  {
   "cell_type": "markdown",
   "metadata": {},
   "source": [
    "## Generate Keys for Alice\n",
    "Let's generate keys using the ed25519 curve. "
   ]
  },
  {
   "cell_type": "code",
   "execution_count": null,
   "metadata": {},
   "outputs": [],
   "source": [
    "#Alice needs to generate a key pair\n",
    "private_key_for_alice = X25519PrivateKey.generate()\n",
    "private_key_for_alice"
   ]
  },
  {
   "cell_type": "code",
   "execution_count": null,
   "metadata": {},
   "outputs": [],
   "source": [
    "# Only 32 bytes are needed for this key\n",
    "private_bytes_for_alice = private_key_for_alice.private_bytes(\n",
    "    encoding=serialization.Encoding.Raw,\n",
    "    format=serialization.PrivateFormat.Raw,\n",
    "    encryption_algorithm=serialization.NoEncryption()\n",
    ")\n",
    "private_bytes_for_alice"
   ]
  },
  {
   "cell_type": "code",
   "execution_count": null,
   "metadata": {},
   "outputs": [],
   "source": [
    "len(private_bytes_for_alice)"
   ]
  },
  {
   "cell_type": "code",
   "execution_count": null,
   "metadata": {},
   "outputs": [],
   "source": [
    "# Here's the PEM format\n",
    "print(private_key_for_alice.private_bytes(\n",
    "            encoding=serialization.Encoding.PEM,\n",
    "            format=serialization.PrivateFormat.PKCS8,\n",
    "            encryption_algorithm=serialization.NoEncryption()\n",
    "        ).decode('ascii')\n",
    "     )"
   ]
  },
  {
   "cell_type": "code",
   "execution_count": null,
   "metadata": {},
   "outputs": [],
   "source": [
    "#To send out the public key, we have to derive it from the private key and serialize it\n",
    "public_key_for_alice = private_key_for_alice.public_key()\n",
    "public_key_for_alice"
   ]
  },
  {
   "cell_type": "code",
   "execution_count": null,
   "metadata": {},
   "outputs": [],
   "source": [
    "#Let's serialize it so we can send it accross the network to bob (and everyone)\n",
    "public_pem_key_for_alice = public_key_for_alice.public_bytes(\n",
    "       encoding=serialization.Encoding.PEM,\n",
    "       format=serialization.PublicFormat.SubjectPublicKeyInfo\n",
    ")\n",
    "print(public_pem_key_for_alice.decode('ascii'))"
   ]
  },
  {
   "cell_type": "code",
   "execution_count": null,
   "metadata": {},
   "outputs": [],
   "source": [
    "# show the raw bytes in the public key\n",
    "public_bytes_for_alice = public_key_for_alice.public_bytes(\n",
    "    encoding=serialization.Encoding.Raw,\n",
    "    format=serialization.PublicFormat.Raw\n",
    ")\n",
    "public_bytes_for_alice"
   ]
  },
  {
   "cell_type": "code",
   "execution_count": null,
   "metadata": {},
   "outputs": [],
   "source": [
    "len(public_bytes_for_alice)"
   ]
  },
  {
   "cell_type": "markdown",
   "metadata": {},
   "source": [
    "The keys for elliptic curve cryptography are much shorter than for RSA."
   ]
  },
  {
   "cell_type": "markdown",
   "metadata": {},
   "source": [
    "## Generate Keys for Bob"
   ]
  },
  {
   "cell_type": "code",
   "execution_count": null,
   "metadata": {},
   "outputs": [],
   "source": [
    "#Bob also needs to generate a key pair\n",
    "private_key_for_bob = X25519PrivateKey.generate()\n",
    "private_key_for_bob"
   ]
  },
  {
   "cell_type": "code",
   "execution_count": null,
   "metadata": {},
   "outputs": [],
   "source": [
    "# Bob extracts the public key \n",
    "public_key_for_bob = private_key_for_bob.public_key()\n",
    "public_key_for_bob"
   ]
  },
  {
   "cell_type": "code",
   "execution_count": null,
   "metadata": {},
   "outputs": [],
   "source": [
    "#Let's serialize it so we can send it across the network to Alice (and everyone)\n",
    "public_pem_key_for_bob = public_key_for_bob.public_bytes(\n",
    "       encoding=serialization.Encoding.PEM,\n",
    "       format=serialization.PublicFormat.SubjectPublicKeyInfo\n",
    ")\n",
    "print(public_pem_key_for_bob.decode('ascii'))"
   ]
  },
  {
   "cell_type": "markdown",
   "metadata": {},
   "source": [
    "## Diffie-Hellman Key Exchange\n",
    "https://cryptography.io/en/latest/hazmat/primitives/asymmetric/x25519/"
   ]
  },
  {
   "cell_type": "markdown",
   "metadata": {},
   "source": [
    "## Alice and Bob calculate the same shared secret\n",
    "By exchanging public keys, each principal can determine the same shared secret.\n",
    "\n",
    "This is the Elliptic Curve Diffie-Hellman (ECDH) key exchange."
   ]
  },
  {
   "cell_type": "code",
   "execution_count": null,
   "metadata": {},
   "outputs": [],
   "source": [
    "from cryptography.hazmat.primitives.serialization import load_pem_public_key"
   ]
  },
  {
   "cell_type": "code",
   "execution_count": null,
   "metadata": {},
   "outputs": [],
   "source": [
    "#recall\n",
    "public_pem_key_for_alice"
   ]
  },
  {
   "cell_type": "code",
   "execution_count": null,
   "metadata": {},
   "outputs": [],
   "source": [
    "#Bob gets a Key from Alice\n",
    "pub_key_alice = load_pem_public_key(public_pem_key_for_alice)\n",
    "pub_key_alice"
   ]
  },
  {
   "cell_type": "code",
   "execution_count": null,
   "metadata": {},
   "outputs": [],
   "source": [
    "shared_secret = private_key_for_bob.exchange(pub_key_alice)\n",
    "shared_secret"
   ]
  },
  {
   "cell_type": "code",
   "execution_count": null,
   "metadata": {},
   "outputs": [],
   "source": [
    "' '.join([\"{:02X}\".format(b) for b in shared_secret])"
   ]
  },
  {
   "cell_type": "code",
   "execution_count": null,
   "metadata": {},
   "outputs": [],
   "source": [
    "#Alice gets a public key from Bob\n",
    "pub_key_bob = load_pem_public_key(public_pem_key_for_bob)\n",
    "pub_key_bob"
   ]
  },
  {
   "cell_type": "code",
   "execution_count": null,
   "metadata": {},
   "outputs": [],
   "source": [
    "the_same_shared_secret = private_key_for_bob.exchange(pub_key_alice)\n",
    "the_same_shared_secret"
   ]
  },
  {
   "cell_type": "code",
   "execution_count": null,
   "metadata": {},
   "outputs": [],
   "source": [
    "shared_secret == the_same_shared_secret"
   ]
  },
  {
   "cell_type": "markdown",
   "metadata": {},
   "source": [
    "## Alice Sends a Message to Bob"
   ]
  },
  {
   "cell_type": "code",
   "execution_count": null,
   "metadata": {},
   "outputs": [],
   "source": [
    "# We can use symmetric encryption now, since each principal has the same key\n",
    "encryption_key = shared_secret\n",
    "encryption_key"
   ]
  },
  {
   "cell_type": "code",
   "execution_count": null,
   "metadata": {},
   "outputs": [],
   "source": [
    "plain_text = b'We choose to go to the Moon in this decade and do the other things, not because they are easy, but because they are hard; because that goal will serve to organize and measure the best of our energies and skills, because that challenge is one that we are willing to accept, one we are unwilling to postpone, and one we intend to win, and the others, too.'\n",
    "plain_text"
   ]
  },
  {
   "cell_type": "code",
   "execution_count": null,
   "metadata": {},
   "outputs": [],
   "source": [
    "f = Fernet(base64.b64encode(encryption_key))\n",
    "cipher_text = f.encrypt(plain_text)\n",
    "cipher_text"
   ]
  },
  {
   "cell_type": "markdown",
   "metadata": {},
   "source": [
    "## Forward and Backward Secrecy\n",
    "In the approach above, the same shared secret is used each time to encrypt the data. This means that the encryption is only as good as the key protection. If a bunch of cipher text transmitted in public that was enciphered with the same key, then all the data is compromised if the key is cracked. To reduce this risk, ephemeral keys should be used. This mean each piece of cipher text should be encrypted with a unique and non-repeated key that's never saved. \n",
    "\n",
    "The idea is that future security incidents don't compromise existing data.\n",
    "Here's a short article that explains the concept:\n",
    "https://www.thesslstore.com/blog/perfect-forward-secrecy-explained/\n",
    "\n",
    "A simple example generating an ephemeral key exchange and key derivation function gives secrecy.\n",
    "\n",
    "Assume the first key Private key was loaded from disk (and could be discovered).\n"
   ]
  },
  {
   "cell_type": "code",
   "execution_count": null,
   "metadata": {},
   "outputs": [],
   "source": [
    "# Generate an ephemeral private key for Alice\n",
    "e_private_alice = X25519PrivateKey.generate()\n",
    "e_private_alice"
   ]
  },
  {
   "cell_type": "code",
   "execution_count": null,
   "metadata": {},
   "outputs": [],
   "source": [
    "# Extract the public portion of the key\n",
    "e_public_alice = e_private_alice.public_key()\n",
    "e_public_alice_bytes = e_public_alice.public_bytes(\n",
    "     encoding=serialization.Encoding.PEM,\n",
    "     format=serialization.PublicFormat.SubjectPublicKeyInfo,\n",
    ")\n",
    "e_public_alice_bytes"
   ]
  },
  {
   "cell_type": "code",
   "execution_count": null,
   "metadata": {},
   "outputs": [],
   "source": [
    "# Generate an ephemeral private key for Bob\n",
    "e_private_bob = X25519PrivateKey.generate()\n",
    "e_private_bob"
   ]
  },
  {
   "cell_type": "code",
   "execution_count": null,
   "metadata": {},
   "outputs": [],
   "source": [
    "# Extract the public portion of the key\n",
    "e_public_bob = e_private_bob.public_key()\n",
    "e_public_bob_bytes = e_public_bob.public_bytes(\n",
    "     encoding=serialization.Encoding.PEM,\n",
    "     format=serialization.PublicFormat.SubjectPublicKeyInfo,\n",
    ")\n",
    "e_public_bob_bytes"
   ]
  },
  {
   "cell_type": "code",
   "execution_count": null,
   "metadata": {},
   "outputs": [],
   "source": [
    "# Alice creates a symmetric cipher based on the shared secret\n",
    "f_alice = Fernet(base64.urlsafe_b64encode(shared_secret))\n",
    "f_alice"
   ]
  },
  {
   "cell_type": "code",
   "execution_count": null,
   "metadata": {},
   "outputs": [],
   "source": [
    "# Alice encrypts a 32 byte random salt value and the ephemeral public key\n",
    "salt = os.urandom(32)\n",
    "cipher_text = f.encrypt(salt + e_public_alice_bytes)\n",
    "cipher_text # This gets sent to Bob"
   ]
  },
  {
   "cell_type": "code",
   "execution_count": null,
   "metadata": {},
   "outputs": [],
   "source": [
    "# Bob has the same shared secret, so he can decrypt the message\n",
    "f_bob = Fernet(base64.urlsafe_b64encode(shared_secret))\n",
    "f_bob"
   ]
  },
  {
   "cell_type": "code",
   "execution_count": null,
   "metadata": {},
   "outputs": [],
   "source": [
    "#Decrypt the message from Alice and extract the key and salt\n",
    "message_from_alice = f_bob.decrypt(cipher_text)\n",
    "salt_from_alice = message_from_alice[:32]\n",
    "salt_from_alice"
   ]
  },
  {
   "cell_type": "code",
   "execution_count": null,
   "metadata": {},
   "outputs": [],
   "source": [
    "# Bob needs to extract the PEM key from Alice\n",
    "pem_key_from_alice = message_from_alice[32:]\n",
    "pem_key_from_alice"
   ]
  },
  {
   "cell_type": "code",
   "execution_count": null,
   "metadata": {},
   "outputs": [],
   "source": [
    "#Bob loads the pem key into memory and uses his private key in a key exchange\n",
    "e_pub_key_from_alice = load_pem_public_key(pem_key_from_alice)\n",
    "e_pub_key_from_alice"
   ]
  },
  {
   "cell_type": "code",
   "execution_count": null,
   "metadata": {},
   "outputs": [],
   "source": [
    "#Bob computes the shared secret based on Bob's ephemeral private key\n",
    "# and Alice's ephemeral public key\n",
    "ephemeral_shared_secret = e_private_bob.exchange(e_pub_key_from_alice)\n",
    "ephemeral_shared_secret"
   ]
  },
  {
   "cell_type": "code",
   "execution_count": null,
   "metadata": {},
   "outputs": [],
   "source": [
    "# Bob needs to send Alice his ephemeral public key. \n",
    "# We'll augement the public key with the salt value so Alice know's it's Bob\n",
    "cipher_text_for_alice = f_bob.encrypt(salt_from_alice + e_public_bob_bytes)\n",
    "cipher_text_for_alice"
   ]
  },
  {
   "cell_type": "code",
   "execution_count": null,
   "metadata": {},
   "outputs": [],
   "source": [
    "# Alice decrypts the message from Bob and verifies the salt\n",
    "message_from_bob = f_alice.decrypt(cipher_text_for_alice)\n",
    "salt_from_bob = message_from_bob[:32]\n",
    "salt == salt_from_bob # This compares the original salt"
   ]
  },
  {
   "cell_type": "code",
   "execution_count": null,
   "metadata": {},
   "outputs": [],
   "source": [
    "#Alice extracts the PEM key from Bob's decrypted message\n",
    "e_pem_from_bob = message_from_bob[32:]\n",
    "e_pem_from_bob"
   ]
  },
  {
   "cell_type": "code",
   "execution_count": null,
   "metadata": {},
   "outputs": [],
   "source": [
    "#Alice loads the pem key into memory and uses her private key in a key exchange\n",
    "e_pub_key_from_bob = load_pem_public_key(e_pem_from_bob)\n",
    "e_pub_key_from_bob"
   ]
  },
  {
   "cell_type": "code",
   "execution_count": null,
   "metadata": {},
   "outputs": [],
   "source": [
    "#Alice computes the shared secret based on Alice's ephemeral private key\n",
    "# and Bob's ephemeral public key\n",
    "ephemeral_shared_secret_alice = e_private_alice.exchange(e_pub_key_from_bob)\n",
    "ephemeral_shared_secret_alice"
   ]
  },
  {
   "cell_type": "code",
   "execution_count": null,
   "metadata": {},
   "outputs": [],
   "source": [
    "# Bob and Alice's keys match\n",
    "ephemeral_shared_secret_alice == ephemeral_shared_secret"
   ]
  },
  {
   "cell_type": "code",
   "execution_count": null,
   "metadata": {},
   "outputs": [],
   "source": [
    "# Another security measure is for each to derive a new key based on this secret\n",
    "# We'll use HMAC based Extract and expand ke derivation function\n",
    "from cryptography.hazmat.primitives.kdf.hkdf import HKDF\n",
    "from cryptography.hazmat.primitives import hashes"
   ]
  },
  {
   "cell_type": "code",
   "execution_count": null,
   "metadata": {},
   "outputs": [],
   "source": [
    "#Bob computes the session key\n",
    "hkdf = HKDF(\n",
    "        algorithm=hashes.SHA256(),\n",
    "        length=32, \n",
    "        salt=salt_from_alice, # This salt must be shared\n",
    "        info=b'Ephemeral Key', #This can be anything\n",
    "    )\n",
    "session_key_bob = hkdf.derive(ephemeral_shared_secret)\n",
    "session_key_bob"
   ]
  },
  {
   "cell_type": "code",
   "execution_count": null,
   "metadata": {},
   "outputs": [],
   "source": [
    "#Alice computes the session key\n",
    "hkdf = HKDF(\n",
    "        algorithm=hashes.SHA256(),\n",
    "        length=32, \n",
    "        salt=salt, # This salt must be shared\n",
    "        info=b\"Ephemeral Key\", #This can be anything, so long as it matches\n",
    "    )\n",
    "session_key_alice = hkdf.derive(ephemeral_shared_secret_alice)\n",
    "session_key_alice"
   ]
  },
  {
   "cell_type": "code",
   "execution_count": null,
   "metadata": {},
   "outputs": [],
   "source": [
    "session_key_alice==session_key_bob"
   ]
  },
  {
   "cell_type": "code",
   "execution_count": null,
   "metadata": {},
   "outputs": [],
   "source": [
    "# Setup Alices's encryption engine\n",
    "f_session_alice = Fernet(base64.urlsafe_b64encode(session_key_alice))\n",
    "f_session_alice"
   ]
  },
  {
   "cell_type": "code",
   "execution_count": null,
   "metadata": {},
   "outputs": [],
   "source": [
    "# Setup Bob's encryption engine\n",
    "f_session_bob = Fernet(base64.urlsafe_b64encode(session_key_bob))\n",
    "f_session_bob"
   ]
  },
  {
   "cell_type": "code",
   "execution_count": null,
   "metadata": {},
   "outputs": [],
   "source": [
    "plain_text = b\"Four score and seven years ago our fathers brought forth upon this continent, a new nation, conceived in Liberty, and dedicated to the proposition that all men are created equal.\\nNow we are engaged in a great civil war, testing whether that nation, or any nation so conceived and so dedicated, can long endure. We are met on a great battle-field of that war. We have come to dedicate a portion of that field, as a final resting place for those who here gave their lives that that nation might live. It is altogether fitting and proper that we should do this.\"\n",
    "plain_text"
   ]
  },
  {
   "cell_type": "code",
   "execution_count": null,
   "metadata": {},
   "outputs": [],
   "source": [
    "# Bob encrypts and sends the message\n",
    "cipher = f_session_bob.encrypt(plain_text)\n",
    "cipher"
   ]
  },
  {
   "cell_type": "code",
   "execution_count": null,
   "metadata": {},
   "outputs": [],
   "source": [
    "# Test that Alice can decrypt Bob's encrypted message\n",
    "f_session_alice.decrypt(cipher)"
   ]
  },
  {
   "cell_type": "markdown",
   "metadata": {},
   "source": [
    "## Summary\n",
    "We showed how to exchange keys with ECHD.\n",
    "\n",
    "We also generated ephemeral keys and did a key exchange with forward and backwards secrecy. The keys were short lived and random.\n",
    "\n",
    "Where do we go from here? There are some intriguing protocols that are designed to enhance the forward and backward secrecy. For example, the double-ratchet algorithm used by Signal. https://signal.org/docs/specifications/doubleratchet/.\n",
    "\n",
    "Keep in mind the protocol in here has not been vetted, it is for illustration only."
   ]
  },
  {
   "cell_type": "code",
   "execution_count": null,
   "metadata": {},
   "outputs": [],
   "source": []
  }
 ],
 "metadata": {
  "kernelspec": {
   "display_name": "Python 3",
   "language": "python",
   "name": "python3"
  },
  "language_info": {
   "codemirror_mode": {
    "name": "ipython",
    "version": 3
   },
   "file_extension": ".py",
   "mimetype": "text/x-python",
   "name": "python",
   "nbconvert_exporter": "python",
   "pygments_lexer": "ipython3",
   "version": "3.8.5"
  },
  "latex_envs": {
   "LaTeX_envs_menu_present": true,
   "autoclose": false,
   "autocomplete": true,
   "bibliofile": "biblio.bib",
   "cite_by": "apalike",
   "current_citInitial": 1,
   "eqLabelWithNumbers": true,
   "eqNumInitial": 1,
   "hotkeys": {
    "equation": "Ctrl-E",
    "itemize": "Ctrl-I"
   },
   "labels_anchors": false,
   "latex_user_defs": false,
   "report_style_numbering": false,
   "user_envs_cfg": false
  }
 },
 "nbformat": 4,
 "nbformat_minor": 2
}
