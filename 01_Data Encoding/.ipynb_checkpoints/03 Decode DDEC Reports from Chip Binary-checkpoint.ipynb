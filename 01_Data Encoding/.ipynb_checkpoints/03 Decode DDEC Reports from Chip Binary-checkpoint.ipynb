{
 "cells": [
  {
   "cell_type": "markdown",
   "metadata": {},
   "source": [
    "# <center><img src=\"https://www.engr.colostate.edu/~jdaily/Systems-EN-CSU-1-C357.svg\" width=\"600\" />    \n",
    "# <center>Decoding DDEC Reports Data\n",
    "## <center>ENGR 580A2: Secure Vehicle and Industrial Networking\n",
    "### <center> Department of Systems Engineering<br>Instructor: Dr. Jeremy Daily<br>Fall 2021"
   ]
  },
  {
   "cell_type": "markdown",
   "metadata": {},
   "source": [
    "## Objective\n",
    "This notebook is to accompany the analysis found in SAE 2015-01-1450 by Daily, et al.\n",
    "\n",
    "The source file is a binary record found on one of the flash memory chips on a Detroit Diesel Series 60 Engine controller. The engine controller is in the DDEC5 family of controllers.\n",
    "\n",
    "The data were extracted with a Xeltek Chip reader and named Chip2.bin. This file should be located in the same directory as this file."
   ]
  },
  {
   "cell_type": "code",
   "execution_count": null,
   "metadata": {},
   "outputs": [],
   "source": [
    "import struct"
   ]
  },
  {
   "cell_type": "code",
   "execution_count": null,
   "metadata": {},
   "outputs": [],
   "source": [
    "#Let's load the chip binary into memory.\n",
    "with open(\"Chip2.bin\",'rb') as file_pointer:\n",
    "    chip_memory = file_pointer.read()\n",
    "print(chip_memory[:200])"
   ]
  },
  {
   "cell_type": "code",
   "execution_count": null,
   "metadata": {},
   "outputs": [],
   "source": [
    "#Locate the records in the binary\n",
    "recordStart=867690 #for Chip2, as shown in the paper\n",
    "recordLength = 5572\n",
    "\n",
    "lastStopOffset = 1844\n",
    "lastStopLength = 720\n",
    "\n",
    "hardBrake1Offset = 896\n",
    "hardBrake2Offset = 1370\n",
    "hardBrakeLength = 450"
   ]
  },
  {
   "cell_type": "code",
   "execution_count": null,
   "metadata": {},
   "outputs": [],
   "source": [
    "# For last stop record\n",
    "# Change these to match the Hard Brake to answer the quiz question.\n",
    "start_index = recordStart + lastStopOffset\n",
    "end_index = start_index + lastStopLength\n",
    "\n",
    "last_stop_bytes = chip_memory[start_index:end_index]\n",
    "\n",
    "# Print some raw hex\n",
    "\" \".join([\"{:02X}\".format(b) for b in last_stop_bytes])"
   ]
  },
  {
   "cell_type": "markdown",
   "metadata": {},
   "source": [
    "Here's an image from the paper highlighting the same record. Use this to confirm you have the correct bytes. Notice the binary record starts as 00 00 00 00 40 and ends with a bunch of zeros. Visual inspections should demonstrate equivalence.\n",
    "\n",
    "![Last Stop](LastStopOnChip2Capture.PNG)"
   ]
  },
  {
   "cell_type": "markdown",
   "metadata": {},
   "source": [
    "Let's look for some patterns and match it to the DDEC Reports. Here's a page from the actual DDEC reports output:\n",
    "\n",
    "![Missing file for Last Stop Table](DDECReportsLastStopTable.png)\n",
    "\n",
    "There are 8 columns, other than time. There are no repeating elements in the record, so it's likely an array. There are 120 data entries in the table and there are 720 bytes in this record. The switch status are usually bit encoded, so let's look for patterns based on 6 bytes."
   ]
  },
  {
   "cell_type": "code",
   "execution_count": null,
   "metadata": {},
   "outputs": [],
   "source": [
    "# Set the width of the data and print the bytes\n",
    "width=6\n",
    "for i in range(0,len(last_stop_bytes),width):\n",
    "    print(\" \".join([\"{:02X}\".format(b) for b in last_stop_bytes[i:i+width]]))"
   ]
  },
  {
   "cell_type": "markdown",
   "metadata": {},
   "source": [
    "The pattern seems to have the first 2 bytes as Engine Speed in reverse byte order (Intel format).\n",
    "\n",
    "The third byte seems to be engine load (reverse byte order).\n",
    "\n",
    "The 4th byte is speed.\n",
    "\n",
    "The 5th byte includes Clutch and Brake.\n",
    "\n",
    "The 6th byte likely deals with the cruise and diagnostic code."
   ]
  },
  {
   "cell_type": "code",
   "execution_count": null,
   "metadata": {},
   "outputs": [],
   "source": [
    "#Setup a data structure to process the binary record\n",
    "dataValue={} # Initialize a dictionary\n",
    "# Initialize lists for each record\n",
    "dataValue['Road Speed']=[]\n",
    "dataValue['Engine Speed']=[]\n",
    "dataValue['Engine Load']=[]\n",
    "dataValue['Throttle']=[]\n",
    "dataValue['Brake Switch']=[]\n",
    "dataValue['Clutch Switch']=[]\n",
    "dataValue['Cruise Switch']=[]\n",
    "dataValue['Diagnostic Code']=[]\n",
    "dataValue['Time']=[]"
   ]
  },
  {
   "cell_type": "code",
   "execution_count": null,
   "metadata": {},
   "outputs": [],
   "source": [
    "# initialize the start time\n",
    "t=-105 # 1 min and 45 seconds\n",
    "width=6\n",
    "rawBytes = last_stop_bytes\n",
    "for i in range(0,len(rawBytes),width):\n",
    "    # Increment the time\n",
    "    t+=1.0\n",
    "    dataValue['Time'].append(t)\n",
    "    \n",
    "    # Extract the data for Engine Speed\n",
    "    rpmBytes=rawBytes[i:i+2]\n",
    "    decodedRPM=struct.unpack('<H',rpmBytes)[0] * 0.25\n",
    "    dataValue['Engine Speed'].append(decodedRPM)\n",
    "\n",
    "    engineLoadBytes=rawBytes[i+2]\n",
    "    decodedEngineLoad=engineLoadBytes * 0.5\n",
    "    dataValue['Engine Load'].append(decodedEngineLoad)\n",
    "\n",
    "    speedBytes=rawBytes[i+3]\n",
    "    decodedSpeed=speedBytes * 0.5\n",
    "    dataValue['Road Speed'].append(decodedSpeed)\n",
    "    \n",
    "    throttleBytes=rawBytes[i+5]\n",
    "    decodedThrottleBytes=throttleBytes * 0.4\n",
    "    dataValue['Throttle'].append(decodedThrottleBytes)\n",
    "    \n",
    "    bitField=rawBytes[i+4]\n",
    "    \n",
    "    # Use bit masking to determine switch states\n",
    "    if bitField & 32 == 32:\n",
    "       dataValue['Brake Switch'].append(1)\n",
    "    else:\n",
    "       dataValue['Brake Switch'].append(0)\n",
    "\n",
    "    if bitField & 64 == 64:\n",
    "      dataValue['Clutch Switch'].append(1)\n",
    "    else:\n",
    "      dataValue['Clutch Switch'].append(0)\n",
    "\n",
    "    if bitField & 128 == 128: \n",
    "       dataValue['Cruise Switch'].append(1)\n",
    "    else:\n",
    "       dataValue['Cruise Switch'].append(0)\n",
    "\n",
    "    if bitField & 1 == 1:\n",
    "       dataValue['Diagnostic Code'].append(1)\n",
    "    else:\n",
    "       dataValue['Diagnostic Code'].append(0)\n",
    "\n",
    "\n",
    "dataValue"
   ]
  },
  {
   "cell_type": "markdown",
   "metadata": {},
   "source": [
    "From this example, we can see how binary data is encoded, stored and decoded."
   ]
  },
  {
   "cell_type": "code",
   "execution_count": null,
   "metadata": {},
   "outputs": [],
   "source": [
    "# Determine the maximum road speed\n",
    "max(dataValue[\"Road Speed\"])"
   ]
  },
  {
   "cell_type": "code",
   "execution_count": null,
   "metadata": {},
   "outputs": [],
   "source": []
  }
 ],
 "metadata": {
  "kernelspec": {
   "display_name": "Python 3",
   "language": "python",
   "name": "python3"
  },
  "language_info": {
   "codemirror_mode": {
    "name": "ipython",
    "version": 3
   },
   "file_extension": ".py",
   "mimetype": "text/x-python",
   "name": "python",
   "nbconvert_exporter": "python",
   "pygments_lexer": "ipython3",
   "version": "3.8.5"
  },
  "latex_envs": {
   "LaTeX_envs_menu_present": true,
   "autoclose": false,
   "autocomplete": true,
   "bibliofile": "biblio.bib",
   "cite_by": "apalike",
   "current_citInitial": 1,
   "eqLabelWithNumbers": true,
   "eqNumInitial": 1,
   "hotkeys": {
    "equation": "Ctrl-E",
    "itemize": "Ctrl-I"
   },
   "labels_anchors": false,
   "latex_user_defs": false,
   "report_style_numbering": false,
   "user_envs_cfg": false
  }
 },
 "nbformat": 4,
 "nbformat_minor": 4
}
